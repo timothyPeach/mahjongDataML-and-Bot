{
 "cells": [
  {
   "cell_type": "code",
   "execution_count": 1,
   "metadata": {
    "collapsed": true
   },
   "outputs": [],
   "source": [
    "import matplotlib.pyplot as plt\n",
    "%matplotlib inline"
   ]
  },
  {
   "cell_type": "code",
   "execution_count": 2,
   "metadata": {
    "collapsed": true
   },
   "outputs": [],
   "source": [
    "import random as rn\n",
    "import numpy as np\n",
    "allMan = range(1,10)*4\n",
    "allMan = sorted(allMan)\n",
    "rn.shuffle(allMan)\n",
    "#print(allMan)\n",
    "\n",
    "allPin = range(21,30)*4\n",
    "allPin = sorted(allPin)\n",
    "rn.shuffle(allPin)\n",
    "#print(allPin)\n",
    "\n",
    "allSou = range(41,50)*4\n",
    "allSou = sorted(allSou)\n",
    "rn.shuffle(allSou)\n",
    "#print(allSou)\n",
    "\n",
    "allHonor = range(60,121,10)*4\n",
    "allHonor = sorted(allHonor)\n",
    "rn.shuffle(allHonor)\n",
    "#print(allHonor)\n",
    "\n",
    "allTiles = allMan + allPin + allSou + allHonor\n",
    "allTiles = sorted(allTiles)\n",
    "rn.shuffle(allTiles)\n",
    "#print(allTiles)\n",
    "\n",
    "#print(len(allTiles))"
   ]
  },
  {
   "cell_type": "code",
   "execution_count": 3,
   "metadata": {},
   "outputs": [
    {
     "name": "stdout",
     "output_type": "stream",
     "text": [
      "14\n",
      "[1, 2, 3, 5, 5, 6, 6, 6, 7, 7, 8, 8, 8, 9]\n",
      "[2, 3, 4, 5, 6, 8, 22, 27, 29, 29, 42, 43, 80, 90]\n"
     ]
    }
   ],
   "source": [
    "def rh():\n",
    "    return sorted(allMan[:14])\n",
    "\n",
    "hand = rh()\n",
    "print(len(hand))\n",
    "print(hand)\n",
    "\n",
    "def rhFull(allTiles):\n",
    "    allTiles = sorted(allTiles)\n",
    "    rn.shuffle(allTiles)\n",
    "    return sorted(allTiles[:14])\n",
    "\n",
    "rhfHand = rhFull(allTiles)\n",
    "print(rhfHand)"
   ]
  },
  {
   "cell_type": "markdown",
   "metadata": {},
   "source": [
    "There are 5 slots that need to be filled to complete a hand, 4 melds (either something like 333 or like 345) and 1 pair\n",
    "(something like 77.)"
   ]
  },
  {
   "cell_type": "code",
   "execution_count": 4,
   "metadata": {
    "collapsed": true
   },
   "outputs": [],
   "source": [
    "def mp(hand):\n",
    "    markPairs = []\n",
    "    if len(hand) != 0:\n",
    "        for i in set(hand):\n",
    "            if hand.count(i) > 1:\n",
    "                markPairs.append(i)\n",
    "    return markPairs\n",
    "\n",
    "ot = mp(hand)\n",
    "#print(ot)"
   ]
  },
  {
   "cell_type": "code",
   "execution_count": 5,
   "metadata": {},
   "outputs": [
    {
     "data": {
      "text/plain": [
       "True"
      ]
     },
     "execution_count": 5,
     "metadata": {},
     "output_type": "execute_result"
    }
   ],
   "source": [
    "def cc(hand):\n",
    "    complete = False\n",
    "    paired = mp(hand)\n",
    "    if len(paired) == 0:\n",
    "        return complete\n",
    "    else:\n",
    "        for i in range(len(paired)):\n",
    "            done = 0\n",
    "            mh = hand[:]\n",
    "            mh.remove(paired[i])\n",
    "            mh.remove(paired[i])\n",
    "            while len(mh) != 0 and done == 0:\n",
    "                val = mh[0]\n",
    "                if mh.count(val) >= 3:\n",
    "                    mh.remove(val)\n",
    "                    mh.remove(val)\n",
    "                    mh.remove(val)\n",
    "                elif val-1 in mh and val-2 in mh:\n",
    "                    mh.remove(val)\n",
    "                    mh.remove(val-1)\n",
    "                    mh.remove(val-2)\n",
    "                elif val-1 in mh and val+1 in mh:\n",
    "                    mh.remove(val)\n",
    "                    mh.remove(val-1)\n",
    "                    mh.remove(val+1)\n",
    "                elif val+1 in mh and val+2 in mh:\n",
    "                    mh.remove(val)\n",
    "                    mh.remove(val+1)\n",
    "                    mh.remove(val+2)\n",
    "                else:\n",
    "                    done = 1\n",
    "            if len(mh) == 0:\n",
    "                complete = True\n",
    "    return complete\n",
    "#cc(hand)\n",
    "cc([1,1,1,2,3,4,4,4,6,6,6,7,8,9])"
   ]
  },
  {
   "cell_type": "markdown",
   "metadata": {
    "collapsed": true
   },
   "source": [
    "Now we have to define Tenpai, and define it WITHOUT checking\n",
    "to see if adding to it would result in a complete hand, because if you keep doing that, you end up with too\n",
    "huge of a bruteforce when you're trying to calculate if it's anywhere from 3 to 5 shanten. (You don't need to calculate if it's 6 shanten because you're always at least 6 shanten because of seven pairs.)\n",
    "\n",
    "Anyhow yeah, for this one I'm going to actually introduce the hand as four lists, man, pin, sou, and honor."
   ]
  },
  {
   "cell_type": "code",
   "execution_count": 6,
   "metadata": {
    "collapsed": true
   },
   "outputs": [],
   "source": [
    "nineGates = [1,1,1,2,3,4,5,6,7,8,9,9,9,70]\n",
    "\n",
    "def handToFourList(hand):\n",
    "    man=[]\n",
    "    pin=[]\n",
    "    sou=[]\n",
    "    honor=[]\n",
    "    handConvert = []\n",
    "    for i in hand:\n",
    "        if i in range(1,10):\n",
    "            man.append(i)\n",
    "        elif i in range(21,30):\n",
    "            pin.append(i)\n",
    "        elif i in range(41,50):\n",
    "            sou.append(i)\n",
    "        elif i in range(60,500):#121):\n",
    "            honor.append(i)\n",
    "        else:\n",
    "            print(\"invalid hand\")\n",
    "            return\n",
    "    handConvert.append(man)\n",
    "    handConvert.append(pin)\n",
    "    handConvert.append(sou)\n",
    "    handConvert.append(honor)\n",
    "    return handConvert\n",
    "\n",
    "#q = handToFourList(nineGates)\n",
    "#print(q)\n",
    "\n",
    "def shantenLookup(lisk):\n",
    "    #conditions for complete thru 5 away\n",
    "    # MIGHT BE INCOMPLETE\n",
    "    complete = [[4,1,0]]\n",
    "    tenpai = [[4,0,0],[3,1,1],[3,2,0],[4,0,1]]\n",
    "    away1 = [[3,1,0],[3,0,1],[2,1,2],[2,2,1],[2,3,0],[3,0,2]]\n",
    "    away2 = [[3,0,0],[2,1,1],[2,2,0],[2,0,2],[2,0,3],[1,1,3],[1,2,2],[1,3,1],[1,4,0]]\n",
    "    away3 = [[1,0,4],[1,0,5],[2,0,1],[2,1,0],[1,0,3],[1,1,2],[1,2,1],[1,3,0],[0,5,0],[0,4,1],[0,3,2],[0,2,3],[0,1,4]]\n",
    "    away4 = [[2,0,0],[1,0,2],[1,2,0],[1,1,1],[0,0,5],[0,0,4],[0,3,1],[0,2,2],[0,1,3],[0,4,0]]\n",
    "    away5 = [[1,0,1],[1,1,0],[0,0,3],[0,2,1],[0,1,2],[0,3,0]]\n",
    "    #not 002, 011, 020, these are 6\n",
    "    \n",
    "    if lisk in complete:\n",
    "        return -1\n",
    "    elif lisk in tenpai:\n",
    "        return 0\n",
    "    elif lisk in away1:\n",
    "        return 1\n",
    "    elif lisk in away2:\n",
    "        return 2\n",
    "    elif lisk in away3:\n",
    "        return 3\n",
    "    elif lisk in away4:\n",
    "        return 4\n",
    "    elif lisk in away5:\n",
    "        return 5\n",
    "    else:\n",
    "        return 6\n",
    "\n",
    "# lusk = [4,1,0]\n",
    "\n",
    "# qqq = shantenLookup(lusk)\n",
    "    \n",
    "# print(qqq)\n",
    "\n",
    "def daPairShantenPlz(hand):\n",
    "    pairs = 0\n",
    "    for i in set(hand):\n",
    "        if hand.count(i) > 1:\n",
    "            pairs += 1\n",
    "    return (6 - pairs)\n",
    "\n",
    "def daKokushiShantenPlz(hand):\n",
    "    daSum = 0\n",
    "    daKokushis = [1,9,21,29,41,49,60,70,80,90,100,110,120]\n",
    "    for i in range(len(daKokushis)):\n",
    "        if hand.count(daKokushis[i]) > 0:\n",
    "            daSum += 1\n",
    "    inc = False\n",
    "    for i in hand:\n",
    "        if i in daKokushis and hand.count(i) > 1:\n",
    "            inc = True\n",
    "    if inc == True:\n",
    "        daSum += 1\n",
    "    return (13 - daSum)\n",
    "\n",
    "def shantenPlz(hand):\n",
    "    '''This function is bloated, but it is also very fast and works flawlessly near as I can tell,\n",
    "    so it's fine.'''\n",
    "    hc = handToFourList(hand)\n",
    "    bestScore = [0,0,0]\n",
    "    scores = []\n",
    "    #print(hc)\n",
    "    for v in range(len(hc)):\n",
    "        #print(\"hci\",hc[v])\n",
    "        if len(hc[v]) <= 1:\n",
    "            scores.append([[0,0,0]])\n",
    "        else:\n",
    "            paired = mp(hc[v])\n",
    "            #print(\"the pairs\",paired)\n",
    "            if len(paired) == 0:\n",
    "                done = 0\n",
    "                doon = 0\n",
    "                meldCount = 0\n",
    "                pairCount = 0\n",
    "                connCount = 0\n",
    "                mh = hc[v][:]\n",
    "                #print(\"NO pair land\")\n",
    "                spt = 0\n",
    "                #print(\"spt\",spt)\n",
    "                #print(\"len(mh)\",len(mh))\n",
    "                #print(\"mh\",mh)\n",
    "                #print(\"mh[0]\",mh[0])\n",
    "                while len(mh) > 2 and spt <= len(mh)-1:\n",
    "                    #print(\"spt\",spt)\n",
    "                    #print(\"len(mh)\",len(mh))\n",
    "                    #print(\"mh\",mh)\n",
    "                    #print(\"mh[0]\",mh[0])\n",
    "                    val = mh[spt]\n",
    "                    if mh.count(val) >= 3:\n",
    "                        mh.remove(val)\n",
    "                        mh.remove(val)\n",
    "                        mh.remove(val)\n",
    "                        meldCount += 1\n",
    "                        spt = 0\n",
    "                    elif val in mh and val-1 in mh and val-2 in mh:\n",
    "                        mh.remove(val)\n",
    "                        mh.remove(val-1)\n",
    "                        mh.remove(val-2)\n",
    "                        meldCount += 1\n",
    "                        spt = 0\n",
    "                    elif val in mh and val-1 in mh and val+1 in mh:\n",
    "                        mh.remove(val)\n",
    "                        mh.remove(val-1)\n",
    "                        mh.remove(val+1)\n",
    "                        meldCount += 1\n",
    "                        spt = 0\n",
    "                    elif val in mh and val+1 in mh and val+2 in mh:\n",
    "                        mh.remove(val)\n",
    "                        mh.remove(val+1)\n",
    "                        mh.remove(val+2)\n",
    "                        meldCount += 1\n",
    "                        spt = 0\n",
    "                    else:\n",
    "                        spt += 1\n",
    "                spt = 0\n",
    "                #print(\"pairs smaller area\")\n",
    "                #print(\"spt\",spt)\n",
    "                #print(\"len(mh)\",len(mh))\n",
    "                #print(\"mh\",mh)\n",
    "                #print(\"mh[0]\",mh[0])\n",
    "                while len(mh) > 1 and spt <= len(mh)-1:\n",
    "                    #print(\"spt\",spt)\n",
    "                    #print(\"len(mh)\",len(mh))\n",
    "                    #print(\"mh\",mh)\n",
    "                    #print(\"mh[0]\",mh[0])\n",
    "                    val = mh[spt]\n",
    "                    if mh.count(val) >= 2:\n",
    "                        mh.remove(val)\n",
    "                        mh.remove(val)\n",
    "                        connCount += 1\n",
    "                        spt = 0\n",
    "                    elif val in mh and val+1 in mh:\n",
    "                        mh.remove(val)\n",
    "                        mh.remove(val+1)\n",
    "                        connCount += 1\n",
    "                        spt = 0\n",
    "                    elif val in mh and val+2 in mh:\n",
    "                        #print(\"we're in val+2 mh\",mh,val,val+2)\n",
    "                        mh.remove(val)\n",
    "                        mh.remove(val+2)\n",
    "                        connCount += 1\n",
    "                        spt = 0\n",
    "                    else:\n",
    "                        spt += 1\n",
    "                scores.append([meldCount,pairCount,connCount])\n",
    "            else:\n",
    "                subscores = []\n",
    "                for i in range(len(paired)):\n",
    "                    #print(\"before we even do anything\",hc[v])\n",
    "                    done = 0\n",
    "                    doon = 0\n",
    "                    #print(\"pre-assign\",hc[v])\n",
    "                    mh = hc[v][:]\n",
    "                    #print(\"post-assign\",hc[v])\n",
    "                    #print(\"before pair del\",mh)\n",
    "                    mh.remove(paired[i])\n",
    "                    mh.remove(paired[i])\n",
    "                    #print(\"after pair del\",hc[v])\n",
    "                    meldCount = 0\n",
    "                    pairCount = 1\n",
    "                    connCount = 0\n",
    "                    spt = 0\n",
    "                    #print(\"yeah it went into pair land\")\n",
    "                    while len(mh) > 2 and spt <= len(mh)-1:\n",
    "                        #print(\"spt\",spt)\n",
    "                        #print(\"len(mh)\",len(mh))\n",
    "                        val = mh[spt]\n",
    "                        if mh.count(val) >= 3:\n",
    "                            mh.remove(val)\n",
    "                            mh.remove(val)\n",
    "                            mh.remove(val)\n",
    "                            meldCount += 1\n",
    "                            spt = 0\n",
    "                        elif val in mh and val-1 in mh and val-2 in mh:\n",
    "                            mh.remove(val)\n",
    "                            mh.remove(val-1)\n",
    "                            mh.remove(val-2)\n",
    "                            meldCount += 1\n",
    "                            spt = 0\n",
    "                        elif val in mh and val-1 in mh and val+1 in mh:\n",
    "                            mh.remove(val)\n",
    "                            mh.remove(val-1)\n",
    "                            mh.remove(val+1)\n",
    "                            meldCount += 1\n",
    "                            spt = 0\n",
    "                        elif val in mh and val+1 in mh and val+2 in mh:\n",
    "                            mh.remove(val)\n",
    "                            mh.remove(val+1)\n",
    "                            mh.remove(val+2)\n",
    "                            meldCount += 1\n",
    "                            spt = 0\n",
    "                        else:\n",
    "                            spt += 1\n",
    "                    spt = 0\n",
    "                    while len(mh) > 1 and spt <= len(mh)-1:\n",
    "                        val = mh[spt]\n",
    "                        if mh.count(val) >= 2:\n",
    "                            mh.remove(val)\n",
    "                            mh.remove(val)\n",
    "                            connCount += 1\n",
    "                            spt = 0\n",
    "                        elif val in mh and val+1 in mh:\n",
    "                            mh.remove(val)\n",
    "                            mh.remove(val+1)\n",
    "                            connCount += 1\n",
    "                            spt = 0\n",
    "                        elif val in mh and val+2 in mh:\n",
    "                            #print(\"we're in val+2 mh [secondArea]\",mh,val,val+2)\n",
    "                            mh.remove(val)\n",
    "                            mh.remove(val+2)\n",
    "                            connCount += 1\n",
    "                            spt = 0\n",
    "                        else:\n",
    "                            spt += 1\n",
    "                    #print(\"post-elim\",hc[v])\n",
    "                    subscores.append([meldCount,pairCount,connCount])\n",
    "                scores.append(subscores)\n",
    "    rankScores = []\n",
    "    for i in range(len(scores)):\n",
    "        if len(scores[i]) == 0:\n",
    "            scores[i] = [[0,0,0]]\n",
    "        elif type(scores[i][0]) == int:\n",
    "            scores[i] = [scores[i]]\n",
    "    for i in scores:\n",
    "        np.array(i)\n",
    "    ###print(scores)\n",
    "    for i in scores[0]:\n",
    "        for j in scores[1]:\n",
    "            for k in scores[2]:\n",
    "                for l in scores[3]:\n",
    "                    sum = np.array([0,0,0])\n",
    "                    #print(sum)\n",
    "                    sum += i\n",
    "                    #print(sum)\n",
    "                    sum += j\n",
    "                    #print(sum)\n",
    "                    sum += k\n",
    "                    #print(sum)\n",
    "                    sum += l\n",
    "                    #print(sum)\n",
    "                    #print(sum)\n",
    "                    if sum[1] > 1:\n",
    "                        sum[1] = 1\n",
    "                    #print(sum)\n",
    "                    rankScores.append(shantenLookup(list(sum)))\n",
    "    done = 0\n",
    "    doon = 0\n",
    "    meldCount = 0\n",
    "    pairCount = 0\n",
    "    connCount = 0\n",
    "    mh = hand[:]\n",
    "    spt = 0\n",
    "    #print(\"final area\")\n",
    "    while len(mh) > 2 and spt <= len(mh)-1:\n",
    "        val = mh[spt]\n",
    "        if mh.count(val) >= 3:\n",
    "            mh.remove(val)\n",
    "            mh.remove(val)\n",
    "            mh.remove(val)\n",
    "            meldCount += 1\n",
    "            spt = 0\n",
    "        elif val-1 in mh and val-2 in mh:\n",
    "            mh.remove(val)\n",
    "            mh.remove(val-1)\n",
    "            mh.remove(val-2)\n",
    "            meldCount += 1\n",
    "            spt = 0\n",
    "        elif val in mh and val-1 in mh and val+1 in mh:\n",
    "            mh.remove(val)\n",
    "            mh.remove(val-1)\n",
    "            mh.remove(val+1)\n",
    "            meldCount += 1\n",
    "            spt = 0\n",
    "        elif val in mh and val+1 in mh and val+2 in mh:\n",
    "            mh.remove(val)\n",
    "            mh.remove(val+1)\n",
    "            mh.remove(val+2)\n",
    "            meldCount += 1\n",
    "            spt = 0\n",
    "        else:\n",
    "            spt += 1\n",
    "    spt = 0\n",
    "    \n",
    "    while len(mh) != 0 and spt <= len(mh)-1:\n",
    "        val = mh[spt]\n",
    "        for i in mh:\n",
    "            if mh.count(i) >= 2:\n",
    "                mh.remove(i)\n",
    "                mh.remove(i)\n",
    "                if pairCount == 0:\n",
    "                    pairCount += 1\n",
    "                else:\n",
    "                    connCount += 1\n",
    "                spt = 0\n",
    "        if val in mh and val+1 in mh:\n",
    "            mh.remove(val)\n",
    "            mh.remove(val+1)\n",
    "            connCount += 1\n",
    "            spt = 0\n",
    "        elif val in mh and val+2 in mh:\n",
    "            mh.remove(val)\n",
    "            mh.remove(val+2)\n",
    "            connCount += 1\n",
    "            spt = 0\n",
    "        else:\n",
    "            spt += 1\n",
    "    rankScores.append(shantenLookup([meldCount,pairCount,connCount]))\n",
    "    rankScores.append(daPairShantenPlz(hand))\n",
    "    rankScores.append(daKokushiShantenPlz(hand))\n",
    "    if cc(hand) == True:\n",
    "        rankScores.append(-1)\n",
    "    ###print([meldCount,pairCount,connCount])\n",
    "    ###print(rankScores)\n",
    "    #Interpreting the results:\n",
    "    # -1 = complete\n",
    "    # 0 = tenpai\n",
    "    # 1 = 1 shanten\n",
    "    # 2 = 2 shanten\n",
    "    # etc\n",
    "    return min(rankScores)\n",
    "\n",
    "#testHand = \n",
    "\n",
    "testHand = rhFull(allTiles)\n",
    "#print(len(testHand))\n",
    "#print(testHand)\n",
    "\n",
    "#print(daPairShantenPlz(testHand))\n",
    "\n",
    "#print(\"===\")\n",
    "#print(\"===\")\n",
    "\n",
    "#print(daKokushiShantenPlz(testHand))\n",
    "\n",
    "#print(len(testHand))\n",
    "\n",
    "#shantenPlz(testHand)\n",
    "\n",
    "#######################################################\n",
    "#######################################################\n",
    "#######################################################\n",
    "#######################################################\n",
    "\n",
    "#### NEW FUNCTIONS FOR DETERMINISTIC OFFENSE ##########\n",
    "\n",
    "#uses shantenPlz()\n",
    "\n",
    "#                goals:\n",
    "\n",
    "## imagine a hand, we want to figure out:\n",
    "    # - the shanten\n",
    "    # - how many literal existant tiles improve the shanten of the hand. (Waits)\n",
    "            # (this is a differentiator for 2 shanten hands for example. Not all 2 shantens are equal.)\n",
    "    # - the discard that is most likely to lead to the hand with the best shanten and waits. (2 deep)\n",
    "    \n",
    "    # notes on that last thing I just said -- I gotta think about how involved that is.\n",
    "    ## seems like for one you have to know what tiles are out. this could honestly be condensed in a column\n",
    "    # as a list of all 34 unique tiles by rank (idk if including red 5s separately or not)\n",
    "    #### Also, you'd potentially need to go several checks deep.\n",
    "    \n",
    "# def lookingForward(hand,seenTileCounts):\n",
    "#     ''' takes 2 inputs -- your hand and the tiles you know are out (would already include your hand's tiles)'''\n",
    "    \n",
    "#     stc = seenTileCounts[:] #list of counts of tiles you've seen, max is 4, meaning you can't draw the tile.\n",
    "    \n",
    "#     allTilesListed = [1,2,3,4,5,6,7,8,9,\n",
    "#                       21,22,23,24,25,26,27,28,29,\n",
    "#                       41,42,43,44,45,46,47,48,49,\n",
    "#                       60,70,80,90,100,110,120]    #List of all tiles, but will be updated with all the tiles\n",
    "#     # that are impossible to draw after it accounts for this below.\n",
    "    \n",
    "#     availableDraws = {}\n",
    "    \n",
    "#     for i in range(len(seenTileCounts)):\n",
    "#         availableDraws[allTilesListed[i]] = (4-seenTileCounts[i]) #this process returns a dictionary of how\n",
    "#         #many tiles of each kind are available to draw.\n",
    "    \n",
    "#     #now we can iterate through the unique tiles in the hand:\n",
    "        \n",
    "#     mh = hand[:]\n",
    "#     mhSet = set(hand[:])\n",
    "#     outcomes = {} #storing all the different potential results for if you discard a tile.\n",
    "#     for i in mhSet:\n",
    "#         aD = availableDraws.copy()\n",
    "#         tempMH = mh[:].remove(i)\n",
    "#         outcomes[i] = {\"lhs\":[],\"shantens\":[],\"avgI\":[]} \n",
    "#         scoringLayer2 = []\n",
    "#         # First, there's a list of likelihoods for each draw.\n",
    "#         # Second list is shantens, # Last list is avg improvement looking a second move ahead!\n",
    "#         for j in allTilesListed:\n",
    "#             tempMH2 = tempMH[:].append(j)\n",
    "#             outcomes[i][\"lhs\"].append(aD[j])\n",
    "#             outcomes[i][\"shantens\"].append(shantenPlz(tempMH2))\n",
    "#             ############################################################\n",
    "#             ##Splitting down to the second layer now##\n",
    "#             ############################################################\n",
    "#             #\n",
    "#             MH2 = tempMH2[:]\n",
    "#             MH2SET = set(tempMH2[:])\n",
    "#             o2L = {}\n",
    "#             for k in MH2SET:\n",
    "#                 aD2 = aD.copy()\n",
    "#                 temp2MH = MH2[:].remove(k)\n",
    "#                 o2L[k] = {\"lhs\":[],\"shantens\":[]} \n",
    "#                 #\n",
    "#                 for L in allTilesListed:\n",
    "#                     tempMH2 = tempMH[:].append(L)\n",
    "#                     o2L[k][\"lhs\"].append(aD2[L])\n",
    "#                     o2L[k][\"shantens\"].append(shantenPlz(temp2MH2))\n",
    "#             ##\n",
    "#             ### Adding up the o2L for each j (a weighted average of shantens in 2nd layer):\n",
    "#             summer = 0\n",
    "            \n",
    "#             for x in range(len(o2L.keys())):\n",
    "#                 for y,z in zip(o2L[o2L.keys()[i]][\"lhs\"],o2L[o2L.keys()[i]][\"shantens\"]):\n",
    "                    \n",
    "\n",
    "                \n",
    "                \n",
    "    \n",
    "#######################################################\n",
    "#######################################################\n",
    "#######################################################\n",
    "#######################################################\n",
    "\n",
    "\n",
    "\n",
    "def replacementList(hand):\n",
    "    rList = hand[:]\n",
    "    for i in range(len(rList)):\n",
    "        if rList.count(rList[i]) > 1:\n",
    "            rList[i] = \"x\"\n",
    "    return rList #rList\n",
    "\n",
    "def theReplacements(rList,hand):\n",
    "    #At some point this needs to take all the tiles you know about into consideration.\n",
    "    allTilesTemp = allTiles[:]\n",
    "    for i in hand:\n",
    "        if i in allTilesTemp:\n",
    "            allTilesTemp.remove(i)\n",
    "    exportList = [[],[],[],[],[],[],[],[],[],[],[],[],[],[]]\n",
    "    for i in range(len(rList)):\n",
    "        if type(rList[i]) == int:\n",
    "            for x in set(allTilesTemp):\n",
    "                #if x != rList[i]:\n",
    "                exportList[i].append(x) #if directly above is not commented out then tab this over\n",
    "    return exportList\n",
    "    \n",
    "#darList = replacementList(testHand)\n",
    "\n",
    "#rpla = theReplacements(darList,testHand)\n",
    "\n",
    "def bestTileOfTiles(tiles,hand):\n",
    "    #print(tiles)\n",
    "    valueConvert = [500]*len(tiles)\n",
    "    #\n",
    "    terminals = [1,9,21,29,41,49]\n",
    "    honors = [60,70,80,90,100,110,120]\n",
    "    #kokushis = [terminals] + [honors]\n",
    "    terminalSimples = [2,8,22,28,42,48]\n",
    "    terminalCenters = [3,7,23,27,43,47]\n",
    "    mediumCenters = [4,6,24,26,44,46]\n",
    "    centers = [5,25,45]\n",
    "    #simples = [terminalSimples] + [weakCenters] + [mediumCenters] + [centers]\n",
    "    for i in range(len(tiles)):\n",
    "        if tiles[i] == \"z\":\n",
    "            pass\n",
    "        elif hand[tiles[i]] in honors:\n",
    "            valueConvert[i] = 0\n",
    "        elif hand[tiles[i]] in terminals:\n",
    "            valueConvert[i] = 1\n",
    "        elif hand[tiles[i]] in terminalSimples:\n",
    "            valueConvert[i] = 2\n",
    "        elif hand[tiles[i]] in terminalCenters:\n",
    "            valueConvert[i] = 3\n",
    "        elif hand[tiles[i]] in mediumCenters:\n",
    "            valueConvert[i] = 4\n",
    "        elif hand[tiles[i]] in centers:\n",
    "            valueConvert[i] = 5\n",
    "    return valueConvert\n",
    "            \n",
    "def nextDiscardPlz(hand):\n",
    "    '''this function does not work properly, but the shanten function does.'''\n",
    "    dl = replacementList(hand)\n",
    "    rpl = theReplacements(dl,hand)\n",
    "    #print(\"hand\",hand)\n",
    "    #print(\"dl\",dl)\n",
    "    #print(\"rpl\",rpl)\n",
    "    moveScores = [[],[],[],[],[],[],[],[],[],[],[],[],[],[]] #byIndex\n",
    "    #print(moveScores)\n",
    "    \n",
    "    for i in range(len(hand)):\n",
    "        if dl[i] != \"x\":\n",
    "            for x in range(len(rpl[i])):\n",
    "                mha = hand[:]\n",
    "                #print(\"mha[i]\",mha[i])\n",
    "                #print(\"rpl[i][x]\",rpl[i][x])\n",
    "                mha[i] = rpl[i][x]\n",
    "                mha = sorted(mha)\n",
    "                #print(\"sorted mha\",mha)\n",
    "                moveScores[i].append(shantenPlz(mha))\n",
    "    moveScoresFinal = []\n",
    "    #print(moveScores)\n",
    "    for i in range(len(moveScores)):\n",
    "        #if len(moveScores[i]) != 0:\n",
    "            #moveScoresFinal.append(min(moveScores[i]))\n",
    "        if len(moveScores[i]) != 0:\n",
    "            moveScoresFinal.append(np.sum(moveScores[i]))\n",
    "        else:\n",
    "            moveScoresFinal.append(500)\n",
    "    #print(moveScoresFinal)\n",
    "    \n",
    "    equalChecker = min(moveScoresFinal)\n",
    "    toValueCheck = []\n",
    "    for i in range(len(moveScoresFinal)):\n",
    "        if moveScoresFinal[i] == equalChecker:\n",
    "            toValueCheck.append(i)\n",
    "        else:\n",
    "            toValueCheck.append(\"z\")\n",
    "    realSelectFrom = bestTileOfTiles(toValueCheck,hand)\n",
    "    #print(realSelectFrom)\n",
    "    #print(\"actual hand\",hand)\n",
    "    basicStart = False\n",
    "    datDisc = 0\n",
    "    for i in range(len(hand)):\n",
    "        if hand[i] > 59 and hand.count(hand[i]) < 2:\n",
    "            basicStart = True\n",
    "            datDisc = i\n",
    "    if basicStart == True:\n",
    "        return i\n",
    "    else:\n",
    "        return realSelectFrom.index(min(realSelectFrom))\n",
    "    #return moveScoresFinal.index(min(moveScoresFinal))\n",
    "#import time\n",
    "\n",
    "#t1 = time.time()\n",
    "#print(nextDiscardPlz(testHand))\n",
    "#t2 = time.time()\n",
    "#print(\"runtime\",t2-t1)\n",
    "\n",
    "#th = [3, 3, 4, 4, 5, 5, 21, 23, 25, 26, 26, 44, 45, 46]\n",
    "\n",
    "#print(shantenPlz(th))\n"
   ]
  },
  {
   "cell_type": "code",
   "execution_count": 7,
   "metadata": {},
   "outputs": [
    {
     "name": "stdout",
     "output_type": "stream",
     "text": [
      "[4, 4, 9, 9, 24, 26, 29, 47, 49, 60, 70, 80, 80, 110]\n",
      "3\n",
      "0.00273585319519\n",
      "[2, 6, 7, 8, 8, 24, 26, 47, 60, 70, 80, 90, 100, 120]\n",
      "5\n",
      "0.00229096412659\n",
      "[2, 5, 6, 8, 21, 24, 25, 27, 29, 41, 42, 44, 45, 110]\n",
      "4\n",
      "0.00237798690796\n",
      "[1, 5, 5, 8, 9, 24, 26, 27, 42, 45, 47, 70, 70, 110]\n",
      "3\n",
      "0.00153398513794\n",
      "[2, 2, 4, 21, 22, 23, 44, 45, 47, 47, 80, 90, 110, 120]\n",
      "3\n",
      "0.0011420249939\n",
      "[1, 2, 5, 6, 7, 8, 9, 21, 28, 28, 44, 110, 110, 120]\n",
      "2\n",
      "0.000931024551392\n",
      "[3, 8, 9, 21, 22, 24, 26, 29, 43, 46, 47, 47, 49, 60]\n",
      "4\n",
      "0.000988960266113\n",
      "[1, 2, 4, 21, 23, 27, 44, 44, 48, 49, 60, 70, 70, 80]\n",
      "3\n",
      "0.00162410736084\n",
      "[1, 4, 6, 21, 22, 24, 25, 41, 44, 46, 46, 49, 100, 100]\n",
      "3\n",
      "0.00208306312561\n",
      "[5, 5, 7, 21, 22, 42, 43, 46, 48, 60, 70, 90, 100, 120]\n",
      "4\n",
      "0.00183892250061\n"
     ]
    }
   ],
   "source": [
    "import time\n",
    "\n",
    "for i in range(10):\n",
    "    time_start = time.time()\n",
    "    th = rhFull(allTiles)\n",
    "    print(th)\n",
    "    print(shantenPlz(th))\n",
    "    time_end = time.time()\n",
    "    print(time_end-time_start)"
   ]
  },
  {
   "cell_type": "markdown",
   "metadata": {},
   "source": [
    "# Run all above cells and then below is the place where you can handle adding shanten data for each players' hand at each move."
   ]
  },
  {
   "cell_type": "code",
   "execution_count": 8,
   "metadata": {
    "collapsed": true
   },
   "outputs": [],
   "source": [
    "def shantenColumn(lisk):\n",
    "    outList = []\n",
    "    for i in range(len(lisk)):\n",
    "        if type(lisk[i]) == str:\n",
    "            pass\n",
    "        else:\n",
    "            lisk[i] = shantenPlz(lisk[i])\n",
    "    return lisk"
   ]
  },
  {
   "cell_type": "code",
   "execution_count": 9,
   "metadata": {
    "collapsed": true
   },
   "outputs": [],
   "source": [
    "def stringOfListToList(sol):\n",
    "    if sol != '[]':\n",
    "        sol = list(sol.split(\"[\")[1].split(\"]\")[0].split(\",\"))\n",
    "        sol = [int(i) for i in sol]\n",
    "    else:\n",
    "        sol = []\n",
    "    return sol"
   ]
  },
  {
   "cell_type": "code",
   "execution_count": 10,
   "metadata": {
    "collapsed": true
   },
   "outputs": [],
   "source": [
    "def stlColumn(df,col):\n",
    "    vals = df[col].values\n",
    "    #print(vals)\n",
    "    for i in range(len(vals)):\n",
    "        #print(vals[i])\n",
    "        vals[i] = stringOfListToList(vals[i])\n",
    "    return vals"
   ]
  },
  {
   "cell_type": "code",
   "execution_count": 11,
   "metadata": {
    "collapsed": true
   },
   "outputs": [],
   "source": [
    "def shantenListEngineer(_1_,_2_):\n",
    "    '''\n",
    "    _1_ -- actorHandConverted[i]  (a list)\n",
    "    _2_ -- actorOpenTiles[i]    (a list)\n",
    "    returns _1_ as actorShantenCheckHand[i] (a list)\n",
    "    '''\n",
    "    for i in _2_:\n",
    "        try:\n",
    "            _1_.remove(i)\n",
    "        except:\n",
    "            pass\n",
    "    # print(_1_)\n",
    "    # print(len(_1_))\n",
    "\n",
    "    if len(_1_) in [1,2]:\n",
    "        for i in range(4):\n",
    "            for x in range(3):\n",
    "                _1_.append((200+(i*10)))\n",
    "    elif len(_1_) in [4,5]:\n",
    "        for i in range(3):\n",
    "            for x in range(3):\n",
    "                _1_.append((200+(i*10)))\n",
    "    elif len(_1_) in [7,8]:\n",
    "        for i in range(2):\n",
    "            for x in range(3):\n",
    "                _1_.append((200+(i*10)))\n",
    "    elif len(_1_) in [10,11]:\n",
    "        for i in range(1):\n",
    "            for x in range(3):\n",
    "                _1_.append((200+(i*10)))\n",
    "    # print(_1_)\n",
    "    # print(len(_1_))\n",
    "    return(_1_)"
   ]
  },
  {
   "cell_type": "code",
   "execution_count": 12,
   "metadata": {
    "collapsed": true
   },
   "outputs": [],
   "source": [
    "def shantenEngineerColumn(df,colAHC,colAOT):\n",
    "    SEC = []\n",
    "    for i in zip(df[[colAHC,colAOT]].values):\n",
    "        SEC.append(shantenListEngineer(i[0][0],i[0][1]))\n",
    "    return SEC"
   ]
  },
  {
   "cell_type": "code",
   "execution_count": 13,
   "metadata": {
    "collapsed": true
   },
   "outputs": [],
   "source": [
    "import pandas as pd"
   ]
  },
  {
   "cell_type": "code",
   "execution_count": 14,
   "metadata": {
    "collapsed": true
   },
   "outputs": [],
   "source": [
    "df = pd.read_csv(\"goodPlz/t2.csv\").drop(\"Unnamed: 0\",axis=1)"
   ]
  },
  {
   "cell_type": "code",
   "execution_count": 15,
   "metadata": {
    "collapsed": true
   },
   "outputs": [],
   "source": [
    "dfDiscards = df[df[\"moveType\"]==\"discard\"]"
   ]
  },
  {
   "cell_type": "code",
   "execution_count": 16,
   "metadata": {},
   "outputs": [
    {
     "name": "stderr",
     "output_type": "stream",
     "text": [
      "/home/tpeach/anaconda2/lib/python2.7/site-packages/ipykernel_launcher.py:1: SettingWithCopyWarning: \n",
      "A value is trying to be set on a copy of a slice from a DataFrame.\n",
      "Try using .loc[row_indexer,col_indexer] = value instead\n",
      "\n",
      "See the caveats in the documentation: http://pandas.pydata.org/pandas-docs/stable/indexing.html#indexing-view-versus-copy\n",
      "  \"\"\"Entry point for launching an IPython kernel.\n",
      "/home/tpeach/anaconda2/lib/python2.7/site-packages/ipykernel_launcher.py:2: SettingWithCopyWarning: \n",
      "A value is trying to be set on a copy of a slice from a DataFrame.\n",
      "Try using .loc[row_indexer,col_indexer] = value instead\n",
      "\n",
      "See the caveats in the documentation: http://pandas.pydata.org/pandas-docs/stable/indexing.html#indexing-view-versus-copy\n",
      "  \n"
     ]
    }
   ],
   "source": [
    "dfDiscards[\"actorHandConverted\"] = stlColumn(dfDiscards,\"actorHandConverted\")\n",
    "dfDiscards[\"actorOpenTiles\"] = stlColumn(dfDiscards,\"actorOpenTiles\")"
   ]
  },
  {
   "cell_type": "code",
   "execution_count": 17,
   "metadata": {
    "collapsed": true
   },
   "outputs": [],
   "source": [
    "secExport = shantenEngineerColumn(dfDiscards,\"actorHandConverted\",\"actorOpenTiles\")"
   ]
  },
  {
   "cell_type": "code",
   "execution_count": 18,
   "metadata": {},
   "outputs": [
    {
     "name": "stderr",
     "output_type": "stream",
     "text": [
      "/home/tpeach/anaconda2/lib/python2.7/site-packages/ipykernel_launcher.py:1: SettingWithCopyWarning: \n",
      "A value is trying to be set on a copy of a slice from a DataFrame.\n",
      "Try using .loc[row_indexer,col_indexer] = value instead\n",
      "\n",
      "See the caveats in the documentation: http://pandas.pydata.org/pandas-docs/stable/indexing.html#indexing-view-versus-copy\n",
      "  \"\"\"Entry point for launching an IPython kernel.\n"
     ]
    }
   ],
   "source": [
    "dfDiscards[\"shantenEngineeringColumn\"] = secExport"
   ]
  },
  {
   "cell_type": "code",
   "execution_count": 19,
   "metadata": {},
   "outputs": [
    {
     "data": {
      "text/plain": [
       "133297"
      ]
     },
     "execution_count": 19,
     "metadata": {},
     "output_type": "execute_result"
    }
   ],
   "source": [
    "len(dfDiscards[\"shantenEngineeringColumn\"].values)"
   ]
  },
  {
   "cell_type": "code",
   "execution_count": 20,
   "metadata": {},
   "outputs": [
    {
     "name": "stdout",
     "output_type": "stream",
     "text": [
      "133297\n"
     ]
    }
   ],
   "source": [
    "lenchecker = []\n",
    "for i in dfDiscards[\"shantenEngineeringColumn\"].values:\n",
    "    try:\n",
    "        lenchecker.append(shantenPlz(i))\n",
    "    except:\n",
    "        print(i)\n",
    "        #lenchecker.append(999)\n",
    "print(len(lenchecker))"
   ]
  },
  {
   "cell_type": "code",
   "execution_count": 21,
   "metadata": {},
   "outputs": [
    {
     "name": "stderr",
     "output_type": "stream",
     "text": [
      "/home/tpeach/anaconda2/lib/python2.7/site-packages/ipykernel_launcher.py:1: SettingWithCopyWarning: \n",
      "A value is trying to be set on a copy of a slice from a DataFrame.\n",
      "Try using .loc[row_indexer,col_indexer] = value instead\n",
      "\n",
      "See the caveats in the documentation: http://pandas.pydata.org/pandas-docs/stable/indexing.html#indexing-view-versus-copy\n",
      "  \"\"\"Entry point for launching an IPython kernel.\n"
     ]
    }
   ],
   "source": [
    "dfDiscards[\"shanten\"] = lenchecker"
   ]
  },
  {
   "cell_type": "code",
   "execution_count": 22,
   "metadata": {},
   "outputs": [
    {
     "data": {
      "text/plain": [
       " 2    40035\n",
       " 1    36685\n",
       " 3    26841\n",
       " 0    17852\n",
       " 4     9366\n",
       " 5     2375\n",
       " 6      117\n",
       "-1       26\n",
       "Name: shanten, dtype: int64"
      ]
     },
     "execution_count": 22,
     "metadata": {},
     "output_type": "execute_result"
    }
   ],
   "source": [
    "dfDiscards[\"shanten\"].value_counts()"
   ]
  },
  {
   "cell_type": "markdown",
   "metadata": {
    "collapsed": true
   },
   "source": [
    "#### So we're here in the new notebook, ready to update the data we import with new features engineered and we're gonna explore whether there's any validity to those features.\n",
    "\n",
    "#### Let's outline the process and ramble a bit:\n",
    "\n",
    "1) Make column that is the average distance from the 5 tile for an entire pond, regardless of the length of the pond. We will be counting Honors the same as Terminals in this distance calculation because from domain experience, I feel as though they are comparable even though Honors theoretically can't have a distance from 5 because they are unable to be used with number tiles.\n",
    "\n",
    "2) Make other columns that are the exact same kind of average, except we will be taking the last \"n\" discards and averaging those distances from 5.  I'm thinking some good starting columns could be 3, 4, 5, 6.  I mean if you look too narrowly or too widely, what's the point, right?  And also, I have to keep in mind that there's a lot of potential colinearity here.  I'm probably either going to have to do PCA to avoid this, or pick the best engineered feature here for interpretability.  I mean also I could just make a bunch of different models.  But yeah I'd also definitely like to know, as a Mahjong player, what a good practical indicator for someone being 1 away from a winning hand is."
   ]
  },
  {
   "cell_type": "code",
   "execution_count": 23,
   "metadata": {
    "collapsed": true
   },
   "outputs": [],
   "source": [
    "#stlColumn (fixing converted pond columns (ordered one because it has everything we need))"
   ]
  },
  {
   "cell_type": "code",
   "execution_count": 24,
   "metadata": {},
   "outputs": [
    {
     "data": {
      "text/html": [
       "<div>\n",
       "<style>\n",
       "    .dataframe thead tr:only-child th {\n",
       "        text-align: right;\n",
       "    }\n",
       "\n",
       "    .dataframe thead th {\n",
       "        text-align: left;\n",
       "    }\n",
       "\n",
       "    .dataframe tbody tr th {\n",
       "        vertical-align: top;\n",
       "    }\n",
       "</style>\n",
       "<table border=\"1\" class=\"dataframe\">\n",
       "  <thead>\n",
       "    <tr style=\"text-align: right;\">\n",
       "      <th></th>\n",
       "      <th>actorConvertedPond</th>\n",
       "    </tr>\n",
       "  </thead>\n",
       "  <tbody>\n",
       "    <tr>\n",
       "      <th>1</th>\n",
       "      <td>[70]</td>\n",
       "    </tr>\n",
       "    <tr>\n",
       "      <th>3</th>\n",
       "      <td>[29]</td>\n",
       "    </tr>\n",
       "    <tr>\n",
       "      <th>5</th>\n",
       "      <td>[9]</td>\n",
       "    </tr>\n",
       "    <tr>\n",
       "      <th>7</th>\n",
       "      <td>[1]</td>\n",
       "    </tr>\n",
       "    <tr>\n",
       "      <th>9</th>\n",
       "      <td>[70, 60]</td>\n",
       "    </tr>\n",
       "  </tbody>\n",
       "</table>\n",
       "</div>"
      ],
      "text/plain": [
       "  actorConvertedPond\n",
       "1               [70]\n",
       "3               [29]\n",
       "5                [9]\n",
       "7                [1]\n",
       "9           [70, 60]"
      ]
     },
     "execution_count": 24,
     "metadata": {},
     "output_type": "execute_result"
    }
   ],
   "source": [
    "dfDiscards[[\"actorConvertedPond\"]].head()"
   ]
  },
  {
   "cell_type": "code",
   "execution_count": 25,
   "metadata": {},
   "outputs": [
    {
     "data": {
      "text/plain": [
       "str"
      ]
     },
     "execution_count": 25,
     "metadata": {},
     "output_type": "execute_result"
    }
   ],
   "source": [
    "type(dfDiscards[\"actorConvertedPond\"].values[0])"
   ]
  },
  {
   "cell_type": "code",
   "execution_count": 26,
   "metadata": {},
   "outputs": [
    {
     "name": "stderr",
     "output_type": "stream",
     "text": [
      "/home/tpeach/anaconda2/lib/python2.7/site-packages/ipykernel_launcher.py:1: SettingWithCopyWarning: \n",
      "A value is trying to be set on a copy of a slice from a DataFrame.\n",
      "Try using .loc[row_indexer,col_indexer] = value instead\n",
      "\n",
      "See the caveats in the documentation: http://pandas.pydata.org/pandas-docs/stable/indexing.html#indexing-view-versus-copy\n",
      "  \"\"\"Entry point for launching an IPython kernel.\n"
     ]
    }
   ],
   "source": [
    "dfDiscards[\"actorConvertedPond\"] = stlColumn(dfDiscards,\"actorConvertedPond\")"
   ]
  },
  {
   "cell_type": "code",
   "execution_count": 27,
   "metadata": {},
   "outputs": [
    {
     "data": {
      "text/plain": [
       "[70]"
      ]
     },
     "execution_count": 27,
     "metadata": {},
     "output_type": "execute_result"
    }
   ],
   "source": [
    "dfDiscards[\"actorConvertedPond\"].values[0]"
   ]
  },
  {
   "cell_type": "code",
   "execution_count": 28,
   "metadata": {},
   "outputs": [
    {
     "data": {
      "text/plain": [
       "list"
      ]
     },
     "execution_count": 28,
     "metadata": {},
     "output_type": "execute_result"
    }
   ],
   "source": [
    "type(dfDiscards[\"actorConvertedPond\"].values[0])"
   ]
  },
  {
   "cell_type": "markdown",
   "metadata": {},
   "source": [
    "Feature engineering time."
   ]
  },
  {
   "cell_type": "code",
   "execution_count": 29,
   "metadata": {
    "collapsed": true
   },
   "outputs": [],
   "source": [
    "def ccT(cT):\n",
    "    '''put a converted tile in here and get a number out.\n",
    "    Converts 47, the 7 sou, to the 7 it should be, and converts honor tiles to 1.'''\n",
    "    try:\n",
    "        if cT < 50:\n",
    "            cT = int(str(cT)[1])\n",
    "        else:\n",
    "            cT = 1\n",
    "    except:\n",
    "        pass\n",
    "    return cT"
   ]
  },
  {
   "cell_type": "code",
   "execution_count": 30,
   "metadata": {},
   "outputs": [
    {
     "data": {
      "text/plain": [
       "7"
      ]
     },
     "execution_count": 30,
     "metadata": {},
     "output_type": "execute_result"
    }
   ],
   "source": [
    "ccT(47)"
   ]
  },
  {
   "cell_type": "code",
   "execution_count": 31,
   "metadata": {},
   "outputs": [
    {
     "data": {
      "text/plain": [
       "1"
      ]
     },
     "execution_count": 31,
     "metadata": {},
     "output_type": "execute_result"
    }
   ],
   "source": [
    "ccT(120)"
   ]
  },
  {
   "cell_type": "code",
   "execution_count": 32,
   "metadata": {
    "collapsed": true
   },
   "outputs": [],
   "source": [
    "def distFrom5(lol):\n",
    "    #idk why I'm making this, this sentence is longer than the function.\n",
    "    return abs(lol-5)"
   ]
  },
  {
   "cell_type": "code",
   "execution_count": 33,
   "metadata": {
    "collapsed": true
   },
   "outputs": [],
   "source": [
    "# for i in range(1,10):\n",
    "#     print distFrom5(i)"
   ]
  },
  {
   "cell_type": "code",
   "execution_count": 34,
   "metadata": {
    "collapsed": true
   },
   "outputs": [],
   "source": [
    "def playerPondDist5(df,col):\n",
    "    dx = df.copy() #you can never be too careful\n",
    "    vals = dx[col].values\n",
    "    nuValz = []\n",
    "    for i in range(len(vals)):\n",
    "        for j in range(len(vals[i])):\n",
    "            vals[i][j] = distFrom5(ccT(vals[i][j]))\n",
    "#     for i in range(len(vals)):\n",
    "#         nuValz.append(np.mean(vals[i]))\n",
    "#     return nuValz\n",
    "    return vals"
   ]
  },
  {
   "cell_type": "markdown",
   "metadata": {},
   "source": [
    "So let's take a look at 20 of those original column values, run the function, and compare and see if it makes sense."
   ]
  },
  {
   "cell_type": "code",
   "execution_count": 35,
   "metadata": {},
   "outputs": [
    {
     "data": {
      "text/plain": [
       "array([[70], [29], [9], [1], [70, 60], [29, 120], [9, 1], [1, 49],\n",
       "       [70, 60, 9], [29, 120, 110], [9, 1, 8], [1, 49, 60], [70, 60, 9, 8],\n",
       "       [29, 120, 110, 6], [9, 1, 8, 41], [1, 49, 60, 29],\n",
       "       [70, 60, 9, 8, 7], [29, 120, 110, 6, 25], [9, 1, 8, 41, 21],\n",
       "       [1, 49, 60, 29, 90]], dtype=object)"
      ]
     },
     "execution_count": 35,
     "metadata": {},
     "output_type": "execute_result"
    }
   ],
   "source": [
    "dfDiscards[\"actorConvertedPond\"].values[:20]"
   ]
  },
  {
   "cell_type": "code",
   "execution_count": 36,
   "metadata": {},
   "outputs": [
    {
     "name": "stderr",
     "output_type": "stream",
     "text": [
      "/home/tpeach/anaconda2/lib/python2.7/site-packages/ipykernel_launcher.py:1: SettingWithCopyWarning: \n",
      "A value is trying to be set on a copy of a slice from a DataFrame.\n",
      "Try using .loc[row_indexer,col_indexer] = value instead\n",
      "\n",
      "See the caveats in the documentation: http://pandas.pydata.org/pandas-docs/stable/indexing.html#indexing-view-versus-copy\n",
      "  \"\"\"Entry point for launching an IPython kernel.\n"
     ]
    }
   ],
   "source": [
    "dfDiscards[\"actorPondDist5\"] = playerPondDist5(dfDiscards,\"actorConvertedPond\")"
   ]
  },
  {
   "cell_type": "code",
   "execution_count": 37,
   "metadata": {},
   "outputs": [
    {
     "data": {
      "text/plain": [
       "array([[4], [4], [4], [4], [4, 4], [4, 4], [4, 4], [4, 4], [4, 4, 4],\n",
       "       [4, 4, 4], [4, 4, 3], [4, 4, 4], [4, 4, 4, 3], [4, 4, 4, 1],\n",
       "       [4, 4, 3, 4], [4, 4, 4, 4], [4, 4, 4, 3, 2], [4, 4, 4, 1, 0],\n",
       "       [4, 4, 3, 4, 4], [4, 4, 4, 4, 4]], dtype=object)"
      ]
     },
     "execution_count": 37,
     "metadata": {},
     "output_type": "execute_result"
    }
   ],
   "source": [
    "dfDiscards[\"actorPondDist5\"].values[:20]"
   ]
  },
  {
   "cell_type": "markdown",
   "metadata": {},
   "source": [
    "#### Looks completely correct."
   ]
  },
  {
   "cell_type": "markdown",
   "metadata": {},
   "source": [
    "So now we have the foundation column to make the other columns easily.  Average them all, average the last 3, average the last 4, etc."
   ]
  },
  {
   "cell_type": "code",
   "execution_count": 38,
   "metadata": {},
   "outputs": [
    {
     "name": "stdout",
     "output_type": "stream",
     "text": [
      "[4.0, 4.0, 4.0, 4.0, 4.0, 4.0, 4.0, 4.0, 4.0, 4.0, 3.6666666666666665, 4.0, 3.75, 3.25, 3.75, 4.0, 3.3999999999999999, 2.6000000000000001, 3.7999999999999998, 4.0]\n"
     ]
    }
   ],
   "source": [
    "def ppd5_All(df,col):\n",
    "    vals = df.copy()[col].values\n",
    "    nuValz = []\n",
    "    for i in range(len(vals)):\n",
    "        nuValz.append(np.mean(vals[i]))\n",
    "    return nuValz\n",
    "\n",
    "print(ppd5_All(dfDiscards,\"actorPondDist5\")[:20])"
   ]
  },
  {
   "cell_type": "markdown",
   "metadata": {},
   "source": [
    "#### So our target is shanten, or maybe it'll just end up being a \"0 shanten or NOT 0 shanten\" target column, not sure yet.\n",
    "\n",
    "#### Anyways, for now, the sensible thing is to plot this new column vs shanten."
   ]
  },
  {
   "cell_type": "code",
   "execution_count": 39,
   "metadata": {},
   "outputs": [
    {
     "name": "stderr",
     "output_type": "stream",
     "text": [
      "/home/tpeach/anaconda2/lib/python2.7/site-packages/ipykernel_launcher.py:1: SettingWithCopyWarning: \n",
      "A value is trying to be set on a copy of a slice from a DataFrame.\n",
      "Try using .loc[row_indexer,col_indexer] = value instead\n",
      "\n",
      "See the caveats in the documentation: http://pandas.pydata.org/pandas-docs/stable/indexing.html#indexing-view-versus-copy\n",
      "  \"\"\"Entry point for launching an IPython kernel.\n"
     ]
    }
   ],
   "source": [
    "dfDiscards[\"actor_pd5_All\"] = ppd5_All(dfDiscards,\"actorPondDist5\")"
   ]
  },
  {
   "cell_type": "code",
   "execution_count": 40,
   "metadata": {},
   "outputs": [
    {
     "data": {
      "text/plain": [
       "<matplotlib.axes._subplots.AxesSubplot at 0x7f66cd90e990>"
      ]
     },
     "execution_count": 40,
     "metadata": {},
     "output_type": "execute_result"
    },
    {
     "data": {
      "image/png": "[encoded data removed]",
      "text/plain": [
       "<matplotlib.figure.Figure at 0x7f6702be3a10>"
      ]
     },
     "metadata": {},
     "output_type": "display_data"
    }
   ],
   "source": [
    "dfDiscards.plot(x=\"actor_pd5_All\",y=\"shanten\",kind=\"scatter\")"
   ]
  },
  {
   "cell_type": "markdown",
   "metadata": {},
   "source": [
    "#### Not a very helpful visualization...\n",
    "\n",
    "I wanna make the other columns and see if those are more helpful."
   ]
  },
  {
   "cell_type": "code",
   "execution_count": 41,
   "metadata": {
    "collapsed": true
   },
   "outputs": [],
   "source": [
    "# vals = [1,2,3,4,5,6,7,8,9]\n",
    "# N = 3\n",
    "# print(vals[-N:])"
   ]
  },
  {
   "cell_type": "code",
   "execution_count": 42,
   "metadata": {
    "collapsed": true
   },
   "outputs": [],
   "source": [
    "def ppd5_LastN(df,col,N):\n",
    "    vals = df.copy()[col].values\n",
    "    nuValz = []\n",
    "    for i in range(len(vals)):\n",
    "        nuValz.append(np.mean(vals[i][-N:]))\n",
    "    return nuValz"
   ]
  },
  {
   "cell_type": "markdown",
   "metadata": {},
   "source": [
    "#### So what values of N are going to be helpful here... not 1, because looking at someone's last tile they discarded isn't all that helpful. The last 2 aren't great either...\n",
    "\n",
    "#### Whoa... maybe I could use some kind of weighting system that favors more recent tiles and use /all/ the tiles...\n",
    "\n",
    "#### Well for now, I'm just going to make these 3,4,5,6, and 7 last tile columns and see what happens."
   ]
  },
  {
   "cell_type": "code",
   "execution_count": 43,
   "metadata": {
    "collapsed": true
   },
   "outputs": [],
   "source": [
    "enlist = [3,4,5,6,7]"
   ]
  },
  {
   "cell_type": "code",
   "execution_count": 44,
   "metadata": {},
   "outputs": [
    {
     "name": "stderr",
     "output_type": "stream",
     "text": [
      "/home/tpeach/anaconda2/lib/python2.7/site-packages/ipykernel_launcher.py:3: SettingWithCopyWarning: \n",
      "A value is trying to be set on a copy of a slice from a DataFrame.\n",
      "Try using .loc[row_indexer,col_indexer] = value instead\n",
      "\n",
      "See the caveats in the documentation: http://pandas.pydata.org/pandas-docs/stable/indexing.html#indexing-view-versus-copy\n",
      "  This is separate from the ipykernel package so we can avoid doing imports until\n"
     ]
    }
   ],
   "source": [
    "for i in range(len(enlist)):\n",
    "    someColName = \"actor_pd5_\" + str(enlist[i])\n",
    "    dfDiscards[someColName] = ppd5_LastN(dfDiscards,\"actorPondDist5\",enlist[i])"
   ]
  },
  {
   "cell_type": "code",
   "execution_count": 45,
   "metadata": {},
   "outputs": [
    {
     "data": {
      "text/html": [
       "<div>\n",
       "<style>\n",
       "    .dataframe thead tr:only-child th {\n",
       "        text-align: right;\n",
       "    }\n",
       "\n",
       "    .dataframe thead th {\n",
       "        text-align: left;\n",
       "    }\n",
       "\n",
       "    .dataframe tbody tr th {\n",
       "        vertical-align: top;\n",
       "    }\n",
       "</style>\n",
       "<table border=\"1\" class=\"dataframe\">\n",
       "  <thead>\n",
       "    <tr style=\"text-align: right;\">\n",
       "      <th></th>\n",
       "      <th>actor_pd5_All</th>\n",
       "    </tr>\n",
       "    <tr>\n",
       "      <th>shanten</th>\n",
       "      <th></th>\n",
       "    </tr>\n",
       "  </thead>\n",
       "  <tbody>\n",
       "    <tr>\n",
       "      <th>-1</th>\n",
       "      <td>3.003111</td>\n",
       "    </tr>\n",
       "    <tr>\n",
       "      <th>0</th>\n",
       "      <td>3.013762</td>\n",
       "    </tr>\n",
       "    <tr>\n",
       "      <th>1</th>\n",
       "      <td>3.220999</td>\n",
       "    </tr>\n",
       "    <tr>\n",
       "      <th>2</th>\n",
       "      <td>3.445567</td>\n",
       "    </tr>\n",
       "    <tr>\n",
       "      <th>3</th>\n",
       "      <td>3.609507</td>\n",
       "    </tr>\n",
       "    <tr>\n",
       "      <th>4</th>\n",
       "      <td>3.637934</td>\n",
       "    </tr>\n",
       "    <tr>\n",
       "      <th>5</th>\n",
       "      <td>3.596350</td>\n",
       "    </tr>\n",
       "    <tr>\n",
       "      <th>6</th>\n",
       "      <td>3.393636</td>\n",
       "    </tr>\n",
       "  </tbody>\n",
       "</table>\n",
       "</div>"
      ],
      "text/plain": [
       "         actor_pd5_All\n",
       "shanten               \n",
       "-1            3.003111\n",
       " 0            3.013762\n",
       " 1            3.220999\n",
       " 2            3.445567\n",
       " 3            3.609507\n",
       " 4            3.637934\n",
       " 5            3.596350\n",
       " 6            3.393636"
      ]
     },
     "execution_count": 45,
     "metadata": {},
     "output_type": "execute_result"
    }
   ],
   "source": [
    "dfDiscards[[\"shanten\",\"actor_pd5_All\"]].groupby(\"shanten\").mean()"
   ]
  },
  {
   "cell_type": "markdown",
   "metadata": {},
   "source": [
    "#### Much better, yeah this shows how as you approach 0 shanten (1 away from winning), you generally discard more middleton tiles."
   ]
  },
  {
   "cell_type": "code",
   "execution_count": 46,
   "metadata": {},
   "outputs": [
    {
     "data": {
      "text/html": [
       "<div>\n",
       "<style>\n",
       "    .dataframe thead tr:only-child th {\n",
       "        text-align: right;\n",
       "    }\n",
       "\n",
       "    .dataframe thead th {\n",
       "        text-align: left;\n",
       "    }\n",
       "\n",
       "    .dataframe tbody tr th {\n",
       "        vertical-align: top;\n",
       "    }\n",
       "</style>\n",
       "<table border=\"1\" class=\"dataframe\">\n",
       "  <thead>\n",
       "    <tr style=\"text-align: right;\">\n",
       "      <th></th>\n",
       "      <th>actor_pd5_3</th>\n",
       "    </tr>\n",
       "    <tr>\n",
       "      <th>shanten</th>\n",
       "      <th></th>\n",
       "    </tr>\n",
       "  </thead>\n",
       "  <tbody>\n",
       "    <tr>\n",
       "      <th>-1</th>\n",
       "      <td>2.628205</td>\n",
       "    </tr>\n",
       "    <tr>\n",
       "      <th>0</th>\n",
       "      <td>2.624272</td>\n",
       "    </tr>\n",
       "    <tr>\n",
       "      <th>1</th>\n",
       "      <td>2.939040</td>\n",
       "    </tr>\n",
       "    <tr>\n",
       "      <th>2</th>\n",
       "      <td>3.293551</td>\n",
       "    </tr>\n",
       "    <tr>\n",
       "      <th>3</th>\n",
       "      <td>3.557344</td>\n",
       "    </tr>\n",
       "    <tr>\n",
       "      <th>4</th>\n",
       "      <td>3.608424</td>\n",
       "    </tr>\n",
       "    <tr>\n",
       "      <th>5</th>\n",
       "      <td>3.492632</td>\n",
       "    </tr>\n",
       "    <tr>\n",
       "      <th>6</th>\n",
       "      <td>3.306268</td>\n",
       "    </tr>\n",
       "  </tbody>\n",
       "</table>\n",
       "</div>"
      ],
      "text/plain": [
       "         actor_pd5_3\n",
       "shanten             \n",
       "-1          2.628205\n",
       " 0          2.624272\n",
       " 1          2.939040\n",
       " 2          3.293551\n",
       " 3          3.557344\n",
       " 4          3.608424\n",
       " 5          3.492632\n",
       " 6          3.306268"
      ]
     },
     "execution_count": 46,
     "metadata": {},
     "output_type": "execute_result"
    }
   ],
   "source": [
    "dfDiscards[[\"shanten\",\"actor_pd5_3\"]].groupby(\"shanten\").mean()"
   ]
  },
  {
   "cell_type": "code",
   "execution_count": 47,
   "metadata": {},
   "outputs": [
    {
     "data": {
      "text/html": [
       "<div>\n",
       "<style>\n",
       "    .dataframe thead tr:only-child th {\n",
       "        text-align: right;\n",
       "    }\n",
       "\n",
       "    .dataframe thead th {\n",
       "        text-align: left;\n",
       "    }\n",
       "\n",
       "    .dataframe tbody tr th {\n",
       "        vertical-align: top;\n",
       "    }\n",
       "</style>\n",
       "<table border=\"1\" class=\"dataframe\">\n",
       "  <thead>\n",
       "    <tr style=\"text-align: right;\">\n",
       "      <th></th>\n",
       "      <th>actor_pd5_4</th>\n",
       "    </tr>\n",
       "    <tr>\n",
       "      <th>shanten</th>\n",
       "      <th></th>\n",
       "    </tr>\n",
       "  </thead>\n",
       "  <tbody>\n",
       "    <tr>\n",
       "      <th>-1</th>\n",
       "      <td>2.692308</td>\n",
       "    </tr>\n",
       "    <tr>\n",
       "      <th>0</th>\n",
       "      <td>2.667820</td>\n",
       "    </tr>\n",
       "    <tr>\n",
       "      <th>1</th>\n",
       "      <td>2.983438</td>\n",
       "    </tr>\n",
       "    <tr>\n",
       "      <th>2</th>\n",
       "      <td>3.331406</td>\n",
       "    </tr>\n",
       "    <tr>\n",
       "      <th>3</th>\n",
       "      <td>3.571896</td>\n",
       "    </tr>\n",
       "    <tr>\n",
       "      <th>4</th>\n",
       "      <td>3.618612</td>\n",
       "    </tr>\n",
       "    <tr>\n",
       "      <th>5</th>\n",
       "      <td>3.522316</td>\n",
       "    </tr>\n",
       "    <tr>\n",
       "      <th>6</th>\n",
       "      <td>3.329060</td>\n",
       "    </tr>\n",
       "  </tbody>\n",
       "</table>\n",
       "</div>"
      ],
      "text/plain": [
       "         actor_pd5_4\n",
       "shanten             \n",
       "-1          2.692308\n",
       " 0          2.667820\n",
       " 1          2.983438\n",
       " 2          3.331406\n",
       " 3          3.571896\n",
       " 4          3.618612\n",
       " 5          3.522316\n",
       " 6          3.329060"
      ]
     },
     "execution_count": 47,
     "metadata": {},
     "output_type": "execute_result"
    }
   ],
   "source": [
    "dfDiscards[[\"shanten\",\"actor_pd5_4\"]].groupby(\"shanten\").mean()"
   ]
  },
  {
   "cell_type": "code",
   "execution_count": 48,
   "metadata": {},
   "outputs": [
    {
     "data": {
      "text/html": [
       "<div>\n",
       "<style>\n",
       "    .dataframe thead tr:only-child th {\n",
       "        text-align: right;\n",
       "    }\n",
       "\n",
       "    .dataframe thead th {\n",
       "        text-align: left;\n",
       "    }\n",
       "\n",
       "    .dataframe tbody tr th {\n",
       "        vertical-align: top;\n",
       "    }\n",
       "</style>\n",
       "<table border=\"1\" class=\"dataframe\">\n",
       "  <thead>\n",
       "    <tr style=\"text-align: right;\">\n",
       "      <th></th>\n",
       "      <th>actor_pd5_5</th>\n",
       "    </tr>\n",
       "    <tr>\n",
       "      <th>shanten</th>\n",
       "      <th></th>\n",
       "    </tr>\n",
       "  </thead>\n",
       "  <tbody>\n",
       "    <tr>\n",
       "      <th>-1</th>\n",
       "      <td>2.707692</td>\n",
       "    </tr>\n",
       "    <tr>\n",
       "      <th>0</th>\n",
       "      <td>2.711722</td>\n",
       "    </tr>\n",
       "    <tr>\n",
       "      <th>1</th>\n",
       "      <td>3.026912</td>\n",
       "    </tr>\n",
       "    <tr>\n",
       "      <th>2</th>\n",
       "      <td>3.361080</td>\n",
       "    </tr>\n",
       "    <tr>\n",
       "      <th>3</th>\n",
       "      <td>3.583009</td>\n",
       "    </tr>\n",
       "    <tr>\n",
       "      <th>4</th>\n",
       "      <td>3.623256</td>\n",
       "    </tr>\n",
       "    <tr>\n",
       "      <th>5</th>\n",
       "      <td>3.545684</td>\n",
       "    </tr>\n",
       "    <tr>\n",
       "      <th>6</th>\n",
       "      <td>3.320513</td>\n",
       "    </tr>\n",
       "  </tbody>\n",
       "</table>\n",
       "</div>"
      ],
      "text/plain": [
       "         actor_pd5_5\n",
       "shanten             \n",
       "-1          2.707692\n",
       " 0          2.711722\n",
       " 1          3.026912\n",
       " 2          3.361080\n",
       " 3          3.583009\n",
       " 4          3.623256\n",
       " 5          3.545684\n",
       " 6          3.320513"
      ]
     },
     "execution_count": 48,
     "metadata": {},
     "output_type": "execute_result"
    }
   ],
   "source": [
    "dfDiscards[[\"shanten\",\"actor_pd5_5\"]].groupby(\"shanten\").mean()"
   ]
  },
  {
   "cell_type": "code",
   "execution_count": 49,
   "metadata": {},
   "outputs": [
    {
     "data": {
      "text/html": [
       "<div>\n",
       "<style>\n",
       "    .dataframe thead tr:only-child th {\n",
       "        text-align: right;\n",
       "    }\n",
       "\n",
       "    .dataframe thead th {\n",
       "        text-align: left;\n",
       "    }\n",
       "\n",
       "    .dataframe tbody tr th {\n",
       "        vertical-align: top;\n",
       "    }\n",
       "</style>\n",
       "<table border=\"1\" class=\"dataframe\">\n",
       "  <thead>\n",
       "    <tr style=\"text-align: right;\">\n",
       "      <th></th>\n",
       "      <th>actor_pd5_6</th>\n",
       "    </tr>\n",
       "    <tr>\n",
       "      <th>shanten</th>\n",
       "      <th></th>\n",
       "    </tr>\n",
       "  </thead>\n",
       "  <tbody>\n",
       "    <tr>\n",
       "      <th>-1</th>\n",
       "      <td>2.692308</td>\n",
       "    </tr>\n",
       "    <tr>\n",
       "      <th>0</th>\n",
       "      <td>2.754735</td>\n",
       "    </tr>\n",
       "    <tr>\n",
       "      <th>1</th>\n",
       "      <td>3.067185</td>\n",
       "    </tr>\n",
       "    <tr>\n",
       "      <th>2</th>\n",
       "      <td>3.384255</td>\n",
       "    </tr>\n",
       "    <tr>\n",
       "      <th>3</th>\n",
       "      <td>3.590800</td>\n",
       "    </tr>\n",
       "    <tr>\n",
       "      <th>4</th>\n",
       "      <td>3.626950</td>\n",
       "    </tr>\n",
       "    <tr>\n",
       "      <th>5</th>\n",
       "      <td>3.564182</td>\n",
       "    </tr>\n",
       "    <tr>\n",
       "      <th>6</th>\n",
       "      <td>3.334473</td>\n",
       "    </tr>\n",
       "  </tbody>\n",
       "</table>\n",
       "</div>"
      ],
      "text/plain": [
       "         actor_pd5_6\n",
       "shanten             \n",
       "-1          2.692308\n",
       " 0          2.754735\n",
       " 1          3.067185\n",
       " 2          3.384255\n",
       " 3          3.590800\n",
       " 4          3.626950\n",
       " 5          3.564182\n",
       " 6          3.334473"
      ]
     },
     "execution_count": 49,
     "metadata": {},
     "output_type": "execute_result"
    }
   ],
   "source": [
    "dfDiscards[[\"shanten\",\"actor_pd5_6\"]].groupby(\"shanten\").mean()"
   ]
  },
  {
   "cell_type": "code",
   "execution_count": 50,
   "metadata": {},
   "outputs": [
    {
     "data": {
      "text/html": [
       "<div>\n",
       "<style>\n",
       "    .dataframe thead tr:only-child th {\n",
       "        text-align: right;\n",
       "    }\n",
       "\n",
       "    .dataframe thead th {\n",
       "        text-align: left;\n",
       "    }\n",
       "\n",
       "    .dataframe tbody tr th {\n",
       "        vertical-align: top;\n",
       "    }\n",
       "</style>\n",
       "<table border=\"1\" class=\"dataframe\">\n",
       "  <thead>\n",
       "    <tr style=\"text-align: right;\">\n",
       "      <th></th>\n",
       "      <th>actor_pd5_7</th>\n",
       "    </tr>\n",
       "    <tr>\n",
       "      <th>shanten</th>\n",
       "      <th></th>\n",
       "    </tr>\n",
       "  </thead>\n",
       "  <tbody>\n",
       "    <tr>\n",
       "      <th>-1</th>\n",
       "      <td>2.741758</td>\n",
       "    </tr>\n",
       "    <tr>\n",
       "      <th>0</th>\n",
       "      <td>2.797909</td>\n",
       "    </tr>\n",
       "    <tr>\n",
       "      <th>1</th>\n",
       "      <td>3.102185</td>\n",
       "    </tr>\n",
       "    <tr>\n",
       "      <th>2</th>\n",
       "      <td>3.401669</td>\n",
       "    </tr>\n",
       "    <tr>\n",
       "      <th>3</th>\n",
       "      <td>3.596012</td>\n",
       "    </tr>\n",
       "    <tr>\n",
       "      <th>4</th>\n",
       "      <td>3.630207</td>\n",
       "    </tr>\n",
       "    <tr>\n",
       "      <th>5</th>\n",
       "      <td>3.574218</td>\n",
       "    </tr>\n",
       "    <tr>\n",
       "      <th>6</th>\n",
       "      <td>3.346276</td>\n",
       "    </tr>\n",
       "  </tbody>\n",
       "</table>\n",
       "</div>"
      ],
      "text/plain": [
       "         actor_pd5_7\n",
       "shanten             \n",
       "-1          2.741758\n",
       " 0          2.797909\n",
       " 1          3.102185\n",
       " 2          3.401669\n",
       " 3          3.596012\n",
       " 4          3.630207\n",
       " 5          3.574218\n",
       " 6          3.346276"
      ]
     },
     "execution_count": 50,
     "metadata": {},
     "output_type": "execute_result"
    }
   ],
   "source": [
    "dfDiscards[[\"shanten\",\"actor_pd5_7\"]].groupby(\"shanten\").mean()"
   ]
  },
  {
   "cell_type": "markdown",
   "metadata": {},
   "source": [
    "### Okay so a clear trend, regardless of the metric we use, although looking at somewhere from the last 3 to 7 rather than all seems to be better at differentiating.  Seems like the average tenpai hand has something like 2.6-2.7 average distance from the 5-tile."
   ]
  },
  {
   "cell_type": "markdown",
   "metadata": {},
   "source": [
    "### So now we have to look at the distribution of those averages at tenpai."
   ]
  },
  {
   "cell_type": "code",
   "execution_count": 185,
   "metadata": {},
   "outputs": [
    {
     "data": {
      "text/plain": [
       "(array([    3.,     0.,     8.,     0.,     0.,    26.,     0.,     0.,\n",
       "           63.,     0.,     0.,   141.,     6.,   248.,     0.,     6.,\n",
       "          472.,     5.,     5.,   749.,     0.,     0.,  1102.,     0.,\n",
       "            0.,  1590.,     8.,  1848.,     0.,    18.,  2124.,    17.,\n",
       "           39.,  2269.,     0.,     0.,  2238.,     0.,  1765.,    36.,\n",
       "           16.,  1357.,     0.,    29.,   886.,    18.,    28.,   501.,\n",
       "            0.,   231.]),\n",
       " array([ 0.4  ,  0.472,  0.544,  0.616,  0.688,  0.76 ,  0.832,  0.904,\n",
       "         0.976,  1.048,  1.12 ,  1.192,  1.264,  1.336,  1.408,  1.48 ,\n",
       "         1.552,  1.624,  1.696,  1.768,  1.84 ,  1.912,  1.984,  2.056,\n",
       "         2.128,  2.2  ,  2.272,  2.344,  2.416,  2.488,  2.56 ,  2.632,\n",
       "         2.704,  2.776,  2.848,  2.92 ,  2.992,  3.064,  3.136,  3.208,\n",
       "         3.28 ,  3.352,  3.424,  3.496,  3.568,  3.64 ,  3.712,  3.784,\n",
       "         3.856,  3.928,  4.   ]),\n",
       " <a list of 50 Patch objects>)"
      ]
     },
     "execution_count": 185,
     "metadata": {},
     "output_type": "execute_result"
    },
    {
     "data": {
      "image/png": "[encoded data removed]",
      "text/plain": [
       "<matplotlib.figure.Figure at 0x7f66a5b65d50>"
      ]
     },
     "metadata": {},
     "output_type": "display_data"
    }
   ],
   "source": [
    "plt.hist(dfDiscards[[\"shanten\",\"actor_pd5_5\"]][dfDiscards[\"shanten\"]==0][\"actor_pd5_5\"],bins=50)"
   ]
  },
  {
   "cell_type": "code",
   "execution_count": 184,
   "metadata": {},
   "outputs": [
    {
     "data": {
      "text/plain": [
       "(array([  2.00000000e+00,   0.00000000e+00,   1.00000000e+00,\n",
       "          0.00000000e+00,   1.00000000e+00,   4.00000000e+00,\n",
       "          1.00000000e+00,   1.00000000e+01,   1.00000000e+00,\n",
       "          0.00000000e+00,   2.60000000e+01,   0.00000000e+00,\n",
       "          6.80000000e+01,   0.00000000e+00,   0.00000000e+00,\n",
       "          1.38000000e+02,   8.00000000e+00,   2.81000000e+02,\n",
       "          2.50000000e+01,   0.00000000e+00,   4.75000000e+02,\n",
       "          2.00000000e+01,   7.58000000e+02,   0.00000000e+00,\n",
       "          0.00000000e+00,   1.35500000e+03,   0.00000000e+00,\n",
       "          1.75700000e+03,   6.20000000e+01,   6.70000000e+01,\n",
       "          2.39900000e+03,   1.55000000e+02,   3.01700000e+03,\n",
       "          8.90000000e+01,   3.63600000e+03,   0.00000000e+00,\n",
       "          0.00000000e+00,   4.37300000e+03,   0.00000000e+00,\n",
       "          0.00000000e+00,   4.33400000e+03,   1.78000000e+02,\n",
       "          3.87600000e+03,   4.09000000e+02,   0.00000000e+00,\n",
       "          3.37700000e+03,   3.57000000e+02,   2.54200000e+03,\n",
       "          0.00000000e+00,   2.88300000e+03]),\n",
       " array([ 0.  ,  0.08,  0.16,  0.24,  0.32,  0.4 ,  0.48,  0.56,  0.64,\n",
       "         0.72,  0.8 ,  0.88,  0.96,  1.04,  1.12,  1.2 ,  1.28,  1.36,\n",
       "         1.44,  1.52,  1.6 ,  1.68,  1.76,  1.84,  1.92,  2.  ,  2.08,\n",
       "         2.16,  2.24,  2.32,  2.4 ,  2.48,  2.56,  2.64,  2.72,  2.8 ,\n",
       "         2.88,  2.96,  3.04,  3.12,  3.2 ,  3.28,  3.36,  3.44,  3.52,\n",
       "         3.6 ,  3.68,  3.76,  3.84,  3.92,  4.  ]),\n",
       " <a list of 50 Patch objects>)"
      ]
     },
     "execution_count": 184,
     "metadata": {},
     "output_type": "execute_result"
    },
    {
     "data": {
      "image/png": "[encoded data removed]",
      "text/plain": [
       "<matplotlib.figure.Figure at 0x7f66a5fc0790>"
      ]
     },
     "metadata": {},
     "output_type": "display_data"
    }
   ],
   "source": [
    "plt.hist(dfDiscards[[\"shanten\",\"actor_pd5_5\"]][dfDiscards[\"shanten\"]==1][\"actor_pd5_5\"],bins=50)"
   ]
  },
  {
   "cell_type": "code",
   "execution_count": 186,
   "metadata": {},
   "outputs": [
    {
     "data": {
      "text/plain": [
       "(array([  3.20000000e+01,   0.00000000e+00,   0.00000000e+00,\n",
       "          0.00000000e+00,   2.00000000e+00,   2.00000000e+00,\n",
       "          1.10000000e+01,   4.00000000e+00,   8.00000000e+00,\n",
       "          5.00000000e+00,   2.10000000e+01,   0.00000000e+00,\n",
       "          1.43000000e+02,   0.00000000e+00,   0.00000000e+00,\n",
       "          8.80000000e+01,   2.30000000e+01,   1.26000000e+02,\n",
       "          5.80000000e+01,   0.00000000e+00,   3.01000000e+02,\n",
       "          3.90000000e+01,   4.00000000e+02,   0.00000000e+00,\n",
       "          0.00000000e+00,   9.21000000e+02,   0.00000000e+00,\n",
       "          8.50000000e+02,   1.12000000e+02,   1.09000000e+02,\n",
       "          1.23300000e+03,   3.10000000e+02,   1.55200000e+03,\n",
       "          1.93000000e+02,   2.11500000e+03,   0.00000000e+00,\n",
       "          0.00000000e+00,   3.34000000e+03,   0.00000000e+00,\n",
       "          0.00000000e+00,   3.20200000e+03,   4.11000000e+02,\n",
       "          3.20500000e+03,   1.01200000e+03,   0.00000000e+00,\n",
       "          4.25700000e+03,   9.62000000e+02,   3.69800000e+03,\n",
       "          0.00000000e+00,   1.12900000e+04]),\n",
       " array([ 0.  ,  0.08,  0.16,  0.24,  0.32,  0.4 ,  0.48,  0.56,  0.64,\n",
       "         0.72,  0.8 ,  0.88,  0.96,  1.04,  1.12,  1.2 ,  1.28,  1.36,\n",
       "         1.44,  1.52,  1.6 ,  1.68,  1.76,  1.84,  1.92,  2.  ,  2.08,\n",
       "         2.16,  2.24,  2.32,  2.4 ,  2.48,  2.56,  2.64,  2.72,  2.8 ,\n",
       "         2.88,  2.96,  3.04,  3.12,  3.2 ,  3.28,  3.36,  3.44,  3.52,\n",
       "         3.6 ,  3.68,  3.76,  3.84,  3.92,  4.  ]),\n",
       " <a list of 50 Patch objects>)"
      ]
     },
     "execution_count": 186,
     "metadata": {},
     "output_type": "execute_result"
    },
    {
     "data": {
      "image/png": "[encoded data removed]",
      "text/plain": [
       "<matplotlib.figure.Figure at 0x7f66a6085050>"
      ]
     },
     "metadata": {},
     "output_type": "display_data"
    }
   ],
   "source": [
    "plt.hist(dfDiscards[[\"shanten\",\"actor_pd5_5\"]][dfDiscards[\"shanten\"]==2][\"actor_pd5_5\"],bins=50)"
   ]
  },
  {
   "cell_type": "code",
   "execution_count": 187,
   "metadata": {},
   "outputs": [
    {
     "data": {
      "text/plain": [
       "(array([  4.90000000e+01,   0.00000000e+00,   1.00000000e+00,\n",
       "          0.00000000e+00,   7.00000000e+00,   1.00000000e+00,\n",
       "          2.10000000e+01,   4.00000000e+00,   1.60000000e+01,\n",
       "          7.00000000e+00,   8.00000000e+00,   0.00000000e+00,\n",
       "          1.85000000e+02,   0.00000000e+00,   0.00000000e+00,\n",
       "          7.70000000e+01,   3.00000000e+01,   8.90000000e+01,\n",
       "          8.60000000e+01,   0.00000000e+00,   1.66000000e+02,\n",
       "          3.90000000e+01,   1.90000000e+02,   0.00000000e+00,\n",
       "          0.00000000e+00,   5.14000000e+02,   0.00000000e+00,\n",
       "          3.11000000e+02,   5.00000000e+01,   7.00000000e+01,\n",
       "          3.50000000e+02,   2.19000000e+02,   3.95000000e+02,\n",
       "          1.12000000e+02,   6.02000000e+02,   0.00000000e+00,\n",
       "          0.00000000e+00,   1.41800000e+03,   0.00000000e+00,\n",
       "          0.00000000e+00,   8.91000000e+02,   2.47000000e+02,\n",
       "          9.42000000e+02,   8.90000000e+02,   0.00000000e+00,\n",
       "          1.87200000e+03,   6.51000000e+02,   1.54200000e+03,\n",
       "          0.00000000e+00,   1.47890000e+04]),\n",
       " array([ 0.  ,  0.08,  0.16,  0.24,  0.32,  0.4 ,  0.48,  0.56,  0.64,\n",
       "         0.72,  0.8 ,  0.88,  0.96,  1.04,  1.12,  1.2 ,  1.28,  1.36,\n",
       "         1.44,  1.52,  1.6 ,  1.68,  1.76,  1.84,  1.92,  2.  ,  2.08,\n",
       "         2.16,  2.24,  2.32,  2.4 ,  2.48,  2.56,  2.64,  2.72,  2.8 ,\n",
       "         2.88,  2.96,  3.04,  3.12,  3.2 ,  3.28,  3.36,  3.44,  3.52,\n",
       "         3.6 ,  3.68,  3.76,  3.84,  3.92,  4.  ]),\n",
       " <a list of 50 Patch objects>)"
      ]
     },
     "execution_count": 187,
     "metadata": {},
     "output_type": "execute_result"
    },
    {
     "data": {
      "image/png": "[encoded data removed]",
      "text/plain": [
       "<matplotlib.figure.Figure at 0x7f66a57fec10>"
      ]
     },
     "metadata": {},
     "output_type": "display_data"
    }
   ],
   "source": [
    "plt.hist(dfDiscards[[\"shanten\",\"actor_pd5_5\"]][dfDiscards[\"shanten\"]==3][\"actor_pd5_5\"],bins=50)"
   ]
  },
  {
   "cell_type": "code",
   "execution_count": 188,
   "metadata": {},
   "outputs": [
    {
     "data": {
      "text/plain": [
       "(array([  4.80000000e+01,   0.00000000e+00,   0.00000000e+00,\n",
       "          0.00000000e+00,   3.00000000e+00,   1.00000000e+00,\n",
       "          1.30000000e+01,   2.00000000e+00,   5.00000000e+00,\n",
       "          7.00000000e+00,   4.00000000e+00,   0.00000000e+00,\n",
       "          1.30000000e+02,   0.00000000e+00,   0.00000000e+00,\n",
       "          3.30000000e+01,   2.40000000e+01,   3.90000000e+01,\n",
       "          3.90000000e+01,   0.00000000e+00,   7.20000000e+01,\n",
       "          1.40000000e+01,   3.80000000e+01,   0.00000000e+00,\n",
       "          0.00000000e+00,   1.84000000e+02,   0.00000000e+00,\n",
       "          6.60000000e+01,   1.40000000e+01,   2.60000000e+01,\n",
       "          7.60000000e+01,   6.20000000e+01,   9.90000000e+01,\n",
       "          3.30000000e+01,   1.78000000e+02,   0.00000000e+00,\n",
       "          0.00000000e+00,   4.23000000e+02,   0.00000000e+00,\n",
       "          0.00000000e+00,   1.66000000e+02,   7.00000000e+01,\n",
       "          1.62000000e+02,   2.59000000e+02,   0.00000000e+00,\n",
       "          3.20000000e+02,   1.09000000e+02,   2.40000000e+02,\n",
       "          0.00000000e+00,   6.40700000e+03]),\n",
       " array([ 0.  ,  0.08,  0.16,  0.24,  0.32,  0.4 ,  0.48,  0.56,  0.64,\n",
       "         0.72,  0.8 ,  0.88,  0.96,  1.04,  1.12,  1.2 ,  1.28,  1.36,\n",
       "         1.44,  1.52,  1.6 ,  1.68,  1.76,  1.84,  1.92,  2.  ,  2.08,\n",
       "         2.16,  2.24,  2.32,  2.4 ,  2.48,  2.56,  2.64,  2.72,  2.8 ,\n",
       "         2.88,  2.96,  3.04,  3.12,  3.2 ,  3.28,  3.36,  3.44,  3.52,\n",
       "         3.6 ,  3.68,  3.76,  3.84,  3.92,  4.  ]),\n",
       " <a list of 50 Patch objects>)"
      ]
     },
     "execution_count": 188,
     "metadata": {},
     "output_type": "execute_result"
    },
    {
     "data": {
      "image/png": "[encoded data removed]",
      "text/plain": [
       "<matplotlib.figure.Figure at 0x7f66a5f99810>"
      ]
     },
     "metadata": {},
     "output_type": "display_data"
    }
   ],
   "source": [
    "plt.hist(dfDiscards[[\"shanten\",\"actor_pd5_5\"]][dfDiscards[\"shanten\"]==4][\"actor_pd5_5\"],bins=50)"
   ]
  },
  {
   "cell_type": "markdown",
   "metadata": {},
   "source": [
    "#### Okay so around 0 shanten (tenpai) and 1 shanten, it's hard to tell, but this metric is /REALLY/ good at figuring out if it's further away.  Once it hits 2 shanten, the average is way higher.  Maybe we only care if they're pretty close? We'll see.\n",
    "\n",
    "\n",
    "#### So yeah I'm still not sure how exactly to structure the target, and this will be an ongoing play-it-by-ear type thing where I'm seeing how much information I can even get, how sure I can even be about whether someone is 0 shanten... but yeah regardless, this feature is good.\n",
    "\n",
    "#### Oh and I think the next thing I should do is make a feature that looks at open meld count, because that's a dead giveaway in certain circumstances.\n",
    "\n",
    "#### If someone has 4 open melds, they are /by definition/ in tenpai, if they have 3 open, very likely tenpai, 2, idk but maybe, 1, who knows... maybe if it's late in hand idk, 0, no idea.\n",
    "\n",
    "So yeah I'm going to create that column now (actorOpenMeldCount)"
   ]
  },
  {
   "cell_type": "code",
   "execution_count": 56,
   "metadata": {},
   "outputs": [
    {
     "name": "stdout",
     "output_type": "stream",
     "text": [
      "4\n"
     ]
    }
   ],
   "source": [
    "example = [22, 23, 23, 23, 23, 24, 46, 47, 48] #a tough example to break it (where the answer is 3 melds:)\n",
    "#[22,23,24],[23,23,23],[46,47,48]\n",
    "\n",
    "harderExample = [21, 21, 21, 22, 23, 24, 25, 25, 25, 25, 26, 27] \n",
    "\n",
    "def meldCounter(daList):\n",
    "    #print(\"daList\",daList)\n",
    "    lisk = daList[:]\n",
    "    meldCount = 0\n",
    "    setLisk = set(lisk)\n",
    "    kanCount = 0\n",
    "    for i in setLisk:\n",
    "        if lisk.count(i) == 4:\n",
    "            kanCount += 1\n",
    "    if kanCount == 0:\n",
    "        return (len(lisk)/3)\n",
    "    elif len(lisk) < 3:\n",
    "        return 0\n",
    "    elif len(lisk) < 6:\n",
    "        return 1\n",
    "    elif len(lisk) < 9:\n",
    "        return 2\n",
    "    elif len(lisk) < 12:\n",
    "        return 3\n",
    "    elif len(lisk) == 12 and kanCount == 3:\n",
    "        return 3\n",
    "    elif len(lisk) == 12 and kanCount != 3:\n",
    "        return 4\n",
    "    else:\n",
    "        '''Just leaving the old function here because I kinda like it.'''\n",
    "        try:\n",
    "            while len(lisk) != 0:\n",
    "                meldCountStart = meldCount\n",
    "                while len(lisk) != 0:\n",
    "                    #print(\"in first while\")\n",
    "                    if lisk[0] in lisk and (lisk[0]+1) in lisk and (lisk[0]+2) in lisk:\n",
    "                        #print(\"in first if\")\n",
    "                        meldCount += 1\n",
    "                        lisk.remove(lisk[0]+1)\n",
    "                        lisk.remove(lisk[0]+2)\n",
    "                        lisk.remove(lisk[0])\n",
    "                        #print(\"lisk\",lisk)\n",
    "                    else:\n",
    "                        break\n",
    "                while len(lisk) != 0: \n",
    "                    #print(\"in second while\")\n",
    "                    if lisk.count(lisk[0]) == 3 or lisk.count(lisk[0]) == 4:\n",
    "                        #print(\"in second if\")\n",
    "                        meldCount += 1\n",
    "                        lisk = [i for i in lisk if i != lisk[0]]\n",
    "                        #print(\"lisk\",lisk)\n",
    "                    else:\n",
    "                        break\n",
    "                if meldCountStart == meldCount:\n",
    "                    break\n",
    "            if len(lisk) != 0:\n",
    "                return \"ERROR WITH OPENS\"\n",
    "            else:\n",
    "                return meldCount\n",
    "        except:\n",
    "            return \"ERROR WITH OPENS\"\n",
    "        \n",
    "print(meldCounter(harderExample))"
   ]
  },
  {
   "cell_type": "code",
   "execution_count": 57,
   "metadata": {
    "collapsed": true
   },
   "outputs": [],
   "source": [
    "def oMFoT(df, col):\n",
    "    '''open melds from open tiles'''\n",
    "    vals = df[col].copy().values\n",
    "    for i in range(len(vals)):\n",
    "        vals[i] = meldCounter(vals[i])\n",
    "    return vals"
   ]
  },
  {
   "cell_type": "code",
   "execution_count": 58,
   "metadata": {},
   "outputs": [
    {
     "name": "stderr",
     "output_type": "stream",
     "text": [
      "/home/tpeach/anaconda2/lib/python2.7/site-packages/ipykernel_launcher.py:1: SettingWithCopyWarning: \n",
      "A value is trying to be set on a copy of a slice from a DataFrame.\n",
      "Try using .loc[row_indexer,col_indexer] = value instead\n",
      "\n",
      "See the caveats in the documentation: http://pandas.pydata.org/pandas-docs/stable/indexing.html#indexing-view-versus-copy\n",
      "  \"\"\"Entry point for launching an IPython kernel.\n"
     ]
    }
   ],
   "source": [
    "dfDiscards[\"actorOpenMeldCount\"] = oMFoT(dfDiscards,\"actorOpenTiles\")"
   ]
  },
  {
   "cell_type": "code",
   "execution_count": 59,
   "metadata": {},
   "outputs": [
    {
     "data": {
      "text/plain": [
       "0    107875\n",
       "1     17514\n",
       "2      6660\n",
       "3      1201\n",
       "4        47\n",
       "Name: actorOpenMeldCount, dtype: int64"
      ]
     },
     "execution_count": 59,
     "metadata": {},
     "output_type": "execute_result"
    }
   ],
   "source": [
    "dfDiscards[\"actorOpenMeldCount\"].value_counts()"
   ]
  },
  {
   "cell_type": "markdown",
   "metadata": {},
   "source": [
    "#### I'm actually kind of shocked that in 45 games there were literally no 4-opens.  Thinking about it though, this is probably because very good players /almost never/ 4-open, and they LOVE to not open at all."
   ]
  },
  {
   "cell_type": "code",
   "execution_count": 60,
   "metadata": {},
   "outputs": [
    {
     "data": {
      "text/html": [
       "<div>\n",
       "<style>\n",
       "    .dataframe thead tr:only-child th {\n",
       "        text-align: right;\n",
       "    }\n",
       "\n",
       "    .dataframe thead th {\n",
       "        text-align: left;\n",
       "    }\n",
       "\n",
       "    .dataframe tbody tr th {\n",
       "        vertical-align: top;\n",
       "    }\n",
       "</style>\n",
       "<table border=\"1\" class=\"dataframe\">\n",
       "  <thead>\n",
       "    <tr style=\"text-align: right;\">\n",
       "      <th></th>\n",
       "      <th>gameLogID</th>\n",
       "      <th>moveType</th>\n",
       "      <th>unconvertedTile</th>\n",
       "      <th>convertedTile</th>\n",
       "      <th>discDrawn</th>\n",
       "      <th>handNumber</th>\n",
       "      <th>moveNumber</th>\n",
       "      <th>roundWind</th>\n",
       "      <th>roundNumber</th>\n",
       "      <th>bonusSticks</th>\n",
       "      <th>...</th>\n",
       "      <th>shantenEngineeringColumn</th>\n",
       "      <th>shanten</th>\n",
       "      <th>actorPondDist5</th>\n",
       "      <th>actor_pd5_All</th>\n",
       "      <th>actor_pd5_3</th>\n",
       "      <th>actor_pd5_4</th>\n",
       "      <th>actor_pd5_5</th>\n",
       "      <th>actor_pd5_6</th>\n",
       "      <th>actor_pd5_7</th>\n",
       "      <th>actorOpenMeldCount</th>\n",
       "    </tr>\n",
       "    <tr>\n",
       "      <th>lobby</th>\n",
       "      <th></th>\n",
       "      <th></th>\n",
       "      <th></th>\n",
       "      <th></th>\n",
       "      <th></th>\n",
       "      <th></th>\n",
       "      <th></th>\n",
       "      <th></th>\n",
       "      <th></th>\n",
       "      <th></th>\n",
       "      <th></th>\n",
       "      <th></th>\n",
       "      <th></th>\n",
       "      <th></th>\n",
       "      <th></th>\n",
       "      <th></th>\n",
       "      <th></th>\n",
       "      <th></th>\n",
       "      <th></th>\n",
       "      <th></th>\n",
       "      <th></th>\n",
       "    </tr>\n",
       "  </thead>\n",
       "  <tbody>\n",
       "    <tr>\n",
       "      <th>dan</th>\n",
       "      <td>55587</td>\n",
       "      <td>55587</td>\n",
       "      <td>55587</td>\n",
       "      <td>55587</td>\n",
       "      <td>55587</td>\n",
       "      <td>55587</td>\n",
       "      <td>55587</td>\n",
       "      <td>55587</td>\n",
       "      <td>55587</td>\n",
       "      <td>55587</td>\n",
       "      <td>...</td>\n",
       "      <td>55587</td>\n",
       "      <td>55587</td>\n",
       "      <td>55587</td>\n",
       "      <td>55587</td>\n",
       "      <td>55587</td>\n",
       "      <td>55587</td>\n",
       "      <td>55587</td>\n",
       "      <td>55587</td>\n",
       "      <td>55587</td>\n",
       "      <td>55587</td>\n",
       "    </tr>\n",
       "    <tr>\n",
       "      <th>main</th>\n",
       "      <td>21560</td>\n",
       "      <td>21560</td>\n",
       "      <td>21560</td>\n",
       "      <td>21560</td>\n",
       "      <td>21560</td>\n",
       "      <td>21560</td>\n",
       "      <td>21560</td>\n",
       "      <td>21560</td>\n",
       "      <td>21560</td>\n",
       "      <td>21560</td>\n",
       "      <td>...</td>\n",
       "      <td>21560</td>\n",
       "      <td>21560</td>\n",
       "      <td>21560</td>\n",
       "      <td>21560</td>\n",
       "      <td>21560</td>\n",
       "      <td>21560</td>\n",
       "      <td>21560</td>\n",
       "      <td>21560</td>\n",
       "      <td>21560</td>\n",
       "      <td>21560</td>\n",
       "    </tr>\n",
       "    <tr>\n",
       "      <th>upper</th>\n",
       "      <td>56150</td>\n",
       "      <td>56150</td>\n",
       "      <td>56150</td>\n",
       "      <td>56150</td>\n",
       "      <td>56150</td>\n",
       "      <td>56150</td>\n",
       "      <td>56150</td>\n",
       "      <td>56150</td>\n",
       "      <td>56150</td>\n",
       "      <td>56150</td>\n",
       "      <td>...</td>\n",
       "      <td>56150</td>\n",
       "      <td>56150</td>\n",
       "      <td>56150</td>\n",
       "      <td>56150</td>\n",
       "      <td>56150</td>\n",
       "      <td>56150</td>\n",
       "      <td>56150</td>\n",
       "      <td>56150</td>\n",
       "      <td>56150</td>\n",
       "      <td>56150</td>\n",
       "    </tr>\n",
       "  </tbody>\n",
       "</table>\n",
       "<p>3 rows × 69 columns</p>\n",
       "</div>"
      ],
      "text/plain": [
       "       gameLogID  moveType  unconvertedTile  convertedTile  discDrawn  \\\n",
       "lobby                                                                   \n",
       "dan        55587     55587            55587          55587      55587   \n",
       "main       21560     21560            21560          21560      21560   \n",
       "upper      56150     56150            56150          56150      56150   \n",
       "\n",
       "       handNumber  moveNumber  roundWind  roundNumber  bonusSticks  \\\n",
       "lobby                                                                \n",
       "dan         55587       55587      55587        55587        55587   \n",
       "main        21560       21560      21560        21560        21560   \n",
       "upper       56150       56150      56150        56150        56150   \n",
       "\n",
       "              ...          shantenEngineeringColumn  shanten  actorPondDist5  \\\n",
       "lobby         ...                                                              \n",
       "dan           ...                             55587    55587           55587   \n",
       "main          ...                             21560    21560           21560   \n",
       "upper         ...                             56150    56150           56150   \n",
       "\n",
       "       actor_pd5_All  actor_pd5_3  actor_pd5_4  actor_pd5_5  actor_pd5_6  \\\n",
       "lobby                                                                      \n",
       "dan            55587        55587        55587        55587        55587   \n",
       "main           21560        21560        21560        21560        21560   \n",
       "upper          56150        56150        56150        56150        56150   \n",
       "\n",
       "       actor_pd5_7  actorOpenMeldCount  \n",
       "lobby                                   \n",
       "dan          55587               55587  \n",
       "main         21560               21560  \n",
       "upper        56150               56150  \n",
       "\n",
       "[3 rows x 69 columns]"
      ]
     },
     "execution_count": 60,
     "metadata": {},
     "output_type": "execute_result"
    }
   ],
   "source": [
    "dfDiscards.groupby(\"lobby\").count()"
   ]
  },
  {
   "cell_type": "markdown",
   "metadata": {},
   "source": [
    "#### Yeah the vast majority of these 45 games I'm using for some basic EDA are at least upperdan (where I would play) and mostly houou (where the top players play), and honestly main lobby players are probably the only people who semi-consistently 4-open, although I'll be sure to verify that later.\n",
    "\n",
    "#### Anyhow, yeah -- looks like people don't usually open:"
   ]
  },
  {
   "cell_type": "code",
   "execution_count": 61,
   "metadata": {},
   "outputs": [
    {
     "data": {
      "text/plain": [
       "[<matplotlib.lines.Line2D at 0x7f66c187e710>]"
      ]
     },
     "execution_count": 61,
     "metadata": {},
     "output_type": "execute_result"
    },
    {
     "data": {
      "image/png": "[encoded data removed]",
      "text/plain": [
       "<matplotlib.figure.Figure at 0x7f66c19d4110>"
      ]
     },
     "metadata": {},
     "output_type": "display_data"
    }
   ],
   "source": [
    "plt.plot(dfDiscards[\"actorOpenMeldCount\"].value_counts(),marker=\"X\")"
   ]
  },
  {
   "cell_type": "code",
   "execution_count": 62,
   "metadata": {},
   "outputs": [
    {
     "data": {
      "text/html": [
       "<div>\n",
       "<style>\n",
       "    .dataframe thead tr:only-child th {\n",
       "        text-align: right;\n",
       "    }\n",
       "\n",
       "    .dataframe thead th {\n",
       "        text-align: left;\n",
       "    }\n",
       "\n",
       "    .dataframe tbody tr th {\n",
       "        vertical-align: top;\n",
       "    }\n",
       "</style>\n",
       "<table border=\"1\" class=\"dataframe\">\n",
       "  <thead>\n",
       "    <tr style=\"text-align: right;\">\n",
       "      <th></th>\n",
       "      <th>shanten</th>\n",
       "    </tr>\n",
       "    <tr>\n",
       "      <th>actorOpenMeldCount</th>\n",
       "      <th></th>\n",
       "    </tr>\n",
       "  </thead>\n",
       "  <tbody>\n",
       "    <tr>\n",
       "      <th>0</th>\n",
       "      <td>2.027439</td>\n",
       "    </tr>\n",
       "    <tr>\n",
       "      <th>1</th>\n",
       "      <td>1.287370</td>\n",
       "    </tr>\n",
       "    <tr>\n",
       "      <th>2</th>\n",
       "      <td>0.787538</td>\n",
       "    </tr>\n",
       "    <tr>\n",
       "      <th>3</th>\n",
       "      <td>0.606162</td>\n",
       "    </tr>\n",
       "    <tr>\n",
       "      <th>4</th>\n",
       "      <td>1.340426</td>\n",
       "    </tr>\n",
       "  </tbody>\n",
       "</table>\n",
       "</div>"
      ],
      "text/plain": [
       "                     shanten\n",
       "actorOpenMeldCount          \n",
       "0                   2.027439\n",
       "1                   1.287370\n",
       "2                   0.787538\n",
       "3                   0.606162\n",
       "4                   1.340426"
      ]
     },
     "execution_count": 62,
     "metadata": {},
     "output_type": "execute_result"
    }
   ],
   "source": [
    "dfDiscards[[\"shanten\",\"actorOpenMeldCount\"]].groupby(\"actorOpenMeldCount\").mean()"
   ]
  },
  {
   "cell_type": "markdown",
   "metadata": {},
   "source": [
    "#### If that isn't a trend I don't know what is."
   ]
  },
  {
   "cell_type": "code",
   "execution_count": 63,
   "metadata": {},
   "outputs": [
    {
     "data": {
      "text/plain": [
       "[<matplotlib.lines.Line2D at 0x7f66c17bcc10>]"
      ]
     },
     "execution_count": 63,
     "metadata": {},
     "output_type": "execute_result"
    },
    {
     "data": {
      "image/png": "[encoded data removed]",
      "text/plain": [
       "<matplotlib.figure.Figure at 0x7f66c18253d0>"
      ]
     },
     "metadata": {},
     "output_type": "display_data"
    }
   ],
   "source": [
    "plt.plot(dfDiscards[[\"shanten\",\"actorOpenMeldCount\"]].groupby(\"actorOpenMeldCount\").mean(),marker=\"X\")"
   ]
  },
  {
   "cell_type": "markdown",
   "metadata": {},
   "source": [
    "#### Similar in many ways to the former graph, although notably different at 1 open meld and what that means on average."
   ]
  },
  {
   "cell_type": "markdown",
   "metadata": {},
   "source": [
    "### So there's a lot of things I could look at that don't require engineering.  I just really wanted to finish those engineering ones up because they're harder.\n",
    "\n",
    "#### Let's take a look at how score affects average shanten."
   ]
  },
  {
   "cell_type": "code",
   "execution_count": 64,
   "metadata": {},
   "outputs": [
    {
     "data": {
      "text/plain": [
       "420"
      ]
     },
     "execution_count": 64,
     "metadata": {},
     "output_type": "execute_result"
    }
   ],
   "source": [
    "len(set(dfDiscards[\"actorScore\"].values))"
   ]
  },
  {
   "cell_type": "markdown",
   "metadata": {},
   "source": [
    "#### Eh, 193 hands... (I'm not using all the data right now idk I want these processes to be fast) this isn't a super large number... but the shanten will vary a lot so let's take a look anyways:"
   ]
  },
  {
   "cell_type": "code",
   "execution_count": 65,
   "metadata": {},
   "outputs": [
    {
     "data": {
      "text/plain": [
       "<matplotlib.axes._subplots.AxesSubplot at 0x7f66c1754fd0>"
      ]
     },
     "execution_count": 65,
     "metadata": {},
     "output_type": "execute_result"
    },
    {
     "data": {
      "image/png": "[encoded data removed]",
      "text/plain": [
       "<matplotlib.figure.Figure at 0x7f66c1709f10>"
      ]
     },
     "metadata": {},
     "output_type": "display_data"
    }
   ],
   "source": [
    "dfDiscards.plot(x=\"actorScore\",y=\"shanten\",kind=\"scatter\")"
   ]
  },
  {
   "cell_type": "markdown",
   "metadata": {},
   "source": [
    "#### All this seems to inform me of is that the few (11) times people turned down a winning hand, it was because their score wasn't off the charts, and so maybe they wanted more.\n",
    "\n",
    "#### Other than that this graph is useless."
   ]
  },
  {
   "cell_type": "code",
   "execution_count": 66,
   "metadata": {},
   "outputs": [
    {
     "data": {
      "text/html": [
       "<div>\n",
       "<style>\n",
       "    .dataframe thead tr:only-child th {\n",
       "        text-align: right;\n",
       "    }\n",
       "\n",
       "    .dataframe thead th {\n",
       "        text-align: left;\n",
       "    }\n",
       "\n",
       "    .dataframe tbody tr th {\n",
       "        vertical-align: top;\n",
       "    }\n",
       "</style>\n",
       "<table border=\"1\" class=\"dataframe\">\n",
       "  <thead>\n",
       "    <tr style=\"text-align: right;\">\n",
       "      <th></th>\n",
       "      <th>shanten</th>\n",
       "      <th>actorScore</th>\n",
       "    </tr>\n",
       "  </thead>\n",
       "  <tbody>\n",
       "    <tr>\n",
       "      <th>3269</th>\n",
       "      <td>-1</td>\n",
       "      <td>198</td>\n",
       "    </tr>\n",
       "    <tr>\n",
       "      <th>26277</th>\n",
       "      <td>-1</td>\n",
       "      <td>250</td>\n",
       "    </tr>\n",
       "    <tr>\n",
       "      <th>51497</th>\n",
       "      <td>-1</td>\n",
       "      <td>226</td>\n",
       "    </tr>\n",
       "    <tr>\n",
       "      <th>56306</th>\n",
       "      <td>-1</td>\n",
       "      <td>216</td>\n",
       "    </tr>\n",
       "    <tr>\n",
       "      <th>66638</th>\n",
       "      <td>-1</td>\n",
       "      <td>250</td>\n",
       "    </tr>\n",
       "    <tr>\n",
       "      <th>66646</th>\n",
       "      <td>-1</td>\n",
       "      <td>250</td>\n",
       "    </tr>\n",
       "    <tr>\n",
       "      <th>80969</th>\n",
       "      <td>-1</td>\n",
       "      <td>478</td>\n",
       "    </tr>\n",
       "    <tr>\n",
       "      <th>80999</th>\n",
       "      <td>-1</td>\n",
       "      <td>478</td>\n",
       "    </tr>\n",
       "    <tr>\n",
       "      <th>87470</th>\n",
       "      <td>-1</td>\n",
       "      <td>267</td>\n",
       "    </tr>\n",
       "    <tr>\n",
       "      <th>107347</th>\n",
       "      <td>-1</td>\n",
       "      <td>274</td>\n",
       "    </tr>\n",
       "    <tr>\n",
       "      <th>109746</th>\n",
       "      <td>-1</td>\n",
       "      <td>329</td>\n",
       "    </tr>\n",
       "    <tr>\n",
       "      <th>109768</th>\n",
       "      <td>-1</td>\n",
       "      <td>329</td>\n",
       "    </tr>\n",
       "    <tr>\n",
       "      <th>116684</th>\n",
       "      <td>-1</td>\n",
       "      <td>170</td>\n",
       "    </tr>\n",
       "    <tr>\n",
       "      <th>129609</th>\n",
       "      <td>-1</td>\n",
       "      <td>317</td>\n",
       "    </tr>\n",
       "    <tr>\n",
       "      <th>142309</th>\n",
       "      <td>-1</td>\n",
       "      <td>308</td>\n",
       "    </tr>\n",
       "    <tr>\n",
       "      <th>145689</th>\n",
       "      <td>-1</td>\n",
       "      <td>219</td>\n",
       "    </tr>\n",
       "    <tr>\n",
       "      <th>159084</th>\n",
       "      <td>-1</td>\n",
       "      <td>371</td>\n",
       "    </tr>\n",
       "    <tr>\n",
       "      <th>209734</th>\n",
       "      <td>-1</td>\n",
       "      <td>219</td>\n",
       "    </tr>\n",
       "    <tr>\n",
       "      <th>212433</th>\n",
       "      <td>-1</td>\n",
       "      <td>104</td>\n",
       "    </tr>\n",
       "    <tr>\n",
       "      <th>219571</th>\n",
       "      <td>-1</td>\n",
       "      <td>415</td>\n",
       "    </tr>\n",
       "    <tr>\n",
       "      <th>230385</th>\n",
       "      <td>-1</td>\n",
       "      <td>211</td>\n",
       "    </tr>\n",
       "    <tr>\n",
       "      <th>242350</th>\n",
       "      <td>-1</td>\n",
       "      <td>250</td>\n",
       "    </tr>\n",
       "    <tr>\n",
       "      <th>247662</th>\n",
       "      <td>-1</td>\n",
       "      <td>181</td>\n",
       "    </tr>\n",
       "    <tr>\n",
       "      <th>256259</th>\n",
       "      <td>-1</td>\n",
       "      <td>250</td>\n",
       "    </tr>\n",
       "    <tr>\n",
       "      <th>259552</th>\n",
       "      <td>-1</td>\n",
       "      <td>250</td>\n",
       "    </tr>\n",
       "    <tr>\n",
       "      <th>268852</th>\n",
       "      <td>-1</td>\n",
       "      <td>170</td>\n",
       "    </tr>\n",
       "  </tbody>\n",
       "</table>\n",
       "</div>"
      ],
      "text/plain": [
       "        shanten  actorScore\n",
       "3269         -1         198\n",
       "26277        -1         250\n",
       "51497        -1         226\n",
       "56306        -1         216\n",
       "66638        -1         250\n",
       "66646        -1         250\n",
       "80969        -1         478\n",
       "80999        -1         478\n",
       "87470        -1         267\n",
       "107347       -1         274\n",
       "109746       -1         329\n",
       "109768       -1         329\n",
       "116684       -1         170\n",
       "129609       -1         317\n",
       "142309       -1         308\n",
       "145689       -1         219\n",
       "159084       -1         371\n",
       "209734       -1         219\n",
       "212433       -1         104\n",
       "219571       -1         415\n",
       "230385       -1         211\n",
       "242350       -1         250\n",
       "247662       -1         181\n",
       "256259       -1         250\n",
       "259552       -1         250\n",
       "268852       -1         170"
      ]
     },
     "execution_count": 66,
     "metadata": {},
     "output_type": "execute_result"
    }
   ],
   "source": [
    "dfDiscards[[\"shanten\",\"actorScore\"]][dfDiscards[\"shanten\"] == -1]"
   ]
  },
  {
   "cell_type": "code",
   "execution_count": 67,
   "metadata": {},
   "outputs": [
    {
     "data": {
      "text/plain": [
       "268.46153846153845"
      ]
     },
     "execution_count": 67,
     "metadata": {},
     "output_type": "execute_result"
    }
   ],
   "source": [
    "np.mean(dfDiscards[[\"shanten\",\"actorScore\"]][dfDiscards[\"shanten\"] == -1][\"actorScore\"])"
   ]
  },
  {
   "cell_type": "markdown",
   "metadata": {},
   "source": [
    "#### The starting score in Mahjong is 25000 pts, expressed here and in the original .mjlog files provided by tenhou.net as 250, because there is never a case where you interact with point sticks less than 100 in value, rendering the last two 0s in the conventional scoring redundant.\n",
    "\n",
    "#### Aren't pennies inefficient to mass produce or something?  Are we ever going to make a move on that?\n",
    "\n",
    "#### Anyways yeah these are lower scores, meaning they might have been seeking higher value for their hand, although I'm not entirely sure."
   ]
  },
  {
   "cell_type": "code",
   "execution_count": 68,
   "metadata": {},
   "outputs": [
    {
     "data": {
      "text/html": [
       "<div>\n",
       "<style>\n",
       "    .dataframe thead tr:only-child th {\n",
       "        text-align: right;\n",
       "    }\n",
       "\n",
       "    .dataframe thead th {\n",
       "        text-align: left;\n",
       "    }\n",
       "\n",
       "    .dataframe tbody tr th {\n",
       "        vertical-align: top;\n",
       "    }\n",
       "</style>\n",
       "<table border=\"1\" class=\"dataframe\">\n",
       "  <thead>\n",
       "    <tr style=\"text-align: right;\">\n",
       "      <th></th>\n",
       "      <th>actorScore</th>\n",
       "    </tr>\n",
       "    <tr>\n",
       "      <th>shanten</th>\n",
       "      <th></th>\n",
       "    </tr>\n",
       "  </thead>\n",
       "  <tbody>\n",
       "    <tr>\n",
       "      <th>-1</th>\n",
       "      <td>268.461538</td>\n",
       "    </tr>\n",
       "    <tr>\n",
       "      <th>0</th>\n",
       "      <td>256.262716</td>\n",
       "    </tr>\n",
       "    <tr>\n",
       "      <th>1</th>\n",
       "      <td>256.219681</td>\n",
       "    </tr>\n",
       "    <tr>\n",
       "      <th>2</th>\n",
       "      <td>256.760984</td>\n",
       "    </tr>\n",
       "    <tr>\n",
       "      <th>3</th>\n",
       "      <td>255.907828</td>\n",
       "    </tr>\n",
       "    <tr>\n",
       "      <th>4</th>\n",
       "      <td>254.505552</td>\n",
       "    </tr>\n",
       "    <tr>\n",
       "      <th>5</th>\n",
       "      <td>256.682947</td>\n",
       "    </tr>\n",
       "    <tr>\n",
       "      <th>6</th>\n",
       "      <td>262.991453</td>\n",
       "    </tr>\n",
       "  </tbody>\n",
       "</table>\n",
       "</div>"
      ],
      "text/plain": [
       "         actorScore\n",
       "shanten            \n",
       "-1       268.461538\n",
       " 0       256.262716\n",
       " 1       256.219681\n",
       " 2       256.760984\n",
       " 3       255.907828\n",
       " 4       254.505552\n",
       " 5       256.682947\n",
       " 6       262.991453"
      ]
     },
     "execution_count": 68,
     "metadata": {},
     "output_type": "execute_result"
    }
   ],
   "source": [
    "dfDiscards[[\"shanten\",\"actorScore\"]].groupby(\"shanten\").mean()"
   ]
  },
  {
   "cell_type": "markdown",
   "metadata": {},
   "source": [
    "## <font color=green>Alright so not the most complete EDA, but definitely some useful stuff here.  I need to do much more.  I'm tired and I'm gonna stop it here for now, and in the morning I'll get this together in the way necessary and send it over.</font>"
   ]
  },
  {
   "cell_type": "code",
   "execution_count": null,
   "metadata": {
    "collapsed": true
   },
   "outputs": [],
   "source": []
  },
  {
   "cell_type": "markdown",
   "metadata": {},
   "source": [
    "### So I have returned and now I want to take the bits that I have and see how well models are able to predict shanten.  Maybe we bucket the shanten into [0 and 1 shanten] vs [other shanten] and we just ignore the -1 outliers."
   ]
  },
  {
   "cell_type": "code",
   "execution_count": null,
   "metadata": {
    "collapsed": true
   },
   "outputs": [],
   "source": []
  },
  {
   "cell_type": "code",
   "execution_count": 69,
   "metadata": {},
   "outputs": [
    {
     "data": {
      "text/plain": [
       "array(['gameLogID', 'lobby', 'moveType', 'unconvertedTile',\n",
       "       'convertedTile', 'discDrawn', 'handNumber', 'moveNumber',\n",
       "       'roundWind', 'roundNumber', 'bonusSticks',\n",
       "       'unconvertedDoraIndicator', 'convertedDoraIndicator',\n",
       "       'convertedDora', 'actorWind', 'actorRating', 'rightRating',\n",
       "       'acrossRating', 'leftRating', 'actorRank', 'rightRank',\n",
       "       'acrossRank', 'leftRank', 'actorScore', 'rightScore', 'acrossScore',\n",
       "       'leftScore', 'actorHandConverted', 'actorHandUnconverted',\n",
       "       'rightHandConverted', 'rightHandUnconverted', 'acrossHandConverted',\n",
       "       'acrossHandUnconverted', 'leftHandConverted', 'leftHandUnconverted',\n",
       "       'actorUnconvertedPond', 'actorConvertedPond',\n",
       "       'rightUnconvertedPond', 'rightConvertedPond',\n",
       "       'acrossUnconvertedPond', 'acrossConvertedPond',\n",
       "       'leftUnconvertedPond', 'leftConvertedPond', 'actorReachStatus',\n",
       "       'rightReachStatus', 'acrossReachStatus', 'leftReachStatus',\n",
       "       'actorIsOpen', 'rightIsOpen', 'acrossIsOpen', 'leftIsOpen',\n",
       "       'actorOpenTiles', 'rightOpenTiles', 'acrossOpenTiles',\n",
       "       'leftOpenTiles', 'actorPondCount', 'rightPondCount',\n",
       "       'acrossPondCount', 'leftPondCount', 'whosTurn',\n",
       "       'shantenEngineeringColumn', 'shanten', 'actorPondDist5',\n",
       "       'actor_pd5_All', 'actor_pd5_3', 'actor_pd5_4', 'actor_pd5_5',\n",
       "       'actor_pd5_6', 'actor_pd5_7', 'actorOpenMeldCount'], dtype=object)"
      ]
     },
     "execution_count": 69,
     "metadata": {},
     "output_type": "execute_result"
    }
   ],
   "source": [
    "dfDiscards.columns.values"
   ]
  },
  {
   "cell_type": "code",
   "execution_count": 70,
   "metadata": {
    "collapsed": true
   },
   "outputs": [],
   "source": [
    "X = dfDiscards[['actor_pd5_5','actorOpenMeldCount','moveNumber','handNumber']]\n",
    "y = dfDiscards[\"shanten\"]"
   ]
  },
  {
   "cell_type": "code",
   "execution_count": 71,
   "metadata": {
    "collapsed": true
   },
   "outputs": [],
   "source": [
    "from sklearn.ensemble import RandomForestClassifier\n",
    "from sklearn.tree import DecisionTreeClassifier\n",
    "from sklearn.model_selection import cross_val_score, KFold\n",
    "from sklearn.model_selection import train_test_split"
   ]
  },
  {
   "cell_type": "code",
   "execution_count": 72,
   "metadata": {
    "collapsed": true
   },
   "outputs": [],
   "source": [
    "X_train, X_test, y_train, y_test = train_test_split(X, y, test_size=0.25, random_state=42)"
   ]
  },
  {
   "cell_type": "code",
   "execution_count": 73,
   "metadata": {
    "collapsed": true
   },
   "outputs": [],
   "source": [
    "dtc = DecisionTreeClassifier()"
   ]
  },
  {
   "cell_type": "code",
   "execution_count": 74,
   "metadata": {},
   "outputs": [
    {
     "name": "stdout",
     "output_type": "stream",
     "text": [
      "0.39086942787\n",
      "0.0010028335672\n",
      "[ 0.39269817  0.39059765  0.3896669   0.39046714  0.39091728]\n"
     ]
    }
   ],
   "source": [
    "kf = KFold(n_splits=5,shuffle=True,random_state=42)\n",
    "scores = cross_val_score(dtc,X_train,y_train,cv=kf)\n",
    "print(np.mean(scores))\n",
    "print(np.std(scores))\n",
    "print(scores)"
   ]
  },
  {
   "cell_type": "code",
   "execution_count": 75,
   "metadata": {},
   "outputs": [
    {
     "data": {
      "text/plain": [
       " 2    40035\n",
       " 1    36685\n",
       " 3    26841\n",
       " 0    17852\n",
       " 4     9366\n",
       " 5     2375\n",
       " 6      117\n",
       "-1       26\n",
       "Name: shanten, dtype: int64"
      ]
     },
     "execution_count": 75,
     "metadata": {},
     "output_type": "execute_result"
    }
   ],
   "source": [
    "dfDiscards[\"shanten\"].value_counts()"
   ]
  },
  {
   "cell_type": "code",
   "execution_count": 76,
   "metadata": {},
   "outputs": [
    {
     "name": "stdout",
     "output_type": "stream",
     "text": [
      "('baseline', 0.30258875369285465)\n",
      "('basic dtc', 0.39086942787012147)\n"
     ]
    }
   ],
   "source": [
    "print(\"baseline\",6043./(6043+5519+3964+2848+1295+282+11+9))\n",
    "print(\"basic dtc\",np.mean(scores))"
   ]
  },
  {
   "cell_type": "code",
   "execution_count": 77,
   "metadata": {
    "collapsed": true
   },
   "outputs": [],
   "source": [
    "rfc = RandomForestClassifier()"
   ]
  },
  {
   "cell_type": "code",
   "execution_count": 78,
   "metadata": {},
   "outputs": [
    {
     "name": "stdout",
     "output_type": "stream",
     "text": [
      "0.391179504889\n",
      "0.0018562337148\n",
      "[ 0.39369842  0.3911978   0.38946684  0.39271782  0.38881664]\n"
     ]
    }
   ],
   "source": [
    "kf = KFold(n_splits=5,shuffle=True,random_state=42)\n",
    "scores = cross_val_score(rfc,X_train,y_train,cv=kf)\n",
    "print(np.mean(scores))\n",
    "print(np.std(scores))\n",
    "print(scores)"
   ]
  },
  {
   "cell_type": "code",
   "execution_count": 79,
   "metadata": {},
   "outputs": [
    {
     "name": "stderr",
     "output_type": "stream",
     "text": [
      "/home/tpeach/anaconda2/lib/python2.7/site-packages/sklearn/cross_validation.py:44: DeprecationWarning: This module was deprecated in version 0.18 in favor of the model_selection module into which all the refactored classes and functions are moved. Also note that the interface of the new CV iterators are different from that of this module. This module will be removed in 0.20.\n",
      "  \"This module will be removed in 0.20.\", DeprecationWarning)\n",
      "/home/tpeach/anaconda2/lib/python2.7/site-packages/sklearn/grid_search.py:43: DeprecationWarning: This module was deprecated in version 0.18 in favor of the model_selection module into which all the refactored classes and functions are moved. This module will be removed in 0.20.\n",
      "  DeprecationWarning)\n"
     ]
    }
   ],
   "source": [
    "from sklearn.grid_search import GridSearchCV"
   ]
  },
  {
   "cell_type": "code",
   "execution_count": 80,
   "metadata": {
    "collapsed": true
   },
   "outputs": [],
   "source": [
    "# paramz = {\n",
    "#     \"n_estimators\":[5,11,15,21,51,101],\n",
    "#     \"max_depth\":[3,5,7,9,None]\n",
    "# }\n",
    "\n",
    "# gscv = GridSearchCV(rfc,paramz)\n",
    "# bestForest = gscv.fit(X_train,y_train)\n",
    "# bestForest.best_params_"
   ]
  },
  {
   "cell_type": "code",
   "execution_count": 81,
   "metadata": {
    "collapsed": true
   },
   "outputs": [],
   "source": [
    "# kf = KFold(n_splits=5,shuffle=True,random_state=42)\n",
    "# scores = cross_val_score(bestForest.best_estimator_,X_train,y_train,cv=kf)\n",
    "# print(np.mean(scores))\n",
    "# print(np.std(scores))\n",
    "# print(scores)"
   ]
  },
  {
   "cell_type": "code",
   "execution_count": 82,
   "metadata": {
    "collapsed": true
   },
   "outputs": [],
   "source": [
    "#preds = bestForest.best_estimator_.predict(X_test)"
   ]
  },
  {
   "cell_type": "code",
   "execution_count": 83,
   "metadata": {},
   "outputs": [
    {
     "data": {
      "text/plain": [
       "numpy.ndarray"
      ]
     },
     "execution_count": 83,
     "metadata": {},
     "output_type": "execute_result"
    }
   ],
   "source": [
    "type(y_test.values)"
   ]
  },
  {
   "cell_type": "markdown",
   "metadata": {},
   "source": [
    "### Random forests are really good o_o."
   ]
  },
  {
   "cell_type": "code",
   "execution_count": 84,
   "metadata": {
    "collapsed": true
   },
   "outputs": [],
   "source": [
    "# def averageDifference(y_true,y_pred):\n",
    "#     movingSum = 0\n",
    "#     n = len(y_true)\n",
    "#     for i in range(len(y_true)):\n",
    "#         movingSum += abs(y_true[i] - y_pred[i])\n",
    "#     return float(movingSum)/n"
   ]
  },
  {
   "cell_type": "code",
   "execution_count": 85,
   "metadata": {
    "collapsed": true
   },
   "outputs": [],
   "source": [
    "# print(averageDifference(y_test.values,preds))"
   ]
  },
  {
   "cell_type": "markdown",
   "metadata": {},
   "source": [
    "### So on average it isn't off by much.  It's not guessing randomly."
   ]
  },
  {
   "cell_type": "code",
   "execution_count": 86,
   "metadata": {
    "collapsed": true
   },
   "outputs": [],
   "source": [
    "# nuDf = pd.DataFrame()"
   ]
  },
  {
   "cell_type": "code",
   "execution_count": 87,
   "metadata": {
    "collapsed": true
   },
   "outputs": [],
   "source": [
    "# nuDf[\"preds\"] = preds"
   ]
  },
  {
   "cell_type": "code",
   "execution_count": 88,
   "metadata": {
    "collapsed": true
   },
   "outputs": [],
   "source": [
    "# nuDf[\"preds\"].value_counts()"
   ]
  },
  {
   "cell_type": "code",
   "execution_count": 89,
   "metadata": {},
   "outputs": [
    {
     "data": {
      "text/plain": [
       " 2    10064\n",
       " 1     9168\n",
       " 3     6647\n",
       " 0     4458\n",
       " 4     2368\n",
       " 5      574\n",
       " 6       37\n",
       "-1        9\n",
       "Name: shanten, dtype: int64"
      ]
     },
     "execution_count": 89,
     "metadata": {},
     "output_type": "execute_result"
    }
   ],
   "source": [
    "y_test.value_counts()"
   ]
  },
  {
   "cell_type": "markdown",
   "metadata": {},
   "source": [
    "### I wanna convert the shanten column to \"tenpai\" and \"not tenpai\""
   ]
  },
  {
   "cell_type": "code",
   "execution_count": 90,
   "metadata": {},
   "outputs": [
    {
     "data": {
      "text/plain": [
       "1         3\n",
       "3         2\n",
       "5         5\n",
       "7         3\n",
       "9         3\n",
       "11        2\n",
       "13        5\n",
       "15        2\n",
       "17        2\n",
       "19        2\n",
       "21        5\n",
       "23        3\n",
       "25        2\n",
       "27        1\n",
       "29        5\n",
       "31        3\n",
       "33        2\n",
       "35        1\n",
       "37        4\n",
       "39        2\n",
       "41        2\n",
       "43        1\n",
       "45        4\n",
       "47        2\n",
       "49        2\n",
       "51        2\n",
       "53        3\n",
       "55        1\n",
       "57        1\n",
       "59        1\n",
       "         ..\n",
       "269943    2\n",
       "269945    3\n",
       "269947    3\n",
       "269949    2\n",
       "269951    2\n",
       "269953    3\n",
       "269955    2\n",
       "269957    2\n",
       "269959    2\n",
       "269961    2\n",
       "269963    1\n",
       "269965    2\n",
       "269967    3\n",
       "269969    1\n",
       "269971    1\n",
       "269973    2\n",
       "269975    3\n",
       "269977    2\n",
       "269979    1\n",
       "269981    2\n",
       "269983    3\n",
       "269985    1\n",
       "269988    0\n",
       "269990    1\n",
       "269992    2\n",
       "269994    1\n",
       "269996    0\n",
       "269998    2\n",
       "270000    2\n",
       "270002    2\n",
       "Name: shanten, Length: 133297, dtype: int64"
      ]
     },
     "execution_count": 90,
     "metadata": {},
     "output_type": "execute_result"
    }
   ],
   "source": [
    "dfDiscards[\"shanten\"]"
   ]
  },
  {
   "cell_type": "code",
   "execution_count": 91,
   "metadata": {},
   "outputs": [
    {
     "name": "stderr",
     "output_type": "stream",
     "text": [
      "/home/tpeach/anaconda2/lib/python2.7/site-packages/ipykernel_launcher.py:7: SettingWithCopyWarning: \n",
      "A value is trying to be set on a copy of a slice from a DataFrame.\n",
      "Try using .loc[row_indexer,col_indexer] = value instead\n",
      "\n",
      "See the caveats in the documentation: http://pandas.pydata.org/pandas-docs/stable/indexing.html#indexing-view-versus-copy\n",
      "  import sys\n"
     ]
    }
   ],
   "source": [
    "vvv = dfDiscards[\"shanten\"].copy().values\n",
    "for i in range(len(vvv)):\n",
    "    if vvv[i] == 0 or vvv[i] == -1:\n",
    "        vvv[i] = 1\n",
    "    else:\n",
    "        vvv[i] = 0\n",
    "dfDiscards[\"isTenpai\"] = vvv"
   ]
  },
  {
   "cell_type": "code",
   "execution_count": 92,
   "metadata": {},
   "outputs": [
    {
     "data": {
      "text/plain": [
       "0    115419\n",
       "1     17878\n",
       "Name: isTenpai, dtype: int64"
      ]
     },
     "execution_count": 92,
     "metadata": {},
     "output_type": "execute_result"
    }
   ],
   "source": [
    "dfDiscards[\"isTenpai\"].value_counts()"
   ]
  },
  {
   "cell_type": "code",
   "execution_count": 93,
   "metadata": {},
   "outputs": [
    {
     "name": "stdout",
     "output_type": "stream",
     "text": [
      "('baseline', 0.8568424215111913)\n"
     ]
    }
   ],
   "source": [
    "print(\"baseline\",17112./(17112+2859))"
   ]
  },
  {
   "cell_type": "code",
   "execution_count": 94,
   "metadata": {
    "collapsed": true
   },
   "outputs": [],
   "source": [
    "rfc = RandomForestClassifier()"
   ]
  },
  {
   "cell_type": "code",
   "execution_count": 95,
   "metadata": {
    "collapsed": true
   },
   "outputs": [],
   "source": [
    "X = dfDiscards[['actor_pd5_5','actorOpenMeldCount','moveNumber','handNumber']]\n",
    "y = dfDiscards[\"isTenpai\"]\n",
    "X_train, X_test, y_train, y_test = train_test_split(X, y, test_size=0.25, random_state=42)"
   ]
  },
  {
   "cell_type": "code",
   "execution_count": 96,
   "metadata": {
    "collapsed": true
   },
   "outputs": [],
   "source": [
    "#X_train, X_test, y_train, y_test = train_test_split(X, y, test_size=0.25, random_state=42)"
   ]
  },
  {
   "cell_type": "code",
   "execution_count": 97,
   "metadata": {},
   "outputs": [
    {
     "name": "stdout",
     "output_type": "stream",
     "text": [
      "0.848967693059\n",
      "0.00306044657984\n",
      "[ 0.85091273  0.8488122   0.84555367  0.84590377  0.8536561 ]\n"
     ]
    }
   ],
   "source": [
    "kf = KFold(n_splits=5,shuffle=True,random_state=42)\n",
    "scores = cross_val_score(rfc,X_train,y_train,cv=kf)\n",
    "print(np.mean(scores))\n",
    "print(np.std(scores))\n",
    "print(scores)"
   ]
  },
  {
   "cell_type": "code",
   "execution_count": 98,
   "metadata": {
    "collapsed": true
   },
   "outputs": [],
   "source": [
    "# paramz = {\n",
    "#     \"n_estimators\":[5,11,15,21,51,101],\n",
    "#     \"max_depth\":[3,5,7,9,None]\n",
    "# }\n",
    "\n",
    "# gscv = GridSearchCV(rfc,paramz)\n",
    "# bestForest = gscv.fit(X_train,y_train)"
   ]
  },
  {
   "cell_type": "code",
   "execution_count": null,
   "metadata": {
    "collapsed": true
   },
   "outputs": [],
   "source": []
  },
  {
   "cell_type": "code",
   "execution_count": 99,
   "metadata": {
    "collapsed": true
   },
   "outputs": [],
   "source": [
    "# kf = KFold(n_splits=5,shuffle=True,random_state=42)\n",
    "# scores = cross_val_score(bestForest.best_estimator_,X_train,y_train,cv=kf)\n",
    "# print(np.mean(scores))\n",
    "# print(np.std(scores))\n",
    "# print(scores)"
   ]
  },
  {
   "cell_type": "code",
   "execution_count": 100,
   "metadata": {
    "collapsed": true
   },
   "outputs": [],
   "source": [
    "# bestForest.best_estimator_.feature_importances_"
   ]
  },
  {
   "cell_type": "code",
   "execution_count": 101,
   "metadata": {
    "collapsed": true
   },
   "outputs": [],
   "source": [
    "# bestForest.best_params_"
   ]
  },
  {
   "cell_type": "markdown",
   "metadata": {},
   "source": [
    "### So this is overwhelmingly saying \"how late it is in the hand is very important.\""
   ]
  },
  {
   "cell_type": "markdown",
   "metadata": {},
   "source": [
    "### This means I should probably just use how many discards a person has made, because that is what is actually contributing to this."
   ]
  },
  {
   "cell_type": "code",
   "execution_count": 102,
   "metadata": {
    "collapsed": true
   },
   "outputs": [],
   "source": [
    "#dfDiscards[\"actorPondCount\"].value_counts()"
   ]
  },
  {
   "cell_type": "code",
   "execution_count": 103,
   "metadata": {
    "collapsed": true
   },
   "outputs": [],
   "source": [
    "#dfDiscards.groupby(\"actorPondCount\")"
   ]
  },
  {
   "cell_type": "code",
   "execution_count": 104,
   "metadata": {},
   "outputs": [
    {
     "data": {
      "text/html": [
       "<div>\n",
       "<style>\n",
       "    .dataframe thead tr:only-child th {\n",
       "        text-align: right;\n",
       "    }\n",
       "\n",
       "    .dataframe thead th {\n",
       "        text-align: left;\n",
       "    }\n",
       "\n",
       "    .dataframe tbody tr th {\n",
       "        vertical-align: top;\n",
       "    }\n",
       "</style>\n",
       "<table border=\"1\" class=\"dataframe\">\n",
       "  <thead>\n",
       "    <tr style=\"text-align: right;\">\n",
       "      <th></th>\n",
       "      <th>gameLogID</th>\n",
       "      <th>lobby</th>\n",
       "      <th>moveType</th>\n",
       "      <th>unconvertedTile</th>\n",
       "      <th>convertedTile</th>\n",
       "      <th>discDrawn</th>\n",
       "      <th>handNumber</th>\n",
       "      <th>moveNumber</th>\n",
       "      <th>roundWind</th>\n",
       "      <th>roundNumber</th>\n",
       "      <th>...</th>\n",
       "      <th>shanten</th>\n",
       "      <th>actorPondDist5</th>\n",
       "      <th>actor_pd5_All</th>\n",
       "      <th>actor_pd5_3</th>\n",
       "      <th>actor_pd5_4</th>\n",
       "      <th>actor_pd5_5</th>\n",
       "      <th>actor_pd5_6</th>\n",
       "      <th>actor_pd5_7</th>\n",
       "      <th>actorOpenMeldCount</th>\n",
       "      <th>isTenpai</th>\n",
       "    </tr>\n",
       "  </thead>\n",
       "  <tbody>\n",
       "    <tr>\n",
       "      <th>1</th>\n",
       "      <td>2009040602gm-0009-0000-d3ee8e03</td>\n",
       "      <td>main</td>\n",
       "      <td>discard</td>\n",
       "      <td>113</td>\n",
       "      <td>70</td>\n",
       "      <td>[0]</td>\n",
       "      <td>1</td>\n",
       "      <td>2</td>\n",
       "      <td>east</td>\n",
       "      <td>1</td>\n",
       "      <td>...</td>\n",
       "      <td>3</td>\n",
       "      <td>[4]</td>\n",
       "      <td>4.000000</td>\n",
       "      <td>4.000000</td>\n",
       "      <td>4.000000</td>\n",
       "      <td>4.000000</td>\n",
       "      <td>4.000000</td>\n",
       "      <td>4.000000</td>\n",
       "      <td>0</td>\n",
       "      <td>0</td>\n",
       "    </tr>\n",
       "    <tr>\n",
       "      <th>3</th>\n",
       "      <td>2009040602gm-0009-0000-d3ee8e03</td>\n",
       "      <td>main</td>\n",
       "      <td>discard</td>\n",
       "      <td>71</td>\n",
       "      <td>29</td>\n",
       "      <td>[0]</td>\n",
       "      <td>1</td>\n",
       "      <td>4</td>\n",
       "      <td>east</td>\n",
       "      <td>1</td>\n",
       "      <td>...</td>\n",
       "      <td>2</td>\n",
       "      <td>[4]</td>\n",
       "      <td>4.000000</td>\n",
       "      <td>4.000000</td>\n",
       "      <td>4.000000</td>\n",
       "      <td>4.000000</td>\n",
       "      <td>4.000000</td>\n",
       "      <td>4.000000</td>\n",
       "      <td>0</td>\n",
       "      <td>0</td>\n",
       "    </tr>\n",
       "    <tr>\n",
       "      <th>5</th>\n",
       "      <td>2009040602gm-0009-0000-d3ee8e03</td>\n",
       "      <td>main</td>\n",
       "      <td>discard</td>\n",
       "      <td>34</td>\n",
       "      <td>9</td>\n",
       "      <td>[0]</td>\n",
       "      <td>1</td>\n",
       "      <td>6</td>\n",
       "      <td>east</td>\n",
       "      <td>1</td>\n",
       "      <td>...</td>\n",
       "      <td>5</td>\n",
       "      <td>[4]</td>\n",
       "      <td>4.000000</td>\n",
       "      <td>4.000000</td>\n",
       "      <td>4.000000</td>\n",
       "      <td>4.000000</td>\n",
       "      <td>4.000000</td>\n",
       "      <td>4.000000</td>\n",
       "      <td>0</td>\n",
       "      <td>0</td>\n",
       "    </tr>\n",
       "    <tr>\n",
       "      <th>7</th>\n",
       "      <td>2009040602gm-0009-0000-d3ee8e03</td>\n",
       "      <td>main</td>\n",
       "      <td>discard</td>\n",
       "      <td>1</td>\n",
       "      <td>1</td>\n",
       "      <td>[0]</td>\n",
       "      <td>1</td>\n",
       "      <td>8</td>\n",
       "      <td>east</td>\n",
       "      <td>1</td>\n",
       "      <td>...</td>\n",
       "      <td>3</td>\n",
       "      <td>[4]</td>\n",
       "      <td>4.000000</td>\n",
       "      <td>4.000000</td>\n",
       "      <td>4.000000</td>\n",
       "      <td>4.000000</td>\n",
       "      <td>4.000000</td>\n",
       "      <td>4.000000</td>\n",
       "      <td>0</td>\n",
       "      <td>0</td>\n",
       "    </tr>\n",
       "    <tr>\n",
       "      <th>9</th>\n",
       "      <td>2009040602gm-0009-0000-d3ee8e03</td>\n",
       "      <td>main</td>\n",
       "      <td>discard</td>\n",
       "      <td>111</td>\n",
       "      <td>60</td>\n",
       "      <td>[0, 0]</td>\n",
       "      <td>1</td>\n",
       "      <td>10</td>\n",
       "      <td>east</td>\n",
       "      <td>1</td>\n",
       "      <td>...</td>\n",
       "      <td>3</td>\n",
       "      <td>[4, 4]</td>\n",
       "      <td>4.000000</td>\n",
       "      <td>4.000000</td>\n",
       "      <td>4.000000</td>\n",
       "      <td>4.000000</td>\n",
       "      <td>4.000000</td>\n",
       "      <td>4.000000</td>\n",
       "      <td>0</td>\n",
       "      <td>0</td>\n",
       "    </tr>\n",
       "    <tr>\n",
       "      <th>11</th>\n",
       "      <td>2009040602gm-0009-0000-d3ee8e03</td>\n",
       "      <td>main</td>\n",
       "      <td>discard</td>\n",
       "      <td>133</td>\n",
       "      <td>120</td>\n",
       "      <td>[0, 0]</td>\n",
       "      <td>1</td>\n",
       "      <td>12</td>\n",
       "      <td>east</td>\n",
       "      <td>1</td>\n",
       "      <td>...</td>\n",
       "      <td>2</td>\n",
       "      <td>[4, 4]</td>\n",
       "      <td>4.000000</td>\n",
       "      <td>4.000000</td>\n",
       "      <td>4.000000</td>\n",
       "      <td>4.000000</td>\n",
       "      <td>4.000000</td>\n",
       "      <td>4.000000</td>\n",
       "      <td>1</td>\n",
       "      <td>0</td>\n",
       "    </tr>\n",
       "    <tr>\n",
       "      <th>13</th>\n",
       "      <td>2009040602gm-0009-0000-d3ee8e03</td>\n",
       "      <td>main</td>\n",
       "      <td>discard</td>\n",
       "      <td>2</td>\n",
       "      <td>1</td>\n",
       "      <td>[0, 0]</td>\n",
       "      <td>1</td>\n",
       "      <td>14</td>\n",
       "      <td>east</td>\n",
       "      <td>1</td>\n",
       "      <td>...</td>\n",
       "      <td>5</td>\n",
       "      <td>[4, 4]</td>\n",
       "      <td>4.000000</td>\n",
       "      <td>4.000000</td>\n",
       "      <td>4.000000</td>\n",
       "      <td>4.000000</td>\n",
       "      <td>4.000000</td>\n",
       "      <td>4.000000</td>\n",
       "      <td>0</td>\n",
       "      <td>0</td>\n",
       "    </tr>\n",
       "    <tr>\n",
       "      <th>15</th>\n",
       "      <td>2009040602gm-0009-0000-d3ee8e03</td>\n",
       "      <td>main</td>\n",
       "      <td>discard</td>\n",
       "      <td>105</td>\n",
       "      <td>49</td>\n",
       "      <td>[0, 0]</td>\n",
       "      <td>1</td>\n",
       "      <td>16</td>\n",
       "      <td>east</td>\n",
       "      <td>1</td>\n",
       "      <td>...</td>\n",
       "      <td>2</td>\n",
       "      <td>[4, 4]</td>\n",
       "      <td>4.000000</td>\n",
       "      <td>4.000000</td>\n",
       "      <td>4.000000</td>\n",
       "      <td>4.000000</td>\n",
       "      <td>4.000000</td>\n",
       "      <td>4.000000</td>\n",
       "      <td>0</td>\n",
       "      <td>0</td>\n",
       "    </tr>\n",
       "    <tr>\n",
       "      <th>17</th>\n",
       "      <td>2009040602gm-0009-0000-d3ee8e03</td>\n",
       "      <td>main</td>\n",
       "      <td>discard</td>\n",
       "      <td>33</td>\n",
       "      <td>9</td>\n",
       "      <td>[0, 0, 0]</td>\n",
       "      <td>1</td>\n",
       "      <td>18</td>\n",
       "      <td>east</td>\n",
       "      <td>1</td>\n",
       "      <td>...</td>\n",
       "      <td>2</td>\n",
       "      <td>[4, 4, 4]</td>\n",
       "      <td>4.000000</td>\n",
       "      <td>4.000000</td>\n",
       "      <td>4.000000</td>\n",
       "      <td>4.000000</td>\n",
       "      <td>4.000000</td>\n",
       "      <td>4.000000</td>\n",
       "      <td>0</td>\n",
       "      <td>0</td>\n",
       "    </tr>\n",
       "    <tr>\n",
       "      <th>19</th>\n",
       "      <td>2009040602gm-0009-0000-d3ee8e03</td>\n",
       "      <td>main</td>\n",
       "      <td>discard</td>\n",
       "      <td>128</td>\n",
       "      <td>110</td>\n",
       "      <td>[0, 0, 0]</td>\n",
       "      <td>1</td>\n",
       "      <td>20</td>\n",
       "      <td>east</td>\n",
       "      <td>1</td>\n",
       "      <td>...</td>\n",
       "      <td>2</td>\n",
       "      <td>[4, 4, 4]</td>\n",
       "      <td>4.000000</td>\n",
       "      <td>4.000000</td>\n",
       "      <td>4.000000</td>\n",
       "      <td>4.000000</td>\n",
       "      <td>4.000000</td>\n",
       "      <td>4.000000</td>\n",
       "      <td>1</td>\n",
       "      <td>0</td>\n",
       "    </tr>\n",
       "    <tr>\n",
       "      <th>21</th>\n",
       "      <td>2009040602gm-0009-0000-d3ee8e03</td>\n",
       "      <td>main</td>\n",
       "      <td>discard</td>\n",
       "      <td>29</td>\n",
       "      <td>8</td>\n",
       "      <td>[0, 0, 1]</td>\n",
       "      <td>1</td>\n",
       "      <td>22</td>\n",
       "      <td>east</td>\n",
       "      <td>1</td>\n",
       "      <td>...</td>\n",
       "      <td>5</td>\n",
       "      <td>[4, 4, 3]</td>\n",
       "      <td>3.666667</td>\n",
       "      <td>3.666667</td>\n",
       "      <td>3.666667</td>\n",
       "      <td>3.666667</td>\n",
       "      <td>3.666667</td>\n",
       "      <td>3.666667</td>\n",
       "      <td>0</td>\n",
       "      <td>0</td>\n",
       "    </tr>\n",
       "    <tr>\n",
       "      <th>23</th>\n",
       "      <td>2009040602gm-0009-0000-d3ee8e03</td>\n",
       "      <td>main</td>\n",
       "      <td>discard</td>\n",
       "      <td>110</td>\n",
       "      <td>60</td>\n",
       "      <td>[0, 0, 0]</td>\n",
       "      <td>1</td>\n",
       "      <td>24</td>\n",
       "      <td>east</td>\n",
       "      <td>1</td>\n",
       "      <td>...</td>\n",
       "      <td>3</td>\n",
       "      <td>[4, 4, 4]</td>\n",
       "      <td>4.000000</td>\n",
       "      <td>4.000000</td>\n",
       "      <td>4.000000</td>\n",
       "      <td>4.000000</td>\n",
       "      <td>4.000000</td>\n",
       "      <td>4.000000</td>\n",
       "      <td>0</td>\n",
       "      <td>0</td>\n",
       "    </tr>\n",
       "    <tr>\n",
       "      <th>25</th>\n",
       "      <td>2009040602gm-0009-0000-d3ee8e03</td>\n",
       "      <td>main</td>\n",
       "      <td>discard</td>\n",
       "      <td>28</td>\n",
       "      <td>8</td>\n",
       "      <td>[0, 0, 0, 0]</td>\n",
       "      <td>1</td>\n",
       "      <td>26</td>\n",
       "      <td>east</td>\n",
       "      <td>1</td>\n",
       "      <td>...</td>\n",
       "      <td>2</td>\n",
       "      <td>[4, 4, 4, 3]</td>\n",
       "      <td>3.750000</td>\n",
       "      <td>3.666667</td>\n",
       "      <td>3.750000</td>\n",
       "      <td>3.750000</td>\n",
       "      <td>3.750000</td>\n",
       "      <td>3.750000</td>\n",
       "      <td>0</td>\n",
       "      <td>0</td>\n",
       "    </tr>\n",
       "    <tr>\n",
       "      <th>27</th>\n",
       "      <td>2009040602gm-0009-0000-d3ee8e03</td>\n",
       "      <td>main</td>\n",
       "      <td>discard</td>\n",
       "      <td>23</td>\n",
       "      <td>6</td>\n",
       "      <td>[0, 0, 0, 0]</td>\n",
       "      <td>1</td>\n",
       "      <td>28</td>\n",
       "      <td>east</td>\n",
       "      <td>1</td>\n",
       "      <td>...</td>\n",
       "      <td>1</td>\n",
       "      <td>[4, 4, 4, 1]</td>\n",
       "      <td>3.250000</td>\n",
       "      <td>3.000000</td>\n",
       "      <td>3.250000</td>\n",
       "      <td>3.250000</td>\n",
       "      <td>3.250000</td>\n",
       "      <td>3.250000</td>\n",
       "      <td>1</td>\n",
       "      <td>0</td>\n",
       "    </tr>\n",
       "    <tr>\n",
       "      <th>29</th>\n",
       "      <td>2009040602gm-0009-0000-d3ee8e03</td>\n",
       "      <td>main</td>\n",
       "      <td>discard</td>\n",
       "      <td>73</td>\n",
       "      <td>41</td>\n",
       "      <td>[0, 0, 1, 1]</td>\n",
       "      <td>1</td>\n",
       "      <td>30</td>\n",
       "      <td>east</td>\n",
       "      <td>1</td>\n",
       "      <td>...</td>\n",
       "      <td>5</td>\n",
       "      <td>[4, 4, 3, 4]</td>\n",
       "      <td>3.750000</td>\n",
       "      <td>3.666667</td>\n",
       "      <td>3.750000</td>\n",
       "      <td>3.750000</td>\n",
       "      <td>3.750000</td>\n",
       "      <td>3.750000</td>\n",
       "      <td>0</td>\n",
       "      <td>0</td>\n",
       "    </tr>\n",
       "    <tr>\n",
       "      <th>31</th>\n",
       "      <td>2009040602gm-0009-0000-d3ee8e03</td>\n",
       "      <td>main</td>\n",
       "      <td>discard</td>\n",
       "      <td>69</td>\n",
       "      <td>29</td>\n",
       "      <td>[0, 0, 0, 0]</td>\n",
       "      <td>1</td>\n",
       "      <td>32</td>\n",
       "      <td>east</td>\n",
       "      <td>1</td>\n",
       "      <td>...</td>\n",
       "      <td>3</td>\n",
       "      <td>[4, 4, 4, 4]</td>\n",
       "      <td>4.000000</td>\n",
       "      <td>4.000000</td>\n",
       "      <td>4.000000</td>\n",
       "      <td>4.000000</td>\n",
       "      <td>4.000000</td>\n",
       "      <td>4.000000</td>\n",
       "      <td>0</td>\n",
       "      <td>0</td>\n",
       "    </tr>\n",
       "    <tr>\n",
       "      <th>33</th>\n",
       "      <td>2009040602gm-0009-0000-d3ee8e03</td>\n",
       "      <td>main</td>\n",
       "      <td>discard</td>\n",
       "      <td>24</td>\n",
       "      <td>7</td>\n",
       "      <td>[0, 0, 0, 0, 1]</td>\n",
       "      <td>1</td>\n",
       "      <td>34</td>\n",
       "      <td>east</td>\n",
       "      <td>1</td>\n",
       "      <td>...</td>\n",
       "      <td>2</td>\n",
       "      <td>[4, 4, 4, 3, 2]</td>\n",
       "      <td>3.400000</td>\n",
       "      <td>3.000000</td>\n",
       "      <td>3.250000</td>\n",
       "      <td>3.400000</td>\n",
       "      <td>3.400000</td>\n",
       "      <td>3.400000</td>\n",
       "      <td>0</td>\n",
       "      <td>0</td>\n",
       "    </tr>\n",
       "    <tr>\n",
       "      <th>35</th>\n",
       "      <td>2009040602gm-0009-0000-d3ee8e03</td>\n",
       "      <td>main</td>\n",
       "      <td>discard</td>\n",
       "      <td>53</td>\n",
       "      <td>25</td>\n",
       "      <td>[0, 0, 0, 0, 0]</td>\n",
       "      <td>1</td>\n",
       "      <td>36</td>\n",
       "      <td>east</td>\n",
       "      <td>1</td>\n",
       "      <td>...</td>\n",
       "      <td>1</td>\n",
       "      <td>[4, 4, 4, 1, 0]</td>\n",
       "      <td>2.600000</td>\n",
       "      <td>1.666667</td>\n",
       "      <td>2.250000</td>\n",
       "      <td>2.600000</td>\n",
       "      <td>2.600000</td>\n",
       "      <td>2.600000</td>\n",
       "      <td>1</td>\n",
       "      <td>0</td>\n",
       "    </tr>\n",
       "    <tr>\n",
       "      <th>37</th>\n",
       "      <td>2009040602gm-0009-0000-d3ee8e03</td>\n",
       "      <td>main</td>\n",
       "      <td>discard</td>\n",
       "      <td>38</td>\n",
       "      <td>21</td>\n",
       "      <td>[0, 0, 1, 1, 0]</td>\n",
       "      <td>1</td>\n",
       "      <td>38</td>\n",
       "      <td>east</td>\n",
       "      <td>1</td>\n",
       "      <td>...</td>\n",
       "      <td>4</td>\n",
       "      <td>[4, 4, 3, 4, 4]</td>\n",
       "      <td>3.800000</td>\n",
       "      <td>3.666667</td>\n",
       "      <td>3.750000</td>\n",
       "      <td>3.800000</td>\n",
       "      <td>3.800000</td>\n",
       "      <td>3.800000</td>\n",
       "      <td>0</td>\n",
       "      <td>0</td>\n",
       "    </tr>\n",
       "    <tr>\n",
       "      <th>39</th>\n",
       "      <td>2009040602gm-0009-0000-d3ee8e03</td>\n",
       "      <td>main</td>\n",
       "      <td>discard</td>\n",
       "      <td>123</td>\n",
       "      <td>90</td>\n",
       "      <td>[0, 0, 0, 0, 0]</td>\n",
       "      <td>1</td>\n",
       "      <td>40</td>\n",
       "      <td>east</td>\n",
       "      <td>1</td>\n",
       "      <td>...</td>\n",
       "      <td>2</td>\n",
       "      <td>[4, 4, 4, 4, 4]</td>\n",
       "      <td>4.000000</td>\n",
       "      <td>4.000000</td>\n",
       "      <td>4.000000</td>\n",
       "      <td>4.000000</td>\n",
       "      <td>4.000000</td>\n",
       "      <td>4.000000</td>\n",
       "      <td>0</td>\n",
       "      <td>0</td>\n",
       "    </tr>\n",
       "  </tbody>\n",
       "</table>\n",
       "<p>20 rows × 71 columns</p>\n",
       "</div>"
      ],
      "text/plain": [
       "                          gameLogID lobby moveType  unconvertedTile  \\\n",
       "1   2009040602gm-0009-0000-d3ee8e03  main  discard              113   \n",
       "3   2009040602gm-0009-0000-d3ee8e03  main  discard               71   \n",
       "5   2009040602gm-0009-0000-d3ee8e03  main  discard               34   \n",
       "7   2009040602gm-0009-0000-d3ee8e03  main  discard                1   \n",
       "9   2009040602gm-0009-0000-d3ee8e03  main  discard              111   \n",
       "11  2009040602gm-0009-0000-d3ee8e03  main  discard              133   \n",
       "13  2009040602gm-0009-0000-d3ee8e03  main  discard                2   \n",
       "15  2009040602gm-0009-0000-d3ee8e03  main  discard              105   \n",
       "17  2009040602gm-0009-0000-d3ee8e03  main  discard               33   \n",
       "19  2009040602gm-0009-0000-d3ee8e03  main  discard              128   \n",
       "21  2009040602gm-0009-0000-d3ee8e03  main  discard               29   \n",
       "23  2009040602gm-0009-0000-d3ee8e03  main  discard              110   \n",
       "25  2009040602gm-0009-0000-d3ee8e03  main  discard               28   \n",
       "27  2009040602gm-0009-0000-d3ee8e03  main  discard               23   \n",
       "29  2009040602gm-0009-0000-d3ee8e03  main  discard               73   \n",
       "31  2009040602gm-0009-0000-d3ee8e03  main  discard               69   \n",
       "33  2009040602gm-0009-0000-d3ee8e03  main  discard               24   \n",
       "35  2009040602gm-0009-0000-d3ee8e03  main  discard               53   \n",
       "37  2009040602gm-0009-0000-d3ee8e03  main  discard               38   \n",
       "39  2009040602gm-0009-0000-d3ee8e03  main  discard              123   \n",
       "\n",
       "    convertedTile        discDrawn  handNumber  moveNumber roundWind  \\\n",
       "1              70              [0]           1           2      east   \n",
       "3              29              [0]           1           4      east   \n",
       "5               9              [0]           1           6      east   \n",
       "7               1              [0]           1           8      east   \n",
       "9              60           [0, 0]           1          10      east   \n",
       "11            120           [0, 0]           1          12      east   \n",
       "13              1           [0, 0]           1          14      east   \n",
       "15             49           [0, 0]           1          16      east   \n",
       "17              9        [0, 0, 0]           1          18      east   \n",
       "19            110        [0, 0, 0]           1          20      east   \n",
       "21              8        [0, 0, 1]           1          22      east   \n",
       "23             60        [0, 0, 0]           1          24      east   \n",
       "25              8     [0, 0, 0, 0]           1          26      east   \n",
       "27              6     [0, 0, 0, 0]           1          28      east   \n",
       "29             41     [0, 0, 1, 1]           1          30      east   \n",
       "31             29     [0, 0, 0, 0]           1          32      east   \n",
       "33              7  [0, 0, 0, 0, 1]           1          34      east   \n",
       "35             25  [0, 0, 0, 0, 0]           1          36      east   \n",
       "37             21  [0, 0, 1, 1, 0]           1          38      east   \n",
       "39             90  [0, 0, 0, 0, 0]           1          40      east   \n",
       "\n",
       "    roundNumber    ...     shanten   actorPondDist5 actor_pd5_All actor_pd5_3  \\\n",
       "1             1    ...           3              [4]      4.000000    4.000000   \n",
       "3             1    ...           2              [4]      4.000000    4.000000   \n",
       "5             1    ...           5              [4]      4.000000    4.000000   \n",
       "7             1    ...           3              [4]      4.000000    4.000000   \n",
       "9             1    ...           3           [4, 4]      4.000000    4.000000   \n",
       "11            1    ...           2           [4, 4]      4.000000    4.000000   \n",
       "13            1    ...           5           [4, 4]      4.000000    4.000000   \n",
       "15            1    ...           2           [4, 4]      4.000000    4.000000   \n",
       "17            1    ...           2        [4, 4, 4]      4.000000    4.000000   \n",
       "19            1    ...           2        [4, 4, 4]      4.000000    4.000000   \n",
       "21            1    ...           5        [4, 4, 3]      3.666667    3.666667   \n",
       "23            1    ...           3        [4, 4, 4]      4.000000    4.000000   \n",
       "25            1    ...           2     [4, 4, 4, 3]      3.750000    3.666667   \n",
       "27            1    ...           1     [4, 4, 4, 1]      3.250000    3.000000   \n",
       "29            1    ...           5     [4, 4, 3, 4]      3.750000    3.666667   \n",
       "31            1    ...           3     [4, 4, 4, 4]      4.000000    4.000000   \n",
       "33            1    ...           2  [4, 4, 4, 3, 2]      3.400000    3.000000   \n",
       "35            1    ...           1  [4, 4, 4, 1, 0]      2.600000    1.666667   \n",
       "37            1    ...           4  [4, 4, 3, 4, 4]      3.800000    3.666667   \n",
       "39            1    ...           2  [4, 4, 4, 4, 4]      4.000000    4.000000   \n",
       "\n",
       "    actor_pd5_4  actor_pd5_5  actor_pd5_6  actor_pd5_7  actorOpenMeldCount  \\\n",
       "1      4.000000     4.000000     4.000000     4.000000                   0   \n",
       "3      4.000000     4.000000     4.000000     4.000000                   0   \n",
       "5      4.000000     4.000000     4.000000     4.000000                   0   \n",
       "7      4.000000     4.000000     4.000000     4.000000                   0   \n",
       "9      4.000000     4.000000     4.000000     4.000000                   0   \n",
       "11     4.000000     4.000000     4.000000     4.000000                   1   \n",
       "13     4.000000     4.000000     4.000000     4.000000                   0   \n",
       "15     4.000000     4.000000     4.000000     4.000000                   0   \n",
       "17     4.000000     4.000000     4.000000     4.000000                   0   \n",
       "19     4.000000     4.000000     4.000000     4.000000                   1   \n",
       "21     3.666667     3.666667     3.666667     3.666667                   0   \n",
       "23     4.000000     4.000000     4.000000     4.000000                   0   \n",
       "25     3.750000     3.750000     3.750000     3.750000                   0   \n",
       "27     3.250000     3.250000     3.250000     3.250000                   1   \n",
       "29     3.750000     3.750000     3.750000     3.750000                   0   \n",
       "31     4.000000     4.000000     4.000000     4.000000                   0   \n",
       "33     3.250000     3.400000     3.400000     3.400000                   0   \n",
       "35     2.250000     2.600000     2.600000     2.600000                   1   \n",
       "37     3.750000     3.800000     3.800000     3.800000                   0   \n",
       "39     4.000000     4.000000     4.000000     4.000000                   0   \n",
       "\n",
       "    isTenpai  \n",
       "1          0  \n",
       "3          0  \n",
       "5          0  \n",
       "7          0  \n",
       "9          0  \n",
       "11         0  \n",
       "13         0  \n",
       "15         0  \n",
       "17         0  \n",
       "19         0  \n",
       "21         0  \n",
       "23         0  \n",
       "25         0  \n",
       "27         0  \n",
       "29         0  \n",
       "31         0  \n",
       "33         0  \n",
       "35         0  \n",
       "37         0  \n",
       "39         0  \n",
       "\n",
       "[20 rows x 71 columns]"
      ]
     },
     "execution_count": 104,
     "metadata": {},
     "output_type": "execute_result"
    }
   ],
   "source": [
    "dfDiscards.head(20)"
   ]
  },
  {
   "cell_type": "code",
   "execution_count": 105,
   "metadata": {},
   "outputs": [
    {
     "data": {
      "text/plain": [
       "shanten\n",
       "-1    13.461538\n",
       " 0    10.914127\n",
       " 1     8.838299\n",
       " 2     6.312601\n",
       " 3     4.177527\n",
       " 4     3.046765\n",
       " 5     4.093474\n",
       " 6     6.641026\n",
       "Name: actorPondCount, dtype: float64"
      ]
     },
     "execution_count": 105,
     "metadata": {},
     "output_type": "execute_result"
    }
   ],
   "source": [
    "dfDiscards.groupby(\"shanten\").mean()[\"actorPondCount\"]"
   ]
  },
  {
   "cell_type": "code",
   "execution_count": 106,
   "metadata": {},
   "outputs": [
    {
     "data": {
      "text/plain": [
       "[<matplotlib.lines.Line2D at 0x7f66a87545d0>]"
      ]
     },
     "execution_count": 106,
     "metadata": {},
     "output_type": "execute_result"
    },
    {
     "data": {
      "image/png": "[encoded data removed]",
      "text/plain": [
       "<matplotlib.figure.Figure at 0x7f66a877da50>"
      ]
     },
     "metadata": {},
     "output_type": "display_data"
    }
   ],
   "source": [
    "plt.plot(dfDiscards.groupby(\"shanten\").mean()[\"actorPondCount\"])"
   ]
  },
  {
   "cell_type": "code",
   "execution_count": 107,
   "metadata": {},
   "outputs": [
    {
     "name": "stdout",
     "output_type": "stream",
     "text": [
      "0.867893009063\n",
      "0.0014819465053\n",
      "[ 0.868017    0.86786697  0.86580974  0.86736021  0.87041112]\n"
     ]
    }
   ],
   "source": [
    "X = dfDiscards[['actor_pd5_5','actorOpenMeldCount',\"actorPondCount\"]]\n",
    "y = dfDiscards[\"isTenpai\"]\n",
    "X_train, X_test, y_train, y_test = train_test_split(X, y, test_size=0.25, random_state=42)\n",
    "rfc = RandomForestClassifier()\n",
    "kf = KFold(n_splits=5,shuffle=True,random_state=42)\n",
    "scores = cross_val_score(rfc,X_train,y_train,cv=kf)\n",
    "print(np.mean(scores))\n",
    "print(np.std(scores))\n",
    "print(scores)"
   ]
  },
  {
   "cell_type": "code",
   "execution_count": 108,
   "metadata": {
    "collapsed": true
   },
   "outputs": [],
   "source": [
    "# paramz = {\n",
    "#     \"n_estimators\":[5,11,15,21,51,101],\n",
    "#     \"max_depth\":[3,5,7,9,None]\n",
    "# }\n",
    "\n",
    "# gscv = GridSearchCV(rfc,paramz)\n",
    "# bestForest = gscv.fit(X_train,y_train)"
   ]
  },
  {
   "cell_type": "code",
   "execution_count": 109,
   "metadata": {
    "collapsed": true
   },
   "outputs": [],
   "source": [
    "# kf = KFold(n_splits=5,shuffle=True,random_state=42)\n",
    "# scores = cross_val_score(gscv.best_estimator_,X_train,y_train,cv=kf)\n",
    "# print(np.mean(scores))\n",
    "# print(np.std(scores))\n",
    "# print(scores)"
   ]
  },
  {
   "cell_type": "code",
   "execution_count": 110,
   "metadata": {
    "collapsed": true
   },
   "outputs": [],
   "source": [
    "#gscv.best_params_"
   ]
  },
  {
   "cell_type": "code",
   "execution_count": 111,
   "metadata": {
    "collapsed": true
   },
   "outputs": [],
   "source": [
    "#gscv.best_estimator_.feature_importances_"
   ]
  },
  {
   "cell_type": "code",
   "execution_count": 112,
   "metadata": {
    "collapsed": true
   },
   "outputs": [],
   "source": [
    "#dfDiscards[['actor_pd5_5','actorOpenMeldCount',\"actorPondCount\",\"shanten\"]].corr()"
   ]
  },
  {
   "cell_type": "code",
   "execution_count": 113,
   "metadata": {
    "collapsed": true
   },
   "outputs": [],
   "source": [
    "#dfDiscards.info()"
   ]
  },
  {
   "cell_type": "markdown",
   "metadata": {},
   "source": [
    "actorOpenMeldCount was object somehow"
   ]
  },
  {
   "cell_type": "code",
   "execution_count": 114,
   "metadata": {},
   "outputs": [
    {
     "name": "stderr",
     "output_type": "stream",
     "text": [
      "/home/tpeach/anaconda2/lib/python2.7/site-packages/ipykernel_launcher.py:1: SettingWithCopyWarning: \n",
      "A value is trying to be set on a copy of a slice from a DataFrame.\n",
      "Try using .loc[row_indexer,col_indexer] = value instead\n",
      "\n",
      "See the caveats in the documentation: http://pandas.pydata.org/pandas-docs/stable/indexing.html#indexing-view-versus-copy\n",
      "  \"\"\"Entry point for launching an IPython kernel.\n"
     ]
    }
   ],
   "source": [
    "dfDiscards['actorOpenMeldCount'] = dfDiscards['actorOpenMeldCount'].astype(int)"
   ]
  },
  {
   "cell_type": "code",
   "execution_count": 115,
   "metadata": {
    "collapsed": true
   },
   "outputs": [],
   "source": [
    "#dfDiscards.info()"
   ]
  },
  {
   "cell_type": "code",
   "execution_count": 116,
   "metadata": {},
   "outputs": [
    {
     "data": {
      "text/html": [
       "<div>\n",
       "<style>\n",
       "    .dataframe thead tr:only-child th {\n",
       "        text-align: right;\n",
       "    }\n",
       "\n",
       "    .dataframe thead th {\n",
       "        text-align: left;\n",
       "    }\n",
       "\n",
       "    .dataframe tbody tr th {\n",
       "        vertical-align: top;\n",
       "    }\n",
       "</style>\n",
       "<table border=\"1\" class=\"dataframe\">\n",
       "  <thead>\n",
       "    <tr style=\"text-align: right;\">\n",
       "      <th></th>\n",
       "      <th>actor_pd5_5</th>\n",
       "      <th>actorOpenMeldCount</th>\n",
       "      <th>actorPondCount</th>\n",
       "    </tr>\n",
       "  </thead>\n",
       "  <tbody>\n",
       "    <tr>\n",
       "      <th>actor_pd5_5</th>\n",
       "      <td>1.000000</td>\n",
       "      <td>-0.247689</td>\n",
       "      <td>-0.404175</td>\n",
       "    </tr>\n",
       "    <tr>\n",
       "      <th>actorOpenMeldCount</th>\n",
       "      <td>-0.247689</td>\n",
       "      <td>1.000000</td>\n",
       "      <td>0.300584</td>\n",
       "    </tr>\n",
       "    <tr>\n",
       "      <th>actorPondCount</th>\n",
       "      <td>-0.404175</td>\n",
       "      <td>0.300584</td>\n",
       "      <td>1.000000</td>\n",
       "    </tr>\n",
       "  </tbody>\n",
       "</table>\n",
       "</div>"
      ],
      "text/plain": [
       "                    actor_pd5_5  actorOpenMeldCount  actorPondCount\n",
       "actor_pd5_5            1.000000           -0.247689       -0.404175\n",
       "actorOpenMeldCount    -0.247689            1.000000        0.300584\n",
       "actorPondCount        -0.404175            0.300584        1.000000"
      ]
     },
     "execution_count": 116,
     "metadata": {},
     "output_type": "execute_result"
    }
   ],
   "source": [
    "dfDiscards[['actor_pd5_5','actorOpenMeldCount',\"actorPondCount\"]].corr()"
   ]
  },
  {
   "cell_type": "code",
   "execution_count": 117,
   "metadata": {
    "collapsed": true
   },
   "outputs": [],
   "source": [
    "from sklearn.decomposition import PCA"
   ]
  },
  {
   "cell_type": "code",
   "execution_count": 118,
   "metadata": {
    "collapsed": true
   },
   "outputs": [],
   "source": [
    "pca = PCA(n_components=3)"
   ]
  },
  {
   "cell_type": "code",
   "execution_count": 119,
   "metadata": {
    "collapsed": true
   },
   "outputs": [],
   "source": [
    "X = dfDiscards[['actor_pd5_5','actorOpenMeldCount',\"actorPondCount\"]]\n",
    "y = dfDiscards[\"isTenpai\"]"
   ]
  },
  {
   "cell_type": "code",
   "execution_count": 120,
   "metadata": {
    "collapsed": true
   },
   "outputs": [],
   "source": [
    "X = pca.fit_transform(X)"
   ]
  },
  {
   "cell_type": "code",
   "execution_count": 121,
   "metadata": {
    "collapsed": true
   },
   "outputs": [],
   "source": [
    "#X_train, X_test, y_train, y_test = train_test_split(X, y, test_size=0.25, random_state=42)"
   ]
  },
  {
   "cell_type": "code",
   "execution_count": 122,
   "metadata": {
    "collapsed": true
   },
   "outputs": [],
   "source": [
    "# paramz = {\n",
    "#     \"n_estimators\":[5,11,15,21,51,101],\n",
    "#     \"max_depth\":[3,5,7,9,None]\n",
    "# }\n",
    "\n",
    "# gscv = GridSearchCV(rfc,paramz)\n",
    "# bestForest = gscv.fit(X_train,y_train)"
   ]
  },
  {
   "cell_type": "code",
   "execution_count": 123,
   "metadata": {
    "collapsed": true
   },
   "outputs": [],
   "source": [
    "# kf = KFold(n_splits=5,shuffle=True,random_state=42)\n",
    "# scores = cross_val_score(bestForest.best_estimator_,X_train,y_train,cv=kf)\n",
    "# print(np.mean(scores))\n",
    "# print(np.std(scores))\n",
    "# print(scores)"
   ]
  },
  {
   "cell_type": "markdown",
   "metadata": {},
   "source": [
    "### No difference as a result of pca (colinearity reduction.) because RandomForests don't care about that. Oops."
   ]
  },
  {
   "cell_type": "code",
   "execution_count": 124,
   "metadata": {},
   "outputs": [
    {
     "data": {
      "text/plain": [
       "actorPondCount\n",
       "0     3.240602\n",
       "1     3.196276\n",
       "2     2.852918\n",
       "3     2.551697\n",
       "4     2.266578\n",
       "5     2.025171\n",
       "6     1.825269\n",
       "7     1.641435\n",
       "8     1.472275\n",
       "9     1.322467\n",
       "10    1.217611\n",
       "11    1.128323\n",
       "12    1.046423\n",
       "13    0.972252\n",
       "14    0.925876\n",
       "15    0.893902\n",
       "16    0.871077\n",
       "17    0.865926\n",
       "18    0.795082\n",
       "19    0.561983\n",
       "20    0.200000\n",
       "Name: shanten, dtype: float64"
      ]
     },
     "execution_count": 124,
     "metadata": {},
     "output_type": "execute_result"
    }
   ],
   "source": [
    "dfDiscards.groupby(\"actorPondCount\").mean()[\"shanten\"]"
   ]
  },
  {
   "cell_type": "code",
   "execution_count": 125,
   "metadata": {},
   "outputs": [
    {
     "data": {
      "text/plain": [
       "[<matplotlib.lines.Line2D at 0x7f66a6a262d0>]"
      ]
     },
     "execution_count": 125,
     "metadata": {},
     "output_type": "execute_result"
    },
    {
     "data": {
      "image/png": "[encoded data removed]",
      "text/plain": [
       "<matplotlib.figure.Figure at 0x7f66c16bb090>"
      ]
     },
     "metadata": {},
     "output_type": "display_data"
    }
   ],
   "source": [
    "plt.plot(dfDiscards.groupby(\"actorPondCount\").mean()[\"shanten\"])"
   ]
  },
  {
   "cell_type": "code",
   "execution_count": 126,
   "metadata": {},
   "outputs": [
    {
     "data": {
      "text/plain": [
       "Index([u'gameLogID', u'lobby', u'moveType', u'unconvertedTile',\n",
       "       u'convertedTile', u'discDrawn', u'handNumber', u'moveNumber',\n",
       "       u'roundWind', u'roundNumber', u'bonusSticks',\n",
       "       u'unconvertedDoraIndicator', u'convertedDoraIndicator',\n",
       "       u'convertedDora', u'actorWind', u'actorRating', u'rightRating',\n",
       "       u'acrossRating', u'leftRating', u'actorRank', u'rightRank',\n",
       "       u'acrossRank', u'leftRank', u'actorScore', u'rightScore',\n",
       "       u'acrossScore', u'leftScore', u'actorHandConverted',\n",
       "       u'actorHandUnconverted', u'rightHandConverted', u'rightHandUnconverted',\n",
       "       u'acrossHandConverted', u'acrossHandUnconverted', u'leftHandConverted',\n",
       "       u'leftHandUnconverted', u'actorUnconvertedPond', u'actorConvertedPond',\n",
       "       u'rightUnconvertedPond', u'rightConvertedPond',\n",
       "       u'acrossUnconvertedPond', u'acrossConvertedPond',\n",
       "       u'leftUnconvertedPond', u'leftConvertedPond', u'actorReachStatus',\n",
       "       u'rightReachStatus', u'acrossReachStatus', u'leftReachStatus',\n",
       "       u'actorIsOpen', u'rightIsOpen', u'acrossIsOpen', u'leftIsOpen',\n",
       "       u'actorOpenTiles', u'rightOpenTiles', u'acrossOpenTiles',\n",
       "       u'leftOpenTiles', u'actorPondCount', u'rightPondCount',\n",
       "       u'acrossPondCount', u'leftPondCount', u'whosTurn',\n",
       "       u'shantenEngineeringColumn', u'shanten', u'actorPondDist5',\n",
       "       u'actor_pd5_All', u'actor_pd5_3', u'actor_pd5_4', u'actor_pd5_5',\n",
       "       u'actor_pd5_6', u'actor_pd5_7', u'actorOpenMeldCount', u'isTenpai'],\n",
       "      dtype='object')"
      ]
     },
     "execution_count": 126,
     "metadata": {},
     "output_type": "execute_result"
    }
   ],
   "source": [
    "dfDiscards.columns"
   ]
  },
  {
   "cell_type": "code",
   "execution_count": 127,
   "metadata": {},
   "outputs": [
    {
     "name": "stderr",
     "output_type": "stream",
     "text": [
      "/home/tpeach/anaconda2/lib/python2.7/site-packages/ipykernel_launcher.py:1: UserWarning: Boolean Series key will be reindexed to match DataFrame index.\n",
      "  \"\"\"Entry point for launching an IPython kernel.\n"
     ]
    }
   ],
   "source": [
    "noReachDf = dfDiscards[dfDiscards['actorReachStatus']==0][dfDiscards['leftReachStatus']==0][dfDiscards['rightReachStatus']==0][dfDiscards['acrossReachStatus']==0]"
   ]
  },
  {
   "cell_type": "code",
   "execution_count": 128,
   "metadata": {
    "collapsed": true
   },
   "outputs": [],
   "source": [
    "#len(dfDiscards)"
   ]
  },
  {
   "cell_type": "code",
   "execution_count": null,
   "metadata": {
    "collapsed": true
   },
   "outputs": [],
   "source": []
  },
  {
   "cell_type": "code",
   "execution_count": 129,
   "metadata": {},
   "outputs": [
    {
     "data": {
      "text/plain": [
       "actorPondCount\n",
       "0     3.240602\n",
       "1     3.198325\n",
       "2     2.857913\n",
       "3     2.566007\n",
       "4     2.288860\n",
       "5     2.071593\n",
       "6     1.884030\n",
       "7     1.715673\n",
       "8     1.556919\n",
       "9     1.410861\n",
       "10    1.312790\n",
       "11    1.203815\n",
       "12    1.128291\n",
       "13    1.032465\n",
       "14    0.962484\n",
       "15    0.897138\n",
       "16    0.859494\n",
       "17    0.777555\n",
       "18    0.716049\n",
       "19    0.470588\n",
       "20    0.090909\n",
       "Name: shanten, dtype: float64"
      ]
     },
     "execution_count": 129,
     "metadata": {},
     "output_type": "execute_result"
    }
   ],
   "source": [
    "noReachDf.groupby(\"actorPondCount\").mean()[\"shanten\"]"
   ]
  },
  {
   "cell_type": "code",
   "execution_count": 130,
   "metadata": {},
   "outputs": [
    {
     "data": {
      "text/plain": [
       "shanten\n",
       "-1    2.736842\n",
       " 0    2.721707\n",
       " 1    3.045667\n",
       " 2    3.394542\n",
       " 3    3.611492\n",
       " 4    3.645682\n",
       " 5    3.567655\n",
       " 6    3.420213\n",
       "Name: actor_pd5_5, dtype: float64"
      ]
     },
     "execution_count": 130,
     "metadata": {},
     "output_type": "execute_result"
    }
   ],
   "source": [
    "noReachDf.groupby(\"shanten\").mean()[\"actor_pd5_5\"]"
   ]
  },
  {
   "cell_type": "markdown",
   "metadata": {},
   "source": [
    "# 3 very important thoughts:\n",
    "\n",
    "### 1) From seeing the EDA, and then reflecting about my own experience and knowledge of mahjong, it seems that all you can know is that someone is /close/ (1 away or 2 away) You can't really know if they're 1 away.  At least with this data.\n",
    "\n",
    "### 2) Relating to resolving this, I want to collect the data about \"Are they throwing away what they just drew\" -- and I really particularly would like to study this for weaker players because I believe there would be a difference, where at the high levels I feel like they would hide this.  I mean I know enough to hide it by throwing a tile from inside my hand rather than the one I just drew if I have the option.\n",
    "\n",
    "### 3) We do not have the data on how quickly people are getting rid of a tile after they draw.  I feel like the quicker someone is discarding, especially when they are also getting rid of mostly things they draw, the closer they are."
   ]
  },
  {
   "cell_type": "markdown",
   "metadata": {
    "collapsed": true
   },
   "source": [
    "## okay so I just retrieved the \"did he just discard what he drew\" column"
   ]
  },
  {
   "cell_type": "code",
   "execution_count": 131,
   "metadata": {},
   "outputs": [
    {
     "data": {
      "text/plain": [
       "Index([u'gameLogID', u'lobby', u'moveType', u'unconvertedTile',\n",
       "       u'convertedTile', u'discDrawn', u'handNumber', u'moveNumber',\n",
       "       u'roundWind', u'roundNumber', u'bonusSticks',\n",
       "       u'unconvertedDoraIndicator', u'convertedDoraIndicator',\n",
       "       u'convertedDora', u'actorWind', u'actorRating', u'rightRating',\n",
       "       u'acrossRating', u'leftRating', u'actorRank', u'rightRank',\n",
       "       u'acrossRank', u'leftRank', u'actorScore', u'rightScore',\n",
       "       u'acrossScore', u'leftScore', u'actorHandConverted',\n",
       "       u'actorHandUnconverted', u'rightHandConverted', u'rightHandUnconverted',\n",
       "       u'acrossHandConverted', u'acrossHandUnconverted', u'leftHandConverted',\n",
       "       u'leftHandUnconverted', u'actorUnconvertedPond', u'actorConvertedPond',\n",
       "       u'rightUnconvertedPond', u'rightConvertedPond',\n",
       "       u'acrossUnconvertedPond', u'acrossConvertedPond',\n",
       "       u'leftUnconvertedPond', u'leftConvertedPond', u'actorReachStatus',\n",
       "       u'rightReachStatus', u'acrossReachStatus', u'leftReachStatus',\n",
       "       u'actorIsOpen', u'rightIsOpen', u'acrossIsOpen', u'leftIsOpen',\n",
       "       u'actorOpenTiles', u'rightOpenTiles', u'acrossOpenTiles',\n",
       "       u'leftOpenTiles', u'actorPondCount', u'rightPondCount',\n",
       "       u'acrossPondCount', u'leftPondCount', u'whosTurn',\n",
       "       u'shantenEngineeringColumn', u'shanten', u'actorPondDist5',\n",
       "       u'actor_pd5_All', u'actor_pd5_3', u'actor_pd5_4', u'actor_pd5_5',\n",
       "       u'actor_pd5_6', u'actor_pd5_7', u'actorOpenMeldCount', u'isTenpai'],\n",
       "      dtype='object')"
      ]
     },
     "execution_count": 131,
     "metadata": {},
     "output_type": "execute_result"
    }
   ],
   "source": [
    "dfDiscards.columns"
   ]
  },
  {
   "cell_type": "code",
   "execution_count": 132,
   "metadata": {
    "collapsed": true
   },
   "outputs": [],
   "source": [
    "#noReachDf.columns"
   ]
  },
  {
   "cell_type": "code",
   "execution_count": 133,
   "metadata": {
    "collapsed": true
   },
   "outputs": [],
   "source": [
    "#noReachDf.groupby(\"discardedTheDraw\").mean()[\"shanten\"]"
   ]
  },
  {
   "cell_type": "code",
   "execution_count": 134,
   "metadata": {},
   "outputs": [
    {
     "data": {
      "text/plain": [
       "whosTurn\n",
       "0    2.077291\n",
       "1    2.065627\n",
       "2    2.035237\n",
       "3    2.051176\n",
       "Name: shanten, dtype: float64"
      ]
     },
     "execution_count": 134,
     "metadata": {},
     "output_type": "execute_result"
    }
   ],
   "source": [
    "noReachDf.groupby(\"whosTurn\").mean()[\"shanten\"]"
   ]
  },
  {
   "cell_type": "code",
   "execution_count": 135,
   "metadata": {
    "collapsed": true
   },
   "outputs": [],
   "source": [
    "#noReachDf[[\"actorScore\",\"leftScore\",'acrossScore','rightScore']].tail(20)\n",
    "# Score column doesn't work right now apparently. Oh well."
   ]
  },
  {
   "cell_type": "code",
   "execution_count": 136,
   "metadata": {
    "collapsed": true
   },
   "outputs": [],
   "source": [
    "#noReachDf.groupby([\"handNumber\",\"whosTurn\"]).mean()[\"shanten\"]"
   ]
  },
  {
   "cell_type": "code",
   "execution_count": 137,
   "metadata": {
    "collapsed": true
   },
   "outputs": [],
   "source": [
    "#noReachDf[noReachDf[\"whosTurn\"]==0]"
   ]
  },
  {
   "cell_type": "code",
   "execution_count": 138,
   "metadata": {
    "collapsed": true
   },
   "outputs": [],
   "source": [
    "#noReachDf[['gameLogID','handNumber','whosTurn', 'discardedTheDraw']].head()"
   ]
  },
  {
   "cell_type": "code",
   "execution_count": 139,
   "metadata": {
    "collapsed": true
   },
   "outputs": [],
   "source": [
    "#noReachDf[noReachDf[\"whosTurn\"]==0].head() #so this is one person's progression through each entire game."
   ]
  },
  {
   "cell_type": "markdown",
   "metadata": {
    "collapsed": true
   },
   "source": [
    "### added list of 0s and 1s for discards, where 0 if player did not discard what was drawn, and 1 is did discard drawn"
   ]
  },
  {
   "cell_type": "code",
   "execution_count": 140,
   "metadata": {},
   "outputs": [
    {
     "data": {
      "text/plain": [
       "'[0]'"
      ]
     },
     "execution_count": 140,
     "metadata": {},
     "output_type": "execute_result"
    }
   ],
   "source": [
    "noReachDf[\"discDrawn\"].values[0]"
   ]
  },
  {
   "cell_type": "code",
   "execution_count": 141,
   "metadata": {
    "collapsed": true
   },
   "outputs": [],
   "source": [
    "valx = noReachDf[\"discDrawn\"].copy().values\n",
    "\n",
    "for i in range(len(valx)):\n",
    "    valx[i] = valx[i].split(\"[\")[1].split(\"]\")[0].split(\",\")\n",
    "    for j in range(len(valx[i])):\n",
    "        valx[i][j] = int(valx[i][j])\n",
    "\n",
    "noReachDf[\"discDrawn\"] = valx"
   ]
  },
  {
   "cell_type": "code",
   "execution_count": 142,
   "metadata": {},
   "outputs": [
    {
     "data": {
      "text/plain": [
       "int"
      ]
     },
     "execution_count": 142,
     "metadata": {},
     "output_type": "execute_result"
    }
   ],
   "source": [
    "type(noReachDf[\"discDrawn\"].values[0][0])"
   ]
  },
  {
   "cell_type": "code",
   "execution_count": 143,
   "metadata": {},
   "outputs": [
    {
     "data": {
      "text/html": [
       "<div>\n",
       "<style>\n",
       "    .dataframe thead tr:only-child th {\n",
       "        text-align: right;\n",
       "    }\n",
       "\n",
       "    .dataframe thead th {\n",
       "        text-align: left;\n",
       "    }\n",
       "\n",
       "    .dataframe tbody tr th {\n",
       "        vertical-align: top;\n",
       "    }\n",
       "</style>\n",
       "<table border=\"1\" class=\"dataframe\">\n",
       "  <thead>\n",
       "    <tr style=\"text-align: right;\">\n",
       "      <th></th>\n",
       "      <th>gameLogID</th>\n",
       "      <th>lobby</th>\n",
       "      <th>moveType</th>\n",
       "      <th>unconvertedTile</th>\n",
       "      <th>convertedTile</th>\n",
       "      <th>discDrawn</th>\n",
       "      <th>handNumber</th>\n",
       "      <th>moveNumber</th>\n",
       "      <th>roundWind</th>\n",
       "      <th>roundNumber</th>\n",
       "      <th>...</th>\n",
       "      <th>shanten</th>\n",
       "      <th>actorPondDist5</th>\n",
       "      <th>actor_pd5_All</th>\n",
       "      <th>actor_pd5_3</th>\n",
       "      <th>actor_pd5_4</th>\n",
       "      <th>actor_pd5_5</th>\n",
       "      <th>actor_pd5_6</th>\n",
       "      <th>actor_pd5_7</th>\n",
       "      <th>actorOpenMeldCount</th>\n",
       "      <th>isTenpai</th>\n",
       "    </tr>\n",
       "  </thead>\n",
       "  <tbody>\n",
       "    <tr>\n",
       "      <th>1</th>\n",
       "      <td>2009040602gm-0009-0000-d3ee8e03</td>\n",
       "      <td>main</td>\n",
       "      <td>discard</td>\n",
       "      <td>113</td>\n",
       "      <td>70</td>\n",
       "      <td>[0]</td>\n",
       "      <td>1</td>\n",
       "      <td>2</td>\n",
       "      <td>east</td>\n",
       "      <td>1</td>\n",
       "      <td>...</td>\n",
       "      <td>3</td>\n",
       "      <td>[4]</td>\n",
       "      <td>4.0</td>\n",
       "      <td>4.0</td>\n",
       "      <td>4.0</td>\n",
       "      <td>4.0</td>\n",
       "      <td>4.0</td>\n",
       "      <td>4.0</td>\n",
       "      <td>0</td>\n",
       "      <td>0</td>\n",
       "    </tr>\n",
       "    <tr>\n",
       "      <th>3</th>\n",
       "      <td>2009040602gm-0009-0000-d3ee8e03</td>\n",
       "      <td>main</td>\n",
       "      <td>discard</td>\n",
       "      <td>71</td>\n",
       "      <td>29</td>\n",
       "      <td>[0]</td>\n",
       "      <td>1</td>\n",
       "      <td>4</td>\n",
       "      <td>east</td>\n",
       "      <td>1</td>\n",
       "      <td>...</td>\n",
       "      <td>2</td>\n",
       "      <td>[4]</td>\n",
       "      <td>4.0</td>\n",
       "      <td>4.0</td>\n",
       "      <td>4.0</td>\n",
       "      <td>4.0</td>\n",
       "      <td>4.0</td>\n",
       "      <td>4.0</td>\n",
       "      <td>0</td>\n",
       "      <td>0</td>\n",
       "    </tr>\n",
       "    <tr>\n",
       "      <th>5</th>\n",
       "      <td>2009040602gm-0009-0000-d3ee8e03</td>\n",
       "      <td>main</td>\n",
       "      <td>discard</td>\n",
       "      <td>34</td>\n",
       "      <td>9</td>\n",
       "      <td>[0]</td>\n",
       "      <td>1</td>\n",
       "      <td>6</td>\n",
       "      <td>east</td>\n",
       "      <td>1</td>\n",
       "      <td>...</td>\n",
       "      <td>5</td>\n",
       "      <td>[4]</td>\n",
       "      <td>4.0</td>\n",
       "      <td>4.0</td>\n",
       "      <td>4.0</td>\n",
       "      <td>4.0</td>\n",
       "      <td>4.0</td>\n",
       "      <td>4.0</td>\n",
       "      <td>0</td>\n",
       "      <td>0</td>\n",
       "    </tr>\n",
       "    <tr>\n",
       "      <th>7</th>\n",
       "      <td>2009040602gm-0009-0000-d3ee8e03</td>\n",
       "      <td>main</td>\n",
       "      <td>discard</td>\n",
       "      <td>1</td>\n",
       "      <td>1</td>\n",
       "      <td>[0]</td>\n",
       "      <td>1</td>\n",
       "      <td>8</td>\n",
       "      <td>east</td>\n",
       "      <td>1</td>\n",
       "      <td>...</td>\n",
       "      <td>3</td>\n",
       "      <td>[4]</td>\n",
       "      <td>4.0</td>\n",
       "      <td>4.0</td>\n",
       "      <td>4.0</td>\n",
       "      <td>4.0</td>\n",
       "      <td>4.0</td>\n",
       "      <td>4.0</td>\n",
       "      <td>0</td>\n",
       "      <td>0</td>\n",
       "    </tr>\n",
       "    <tr>\n",
       "      <th>9</th>\n",
       "      <td>2009040602gm-0009-0000-d3ee8e03</td>\n",
       "      <td>main</td>\n",
       "      <td>discard</td>\n",
       "      <td>111</td>\n",
       "      <td>60</td>\n",
       "      <td>[0, 0]</td>\n",
       "      <td>1</td>\n",
       "      <td>10</td>\n",
       "      <td>east</td>\n",
       "      <td>1</td>\n",
       "      <td>...</td>\n",
       "      <td>3</td>\n",
       "      <td>[4, 4]</td>\n",
       "      <td>4.0</td>\n",
       "      <td>4.0</td>\n",
       "      <td>4.0</td>\n",
       "      <td>4.0</td>\n",
       "      <td>4.0</td>\n",
       "      <td>4.0</td>\n",
       "      <td>0</td>\n",
       "      <td>0</td>\n",
       "    </tr>\n",
       "  </tbody>\n",
       "</table>\n",
       "<p>5 rows × 71 columns</p>\n",
       "</div>"
      ],
      "text/plain": [
       "                         gameLogID lobby moveType  unconvertedTile  \\\n",
       "1  2009040602gm-0009-0000-d3ee8e03  main  discard              113   \n",
       "3  2009040602gm-0009-0000-d3ee8e03  main  discard               71   \n",
       "5  2009040602gm-0009-0000-d3ee8e03  main  discard               34   \n",
       "7  2009040602gm-0009-0000-d3ee8e03  main  discard                1   \n",
       "9  2009040602gm-0009-0000-d3ee8e03  main  discard              111   \n",
       "\n",
       "   convertedTile discDrawn  handNumber  moveNumber roundWind  roundNumber  \\\n",
       "1             70       [0]           1           2      east            1   \n",
       "3             29       [0]           1           4      east            1   \n",
       "5              9       [0]           1           6      east            1   \n",
       "7              1       [0]           1           8      east            1   \n",
       "9             60    [0, 0]           1          10      east            1   \n",
       "\n",
       "     ...     shanten actorPondDist5 actor_pd5_All actor_pd5_3  actor_pd5_4  \\\n",
       "1    ...           3            [4]           4.0         4.0          4.0   \n",
       "3    ...           2            [4]           4.0         4.0          4.0   \n",
       "5    ...           5            [4]           4.0         4.0          4.0   \n",
       "7    ...           3            [4]           4.0         4.0          4.0   \n",
       "9    ...           3         [4, 4]           4.0         4.0          4.0   \n",
       "\n",
       "   actor_pd5_5  actor_pd5_6  actor_pd5_7  actorOpenMeldCount  isTenpai  \n",
       "1          4.0          4.0          4.0                   0         0  \n",
       "3          4.0          4.0          4.0                   0         0  \n",
       "5          4.0          4.0          4.0                   0         0  \n",
       "7          4.0          4.0          4.0                   0         0  \n",
       "9          4.0          4.0          4.0                   0         0  \n",
       "\n",
       "[5 rows x 71 columns]"
      ]
     },
     "execution_count": 143,
     "metadata": {},
     "output_type": "execute_result"
    }
   ],
   "source": [
    "noReachDf.head()"
   ]
  },
  {
   "cell_type": "code",
   "execution_count": 144,
   "metadata": {
    "collapsed": true
   },
   "outputs": [],
   "source": [
    "def averageDiscDrawCols(df,n):\n",
    "    '''makes columns for average of 0 or 1 where they represent whether or not someone discarded the tile they drew.'''\n",
    "    valx = 0\n",
    "    valx = noReachDf[\"discDrawn\"].copy().values\n",
    "    for i in range(len(valx)):\n",
    "        #print(valx[i])\n",
    "        valx[i] = sum(valx[i][-n::])/float(n)\n",
    "        #print(valx[i])\n",
    "    return valx\n",
    "        "
   ]
  },
  {
   "cell_type": "code",
   "execution_count": 145,
   "metadata": {
    "collapsed": true
   },
   "outputs": [],
   "source": [
    "\n",
    "for i in range(3,8):\n",
    "    colString = \"avgDDL\" + str(i)\n",
    "    noReachDf[colString] = averageDiscDrawCols(noReachDf,i)"
   ]
  },
  {
   "cell_type": "code",
   "execution_count": 146,
   "metadata": {
    "collapsed": true
   },
   "outputs": [],
   "source": [
    "for i in range(3,8):\n",
    "    colString = \"avgDDL\" + str(i)\n",
    "    noReachDf[colString] = noReachDf[colString].astype(float)"
   ]
  },
  {
   "cell_type": "code",
   "execution_count": 147,
   "metadata": {
    "collapsed": true
   },
   "outputs": [],
   "source": [
    "noReachDf[\"avgDDAll\"] = averageDiscDrawCols(noReachDf,40)\n",
    "noReachDf[\"avgDDAll\"] = noReachDf[\"avgDDAll\"].astype(float)"
   ]
  },
  {
   "cell_type": "code",
   "execution_count": 148,
   "metadata": {},
   "outputs": [
    {
     "name": "stdout",
     "output_type": "stream",
     "text": [
      "<class 'pandas.core.frame.DataFrame'>\n",
      "Int64Index: 106133 entries, 1 to 269985\n",
      "Data columns (total 77 columns):\n",
      "gameLogID                   106133 non-null object\n",
      "lobby                       106133 non-null object\n",
      "moveType                    106133 non-null object\n",
      "unconvertedTile             106133 non-null int64\n",
      "convertedTile               106133 non-null int64\n",
      "discDrawn                   106133 non-null object\n",
      "handNumber                  106133 non-null int64\n",
      "moveNumber                  106133 non-null int64\n",
      "roundWind                   106133 non-null object\n",
      "roundNumber                 106133 non-null int64\n",
      "bonusSticks                 106133 non-null int64\n",
      "unconvertedDoraIndicator    106133 non-null object\n",
      "convertedDoraIndicator      106133 non-null object\n",
      "convertedDora               106133 non-null object\n",
      "actorWind                   106133 non-null int64\n",
      "actorRating                 106133 non-null float64\n",
      "rightRating                 106133 non-null float64\n",
      "acrossRating                106133 non-null float64\n",
      "leftRating                  106133 non-null float64\n",
      "actorRank                   106133 non-null int64\n",
      "rightRank                   106133 non-null int64\n",
      "acrossRank                  106133 non-null int64\n",
      "leftRank                    106133 non-null int64\n",
      "actorScore                  106133 non-null int64\n",
      "rightScore                  106133 non-null int64\n",
      "acrossScore                 106133 non-null int64\n",
      "leftScore                   106133 non-null int64\n",
      "actorHandConverted          106133 non-null object\n",
      "actorHandUnconverted        106133 non-null object\n",
      "rightHandConverted          106133 non-null object\n",
      "rightHandUnconverted        106133 non-null object\n",
      "acrossHandConverted         106133 non-null object\n",
      "acrossHandUnconverted       106133 non-null object\n",
      "leftHandConverted           106133 non-null object\n",
      "leftHandUnconverted         106133 non-null object\n",
      "actorUnconvertedPond        106133 non-null object\n",
      "actorConvertedPond          106133 non-null object\n",
      "rightUnconvertedPond        106133 non-null object\n",
      "rightConvertedPond          106133 non-null object\n",
      "acrossUnconvertedPond       106133 non-null object\n",
      "acrossConvertedPond         106133 non-null object\n",
      "leftUnconvertedPond         106133 non-null object\n",
      "leftConvertedPond           106133 non-null object\n",
      "actorReachStatus            106133 non-null int64\n",
      "rightReachStatus            106133 non-null int64\n",
      "acrossReachStatus           106133 non-null int64\n",
      "leftReachStatus             106133 non-null int64\n",
      "actorIsOpen                 106133 non-null int64\n",
      "rightIsOpen                 106133 non-null int64\n",
      "acrossIsOpen                106133 non-null int64\n",
      "leftIsOpen                  106133 non-null int64\n",
      "actorOpenTiles              106133 non-null object\n",
      "rightOpenTiles              106133 non-null object\n",
      "acrossOpenTiles             106133 non-null object\n",
      "leftOpenTiles               106133 non-null object\n",
      "actorPondCount              106133 non-null int64\n",
      "rightPondCount              106133 non-null int64\n",
      "acrossPondCount             106133 non-null int64\n",
      "leftPondCount               106133 non-null int64\n",
      "whosTurn                    106133 non-null int64\n",
      "shantenEngineeringColumn    106133 non-null object\n",
      "shanten                     106133 non-null int64\n",
      "actorPondDist5              106133 non-null object\n",
      "actor_pd5_All               106133 non-null float64\n",
      "actor_pd5_3                 106133 non-null float64\n",
      "actor_pd5_4                 106133 non-null float64\n",
      "actor_pd5_5                 106133 non-null float64\n",
      "actor_pd5_6                 106133 non-null float64\n",
      "actor_pd5_7                 106133 non-null float64\n",
      "actorOpenMeldCount          106133 non-null int64\n",
      "isTenpai                    106133 non-null int64\n",
      "avgDDL3                     106133 non-null float64\n",
      "avgDDL4                     106133 non-null float64\n",
      "avgDDL5                     106133 non-null float64\n",
      "avgDDL6                     106133 non-null float64\n",
      "avgDDL7                     106133 non-null float64\n",
      "avgDDAll                    106133 non-null float64\n",
      "dtypes: float64(16), int64(31), object(30)\n",
      "memory usage: 63.2+ MB\n"
     ]
    }
   ],
   "source": [
    "noReachDf.info()"
   ]
  },
  {
   "cell_type": "code",
   "execution_count": 149,
   "metadata": {},
   "outputs": [
    {
     "data": {
      "text/html": [
       "<div>\n",
       "<style>\n",
       "    .dataframe thead tr:only-child th {\n",
       "        text-align: right;\n",
       "    }\n",
       "\n",
       "    .dataframe thead th {\n",
       "        text-align: left;\n",
       "    }\n",
       "\n",
       "    .dataframe tbody tr th {\n",
       "        vertical-align: top;\n",
       "    }\n",
       "</style>\n",
       "<table border=\"1\" class=\"dataframe\">\n",
       "  <thead>\n",
       "    <tr style=\"text-align: right;\">\n",
       "      <th></th>\n",
       "      <th>avgDDL3</th>\n",
       "      <th>avgDDL4</th>\n",
       "      <th>avgDDL5</th>\n",
       "      <th>avgDDL6</th>\n",
       "      <th>avgDDL7</th>\n",
       "      <th>avgDDAll</th>\n",
       "    </tr>\n",
       "    <tr>\n",
       "      <th>shanten</th>\n",
       "      <th></th>\n",
       "      <th></th>\n",
       "      <th></th>\n",
       "      <th></th>\n",
       "      <th></th>\n",
       "      <th></th>\n",
       "    </tr>\n",
       "  </thead>\n",
       "  <tbody>\n",
       "    <tr>\n",
       "      <th>-1</th>\n",
       "      <td>0.473684</td>\n",
       "      <td>0.460526</td>\n",
       "      <td>0.442105</td>\n",
       "      <td>0.456140</td>\n",
       "      <td>0.481203</td>\n",
       "      <td>0.138158</td>\n",
       "    </tr>\n",
       "    <tr>\n",
       "      <th>0</th>\n",
       "      <td>0.530467</td>\n",
       "      <td>0.509687</td>\n",
       "      <td>0.488491</td>\n",
       "      <td>0.466916</td>\n",
       "      <td>0.444498</td>\n",
       "      <td>0.104715</td>\n",
       "    </tr>\n",
       "    <tr>\n",
       "      <th>1</th>\n",
       "      <td>0.424475</td>\n",
       "      <td>0.401425</td>\n",
       "      <td>0.377375</td>\n",
       "      <td>0.353247</td>\n",
       "      <td>0.329662</td>\n",
       "      <td>0.069391</td>\n",
       "    </tr>\n",
       "    <tr>\n",
       "      <th>2</th>\n",
       "      <td>0.291807</td>\n",
       "      <td>0.266373</td>\n",
       "      <td>0.242559</td>\n",
       "      <td>0.220138</td>\n",
       "      <td>0.199444</td>\n",
       "      <td>0.038508</td>\n",
       "    </tr>\n",
       "    <tr>\n",
       "      <th>3</th>\n",
       "      <td>0.180401</td>\n",
       "      <td>0.156912</td>\n",
       "      <td>0.137247</td>\n",
       "      <td>0.120705</td>\n",
       "      <td>0.107101</td>\n",
       "      <td>0.019946</td>\n",
       "    </tr>\n",
       "    <tr>\n",
       "      <th>4</th>\n",
       "      <td>0.124683</td>\n",
       "      <td>0.105575</td>\n",
       "      <td>0.091088</td>\n",
       "      <td>0.080105</td>\n",
       "      <td>0.071445</td>\n",
       "      <td>0.013519</td>\n",
       "    </tr>\n",
       "    <tr>\n",
       "      <th>5</th>\n",
       "      <td>0.193558</td>\n",
       "      <td>0.178315</td>\n",
       "      <td>0.162517</td>\n",
       "      <td>0.147566</td>\n",
       "      <td>0.133997</td>\n",
       "      <td>0.025989</td>\n",
       "    </tr>\n",
       "    <tr>\n",
       "      <th>6</th>\n",
       "      <td>0.269504</td>\n",
       "      <td>0.250000</td>\n",
       "      <td>0.242553</td>\n",
       "      <td>0.232270</td>\n",
       "      <td>0.217325</td>\n",
       "      <td>0.052660</td>\n",
       "    </tr>\n",
       "  </tbody>\n",
       "</table>\n",
       "</div>"
      ],
      "text/plain": [
       "          avgDDL3   avgDDL4   avgDDL5   avgDDL6   avgDDL7  avgDDAll\n",
       "shanten                                                            \n",
       "-1       0.473684  0.460526  0.442105  0.456140  0.481203  0.138158\n",
       " 0       0.530467  0.509687  0.488491  0.466916  0.444498  0.104715\n",
       " 1       0.424475  0.401425  0.377375  0.353247  0.329662  0.069391\n",
       " 2       0.291807  0.266373  0.242559  0.220138  0.199444  0.038508\n",
       " 3       0.180401  0.156912  0.137247  0.120705  0.107101  0.019946\n",
       " 4       0.124683  0.105575  0.091088  0.080105  0.071445  0.013519\n",
       " 5       0.193558  0.178315  0.162517  0.147566  0.133997  0.025989\n",
       " 6       0.269504  0.250000  0.242553  0.232270  0.217325  0.052660"
      ]
     },
     "execution_count": 149,
     "metadata": {},
     "output_type": "execute_result"
    }
   ],
   "source": [
    "noReachDf.groupby(\"shanten\").mean()[[\"avgDDL3\",\"avgDDL4\",\"avgDDL5\",\"avgDDL6\",\"avgDDL7\",\"avgDDAll\"]]"
   ]
  },
  {
   "cell_type": "code",
   "execution_count": 150,
   "metadata": {},
   "outputs": [
    {
     "data": {
      "text/html": [
       "<div>\n",
       "<style>\n",
       "    .dataframe thead tr:only-child th {\n",
       "        text-align: right;\n",
       "    }\n",
       "\n",
       "    .dataframe thead th {\n",
       "        text-align: left;\n",
       "    }\n",
       "\n",
       "    .dataframe tbody tr th {\n",
       "        vertical-align: top;\n",
       "    }\n",
       "</style>\n",
       "<table border=\"1\" class=\"dataframe\">\n",
       "  <thead>\n",
       "    <tr style=\"text-align: right;\">\n",
       "      <th></th>\n",
       "      <th>avgDDL3</th>\n",
       "      <th>avgDDL4</th>\n",
       "      <th>avgDDL5</th>\n",
       "      <th>avgDDL6</th>\n",
       "      <th>avgDDL7</th>\n",
       "      <th>avgDDAll</th>\n",
       "    </tr>\n",
       "    <tr>\n",
       "      <th>isTenpai</th>\n",
       "      <th></th>\n",
       "      <th></th>\n",
       "      <th></th>\n",
       "      <th></th>\n",
       "      <th></th>\n",
       "      <th></th>\n",
       "    </tr>\n",
       "  </thead>\n",
       "  <tbody>\n",
       "    <tr>\n",
       "      <th>0</th>\n",
       "      <td>0.284106</td>\n",
       "      <td>0.260651</td>\n",
       "      <td>0.238859</td>\n",
       "      <td>0.218651</td>\n",
       "      <td>0.200180</td>\n",
       "      <td>0.040088</td>\n",
       "    </tr>\n",
       "    <tr>\n",
       "      <th>1</th>\n",
       "      <td>0.530328</td>\n",
       "      <td>0.509567</td>\n",
       "      <td>0.488378</td>\n",
       "      <td>0.466889</td>\n",
       "      <td>0.444587</td>\n",
       "      <td>0.104796</td>\n",
       "    </tr>\n",
       "  </tbody>\n",
       "</table>\n",
       "</div>"
      ],
      "text/plain": [
       "           avgDDL3   avgDDL4   avgDDL5   avgDDL6   avgDDL7  avgDDAll\n",
       "isTenpai                                                            \n",
       "0         0.284106  0.260651  0.238859  0.218651  0.200180  0.040088\n",
       "1         0.530328  0.509567  0.488378  0.466889  0.444587  0.104796"
      ]
     },
     "execution_count": 150,
     "metadata": {},
     "output_type": "execute_result"
    }
   ],
   "source": [
    "noReachDf.groupby(\"isTenpai\").mean()[[\"avgDDL3\",\"avgDDL4\",\"avgDDL5\",\"avgDDL6\",\"avgDDL7\",\"avgDDAll\"]]"
   ]
  },
  {
   "cell_type": "code",
   "execution_count": 151,
   "metadata": {},
   "outputs": [
    {
     "name": "stdout",
     "output_type": "stream",
     "text": [
      "0.928114666397\n",
      "0.000716599462159\n",
      "[ 0.92839196  0.92939698  0.92763819  0.92770101  0.92744519]\n"
     ]
    }
   ],
   "source": [
    "X = noReachDf[['actor_pd5_5','actorOpenMeldCount',\"actorPondCount\",\"avgDDL7\"]]\n",
    "y = noReachDf[\"isTenpai\"]\n",
    "X_train, X_test, y_train, y_test = train_test_split(X, y, test_size=0.25, random_state=42,stratify=y)\n",
    "rfc = RandomForestClassifier()\n",
    "kf = KFold(n_splits=5,shuffle=True,random_state=42)\n",
    "scores = cross_val_score(rfc,X_train,y_train,cv=kf)\n",
    "print(np.mean(scores))\n",
    "print(np.std(scores))\n",
    "print(scores)"
   ]
  },
  {
   "cell_type": "code",
   "execution_count": 152,
   "metadata": {},
   "outputs": [
    {
     "data": {
      "text/plain": [
       "0    98346\n",
       "1     7787\n",
       "Name: isTenpai, dtype: int64"
      ]
     },
     "execution_count": 152,
     "metadata": {},
     "output_type": "execute_result"
    }
   ],
   "source": [
    "noReachDf[\"isTenpai\"].value_counts()"
   ]
  },
  {
   "cell_type": "code",
   "execution_count": 153,
   "metadata": {},
   "outputs": [
    {
     "name": "stdout",
     "output_type": "stream",
     "text": [
      "0.933417458432\n"
     ]
    }
   ],
   "source": [
    "print(float(25150)/(25150+1794))"
   ]
  },
  {
   "cell_type": "code",
   "execution_count": 154,
   "metadata": {},
   "outputs": [
    {
     "name": "stdout",
     "output_type": "stream",
     "text": [
      "0.442744250021\n",
      "0.00091665958661\n",
      "[ 0.44227387  0.4415201   0.44378141  0.44384422  0.44230165]\n"
     ]
    }
   ],
   "source": [
    "X = noReachDf[['actor_pd5_5','actorOpenMeldCount',\"actorPondCount\",\"avgDDL7\"]]\n",
    "y = noReachDf[\"shanten\"]\n",
    "X_train, X_test, y_train, y_test = train_test_split(X, y, test_size=0.25, random_state=42)\n",
    "rfc = RandomForestClassifier()\n",
    "kf = KFold(n_splits=5,shuffle=True,random_state=42)\n",
    "scores = cross_val_score(rfc,X_train,y_train,cv=kf)\n",
    "print(np.mean(scores))\n",
    "print(np.std(scores))\n",
    "print(scores)"
   ]
  },
  {
   "cell_type": "code",
   "execution_count": 155,
   "metadata": {},
   "outputs": [
    {
     "name": "stdout",
     "output_type": "stream",
     "text": [
      "0.323405538334\n"
     ]
    }
   ],
   "source": [
    "baseGuess = float(noReachDf[\"shanten\"].value_counts()[2])\n",
    "total = len(noReachDf[\"shanten\"])\n",
    "\n",
    "baseline = (baseGuess/total)\n",
    "print(baseline)"
   ]
  },
  {
   "cell_type": "code",
   "execution_count": null,
   "metadata": {
    "collapsed": true
   },
   "outputs": [],
   "source": []
  },
  {
   "cell_type": "code",
   "execution_count": 156,
   "metadata": {
    "collapsed": true
   },
   "outputs": [],
   "source": [
    "X = noReachDf[['actor_pd5_5','actorOpenMeldCount',\"actorPondCount\",\"avgDDL7\"]]\n",
    "y = noReachDf[\"shanten\"]\n",
    "X_train, X_test, y_train, y_test = train_test_split(X, y, test_size=0.25, random_state=42)\n",
    "rfc = RandomForestClassifier()"
   ]
  },
  {
   "cell_type": "code",
   "execution_count": 157,
   "metadata": {},
   "outputs": [
    {
     "data": {
      "text/plain": [
       "{'max_depth': 7, 'n_estimators': 11}"
      ]
     },
     "execution_count": 157,
     "metadata": {},
     "output_type": "execute_result"
    }
   ],
   "source": [
    "paramz = {\n",
    "    \"n_estimators\":[5,11,15,21,51,101],\n",
    "    \"max_depth\":[3,5,7,9,None]\n",
    "}\n",
    "\n",
    "gscv = GridSearchCV(rfc,paramz)\n",
    "bestForest = gscv.fit(X_train,y_train)\n",
    "bestForest.best_params_"
   ]
  },
  {
   "cell_type": "code",
   "execution_count": 158,
   "metadata": {},
   "outputs": [
    {
     "name": "stdout",
     "output_type": "stream",
     "text": [
      "0.4607469946\n",
      "0.00423556630355\n",
      "[ 0.45741206  0.45515075  0.46325377  0.46714824  0.46077015]\n"
     ]
    }
   ],
   "source": [
    "kf = KFold(n_splits=5,shuffle=True,random_state=42)\n",
    "scores = cross_val_score(bestForest.best_estimator_,X_train,y_train,cv=kf)\n",
    "print(np.mean(scores))\n",
    "print(np.std(scores))\n",
    "print(scores)"
   ]
  },
  {
   "cell_type": "code",
   "execution_count": 159,
   "metadata": {},
   "outputs": [],
   "source": [
    "# kf = KFold(n_splits=5,shuffle=True,random_state=42)\n",
    "# scores = cross_val_score(RandomForestClassifier(n_estimators=501),X_train,y_train,cv=kf)\n",
    "# print(np.mean(scores))\n",
    "# print(np.std(scores))\n",
    "# print(scores)"
   ]
  },
  {
   "cell_type": "code",
   "execution_count": 160,
   "metadata": {
    "collapsed": true
   },
   "outputs": [],
   "source": [
    "nineDf = noReachDf[noReachDf[\"actorPondCount\"]==9].copy()"
   ]
  },
  {
   "cell_type": "code",
   "execution_count": 161,
   "metadata": {},
   "outputs": [
    {
     "name": "stdout",
     "output_type": "stream",
     "text": [
      "0.487066357499\n",
      "0.00843663123037\n",
      "[ 0.48086867  0.50361944  0.48500517  0.48136646  0.48447205]\n"
     ]
    }
   ],
   "source": [
    "X = nineDf[['actor_pd5_5','actorOpenMeldCount',\"actorPondCount\",\"avgDDL7\"]]\n",
    "y = nineDf[\"shanten\"]\n",
    "X_train, X_test, y_train, y_test = train_test_split(X, y, test_size=0.25, random_state=42)\n",
    "rfc = RandomForestClassifier(max_depth=5,n_estimators=15)\n",
    "kf = KFold(n_splits=5,shuffle=True,random_state=42)\n",
    "scores = cross_val_score(rfc,X_train,y_train,cv=kf)\n",
    "print(np.mean(scores))\n",
    "print(np.std(scores))\n",
    "print(scores)"
   ]
  },
  {
   "cell_type": "code",
   "execution_count": 162,
   "metadata": {},
   "outputs": [
    {
     "data": {
      "text/plain": [
       " 1    2937\n",
       " 2    2000\n",
       " 0     866\n",
       " 3     474\n",
       " 4      85\n",
       " 5      76\n",
       "-1       4\n",
       " 6       3\n",
       "Name: shanten, dtype: int64"
      ]
     },
     "execution_count": 162,
     "metadata": {},
     "output_type": "execute_result"
    }
   ],
   "source": [
    "nineDf[\"shanten\"].value_counts()"
   ]
  },
  {
   "cell_type": "code",
   "execution_count": 163,
   "metadata": {},
   "outputs": [
    {
     "name": "stdout",
     "output_type": "stream",
     "text": [
      "0.455702094647\n"
     ]
    }
   ],
   "source": [
    "baseGuess = float(nineDf[\"shanten\"].value_counts()[1])\n",
    "total = len(nineDf[\"shanten\"])\n",
    "\n",
    "baseline = (baseGuess/total)\n",
    "print(baseline)"
   ]
  },
  {
   "cell_type": "markdown",
   "metadata": {},
   "source": [
    "below is back to modeling, but wanna try combinations of features"
   ]
  },
  {
   "cell_type": "code",
   "execution_count": 164,
   "metadata": {},
   "outputs": [
    {
     "name": "stdout",
     "output_type": "stream",
     "text": [
      "0.443887521343\n",
      "0.00265682378185\n",
      "[ 0.4410804   0.44032663  0.44616834  0.44516332  0.44669891]\n"
     ]
    }
   ],
   "source": [
    "X = noReachDf[['actor_pd5_5',\"actorPondCount\",\"avgDDL7\"]]\n",
    "y = noReachDf[\"shanten\"]\n",
    "X_train, X_test, y_train, y_test = train_test_split(X, y, test_size=0.25, random_state=42)\n",
    "rfc = RandomForestClassifier(max_depth=5,n_estimators=15)\n",
    "kf = KFold(n_splits=5,shuffle=True,random_state=42)\n",
    "scores = cross_val_score(rfc,X_train,y_train,cv=kf)\n",
    "print(np.mean(scores))\n",
    "print(np.std(scores))\n",
    "print(scores)"
   ]
  },
  {
   "cell_type": "code",
   "execution_count": 165,
   "metadata": {},
   "outputs": [
    {
     "name": "stdout",
     "output_type": "stream",
     "text": [
      "0.323405538334\n"
     ]
    }
   ],
   "source": [
    "baseGuess = float(noReachDf[\"shanten\"].value_counts()[2])\n",
    "total = len(noReachDf[\"shanten\"])\n",
    "\n",
    "baseline = (baseGuess/total)\n",
    "print(baseline)"
   ]
  },
  {
   "cell_type": "code",
   "execution_count": 166,
   "metadata": {},
   "outputs": [
    {
     "name": "stdout",
     "output_type": "stream",
     "text": [
      "0.459239471116\n",
      "0.00355474035273\n",
      "[ 0.45483668  0.45515075  0.46092965  0.4633794   0.46190087]\n"
     ]
    }
   ],
   "source": [
    "X = noReachDf[['actor_pd5_5',\"actorPondCount\",\"avgDDL7\",'actorOpenMeldCount']]\n",
    "y = noReachDf[\"shanten\"]\n",
    "X_train, X_test, y_train, y_test = train_test_split(X, y, test_size=0.25, random_state=42)\n",
    "rfc = RandomForestClassifier(max_depth=5,n_estimators=15)\n",
    "kf = KFold(n_splits=5,shuffle=True,random_state=42)\n",
    "scores = cross_val_score(rfc,X_train,y_train,cv=kf)\n",
    "print(np.mean(scores))\n",
    "print(np.std(scores))\n",
    "print(scores)"
   ]
  },
  {
   "cell_type": "code",
   "execution_count": 167,
   "metadata": {
    "collapsed": true
   },
   "outputs": [],
   "source": [
    "#noReachDf.columns"
   ]
  },
  {
   "cell_type": "code",
   "execution_count": null,
   "metadata": {
    "collapsed": true
   },
   "outputs": [],
   "source": []
  },
  {
   "cell_type": "code",
   "execution_count": 168,
   "metadata": {},
   "outputs": [
    {
     "name": "stdout",
     "output_type": "stream",
     "text": [
      "0.934484084156\n",
      "0.00103707808137\n",
      "[ 0.93410804  0.93548995  0.93385678  0.93586683  0.93309881]\n"
     ]
    }
   ],
   "source": [
    "X = noReachDf[['actor_pd5_5',\"actorPondCount\",\"avgDDL7\",'actorOpenMeldCount']]\n",
    "y = noReachDf[\"isTenpai\"]\n",
    "X_train, X_test, y_train, y_test = train_test_split(X, y, test_size=0.25, random_state=42)\n",
    "rfc = RandomForestClassifier(max_depth=5,n_estimators=15)\n",
    "kf = KFold(n_splits=5,shuffle=True,random_state=42)\n",
    "scores = cross_val_score(rfc,X_train,y_train,cv=kf)\n",
    "print(np.mean(scores))\n",
    "print(np.std(scores))\n",
    "print(scores)"
   ]
  },
  {
   "cell_type": "code",
   "execution_count": 169,
   "metadata": {},
   "outputs": [
    {
     "name": "stdout",
     "output_type": "stream",
     "text": [
      "0.926629794692\n"
     ]
    }
   ],
   "source": [
    "baseGuess = float(noReachDf[\"isTenpai\"].value_counts()[0])\n",
    "total = len(noReachDf[\"isTenpai\"])\n",
    "\n",
    "baseline = (baseGuess/total)\n",
    "print(baseline)"
   ]
  },
  {
   "cell_type": "code",
   "execution_count": 170,
   "metadata": {
    "collapsed": true
   },
   "outputs": [],
   "source": [
    "from sklearn.preprocessing import StandardScaler"
   ]
  },
  {
   "cell_type": "code",
   "execution_count": 171,
   "metadata": {
    "collapsed": true
   },
   "outputs": [],
   "source": [
    "ss = StandardScaler()"
   ]
  },
  {
   "cell_type": "code",
   "execution_count": 172,
   "metadata": {
    "collapsed": true
   },
   "outputs": [],
   "source": [
    "from sklearn.neighbors import KNeighborsClassifier"
   ]
  },
  {
   "cell_type": "code",
   "execution_count": 173,
   "metadata": {},
   "outputs": [
    {
     "name": "stdout",
     "output_type": "stream",
     "text": [
      "(0.93444639492455683, 3)\n",
      "(0.93453433699056243, 4)\n",
      "(0.93424539226694436, 5)\n",
      "(0.93411975071033293, 6)\n",
      "(0.93434589951453351, 7)\n",
      "(0.93428307044993164, 8)\n",
      "(0.93413231194606117, 9)\n",
      "(0.93405694532086281, 10)\n",
      "(0.93420770855975965, 11)\n",
      "(0.9340820654248061, 12)\n",
      "(0.9341574391525439, 13)\n",
      "(0.93418257425073725, 14)\n",
      "(0.93398156212307215, 15)\n",
      "(0.93427051947342721, 16)\n",
      "(0.9342328168261369, 17)\n",
      "(0.93433332723041063, 18)\n",
      "(0.93388105487548301, 19)\n",
      "(0.93442126298304762, 20)\n",
      "(0.9340569453208627, 21)\n",
      "(0.93373029952829667, 22)\n",
      "(0.93447153160109231, 23)\n",
      "(0.93410719184211788, 24)\n",
      "(0.93424538358606279, 25)\n",
      "(0.93408206937066129, 26)\n",
      "(0.93418257267239524, 27)\n",
      "(0.93418256951571088, 28)\n",
      "(0.93444639413538577, 29)\n",
      "(0.93409463376307378, 30)\n",
      "(0.93457202464360234, 31)\n",
      "(0.93401925451113854, 32)\n",
      "(0.93414488186267108, 33)\n",
      "(0.93411975386701707, 34)\n",
      "(0.93386849837478114, 35)\n",
      "(0.93414487712764471, 36)\n",
      "(0.93447151976352638, 37)\n",
      "(0.93427051316005871, 38)\n",
      "(0.93432077309722172, 39)\n",
      "(0.93443381948374959, 40)\n",
      "(0.93395644596498428, 41)\n",
      "(0.9340192553003096, 42)\n",
      "(0.93422026506046163, 43)\n",
      "(0.93453434409310199, 44)\n",
      "(0.93390618681699211, 45)\n",
      "(0.93424538911026, 46)\n",
      "(0.93437102119681903, 47)\n",
      "(0.93445895458194295, 48)\n",
      "(0.93430819449973013, 49)\n"
     ]
    }
   ],
   "source": [
    "X = noReachDf[['actor_pd5_5',\"actorPondCount\",\"avgDDL7\",'actorOpenMeldCount']].values\n",
    "y = noReachDf[\"isTenpai\"]\n",
    "X = ss.fit_transform(X)\n",
    "X_train, X_test, y_train, y_test = train_test_split(X, y, test_size=0.25, random_state=42)\n",
    "for i in range(3,50):\n",
    "    knn = KNeighborsClassifier(n_neighbors=i)\n",
    "    kf = KFold(n_splits=5,shuffle=True,random_state=42)\n",
    "    scores = cross_val_score(rfc,X_train,y_train,cv=kf)\n",
    "    print(np.mean(scores),i)\n",
    "    #print(np.std(scores))\n",
    "    #print(scores)"
   ]
  },
  {
   "cell_type": "code",
   "execution_count": 174,
   "metadata": {
    "collapsed": true
   },
   "outputs": [],
   "source": [
    "from sklearn.naive_bayes import BernoulliNB"
   ]
  },
  {
   "cell_type": "code",
   "execution_count": 175,
   "metadata": {},
   "outputs": [
    {
     "name": "stdout",
     "output_type": "stream",
     "text": [
      "0.934207698301\n",
      "0.000843788093764\n",
      "[ 0.93379397  0.93498744  0.93442211  0.93505025  0.93278472]\n"
     ]
    }
   ],
   "source": [
    "X = noReachDf[['actor_pd5_5',\"actorPondCount\",\"avgDDL7\",'actorOpenMeldCount']].values\n",
    "y = noReachDf[\"isTenpai\"]\n",
    "X = ss.fit_transform(X)\n",
    "X_train, X_test, y_train, y_test = train_test_split(X, y, test_size=0.25, random_state=42)\n",
    "nb = BernoulliNB()\n",
    "kf = KFold(n_splits=5,shuffle=True,random_state=42)\n",
    "scores = cross_val_score(rfc,X_train,y_train,cv=kf)\n",
    "print(np.mean(scores))\n",
    "print(np.std(scores))\n",
    "print(scores)"
   ]
  },
  {
   "cell_type": "markdown",
   "metadata": {},
   "source": [
    "### I'm currently thinking that these features are good for differentiating between 1 shanten or closer type hands and hands that are 2 shanten or further, but NOT good for differentiating between tenpai and not tenpai.  I want to formally test this by making a column that splits between 1 shanten or closer and not."
   ]
  },
  {
   "cell_type": "code",
   "execution_count": 176,
   "metadata": {
    "collapsed": true
   },
   "outputs": [],
   "source": [
    "shVals = noReachDf[\"shanten\"].copy().values\n",
    "for i in range(len(shVals)):\n",
    "    if shVals[i] < 2:\n",
    "        shVals[i] = 1\n",
    "    else:\n",
    "        shVals[i] = 0\n",
    "noReachDf[\"1sh\"] = shVals\n"
   ]
  },
  {
   "cell_type": "code",
   "execution_count": null,
   "metadata": {
    "collapsed": true
   },
   "outputs": [],
   "source": []
  },
  {
   "cell_type": "code",
   "execution_count": 177,
   "metadata": {},
   "outputs": [
    {
     "data": {
      "text/html": [
       "<div>\n",
       "<style>\n",
       "    .dataframe thead tr:only-child th {\n",
       "        text-align: right;\n",
       "    }\n",
       "\n",
       "    .dataframe thead th {\n",
       "        text-align: left;\n",
       "    }\n",
       "\n",
       "    .dataframe tbody tr th {\n",
       "        vertical-align: top;\n",
       "    }\n",
       "</style>\n",
       "<table border=\"1\" class=\"dataframe\">\n",
       "  <thead>\n",
       "    <tr style=\"text-align: right;\">\n",
       "      <th></th>\n",
       "      <th>1sh</th>\n",
       "      <th>shanten</th>\n",
       "    </tr>\n",
       "  </thead>\n",
       "  <tbody>\n",
       "    <tr>\n",
       "      <th>1</th>\n",
       "      <td>0</td>\n",
       "      <td>3</td>\n",
       "    </tr>\n",
       "    <tr>\n",
       "      <th>3</th>\n",
       "      <td>0</td>\n",
       "      <td>2</td>\n",
       "    </tr>\n",
       "    <tr>\n",
       "      <th>5</th>\n",
       "      <td>0</td>\n",
       "      <td>5</td>\n",
       "    </tr>\n",
       "    <tr>\n",
       "      <th>7</th>\n",
       "      <td>0</td>\n",
       "      <td>3</td>\n",
       "    </tr>\n",
       "    <tr>\n",
       "      <th>9</th>\n",
       "      <td>0</td>\n",
       "      <td>3</td>\n",
       "    </tr>\n",
       "    <tr>\n",
       "      <th>11</th>\n",
       "      <td>0</td>\n",
       "      <td>2</td>\n",
       "    </tr>\n",
       "    <tr>\n",
       "      <th>13</th>\n",
       "      <td>0</td>\n",
       "      <td>5</td>\n",
       "    </tr>\n",
       "    <tr>\n",
       "      <th>15</th>\n",
       "      <td>0</td>\n",
       "      <td>2</td>\n",
       "    </tr>\n",
       "    <tr>\n",
       "      <th>17</th>\n",
       "      <td>0</td>\n",
       "      <td>2</td>\n",
       "    </tr>\n",
       "    <tr>\n",
       "      <th>19</th>\n",
       "      <td>0</td>\n",
       "      <td>2</td>\n",
       "    </tr>\n",
       "    <tr>\n",
       "      <th>21</th>\n",
       "      <td>0</td>\n",
       "      <td>5</td>\n",
       "    </tr>\n",
       "    <tr>\n",
       "      <th>23</th>\n",
       "      <td>0</td>\n",
       "      <td>3</td>\n",
       "    </tr>\n",
       "    <tr>\n",
       "      <th>25</th>\n",
       "      <td>0</td>\n",
       "      <td>2</td>\n",
       "    </tr>\n",
       "    <tr>\n",
       "      <th>27</th>\n",
       "      <td>1</td>\n",
       "      <td>1</td>\n",
       "    </tr>\n",
       "    <tr>\n",
       "      <th>29</th>\n",
       "      <td>0</td>\n",
       "      <td>5</td>\n",
       "    </tr>\n",
       "    <tr>\n",
       "      <th>31</th>\n",
       "      <td>0</td>\n",
       "      <td>3</td>\n",
       "    </tr>\n",
       "    <tr>\n",
       "      <th>33</th>\n",
       "      <td>0</td>\n",
       "      <td>2</td>\n",
       "    </tr>\n",
       "    <tr>\n",
       "      <th>35</th>\n",
       "      <td>1</td>\n",
       "      <td>1</td>\n",
       "    </tr>\n",
       "    <tr>\n",
       "      <th>37</th>\n",
       "      <td>0</td>\n",
       "      <td>4</td>\n",
       "    </tr>\n",
       "    <tr>\n",
       "      <th>39</th>\n",
       "      <td>0</td>\n",
       "      <td>2</td>\n",
       "    </tr>\n",
       "  </tbody>\n",
       "</table>\n",
       "</div>"
      ],
      "text/plain": [
       "    1sh  shanten\n",
       "1     0        3\n",
       "3     0        2\n",
       "5     0        5\n",
       "7     0        3\n",
       "9     0        3\n",
       "11    0        2\n",
       "13    0        5\n",
       "15    0        2\n",
       "17    0        2\n",
       "19    0        2\n",
       "21    0        5\n",
       "23    0        3\n",
       "25    0        2\n",
       "27    1        1\n",
       "29    0        5\n",
       "31    0        3\n",
       "33    0        2\n",
       "35    1        1\n",
       "37    0        4\n",
       "39    0        2"
      ]
     },
     "execution_count": 177,
     "metadata": {},
     "output_type": "execute_result"
    }
   ],
   "source": [
    "noReachDf[[\"1sh\",\"shanten\"]].head(20)"
   ]
  },
  {
   "cell_type": "code",
   "execution_count": 178,
   "metadata": {},
   "outputs": [
    {
     "name": "stdout",
     "output_type": "stream",
     "text": [
      "0.780173080996\n",
      "0.003463546553\n",
      "[ 0.78442211  0.77512563  0.78272613  0.78134422  0.77724731]\n"
     ]
    }
   ],
   "source": [
    "X = noReachDf[['actor_pd5_5',\"actorPondCount\",\"avgDDL7\",'actorOpenMeldCount']]\n",
    "y = noReachDf[\"1sh\"]\n",
    "X_train, X_test, y_train, y_test = train_test_split(X, y, test_size=0.25, random_state=42)\n",
    "rfc = RandomForestClassifier(max_depth=5,n_estimators=15)\n",
    "kf = KFold(n_splits=5,shuffle=True,random_state=42)\n",
    "scores = cross_val_score(rfc,X_train,y_train,cv=kf)\n",
    "print(np.mean(scores))\n",
    "print(np.std(scores))\n",
    "print(scores)"
   ]
  },
  {
   "cell_type": "code",
   "execution_count": 179,
   "metadata": {},
   "outputs": [
    {
     "data": {
      "text/plain": [
       "0    70342\n",
       "1    35791\n",
       "Name: 1sh, dtype: int64"
      ]
     },
     "execution_count": 179,
     "metadata": {},
     "output_type": "execute_result"
    }
   ],
   "source": [
    "noReachDf[\"1sh\"].value_counts()"
   ]
  },
  {
   "cell_type": "code",
   "execution_count": 180,
   "metadata": {},
   "outputs": [
    {
     "name": "stdout",
     "output_type": "stream",
     "text": [
      "0.66916567696\n"
     ]
    }
   ],
   "source": [
    "print(float(18030)/(18030+8914))"
   ]
  },
  {
   "cell_type": "markdown",
   "metadata": {},
   "source": [
    "## As I thought.  We saw earlier in the EDA that there was a remarkable difference between hands that were 2 shanten or further from those that were 1 shanten or closer.\n",
    "\n",
    "## In Mahjong terms, at least using these features, we are saying something like \"We can tell if someone is very close to tenpai or is in tenpai, but we can't really be sure whether or not they are actually in tenpai.  As we currently understand it, it is inherently ambiguous whether you are in tenpai or you are two away from tenpai.\n",
    "\n",
    "### Honestly this makes a ton of sense.  Someone is sitting there throwing this tile and that tile, a lot of which are coming from inside their hand.  You can't see their face, we don't have the data on how long someone it taking to make their moves.  They may look close to tenpai, but we can't be sure.\n",
    "\n",
    "## ==="
   ]
  },
  {
   "cell_type": "markdown",
   "metadata": {},
   "source": [
    "### I'm going to break for now, but my next focus will be on extracting data regarding hand value (to use for a new y) and seeing if we can predict that based on similar features."
   ]
  },
  {
   "cell_type": "code",
   "execution_count": null,
   "metadata": {
    "collapsed": true
   },
   "outputs": [],
   "source": []
  }
 ],
 "metadata": {
  "kernelspec": {
   "display_name": "Python 2",
   "language": "python",
   "name": "python2"
  },
  "language_info": {
   "codemirror_mode": {
    "name": "ipython",
    "version": 2
   },
   "file_extension": ".py",
   "mimetype": "text/x-python",
   "name": "python",
   "nbconvert_exporter": "python",
   "pygments_lexer": "ipython2",
   "version": "2.7.13"
  }
 },
 "nbformat": 4,
 "nbformat_minor": 2
}
