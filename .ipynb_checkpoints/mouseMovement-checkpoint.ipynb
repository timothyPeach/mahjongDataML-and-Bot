{
 "cells": [
  {
   "cell_type": "markdown",
   "metadata": {},
   "source": [
    "#### Your resolution very well may be different, and you should alter it here."
   ]
  },
  {
   "cell_type": "code",
   "execution_count": 41,
   "metadata": {
    "collapsed": true
   },
   "outputs": [],
   "source": [
    "x_res = 1366\n",
    "y_res = 768"
   ]
  },
  {
   "cell_type": "code",
   "execution_count": 17,
   "metadata": {},
   "outputs": [],
   "source": [
    "from pynput.mouse import Button, Controller\n",
    "import time\n",
    "import random as rn\n",
    "\n",
    "mouse = Controller()"
   ]
  },
  {
   "cell_type": "code",
   "execution_count": 44,
   "metadata": {},
   "outputs": [],
   "source": [
    "def mouseSpaz(x):\n",
    "    for _ in range(x):\n",
    "        x = rn.randint(0,x_res)\n",
    "        y = rn.randint(0,y_res)\n",
    "        time.sleep(0.01)\n",
    "        mouse.position = (x,y)"
   ]
  },
  {
   "cell_type": "code",
   "execution_count": 47,
   "metadata": {},
   "outputs": [],
   "source": [
    "#mouseSpaz(150)"
   ]
  },
  {
   "cell_type": "markdown",
   "metadata": {},
   "source": [
    "#### I'm going to break the screen into a 50x50 matrix."
   ]
  },
  {
   "cell_type": "code",
   "execution_count": 43,
   "metadata": {
    "collapsed": true
   },
   "outputs": [],
   "source": [
    "def mm(x,y):\n",
    "    mouse.position = (x,y)"
   ]
  },
  {
   "cell_type": "code",
   "execution_count": 68,
   "metadata": {},
   "outputs": [],
   "source": [
    "def buildScreenMatrix():\n",
    "    xDist = x_res/50.\n",
    "    yDist = y_res/50.\n",
    "    #\n",
    "    xList = []\n",
    "    xtr = 0\n",
    "    while xtr < x_res:\n",
    "        xtr += xDist\n",
    "        xList.append(xtr)\n",
    "    #print(len(xList))\n",
    "    for i in range(len(xList)):\n",
    "        xList[i] = int(xList[i])\n",
    "    #\n",
    "    yList = []\n",
    "    ytr = 0\n",
    "    while ytr < y_res:\n",
    "        ytr += yDist\n",
    "        yList.append(ytr)\n",
    "    #print(len(yList))\n",
    "    for i in range(len(yList)):\n",
    "        yList[i] = int(yList[i])\n",
    "    #\n",
    "    return xList,yList"
   ]
  },
  {
   "cell_type": "code",
   "execution_count": 69,
   "metadata": {},
   "outputs": [],
   "source": [
    "xList,yList = buildScreenMatrix()"
   ]
  },
  {
   "cell_type": "code",
   "execution_count": null,
   "metadata": {},
   "outputs": [],
   "source": []
  },
  {
   "cell_type": "code",
   "execution_count": 128,
   "metadata": {},
   "outputs": [],
   "source": [
    "def MM(x,y):\n",
    "    mouse.position = (xList[x],yList[y])"
   ]
  },
  {
   "cell_type": "code",
   "execution_count": 162,
   "metadata": {
    "collapsed": true
   },
   "outputs": [],
   "source": [
    "def dmm(key):\n",
    "    time.sleep(2)\n",
    "    mx = int(dm[key][0])\n",
    "    my = int(dm[key][1])\n",
    "    MM(mx,my)"
   ]
  },
  {
   "cell_type": "markdown",
   "metadata": {},
   "source": [
    "### Find out what these locations are for you using the matrix."
   ]
  },
  {
   "cell_type": "code",
   "execution_count": 163,
   "metadata": {
    "collapsed": true
   },
   "outputs": [],
   "source": [
    "dm = {}"
   ]
  },
  {
   "cell_type": "code",
   "execution_count": 249,
   "metadata": {},
   "outputs": [],
   "source": [
    "dm[\"tab1\"] = [5,48]  #The first tab on your lower toolbar\n",
    "dm[\"OK\"] = [30,32]  #The OK button on tenhou.net/0 to enter the lobby selection area.\n",
    "dm[\"mainLobby\"] = [22,28]  #The button to join a 4p mainLobby game with red fives, full hanchan, and regular time.\n",
    "dm[0] = [14,44] #first tile all the way on your left.\n",
    "dm[1] = [16,44]\n",
    "dm[2] = [18,44]\n",
    "dm[3] = [19,44]\n",
    "dm[4] = [20,44]\n",
    "dm[5] = [22,44]\n",
    "dm[6] = [24,44]\n",
    "dm[7] = [25,44]\n",
    "dm[8] = [27,44]\n",
    "dm[9] = [28,44]\n",
    "dm[10] = [30,44]\n",
    "dm[11] = [31,44]\n",
    "dm[12] = [33,44]\n",
    "dm[13] = [35,44] #drawn tile all the way on the right, has space between itself and the other tiles."
   ]
  },
  {
   "cell_type": "code",
   "execution_count": 250,
   "metadata": {},
   "outputs": [],
   "source": [
    "#dmm(\"tab1\")"
   ]
  },
  {
   "cell_type": "code",
   "execution_count": 252,
   "metadata": {},
   "outputs": [],
   "source": [
    "dmm(13)"
   ]
  },
  {
   "cell_type": "code",
   "execution_count": null,
   "metadata": {
    "collapsed": true
   },
   "outputs": [],
   "source": []
  },
  {
   "cell_type": "code",
   "execution_count": null,
   "metadata": {
    "collapsed": true
   },
   "outputs": [],
   "source": []
  }
 ],
 "metadata": {
  "kernelspec": {
   "display_name": "Python 2",
   "language": "python",
   "name": "python2"
  },
  "language_info": {
   "codemirror_mode": {
    "name": "ipython",
    "version": 2
   },
   "file_extension": ".py",
   "mimetype": "text/x-python",
   "name": "python",
   "nbconvert_exporter": "python",
   "pygments_lexer": "ipython2",
   "version": "2.7.13"
  }
 },
 "nbformat": 4,
 "nbformat_minor": 2
}
