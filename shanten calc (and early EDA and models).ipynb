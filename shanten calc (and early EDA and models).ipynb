{
 "cells": [
  {
   "cell_type": "code",
   "execution_count": 1,
   "metadata": {
    "collapsed": true
   },
   "outputs": [],
   "source": [
    "import matplotlib.pyplot as plt\n",
    "%matplotlib inline"
   ]
  },
  {
   "cell_type": "code",
   "execution_count": 7,
   "metadata": {
    "collapsed": true
   },
   "outputs": [],
   "source": [
    "import random as rn\n",
    "import numpy as np\n",
    "allMan = [1,2,3,4,5,6,7,8,9]*4\n",
    "allMan = sorted(allMan)\n",
    "rn.shuffle(allMan)\n",
    "#print(allMan)\n",
    "\n",
    "allPin = [21,22,23,24,25,26,27,28,29]*4\n",
    "allPin = sorted(allPin)\n",
    "rn.shuffle(allPin)\n",
    "#print(allPin)\n",
    "\n",
    "allSou = [41,42,43,44,45,46,47,48,49]*4\n",
    "allSou = sorted(allSou)\n",
    "rn.shuffle(allSou)\n",
    "#print(allSou)\n",
    "\n",
    "allHonor = [60,70,80,90,100,110,120]*4\n",
    "allHonor = sorted(allHonor)\n",
    "rn.shuffle(allHonor)\n",
    "#print(allHonor)\n",
    "\n",
    "allTiles = allMan + allPin + allSou + allHonor\n",
    "allTiles = sorted(allTiles)\n",
    "rn.shuffle(allTiles)\n",
    "#print(allTiles)\n",
    "\n",
    "#print(len(allTiles))"
   ]
  },
  {
   "cell_type": "code",
   "execution_count": 8,
   "metadata": {},
   "outputs": [
    {
     "name": "stdout",
     "output_type": "stream",
     "text": [
      "14\n",
      "[1, 2, 2, 3, 3, 4, 4, 5, 6, 7, 7, 8, 8, 9]\n",
      "[4, 4, 5, 6, 9, 21, 22, 28, 29, 45, 49, 60, 70, 120]\n"
     ]
    }
   ],
   "source": [
    "def rh():\n",
    "    return sorted(allMan[:14])\n",
    "\n",
    "hand = rh()\n",
    "print(len(hand))\n",
    "print(hand)\n",
    "\n",
    "def rhFull(allTiles):\n",
    "    allTiles = sorted(allTiles)\n",
    "    rn.shuffle(allTiles)\n",
    "    return sorted(allTiles[:14])\n",
    "\n",
    "def rhFull13(allTiles):\n",
    "    allTiles = sorted(allTiles)\n",
    "    rn.shuffle(allTiles)\n",
    "    return sorted(allTiles[:13])\n",
    "\n",
    "rhfHand = rhFull(allTiles)\n",
    "print(rhfHand)"
   ]
  },
  {
   "cell_type": "markdown",
   "metadata": {},
   "source": [
    "There are 5 slots that need to be filled to complete a hand, 4 melds (either something like 333 or like 345) and 1 pair\n",
    "(something like 77.)"
   ]
  },
  {
   "cell_type": "code",
   "execution_count": 9,
   "metadata": {
    "collapsed": true
   },
   "outputs": [],
   "source": [
    "def mp(hand):\n",
    "    markPairs = []\n",
    "    if len(hand) != 0:\n",
    "        for i in set(hand):\n",
    "            if hand.count(i) > 1:\n",
    "                markPairs.append(i)\n",
    "    return markPairs\n",
    "\n",
    "ot = mp(hand)\n",
    "#print(ot)"
   ]
  },
  {
   "cell_type": "code",
   "execution_count": 10,
   "metadata": {},
   "outputs": [
    {
     "data": {
      "text/plain": [
       "True"
      ]
     },
     "execution_count": 10,
     "metadata": {},
     "output_type": "execute_result"
    }
   ],
   "source": [
    "def cc(hand):\n",
    "    complete = False\n",
    "    paired = mp(hand)\n",
    "    if len(paired) == 0:\n",
    "        return complete\n",
    "    else:\n",
    "        for i in range(len(paired)):\n",
    "            done = 0\n",
    "            mh = hand[:]\n",
    "            mh.remove(paired[i])\n",
    "            mh.remove(paired[i])\n",
    "            while len(mh) != 0 and done == 0:\n",
    "                val = mh[0]\n",
    "                if mh.count(val) >= 3:\n",
    "                    mh.remove(val)\n",
    "                    mh.remove(val)\n",
    "                    mh.remove(val)\n",
    "                elif val-1 in mh and val-2 in mh:\n",
    "                    mh.remove(val)\n",
    "                    mh.remove(val-1)\n",
    "                    mh.remove(val-2)\n",
    "                elif val-1 in mh and val+1 in mh:\n",
    "                    mh.remove(val)\n",
    "                    mh.remove(val-1)\n",
    "                    mh.remove(val+1)\n",
    "                elif val+1 in mh and val+2 in mh:\n",
    "                    mh.remove(val)\n",
    "                    mh.remove(val+1)\n",
    "                    mh.remove(val+2)\n",
    "                else:\n",
    "                    done = 1\n",
    "            if len(mh) == 0:\n",
    "                complete = True\n",
    "    return complete\n",
    "#cc(hand)\n",
    "cc([1,1,1,2,3,4,4,4,6,6,6,7,8,9])"
   ]
  },
  {
   "cell_type": "markdown",
   "metadata": {
    "collapsed": true
   },
   "source": [
    "Now we have to define Tenpai, and define it WITHOUT checking\n",
    "to see if adding to it would result in a complete hand, because if you keep doing that, you end up with too\n",
    "huge of a bruteforce when you're trying to calculate if it's anywhere from 3 to 5 shanten. (You don't need to calculate if it's 6 shanten because you're always at least 6 shanten because of seven pairs.)\n",
    "\n",
    "Anyhow yeah, for this one I'm going to actually introduce the hand as four lists, man, pin, sou, and honor."
   ]
  },
  {
   "cell_type": "code",
   "execution_count": 11,
   "metadata": {
    "collapsed": true
   },
   "outputs": [],
   "source": [
    "nineGates = [1,1,1,2,3,4,5,6,7,8,9,9,9,70]\n",
    "\n",
    "def handToFourList(hand):\n",
    "    man=[]\n",
    "    pin=[]\n",
    "    sou=[]\n",
    "    honor=[]\n",
    "    handConvert = []\n",
    "    for i in hand:\n",
    "        if i in range(1,10):\n",
    "            man.append(i)\n",
    "        elif i in range(21,30):\n",
    "            pin.append(i)\n",
    "        elif i in range(41,50):\n",
    "            sou.append(i)\n",
    "        elif i in range(60,500):#121):\n",
    "            honor.append(i)\n",
    "        else:\n",
    "            print(\"invalid hand\")\n",
    "            return\n",
    "    handConvert.append(man)\n",
    "    handConvert.append(pin)\n",
    "    handConvert.append(sou)\n",
    "    handConvert.append(honor)\n",
    "    return handConvert\n",
    "\n",
    "#q = handToFourList(nineGates)\n",
    "#print(q)\n",
    "\n",
    "def shantenLookup(lisk):\n",
    "    #conditions for complete thru 5 away\n",
    "    # MIGHT BE INCOMPLETE\n",
    "    complete = [[4,1,0]]\n",
    "    tenpai = [[4,0,0],[3,1,1],[3,2,0],[4,0,1]]\n",
    "    away1 = [[3,1,0],[3,0,1],[2,1,2],[2,2,1],[2,3,0],[3,0,2]]\n",
    "    away2 = [[3,0,0],[2,1,1],[2,2,0],[2,0,2],[2,0,3],[1,1,3],[1,2,2],[1,3,1],[1,4,0]]\n",
    "    away3 = [[1,0,4],[1,0,5],[2,0,1],[2,1,0],[1,0,3],[1,1,2],[1,2,1],[1,3,0],[0,5,0],[0,4,1],[0,3,2],[0,2,3],[0,1,4]]\n",
    "    away4 = [[2,0,0],[1,0,2],[1,2,0],[1,1,1],[0,0,5],[0,0,4],[0,3,1],[0,2,2],[0,1,3],[0,4,0]]\n",
    "    away5 = [[1,0,1],[1,1,0],[0,0,3],[0,2,1],[0,1,2],[0,3,0]]\n",
    "    #not 002, 011, 020, these are 6\n",
    "    \n",
    "    if lisk in complete:\n",
    "        return -1\n",
    "    elif lisk in tenpai:\n",
    "        return 0\n",
    "    elif lisk in away1:\n",
    "        return 1\n",
    "    elif lisk in away2:\n",
    "        return 2\n",
    "    elif lisk in away3:\n",
    "        return 3\n",
    "    elif lisk in away4:\n",
    "        return 4\n",
    "    elif lisk in away5:\n",
    "        return 5\n",
    "    else:\n",
    "        return 6\n",
    "\n",
    "# lusk = [4,1,0]\n",
    "\n",
    "# qqq = shantenLookup(lusk)\n",
    "    \n",
    "# print(qqq)\n",
    "\n",
    "def daPairShantenPlz(hand):\n",
    "    pairs = 0\n",
    "    for i in set(hand):\n",
    "        if hand.count(i) > 1:\n",
    "            pairs += 1\n",
    "    return (6 - pairs)\n",
    "\n",
    "def daKokushiShantenPlz(hand):\n",
    "    daSum = 0\n",
    "    daKokushis = [1,9,21,29,41,49,60,70,80,90,100,110,120]\n",
    "    for i in range(len(daKokushis)):\n",
    "        if hand.count(daKokushis[i]) > 0:\n",
    "            daSum += 1\n",
    "    inc = False\n",
    "    for i in hand:\n",
    "        if i in daKokushis and hand.count(i) > 1:\n",
    "            inc = True\n",
    "    if inc == True:\n",
    "        daSum += 1\n",
    "    return (13 - daSum)\n",
    "\n",
    "def shantenPlz(hand):\n",
    "    '''This function is bloated, but it is also very fast and works flawlessly near as I can tell,\n",
    "    so it's fine.'''\n",
    "    hc = handToFourList(hand)\n",
    "    bestScore = [0,0,0]\n",
    "    scores = []\n",
    "    #print(hc)\n",
    "    for v in range(len(hc)):\n",
    "        #print(\"hci\",hc[v])\n",
    "        if len(hc[v]) <= 1:\n",
    "            scores.append([[0,0,0]])\n",
    "        else:\n",
    "            paired = mp(hc[v])\n",
    "            #print(\"the pairs\",paired)\n",
    "            if len(paired) == 0:\n",
    "                done = 0\n",
    "                doon = 0\n",
    "                meldCount = 0\n",
    "                pairCount = 0\n",
    "                connCount = 0\n",
    "                mh = hc[v][:]\n",
    "                #print(\"NO pair land\")\n",
    "                spt = 0\n",
    "                #print(\"spt\",spt)\n",
    "                #print(\"len(mh)\",len(mh))\n",
    "                #print(\"mh\",mh)\n",
    "                #print(\"mh[0]\",mh[0])\n",
    "                while len(mh) > 2 and spt <= len(mh)-1:\n",
    "                    #print(\"spt\",spt)\n",
    "                    #print(\"len(mh)\",len(mh))\n",
    "                    #print(\"mh\",mh)\n",
    "                    #print(\"mh[0]\",mh[0])\n",
    "                    val = mh[spt]\n",
    "                    if mh.count(val) >= 3:\n",
    "                        mh.remove(val)\n",
    "                        mh.remove(val)\n",
    "                        mh.remove(val)\n",
    "                        meldCount += 1\n",
    "                        spt = 0\n",
    "                    elif val in mh and val-1 in mh and val-2 in mh:\n",
    "                        mh.remove(val)\n",
    "                        mh.remove(val-1)\n",
    "                        mh.remove(val-2)\n",
    "                        meldCount += 1\n",
    "                        spt = 0\n",
    "                    elif val in mh and val-1 in mh and val+1 in mh:\n",
    "                        mh.remove(val)\n",
    "                        mh.remove(val-1)\n",
    "                        mh.remove(val+1)\n",
    "                        meldCount += 1\n",
    "                        spt = 0\n",
    "                    elif val in mh and val+1 in mh and val+2 in mh:\n",
    "                        mh.remove(val)\n",
    "                        mh.remove(val+1)\n",
    "                        mh.remove(val+2)\n",
    "                        meldCount += 1\n",
    "                        spt = 0\n",
    "                    else:\n",
    "                        spt += 1\n",
    "                spt = 0\n",
    "                #print(\"pairs smaller area\")\n",
    "                #print(\"spt\",spt)\n",
    "                #print(\"len(mh)\",len(mh))\n",
    "                #print(\"mh\",mh)\n",
    "                #print(\"mh[0]\",mh[0])\n",
    "                while len(mh) > 1 and spt <= len(mh)-1:\n",
    "                    #print(\"spt\",spt)\n",
    "                    #print(\"len(mh)\",len(mh))\n",
    "                    #print(\"mh\",mh)\n",
    "                    #print(\"mh[0]\",mh[0])\n",
    "                    val = mh[spt]\n",
    "                    if mh.count(val) >= 2:\n",
    "                        mh.remove(val)\n",
    "                        mh.remove(val)\n",
    "                        connCount += 1\n",
    "                        spt = 0\n",
    "                    elif val in mh and val+1 in mh:\n",
    "                        mh.remove(val)\n",
    "                        mh.remove(val+1)\n",
    "                        connCount += 1\n",
    "                        spt = 0\n",
    "                    elif val in mh and val+2 in mh:\n",
    "                        #print(\"we're in val+2 mh\",mh,val,val+2)\n",
    "                        mh.remove(val)\n",
    "                        mh.remove(val+2)\n",
    "                        connCount += 1\n",
    "                        spt = 0\n",
    "                    else:\n",
    "                        spt += 1\n",
    "                scores.append([meldCount,pairCount,connCount])\n",
    "            else:\n",
    "                subscores = []\n",
    "                for i in range(len(paired)):\n",
    "                    #print(\"before we even do anything\",hc[v])\n",
    "                    done = 0\n",
    "                    doon = 0\n",
    "                    #print(\"pre-assign\",hc[v])\n",
    "                    mh = hc[v][:]\n",
    "                    #print(\"post-assign\",hc[v])\n",
    "                    #print(\"before pair del\",mh)\n",
    "                    mh.remove(paired[i])\n",
    "                    mh.remove(paired[i])\n",
    "                    #print(\"after pair del\",hc[v])\n",
    "                    meldCount = 0\n",
    "                    pairCount = 1\n",
    "                    connCount = 0\n",
    "                    spt = 0\n",
    "                    #print(\"yeah it went into pair land\")\n",
    "                    while len(mh) > 2 and spt <= len(mh)-1:\n",
    "                        #print(\"spt\",spt)\n",
    "                        #print(\"len(mh)\",len(mh))\n",
    "                        val = mh[spt]\n",
    "                        if mh.count(val) >= 3:\n",
    "                            mh.remove(val)\n",
    "                            mh.remove(val)\n",
    "                            mh.remove(val)\n",
    "                            meldCount += 1\n",
    "                            spt = 0\n",
    "                        elif val in mh and val-1 in mh and val-2 in mh:\n",
    "                            mh.remove(val)\n",
    "                            mh.remove(val-1)\n",
    "                            mh.remove(val-2)\n",
    "                            meldCount += 1\n",
    "                            spt = 0\n",
    "                        elif val in mh and val-1 in mh and val+1 in mh:\n",
    "                            mh.remove(val)\n",
    "                            mh.remove(val-1)\n",
    "                            mh.remove(val+1)\n",
    "                            meldCount += 1\n",
    "                            spt = 0\n",
    "                        elif val in mh and val+1 in mh and val+2 in mh:\n",
    "                            mh.remove(val)\n",
    "                            mh.remove(val+1)\n",
    "                            mh.remove(val+2)\n",
    "                            meldCount += 1\n",
    "                            spt = 0\n",
    "                        else:\n",
    "                            spt += 1\n",
    "                    spt = 0\n",
    "                    while len(mh) > 1 and spt <= len(mh)-1:\n",
    "                        val = mh[spt]\n",
    "                        if mh.count(val) >= 2:\n",
    "                            mh.remove(val)\n",
    "                            mh.remove(val)\n",
    "                            connCount += 1\n",
    "                            spt = 0\n",
    "                        elif val in mh and val+1 in mh:\n",
    "                            mh.remove(val)\n",
    "                            mh.remove(val+1)\n",
    "                            connCount += 1\n",
    "                            spt = 0\n",
    "                        elif val in mh and val+2 in mh:\n",
    "                            #print(\"we're in val+2 mh [secondArea]\",mh,val,val+2)\n",
    "                            mh.remove(val)\n",
    "                            mh.remove(val+2)\n",
    "                            connCount += 1\n",
    "                            spt = 0\n",
    "                        else:\n",
    "                            spt += 1\n",
    "                    #print(\"post-elim\",hc[v])\n",
    "                    subscores.append([meldCount,pairCount,connCount])\n",
    "                scores.append(subscores)\n",
    "    rankScores = []\n",
    "    for i in range(len(scores)):\n",
    "        if len(scores[i]) == 0:\n",
    "            scores[i] = [[0,0,0]]\n",
    "        elif type(scores[i][0]) == int:\n",
    "            scores[i] = [scores[i]]\n",
    "    for i in scores:\n",
    "        np.array(i)\n",
    "    ###print(scores)\n",
    "    for i in scores[0]:\n",
    "        for j in scores[1]:\n",
    "            for k in scores[2]:\n",
    "                for l in scores[3]:\n",
    "                    sum = np.array([0,0,0])\n",
    "                    #print(sum)\n",
    "                    sum += i\n",
    "                    #print(sum)\n",
    "                    sum += j\n",
    "                    #print(sum)\n",
    "                    sum += k\n",
    "                    #print(sum)\n",
    "                    sum += l\n",
    "                    #print(sum)\n",
    "                    #print(sum)\n",
    "                    if sum[1] > 1:\n",
    "                        sum[1] = 1\n",
    "                    #print(sum)\n",
    "                    rankScores.append(shantenLookup(list(sum)))\n",
    "    done = 0\n",
    "    doon = 0\n",
    "    meldCount = 0\n",
    "    pairCount = 0\n",
    "    connCount = 0\n",
    "    mh = hand[:]\n",
    "    spt = 0\n",
    "    #print(\"final area\")\n",
    "    while len(mh) > 2 and spt <= len(mh)-1:\n",
    "        val = mh[spt]\n",
    "        if mh.count(val) >= 3:\n",
    "            mh.remove(val)\n",
    "            mh.remove(val)\n",
    "            mh.remove(val)\n",
    "            meldCount += 1\n",
    "            spt = 0\n",
    "        elif val-1 in mh and val-2 in mh:\n",
    "            mh.remove(val)\n",
    "            mh.remove(val-1)\n",
    "            mh.remove(val-2)\n",
    "            meldCount += 1\n",
    "            spt = 0\n",
    "        elif val in mh and val-1 in mh and val+1 in mh:\n",
    "            mh.remove(val)\n",
    "            mh.remove(val-1)\n",
    "            mh.remove(val+1)\n",
    "            meldCount += 1\n",
    "            spt = 0\n",
    "        elif val in mh and val+1 in mh and val+2 in mh:\n",
    "            mh.remove(val)\n",
    "            mh.remove(val+1)\n",
    "            mh.remove(val+2)\n",
    "            meldCount += 1\n",
    "            spt = 0\n",
    "        else:\n",
    "            spt += 1\n",
    "    spt = 0\n",
    "    \n",
    "    while len(mh) != 0 and spt <= len(mh)-1:\n",
    "        val = mh[spt]\n",
    "        for i in mh:\n",
    "            if mh.count(i) >= 2:\n",
    "                mh.remove(i)\n",
    "                mh.remove(i)\n",
    "                if pairCount == 0:\n",
    "                    pairCount += 1\n",
    "                else:\n",
    "                    connCount += 1\n",
    "                spt = 0\n",
    "        if val in mh and val+1 in mh:\n",
    "            mh.remove(val)\n",
    "            mh.remove(val+1)\n",
    "            connCount += 1\n",
    "            spt = 0\n",
    "        elif val in mh and val+2 in mh:\n",
    "            mh.remove(val)\n",
    "            mh.remove(val+2)\n",
    "            connCount += 1\n",
    "            spt = 0\n",
    "        else:\n",
    "            spt += 1\n",
    "    rankScores.append(shantenLookup([meldCount,pairCount,connCount]))\n",
    "    rankScores.append(daPairShantenPlz(hand))\n",
    "    rankScores.append(daKokushiShantenPlz(hand))\n",
    "    if cc(hand) == True:\n",
    "        rankScores.append(-1)\n",
    "    ###print([meldCount,pairCount,connCount])\n",
    "    ###print(rankScores)\n",
    "    #Interpreting the results:\n",
    "    # -1 = complete\n",
    "    # 0 = tenpai\n",
    "    # 1 = 1 shanten\n",
    "    # 2 = 2 shanten\n",
    "    # etc\n",
    "    return min(rankScores)\n",
    "\n",
    "#testHand = \n",
    "\n",
    "testHand = rhFull(allTiles)\n",
    "#print(len(testHand))\n",
    "#print(testHand)\n",
    "\n",
    "#print(daPairShantenPlz(testHand))\n",
    "\n",
    "#print(\"===\")\n",
    "#print(\"===\")\n",
    "\n",
    "#print(daKokushiShantenPlz(testHand))\n",
    "\n",
    "#print(len(testHand))\n",
    "\n",
    "#shantenPlz(testHand)\n",
    "\n",
    "#######################################################\n",
    "#######################################################\n",
    "#######################################################\n",
    "#######################################################\n",
    "\n",
    "#### NEW FUNCTIONS FOR DETERMINISTIC OFFENSE ##########\n",
    "\n",
    "#uses shantenPlz()\n",
    "\n",
    "#                goals:\n",
    "\n",
    "## imagine a hand, we want to figure out:\n",
    "    # - the shanten\n",
    "    # - how many literal existant tiles improve the shanten of the hand. (Waits)\n",
    "            # (this is a differentiator for 2 shanten hands for example. Not all 2 shantens are equal.)\n",
    "    # - the discard that is most likely to lead to the hand with the best shanten and waits. (2 deep)\n",
    "    \n",
    "    # notes on that last thing I just said -- I gotta think about how involved that is.\n",
    "    ## seems like for one you have to know what tiles are out. this could honestly be condensed in a column\n",
    "    # as a list of all 34 unique tiles by rank (idk if including red 5s separately or not)\n",
    "    #### Also, you'd potentially need to go several checks deep. \n",
    "    \n",
    "# def lookingForward(hand,seenTileCounts):\n",
    "#     ''' takes 2 inputs -- your hand and the tiles you know are out (would already include your hand's tiles)'''\n",
    "    \n",
    "#     stc = seenTileCounts[:] #list of counts of tiles you've seen, max is 4, meaning you can't draw the tile.\n",
    "    \n",
    "#     allTilesListed = [1,2,3,4,5,6,7,8,9,\n",
    "#                       21,22,23,24,25,26,27,28,29,\n",
    "#                       41,42,43,44,45,46,47,48,49,\n",
    "#                       60,70,80,90,100,110,120]    #List of all tiles, but will be updated with all the tiles\n",
    "#     # that are impossible to draw after it accounts for this below.\n",
    "    \n",
    "#     availableDraws = {}\n",
    "    \n",
    "#     for i in range(len(seenTileCounts)):\n",
    "#         availableDraws[allTilesListed[i]] = (4-seenTileCounts[i]) #this process returns a dictionary of how\n",
    "#         #many tiles of each kind are available to draw.\n",
    "    \n",
    "#     #now we can iterate through the unique tiles in the hand:\n",
    "        \n",
    "#     mh = hand[:]\n",
    "#     mhSet = set(hand[:])\n",
    "#     outcomes = {} #storing all the different potential results for if you discard a tile.\n",
    "#     for i in mhSet:\n",
    "#         aD = availableDraws.copy()\n",
    "#         tempMH = mh[:].remove(i)\n",
    "#         outcomes[i] = {\"lhs\":[],\"shantens\":[],\"avgI\":[]} \n",
    "#         scoringLayer2 = []\n",
    "#         # First, there's a list of likelihoods for each draw.\n",
    "#         # Second list is shantens, # Last list is avg improvement looking a second move ahead!\n",
    "#         for j in allTilesListed:\n",
    "#             tempMH2 = tempMH[:].append(j)\n",
    "#             outcomes[i][\"lhs\"].append(aD[j])\n",
    "#             outcomes[i][\"shantens\"].append(shantenPlz(tempMH2))\n",
    "#             ############################################################\n",
    "#             ##Splitting down to the second layer now##\n",
    "#             ############################################################\n",
    "#             #\n",
    "#             MH2 = tempMH2[:]\n",
    "#             MH2SET = set(tempMH2[:])\n",
    "#             o2L = {}\n",
    "#             for k in MH2SET:\n",
    "#                 aD2 = aD.copy()\n",
    "#                 temp2MH = MH2[:].remove(k)\n",
    "#                 o2L[k] = {\"lhs\":[],\"shantens\":[]} \n",
    "#                 #\n",
    "#                 for L in allTilesListed:\n",
    "#                     tempMH2 = tempMH[:].append(L)\n",
    "#                     o2L[k][\"lhs\"].append(aD2[L])\n",
    "#                     o2L[k][\"shantens\"].append(shantenPlz(temp2MH2))\n",
    "#             ##\n",
    "#             ### Adding up the o2L for each j (a weighted average of shantens in 2nd layer):\n",
    "#             summer = 0\n",
    "            \n",
    "#             for x in range(len(o2L.keys())):\n",
    "#                 for y,z in zip(o2L[o2L.keys()[i]][\"lhs\"],o2L[o2L.keys()[i]][\"shantens\"]):\n",
    "                    \n",
    "\n",
    "                \n",
    "                \n",
    "    \n",
    "#######################################################\n",
    "#######################################################\n",
    "#######################################################\n",
    "#######################################################\n",
    "\n",
    "\n",
    "\n",
    "def replacementList(hand):\n",
    "    rList = hand[:]\n",
    "    for i in range(len(rList)):\n",
    "        if rList.count(rList[i]) > 1:\n",
    "            rList[i] = \"x\"\n",
    "    return rList #rList\n",
    "\n",
    "def theReplacements(rList,hand):\n",
    "    #At some point this needs to take all the tiles you know about into consideration.\n",
    "    allTilesTemp = allTiles[:]\n",
    "    for i in hand:\n",
    "        if i in allTilesTemp:\n",
    "            allTilesTemp.remove(i)\n",
    "    exportList = [[],[],[],[],[],[],[],[],[],[],[],[],[],[]]\n",
    "    for i in range(len(rList)):\n",
    "        if type(rList[i]) == int:\n",
    "            for x in set(allTilesTemp):\n",
    "                #if x != rList[i]:\n",
    "                exportList[i].append(x) #if directly above is not commented out then tab this over\n",
    "    return exportList\n",
    "    \n",
    "#darList = replacementList(testHand)\n",
    "\n",
    "#rpla = theReplacements(darList,testHand)\n",
    "\n",
    "def bestTileOfTiles(tiles,hand):\n",
    "    #print(tiles)\n",
    "    valueConvert = [500]*len(tiles)\n",
    "    #\n",
    "    terminals = [1,9,21,29,41,49]\n",
    "    honors = [60,70,80,90,100,110,120]\n",
    "    #kokushis = [terminals] + [honors]\n",
    "    terminalSimples = [2,8,22,28,42,48]\n",
    "    terminalCenters = [3,7,23,27,43,47]\n",
    "    mediumCenters = [4,6,24,26,44,46]\n",
    "    centers = [5,25,45]\n",
    "    #simples = [terminalSimples] + [weakCenters] + [mediumCenters] + [centers]\n",
    "    for i in range(len(tiles)):\n",
    "        if tiles[i] == \"z\":\n",
    "            pass\n",
    "        elif hand[tiles[i]] in honors:\n",
    "            valueConvert[i] = 0\n",
    "        elif hand[tiles[i]] in terminals:\n",
    "            valueConvert[i] = 1\n",
    "        elif hand[tiles[i]] in terminalSimples:\n",
    "            valueConvert[i] = 2\n",
    "        elif hand[tiles[i]] in terminalCenters:\n",
    "            valueConvert[i] = 3\n",
    "        elif hand[tiles[i]] in mediumCenters:\n",
    "            valueConvert[i] = 4\n",
    "        elif hand[tiles[i]] in centers:\n",
    "            valueConvert[i] = 5\n",
    "    return valueConvert\n",
    "            \n",
    "def nextDiscardPlz(hand):\n",
    "    '''this function does not work properly, but the shanten function does.'''\n",
    "    dl = replacementList(hand)\n",
    "    rpl = theReplacements(dl,hand)\n",
    "    #print(\"hand\",hand)\n",
    "    #print(\"dl\",dl)\n",
    "    #print(\"rpl\",rpl)\n",
    "    moveScores = [[],[],[],[],[],[],[],[],[],[],[],[],[],[]] #byIndex\n",
    "    #print(moveScores)\n",
    "    \n",
    "    for i in range(len(hand)):\n",
    "        if dl[i] != \"x\":\n",
    "            for x in range(len(rpl[i])):\n",
    "                mha = hand[:]\n",
    "                #print(\"mha[i]\",mha[i])\n",
    "                #print(\"rpl[i][x]\",rpl[i][x])\n",
    "                mha[i] = rpl[i][x]\n",
    "                mha = sorted(mha)\n",
    "                #print(\"sorted mha\",mha)\n",
    "                moveScores[i].append(shantenPlz(mha))\n",
    "    moveScoresFinal = []\n",
    "    #print(moveScores)\n",
    "    for i in range(len(moveScores)):\n",
    "        #if len(moveScores[i]) != 0:\n",
    "            #moveScoresFinal.append(min(moveScores[i]))\n",
    "        if len(moveScores[i]) != 0:\n",
    "            moveScoresFinal.append(np.sum(moveScores[i]))\n",
    "        else:\n",
    "            moveScoresFinal.append(500)\n",
    "    #print(moveScoresFinal)\n",
    "    \n",
    "    equalChecker = min(moveScoresFinal)\n",
    "    toValueCheck = []\n",
    "    for i in range(len(moveScoresFinal)):\n",
    "        if moveScoresFinal[i] == equalChecker:\n",
    "            toValueCheck.append(i)\n",
    "        else:\n",
    "            toValueCheck.append(\"z\")\n",
    "    realSelectFrom = bestTileOfTiles(toValueCheck,hand)\n",
    "    #print(realSelectFrom)\n",
    "    #print(\"actual hand\",hand)\n",
    "    basicStart = False\n",
    "    datDisc = 0\n",
    "    for i in range(len(hand)):\n",
    "        if hand[i] > 59 and hand.count(hand[i]) < 2:\n",
    "            basicStart = True\n",
    "            datDisc = i\n",
    "    if basicStart == True:\n",
    "        return i\n",
    "    else:\n",
    "        return realSelectFrom.index(min(realSelectFrom))\n",
    "    #return moveScoresFinal.index(min(moveScoresFinal))\n",
    "#import time\n",
    "\n",
    "#t1 = time.time()\n",
    "#print(nextDiscardPlz(testHand))\n",
    "#t2 = time.time()\n",
    "#print(\"runtime\",t2-t1)\n",
    "\n",
    "#th = [3, 3, 4, 4, 5, 5, 21, 23, 25, 26, 26, 44, 45, 46]\n",
    "\n",
    "#print(shantenPlz(th))\n"
   ]
  },
  {
   "cell_type": "code",
   "execution_count": 12,
   "metadata": {},
   "outputs": [
    {
     "data": {
      "text/plain": [
       "2.2796747967479671"
      ]
     },
     "execution_count": 12,
     "metadata": {},
     "output_type": "execute_result"
    }
   ],
   "source": [
    "def lookingForward(hand,seenTileCounts,outputMode):\n",
    "    #1 deep only\n",
    "    ''' takes 2 inputs -- your hand and the tiles you know are out (would already include your hand's tiles)'''\n",
    "    \n",
    "    stc = seenTileCounts[:] #list of counts of tiles you've seen, max is 4, meaning you can't draw the tile.\n",
    "    \n",
    "    allTilesListed = [1,2,3,4,5,6,7,8,9,\n",
    "                      21,22,23,24,25,26,27,28,29,\n",
    "                      41,42,43,44,45,46,47,48,49,\n",
    "                      60,70,80,90,100,110,120]    #List of all tiles, but will be updated with all the tiles\n",
    "    # that are impossible to draw after it accounts for this below.\n",
    "    \n",
    "    availableDraws = {}\n",
    "    \n",
    "    for i in range(len(seenTileCounts)):\n",
    "        availableDraws[allTilesListed[i]] = (4-seenTileCounts[i]) #this process returns a dictionary of how\n",
    "        #many tiles of each kind are available to draw.\n",
    "\n",
    "    #print(availableDraws)\n",
    "    \n",
    "    #now we can iterate through the unique tiles in the hand:\n",
    "        \n",
    "    mh = hand[:]\n",
    "    #print(\"hand\",hand)\n",
    "    mhSet = set(hand[:])\n",
    "    #print(\"mhSet\",mhSet)\n",
    "    outcomes = {} #storing all the different potential results for if you discard a tile.\n",
    "    #print(\"outcomes\",outcomes)\n",
    "    for i in mhSet:\n",
    "        #print(\"i in mhSet\",i)\n",
    "        aD = availableDraws.copy()\n",
    "        #print(\"aD\",aD)\n",
    "        tempMH = mh[:]#.remove(i)\n",
    "        tempMH.remove(i)\n",
    "        #print(\"tempMH\",tempMH)\n",
    "        outcomes[i] = {\"lhs\":[],\"shantens\":[]} \n",
    "        scoringLayer2 = []\n",
    "        # First, there's a list of likelihoods for each draw.\n",
    "        # Second list is shantens, # Last list is avg improvement looking a second move ahead!\n",
    "        for j in allTilesListed:\n",
    "            tempMH2 = tempMH[:]#.append(j)\n",
    "            tempMH2.append(j)\n",
    "            tempMH2 = sorted(tempMH2)\n",
    "            #print(\"tempMH2\",tempMH2)\n",
    "            outcomes[i][\"lhs\"].append(aD[j])\n",
    "            outcomes[i][\"shantens\"].append(shantenPlz(tempMH2))\n",
    "            \n",
    "    averageOutcomes = [[]]\n",
    "    manualAvg = []\n",
    "    for i in outcomes.keys():\n",
    "        bigList = []\n",
    "        #print (\"i\",i)\n",
    "        for y,z in zip(outcomes[i][\"lhs\"],outcomes[i][\"shantens\"]):\n",
    "            #print(y,z)\n",
    "            for _ in range(y):\n",
    "                bigList.append(z)\n",
    "        #print(\"avg outcome if disc \"+str(i),np.mean(bigList))\n",
    "        averageOutcomes[-1].append(np.mean(bigList))\n",
    "        manualAvg.append(np.mean(bigList))\n",
    "        averageOutcomes[-1].append(i)\n",
    "        averageOutcomes.append([])\n",
    "    averageOutcomes.remove(averageOutcomes[-1])\n",
    "    #for i in averageOutcomes:\n",
    "        #print(i)\n",
    "    #averaged1stLayer = np.mean(averageOutcomes)\n",
    "    #print(\"averaged1stLayer\",averaged1stLayer)\n",
    "    averageOutcomes = sorted(averageOutcomes)\n",
    "    #print(averageOutcomes[0][1])\n",
    "    #print(\"manualAvg\",np.mean(manualAvg))\n",
    "    \n",
    "    if outputMode == \"singleBest\":\n",
    "        return averageOutcomes[0][1]\n",
    "    elif outputMode == \"average\":\n",
    "        return np.mean(manualAvg)\n",
    "            \n",
    "st = [0]*34\n",
    "mapz  = [0,1,2,3,4,5,6,7,8,  9,10,11,12,13,14,15,16,17, 18,19,20,21,22,23,24,25,26, 27,28,29,30, 31, 32, 33]\n",
    "tilez = [1,2,3,4,5,6,7,8,9, 21,22,23,24,25,26,27,28,29, 41,42,43,44,45,46,47,48,49, 60,70,80,90,100,110,120]\n",
    "hand = [1,2,4,5,6,7,23,23,28,70,70,70,100]\n",
    "for i in range(len(hand)):\n",
    "    st[mapz[tilez.index(hand[i])]] += 1\n",
    "#print(st)\n",
    "\n",
    "#lookingForward(hand,st,\"singleBest\")\n",
    "lookingForward(hand,st,\"average\")"
   ]
  },
  {
   "cell_type": "code",
   "execution_count": 13,
   "metadata": {},
   "outputs": [
    {
     "data": {
      "text/plain": [
       "-1"
      ]
     },
     "execution_count": 13,
     "metadata": {},
     "output_type": "execute_result"
    }
   ],
   "source": [
    "shantenPlz([1,1,1,2,2,2,3,3,3,4,4,4,5,5])"
   ]
  },
  {
   "cell_type": "code",
   "execution_count": 14,
   "metadata": {
    "collapsed": true
   },
   "outputs": [],
   "source": [
    "def playHand(forwardVersion):\n",
    "    hand = rhFull13(allTiles)\n",
    "    at2 = allTiles[:]\n",
    "    rn.shuffle(at2)\n",
    "    for i in range(len(hand)):\n",
    "        at2.remove(hand[i])\n",
    "        \n",
    "    st = [0]*34\n",
    "    mapz  = [0,1,2,3,4,5,6,7,8,  9,10,11,12,13,14,15,16,17, 18,19,20,21,22,23,24,25,26, 27,28,29,30, 31, 32, 33]\n",
    "    tilez = [1,2,3,4,5,6,7,8,9, 21,22,23,24,25,26,27,28,29, 41,42,43,44,45,46,47,48,49, 60,70,80,90,100,110,120]\n",
    "    for i in range(len(hand)):\n",
    "        st[mapz[tilez.index(hand[i])]] += 1\n",
    "    \n",
    "    timeWon = -1\n",
    "        \n",
    "    for i in range(18):\n",
    "        if shantenPlz(hand) != 0:\n",
    "            hand.append(at2[0])\n",
    "            st[mapz[tilez.index(hand[-1])]] += 1\n",
    "            #print(\"drew \" + (str(at2[0])))\n",
    "            hand = sorted(hand)\n",
    "            #print(\"hand now\",hand)\n",
    "            at2.remove(at2[0])\n",
    "            dusk = forwardVersion(hand,st,\"singleBest\")\n",
    "            #print(\"discard selection\",str(dusk))\n",
    "            hand.remove(dusk)\n",
    "        else:\n",
    "            #print(\"winrar in \" + str(i-1) + \"!\")\n",
    "            #print(\"handFinal\",hand)\n",
    "            timeWon = i\n",
    "            break\n",
    "    if timeWon == -1:\n",
    "        return 0\n",
    "    else:\n",
    "        return 1\n",
    "    \n",
    "        \n",
    "    \n",
    "        "
   ]
  },
  {
   "cell_type": "markdown",
   "metadata": {},
   "source": [
    "### Notes on the effectiveness of lookingForward() ...\n",
    "\n",
    "#### There is an amazing accident where once the amount of waits is maximized, it discards lone tiles and holds onto honors.\n",
    "\n",
    "#### I'm unsure whether this is good or bad, but it /could/ be very good if it doesn't go all in with single waits.\n",
    "\n",
    "#### Also, there is definitely still a problem where it will value 7 9 where all the 8's are gone, which needs to be addressed.\n",
    "\n",
    "#### Also also don't forget about lookingForward2.  Is probably worth finishing that one or redesigning lookingForward to be a recursive algorithm with a specified depth.  After this we could compare how long it takes, and also fix the random state and give the different depths the same problems and see how much improvement we get with each step versus how much additional time cost we incur.  I'm guessing that depth 1 or 2 are the only viable choices and that it probably is actually worth it to go 2 deep.  I think it's also beneficial in a lot of cases to annoy your opponents by using a lot of time to make your moves, because I am annoyed by such players sometimes, and when people are mad they don't think clearly.\n",
    "\n",
    "### Oh very important to fix by making it go 2 deep instead of 1, is that it will actually differentiate between central tiles and terminals.  For example, a lone 5 sou is far more likely to yield a higher shanten than a lone 2 sou, because imagine the following 9 possible beneficial draws 1 sou thru 9 sou.\n",
    "\n",
    "#### 2 sou interacts with 1,2,3, and 4, (2 interacts with 4 tiles)  but 5 sou interacts with 3,4,5,6, and 7! 5 tiles!\n",
    "\n",
    "#### So this would seem to suggest 3,4,5,6,7 are better than 2,8 are better than 1,9, but isn't there a heirarchy within the central tiles as well?? This would involve looking VERY deep, but yes, 5s are the best for sure generally.  One interesting note here.  Suppose you have a couple lone tiles... a 3 sou and a 5 sou... and you're just waiting for your last double wait to come in.  Well, you don't want to throw the 5 sou, because then people can dodge you, safely throwing their 2 sou or 8 sou, knowing you do not have a -34- or -67- waiting on the 5."
   ]
  },
  {
   "cell_type": "code",
   "execution_count": 15,
   "metadata": {
    "collapsed": true
   },
   "outputs": [],
   "source": [
    "def lookingForward2(hand,seenTileCounts,placeholder):\n",
    "    #looking to simply replace a part of this with the function lookingForward()\n",
    "    ''' takes 2 inputs -- your hand and the tiles you know are out (would already include your hand's tiles)'''\n",
    "    \n",
    "    stc = seenTileCounts[:] #list of counts of tiles you've seen, max is 4, meaning you can't draw the tile.\n",
    "    \n",
    "    allTilesListed = [1,2,3,4,5,6,7,8,9,\n",
    "                      21,22,23,24,25,26,27,28,29,\n",
    "                      41,42,43,44,45,46,47,48,49,\n",
    "                      60,70,80,90,100,110,120]    #List of all tiles, but will be updated with all the tiles\n",
    "    # that are impossible to draw after it accounts for this below.\n",
    "    \n",
    "    availableDraws = {}\n",
    "    \n",
    "    for i in range(len(seenTileCounts)):\n",
    "        availableDraws[allTilesListed[i]] = (4-seenTileCounts[i]) #this process returns a dictionary of how\n",
    "        #many tiles of each kind are available to draw.\n",
    "\n",
    "    #print(availableDraws)\n",
    "    \n",
    "    #now we can iterate through the unique tiles in the hand:\n",
    "        \n",
    "    mh = hand[:]\n",
    "    #print(\"hand\",hand)\n",
    "    mhSet = set(hand[:])\n",
    "    #print(\"mhSet\",mhSet)\n",
    "    outcomes = {} #storing all the different potential results for if you discard a tile.\n",
    "    #print(\"outcomes\",outcomes)\n",
    "    for i in mhSet:\n",
    "        #print(\"i in mhSet\",i)\n",
    "        aD = availableDraws.copy()\n",
    "        #print(\"aD\",aD)\n",
    "        tempMH = mh[:]#.remove(i)\n",
    "        tempMH.remove(i)\n",
    "        #print(\"tempMH\",tempMH)\n",
    "        outcomes[i] = {\"lhs\":[],\"averages\":[]} \n",
    "        scoringLayer2 = []\n",
    "        # First, there's a list of likelihoods for each draw.\n",
    "        # Second list is shantens, # Last list is avg improvement looking a second move ahead!\n",
    "        for j in allTilesListed:\n",
    "            stcSub = stc[:]\n",
    "            mapz  = [0,1,2,3,4,5,6,7,8,  9,10,11,12,13,14,15,16,17, 18,19,20,21,22,23,24,25,26, 27,28,29,30, 31, 32, 33]\n",
    "            tilez = [1,2,3,4,5,6,7,8,9, 21,22,23,24,25,26,27,28,29, 41,42,43,44,45,46,47,48,49, 60,70,80,90,100,110,120]\n",
    "            stcSub[mapz[tilez.index(j)]] += 1\n",
    "            tempMH2 = tempMH[:]#.append(j)\n",
    "            tempMH2.append(j)\n",
    "            tempMH2 = sorted(tempMH2)\n",
    "            #print(\"tempMH2\",tempMH2)\n",
    "            outcomes[i][\"lhs\"].append(aD[j])\n",
    "            outcomes[i][\"averages\"].append(lookingForward(tempMH2,stcSub,\"average\"))\n",
    "            \n",
    "    averageOutcomes = [[]]\n",
    "    for i in outcomes.keys():\n",
    "        bigList = []\n",
    "        #print (\"i\",i)\n",
    "        for y,z in zip(outcomes[i][\"lhs\"],outcomes[i][\"averages\"]):\n",
    "            #print(y,z)\n",
    "            for _ in range(y):\n",
    "                bigList.append(z)\n",
    "        #print(\"avg outcome if disc \"+str(i),np.mean(bigList))\n",
    "        averageOutcomes[-1].append(np.mean(bigList))\n",
    "        averageOutcomes[-1].append(i)\n",
    "        averageOutcomes.append([])\n",
    "    averageOutcomes.remove(averageOutcomes[-1])\n",
    "    #for i in averageOutcomes:\n",
    "        #print(i)\n",
    "    #averaged1stLayer = np.mean(averageOutcomes)\n",
    "    #print(\"averaged1stLayer\",averaged1stLayer)\n",
    "    averageOutcomes = sorted(averageOutcomes)\n",
    "    #print(averageOutcomes[0][1])\n",
    "    return averageOutcomes[0][1]"
   ]
  },
  {
   "cell_type": "code",
   "execution_count": 17,
   "metadata": {
    "collapsed": true
   },
   "outputs": [],
   "source": [
    "# totals = []\n",
    "# for i in range(10):\n",
    "#     totals.append(playHand(lookingForward))\n",
    "    \n",
    "# print(np.mean(totals))"
   ]
  },
  {
   "cell_type": "markdown",
   "metadata": {},
   "source": [
    "### There's a little bug with playHand() where it actually needs to complete the hand and then discard a tile for it to win, but yeah it doesn't matter, just observing a few of lookingForward2's hands, it seems to play immaculately, hedging between 7 pairs and a regular hand sometimes, things people who are very familiar with Mahjong do.\n",
    "\n",
    "### The problem with this function is that it's like n<sup>4</sup> time, whereas lookingForward is just n<sup>2</sup> time.\n",
    "\n",
    "### As of now, lookingForward 2 is too slow but is very very ideal in terms of decisions, and lookingForward is more than fast enough, but is weak.\n",
    "\n",
    "### If I could find a way (if it's possible) to cut lookingForward to n time and then lookingForward2 to n<sup>2</sup> time, we're in business.\n",
    "\n",
    "### For now we will stick with lookingForward() for our discards."
   ]
  },
  {
   "cell_type": "code",
   "execution_count": null,
   "metadata": {
    "collapsed": true
   },
   "outputs": [],
   "source": []
  },
  {
   "cell_type": "code",
   "execution_count": 18,
   "metadata": {},
   "outputs": [
    {
     "name": "stdout",
     "output_type": "stream",
     "text": [
      "[1, 1, 3, 3, 6, 9, 9, 27, 29, 29, 45, 45, 60, 120]\n",
      "1\n",
      "0.0036554336547851562\n",
      "[8, 25, 27, 27, 28, 43, 44, 44, 46, 47, 48, 49, 80, 110]\n",
      "4\n",
      "0.0008709430694580078\n",
      "[2, 2, 3, 5, 6, 21, 22, 22, 25, 26, 42, 44, 48, 80]\n",
      "3\n",
      "0.0007314682006835938\n",
      "[3, 5, 6, 7, 8, 8, 25, 26, 28, 41, 43, 45, 90, 110]\n",
      "3\n",
      "0.0006966590881347656\n",
      "[3, 3, 4, 5, 5, 6, 25, 26, 29, 29, 42, 47, 48, 70]\n",
      "2\n",
      "0.000762939453125\n",
      "[4, 8, 22, 22, 22, 24, 27, 28, 41, 41, 42, 49, 100, 120]\n",
      "4\n",
      "0.0007328987121582031\n",
      "[3, 4, 5, 9, 23, 23, 26, 26, 45, 46, 47, 60, 100, 110]\n",
      "2\n",
      "0.000701904296875\n",
      "[3, 4, 6, 21, 22, 23, 25, 26, 41, 41, 42, 80, 120, 120]\n",
      "2\n",
      "0.0006937980651855469\n",
      "[1, 4, 7, 7, 8, 23, 24, 25, 41, 44, 46, 47, 49, 120]\n",
      "3\n",
      "0.0006971359252929688\n",
      "[3, 5, 8, 26, 26, 41, 42, 42, 47, 60, 60, 60, 80, 90]\n",
      "3\n",
      "0.0006794929504394531\n"
     ]
    }
   ],
   "source": [
    "import time\n",
    "\n",
    "for i in range(10):\n",
    "    time_start = time.time()\n",
    "    th = rhFull(allTiles)\n",
    "    print(th)\n",
    "    print(shantenPlz(th))\n",
    "    time_end = time.time()\n",
    "    print(time_end-time_start)"
   ]
  },
  {
   "cell_type": "markdown",
   "metadata": {},
   "source": [
    "# Run all above cells and then below is the place where you can handle adding shanten data for each players' hand at each move."
   ]
  },
  {
   "cell_type": "code",
   "execution_count": 19,
   "metadata": {
    "collapsed": true
   },
   "outputs": [],
   "source": [
    "def shantenColumn(lisk):\n",
    "    outList = []\n",
    "    for i in range(len(lisk)):\n",
    "        if type(lisk[i]) == str:\n",
    "            pass\n",
    "        else:\n",
    "            lisk[i] = shantenPlz(lisk[i])\n",
    "    return lisk"
   ]
  },
  {
   "cell_type": "code",
   "execution_count": 20,
   "metadata": {
    "collapsed": true
   },
   "outputs": [],
   "source": [
    "def stringOfListToList(sol):\n",
    "    if sol != '[]':\n",
    "        sol = list(sol.split(\"[\")[1].split(\"]\")[0].split(\",\"))\n",
    "        sol = [int(i) for i in sol]\n",
    "    else:\n",
    "        sol = []\n",
    "    return sol"
   ]
  },
  {
   "cell_type": "code",
   "execution_count": 21,
   "metadata": {
    "collapsed": true
   },
   "outputs": [],
   "source": [
    "def stlColumn(df,col):\n",
    "    vals = df.copy()[col].values\n",
    "    #print(vals)\n",
    "    for i in range(len(vals)):\n",
    "        #print(vals[i])\n",
    "        vals[i] = stringOfListToList(vals[i])\n",
    "    return vals"
   ]
  },
  {
   "cell_type": "code",
   "execution_count": 22,
   "metadata": {
    "collapsed": true
   },
   "outputs": [],
   "source": [
    "#shantenListEngineer([1,1,1,2,2,2,4,4,4,5,5,5,6],[4,4,4,4,5,6])"
   ]
  },
  {
   "cell_type": "code",
   "execution_count": 23,
   "metadata": {
    "collapsed": true
   },
   "outputs": [],
   "source": [
    "def shantenListEngineer(_1_,_2_):\n",
    "    '''\n",
    "    _1_ -- actorHandConverted[i]  (a list)\n",
    "    _2_ -- actorOpenTiles[i]    (a list)\n",
    "    returns _1_ as actorShantenCheckHand[i] (a list)\n",
    "    '''\n",
    "    for i in _2_:\n",
    "        try:\n",
    "            _1_.remove(i)\n",
    "        except:\n",
    "            pass\n",
    "    # print(_1_)\n",
    "    # print(len(_1_))\n",
    "\n",
    "    if len(_1_) in [1,2]:\n",
    "        for i in range(4):\n",
    "            for x in range(3):\n",
    "                _1_.append((200+(i*10)))\n",
    "    elif len(_1_) in [4,5]:\n",
    "        for i in range(3):\n",
    "            for x in range(3):\n",
    "                _1_.append((200+(i*10)))\n",
    "    elif len(_1_) in [7,8]:\n",
    "        for i in range(2):\n",
    "            for x in range(3):\n",
    "                _1_.append((200+(i*10)))\n",
    "    elif len(_1_) in [10,11]:\n",
    "        for i in range(1):\n",
    "            for x in range(3):\n",
    "                _1_.append((200+(i*10)))\n",
    "    # print(_1_)\n",
    "    # print(len(_1_))\n",
    "    return(_1_)"
   ]
  },
  {
   "cell_type": "code",
   "execution_count": 24,
   "metadata": {
    "collapsed": true
   },
   "outputs": [],
   "source": [
    "def shantenEngineerColumn(df,colAHC,colAOT):\n",
    "    '''\n",
    "    df -- dataframe\n",
    "    colAHC -- actorHandConverted column\n",
    "    colAOT -- actorOpenTiles column\n",
    "    '''\n",
    "    dfX = df.copy()\n",
    "    SEC = []\n",
    "    for i in zip(dfX[[colAHC,colAOT]].values):\n",
    "        SEC.append(shantenListEngineer(i[0][0],i[0][1]))\n",
    "    return SEC"
   ]
  },
  {
   "cell_type": "code",
   "execution_count": 25,
   "metadata": {
    "collapsed": true
   },
   "outputs": [],
   "source": [
    "import pandas as pd"
   ]
  },
  {
   "cell_type": "code",
   "execution_count": 26,
   "metadata": {
    "collapsed": true
   },
   "outputs": [],
   "source": [
    "df = pd.read_csv(\"goodPlz/houou.csv\").drop(\"Unnamed: 0\",axis=1)"
   ]
  },
  {
   "cell_type": "code",
   "execution_count": 27,
   "metadata": {},
   "outputs": [
    {
     "name": "stdout",
     "output_type": "stream",
     "text": [
      "{13, 14, 15}\n"
     ]
    }
   ],
   "source": [
    "valz = stlColumn(df,\"actorHandConverted\")\n",
    "lengths = []\n",
    "for i in valz:\n",
    "    lengths.append(len(i))\n",
    "print(set(lengths))"
   ]
  },
  {
   "cell_type": "markdown",
   "metadata": {},
   "source": [
    "### Okay it is clear now that the bug is coming from the original mahjong data parsing."
   ]
  },
  {
   "cell_type": "code",
   "execution_count": 28,
   "metadata": {
    "collapsed": true
   },
   "outputs": [],
   "source": [
    "dfDiscards = df[df[\"moveType\"]==\"discard\"]"
   ]
  },
  {
   "cell_type": "code",
   "execution_count": 29,
   "metadata": {},
   "outputs": [
    {
     "name": "stderr",
     "output_type": "stream",
     "text": [
      "/home/tpeach/anaconda3/lib/python3.6/site-packages/ipykernel_launcher.py:1: SettingWithCopyWarning: \n",
      "A value is trying to be set on a copy of a slice from a DataFrame.\n",
      "Try using .loc[row_indexer,col_indexer] = value instead\n",
      "\n",
      "See the caveats in the documentation: http://pandas.pydata.org/pandas-docs/stable/indexing.html#indexing-view-versus-copy\n",
      "  \"\"\"Entry point for launching an IPython kernel.\n",
      "/home/tpeach/anaconda3/lib/python3.6/site-packages/ipykernel_launcher.py:2: SettingWithCopyWarning: \n",
      "A value is trying to be set on a copy of a slice from a DataFrame.\n",
      "Try using .loc[row_indexer,col_indexer] = value instead\n",
      "\n",
      "See the caveats in the documentation: http://pandas.pydata.org/pandas-docs/stable/indexing.html#indexing-view-versus-copy\n",
      "  \n"
     ]
    }
   ],
   "source": [
    "dfDiscards[\"actorHandConverted\"] = stlColumn(dfDiscards,\"actorHandConverted\")\n",
    "dfDiscards[\"actorOpenTiles\"] = stlColumn(dfDiscards,\"actorOpenTiles\")"
   ]
  },
  {
   "cell_type": "code",
   "execution_count": 30,
   "metadata": {},
   "outputs": [
    {
     "data": {
      "text/plain": [
       "array([[[2, 3, 23, 28, 29, 43, 43, 44, 44, 45, 46, 60, 60, 120], []],\n",
       "       [[3, 9, 21, 21, 22, 23, 24, 26, 42, 44, 47, 48, 100, 110], []],\n",
       "       [[1, 5, 7, 7, 8, 22, 27, 29, 29, 44, 70, 70, 100, 110], []],\n",
       "       [[3, 22, 23, 24, 25, 27, 27, 28, 42, 48, 60, 90, 100, 110], []],\n",
       "       [[2, 3, 23, 28, 29, 43, 43, 44, 44, 45, 46, 60, 60, 80], []]], dtype=object)"
      ]
     },
     "execution_count": 30,
     "metadata": {},
     "output_type": "execute_result"
    }
   ],
   "source": [
    "dfDiscards[[\"actorHandConverted\",\"actorOpenTiles\"]].values[:5]"
   ]
  },
  {
   "cell_type": "code",
   "execution_count": 31,
   "metadata": {},
   "outputs": [
    {
     "name": "stdout",
     "output_type": "stream",
     "text": [
      "{14, 15}\n"
     ]
    }
   ],
   "source": [
    "lengths = []\n",
    "for i in dfDiscards[\"actorHandConverted\"].values:\n",
    "    lengths.append(len(i))\n",
    "    \n",
    "print(set(lengths))"
   ]
  },
  {
   "cell_type": "code",
   "execution_count": 32,
   "metadata": {},
   "outputs": [
    {
     "name": "stdout",
     "output_type": "stream",
     "text": [
      "2\n"
     ]
    }
   ],
   "source": [
    "counter = 0\n",
    "for i in lengths:\n",
    "    if i == 15:\n",
    "        counter += 1\n",
    "print(counter)"
   ]
  },
  {
   "cell_type": "markdown",
   "metadata": {},
   "source": [
    "### I'm back here checking a bug that has been here for a while and went unnoticed. going to write a function that checks the length of all shantenListEngineer outputs and finds the index of the ones that screw up and fix the bug.\n",
    "\n",
    "### edit: the bug is so minimal that it doesn't even matter.  We don't really use unconvertedHand for anything, and the two convertedHand errors in this 50-game mini dataset are negligible."
   ]
  },
  {
   "cell_type": "code",
   "execution_count": 33,
   "metadata": {
    "collapsed": true
   },
   "outputs": [],
   "source": [
    "def bugLists(df,colAHC,colAOT):\n",
    "    dfX = df.copy()\n",
    "    SEC = []\n",
    "    for i in zip(dfX[[colAHC,colAOT]].values):\n",
    "        SEC.append(shantenListEngineer(i[0][0],i[0][1]))\n",
    "        bugList = []\n",
    "    for i in range(len(SEC)):\n",
    "        if len(SEC[i]) != 14:\n",
    "            bugList.append([i,SEC[i],df[colAHC].values[i],df[colAOT].values[i]])\n",
    "    return bugList"
   ]
  },
  {
   "cell_type": "code",
   "execution_count": 34,
   "metadata": {},
   "outputs": [
    {
     "data": {
      "text/plain": [
       "array([[3, 4, 4, 4, 24, 24, 25, 25, 25, 46, 46, 46, 110, 110],\n",
       "       [4, 4, 4, 25, 25, 25, 25, 46, 46, 46, 46]], dtype=object)"
      ]
     },
     "execution_count": 34,
     "metadata": {},
     "output_type": "execute_result"
    }
   ],
   "source": [
    "dfDiscards[[\"actorHandConverted\",\"actorOpenTiles\"]].values[202]"
   ]
  },
  {
   "cell_type": "code",
   "execution_count": 35,
   "metadata": {},
   "outputs": [
    {
     "data": {
      "text/plain": [
       "[[7178,\n",
       "  [22, 24, 26, 28, 28, 42, 44, 60, 70],\n",
       "  [22, 24, 26, 28, 28, 42, 44, 60, 70],\n",
       "  [3, 4, 5, 60, 60, 60]],\n",
       " [7182,\n",
       "  [22, 24, 26, 28, 28, 28, 42, 44, 60],\n",
       "  [22, 24, 26, 28, 28, 28, 42, 44, 60],\n",
       "  [3, 4, 5, 60, 60, 60]],\n",
       " [7186,\n",
       "  [24, 24, 26, 28, 28, 28, 42, 44, 60],\n",
       "  [24, 24, 26, 28, 28, 28, 42, 44, 60],\n",
       "  [3, 4, 5, 60, 60, 60]],\n",
       " [21179,\n",
       "  [1, 3, 6, 7, 22, 22, 25, 25, 25, 25, 44, 47, 80, 110, 110],\n",
       "  [1, 3, 6, 7, 22, 22, 25, 25, 25, 25, 44, 47, 80, 110, 110],\n",
       "  [120, 120, 120, 120]],\n",
       " [21183,\n",
       "  [1, 3, 6, 7, 22, 22, 25, 25, 25, 25, 44, 47, 60, 110, 110],\n",
       "  [1, 3, 6, 7, 22, 22, 25, 25, 25, 25, 44, 47, 60, 110, 110],\n",
       "  [120, 120, 120, 120]]]"
      ]
     },
     "execution_count": 35,
     "metadata": {},
     "output_type": "execute_result"
    }
   ],
   "source": [
    "bugLists(dfDiscards,\"actorHandConverted\",\"actorOpenTiles\")"
   ]
  },
  {
   "cell_type": "code",
   "execution_count": 36,
   "metadata": {
    "collapsed": true
   },
   "outputs": [],
   "source": [
    "secExport = shantenEngineerColumn(dfDiscards,\"actorHandConverted\",\"actorOpenTiles\")"
   ]
  },
  {
   "cell_type": "code",
   "execution_count": 37,
   "metadata": {},
   "outputs": [
    {
     "name": "stderr",
     "output_type": "stream",
     "text": [
      "/home/tpeach/anaconda3/lib/python3.6/site-packages/ipykernel_launcher.py:1: SettingWithCopyWarning: \n",
      "A value is trying to be set on a copy of a slice from a DataFrame.\n",
      "Try using .loc[row_indexer,col_indexer] = value instead\n",
      "\n",
      "See the caveats in the documentation: http://pandas.pydata.org/pandas-docs/stable/indexing.html#indexing-view-versus-copy\n",
      "  \"\"\"Entry point for launching an IPython kernel.\n"
     ]
    }
   ],
   "source": [
    "dfDiscards[\"shantenEngineeringColumn\"] = secExport"
   ]
  },
  {
   "cell_type": "code",
   "execution_count": 38,
   "metadata": {},
   "outputs": [
    {
     "data": {
      "text/plain": [
       "21758"
      ]
     },
     "execution_count": 38,
     "metadata": {},
     "output_type": "execute_result"
    }
   ],
   "source": [
    "len(dfDiscards[\"shantenEngineeringColumn\"].values)"
   ]
  },
  {
   "cell_type": "code",
   "execution_count": 39,
   "metadata": {},
   "outputs": [
    {
     "name": "stdout",
     "output_type": "stream",
     "text": [
      "21758\n"
     ]
    }
   ],
   "source": [
    "lenchecker = []\n",
    "for i in dfDiscards[\"shantenEngineeringColumn\"].values:\n",
    "    try:\n",
    "        lenchecker.append(shantenPlz(i))\n",
    "    except:\n",
    "        print(i)\n",
    "        #lenchecker.append(999)\n",
    "print(len(lenchecker))"
   ]
  },
  {
   "cell_type": "code",
   "execution_count": 40,
   "metadata": {},
   "outputs": [
    {
     "name": "stderr",
     "output_type": "stream",
     "text": [
      "/home/tpeach/anaconda3/lib/python3.6/site-packages/ipykernel_launcher.py:1: SettingWithCopyWarning: \n",
      "A value is trying to be set on a copy of a slice from a DataFrame.\n",
      "Try using .loc[row_indexer,col_indexer] = value instead\n",
      "\n",
      "See the caveats in the documentation: http://pandas.pydata.org/pandas-docs/stable/indexing.html#indexing-view-versus-copy\n",
      "  \"\"\"Entry point for launching an IPython kernel.\n"
     ]
    }
   ],
   "source": [
    "dfDiscards[\"shanten\"] = lenchecker"
   ]
  },
  {
   "cell_type": "code",
   "execution_count": 41,
   "metadata": {},
   "outputs": [
    {
     "data": {
      "text/plain": [
       " 2    6549\n",
       " 1    5815\n",
       " 3    4305\n",
       " 0    3181\n",
       " 4    1497\n",
       " 5     393\n",
       " 6      12\n",
       "-1       6\n",
       "Name: shanten, dtype: int64"
      ]
     },
     "execution_count": 41,
     "metadata": {},
     "output_type": "execute_result"
    }
   ],
   "source": [
    "dfDiscards[\"shanten\"].value_counts()"
   ]
  },
  {
   "cell_type": "markdown",
   "metadata": {
    "collapsed": true
   },
   "source": [
    "#### So we're here in the new notebook, ready to update the data we import with new features engineered and we're gonna explore whether there's any validity to those features.\n",
    "\n",
    "#### Let's outline the process and ramble a bit:\n",
    "\n",
    "1) Make column that is the average distance from the 5 tile for an entire pond, regardless of the length of the pond. We will be counting Honors the same as Terminals in this distance calculation because from domain experience, I feel as though they are comparable even though Honors theoretically can't have a distance from 5 because they are unable to be used with number tiles.\n",
    "\n",
    "2) Make other columns that are the exact same kind of average, except we will be taking the last \"n\" discards and averaging those distances from 5.  I'm thinking some good starting columns could be 3, 4, 5, 6.  I mean if you look too narrowly or too widely, what's the point, right?  And also, I have to keep in mind that there's a lot of potential colinearity here.  I'm probably either going to have to do PCA to avoid this, or pick the best engineered feature here for interpretability.  I mean also I could just make a bunch of different models.  But yeah I'd also definitely like to know, as a Mahjong player, what a good practical indicator for someone being 1 away from a winning hand is."
   ]
  },
  {
   "cell_type": "code",
   "execution_count": 42,
   "metadata": {
    "collapsed": true
   },
   "outputs": [],
   "source": [
    "#stlColumn (fixing converted pond columns (ordered one because it has everything we need))"
   ]
  },
  {
   "cell_type": "code",
   "execution_count": 43,
   "metadata": {},
   "outputs": [
    {
     "data": {
      "text/html": [
       "<div>\n",
       "<style>\n",
       "    .dataframe thead tr:only-child th {\n",
       "        text-align: right;\n",
       "    }\n",
       "\n",
       "    .dataframe thead th {\n",
       "        text-align: left;\n",
       "    }\n",
       "\n",
       "    .dataframe tbody tr th {\n",
       "        vertical-align: top;\n",
       "    }\n",
       "</style>\n",
       "<table border=\"1\" class=\"dataframe\">\n",
       "  <thead>\n",
       "    <tr style=\"text-align: right;\">\n",
       "      <th></th>\n",
       "      <th>actorConvertedPond</th>\n",
       "    </tr>\n",
       "  </thead>\n",
       "  <tbody>\n",
       "    <tr>\n",
       "      <th>1</th>\n",
       "      <td>[120]</td>\n",
       "    </tr>\n",
       "    <tr>\n",
       "      <th>3</th>\n",
       "      <td>[9]</td>\n",
       "    </tr>\n",
       "    <tr>\n",
       "      <th>5</th>\n",
       "      <td>[1]</td>\n",
       "    </tr>\n",
       "    <tr>\n",
       "      <th>7</th>\n",
       "      <td>[48]</td>\n",
       "    </tr>\n",
       "    <tr>\n",
       "      <th>9</th>\n",
       "      <td>[120, 80]</td>\n",
       "    </tr>\n",
       "  </tbody>\n",
       "</table>\n",
       "</div>"
      ],
      "text/plain": [
       "  actorConvertedPond\n",
       "1              [120]\n",
       "3                [9]\n",
       "5                [1]\n",
       "7               [48]\n",
       "9          [120, 80]"
      ]
     },
     "execution_count": 43,
     "metadata": {},
     "output_type": "execute_result"
    }
   ],
   "source": [
    "dfDiscards[[\"actorConvertedPond\"]].head()"
   ]
  },
  {
   "cell_type": "code",
   "execution_count": 44,
   "metadata": {},
   "outputs": [
    {
     "data": {
      "text/plain": [
       "str"
      ]
     },
     "execution_count": 44,
     "metadata": {},
     "output_type": "execute_result"
    }
   ],
   "source": [
    "type(dfDiscards[\"actorConvertedPond\"].values[0])"
   ]
  },
  {
   "cell_type": "code",
   "execution_count": 45,
   "metadata": {},
   "outputs": [
    {
     "name": "stderr",
     "output_type": "stream",
     "text": [
      "/home/tpeach/anaconda3/lib/python3.6/site-packages/ipykernel_launcher.py:1: SettingWithCopyWarning: \n",
      "A value is trying to be set on a copy of a slice from a DataFrame.\n",
      "Try using .loc[row_indexer,col_indexer] = value instead\n",
      "\n",
      "See the caveats in the documentation: http://pandas.pydata.org/pandas-docs/stable/indexing.html#indexing-view-versus-copy\n",
      "  \"\"\"Entry point for launching an IPython kernel.\n"
     ]
    }
   ],
   "source": [
    "dfDiscards[\"actorConvertedPond\"] = stlColumn(dfDiscards,\"actorConvertedPond\")"
   ]
  },
  {
   "cell_type": "code",
   "execution_count": 46,
   "metadata": {},
   "outputs": [
    {
     "data": {
      "text/plain": [
       "[120]"
      ]
     },
     "execution_count": 46,
     "metadata": {},
     "output_type": "execute_result"
    }
   ],
   "source": [
    "dfDiscards[\"actorConvertedPond\"].values[0]"
   ]
  },
  {
   "cell_type": "code",
   "execution_count": 47,
   "metadata": {},
   "outputs": [
    {
     "data": {
      "text/plain": [
       "list"
      ]
     },
     "execution_count": 47,
     "metadata": {},
     "output_type": "execute_result"
    }
   ],
   "source": [
    "type(dfDiscards[\"actorConvertedPond\"].values[0])"
   ]
  },
  {
   "cell_type": "markdown",
   "metadata": {},
   "source": [
    "Feature engineering time."
   ]
  },
  {
   "cell_type": "code",
   "execution_count": 48,
   "metadata": {
    "collapsed": true
   },
   "outputs": [],
   "source": [
    "def ccT(cT):\n",
    "    '''put a converted tile in here and get a number out.\n",
    "    Converts 47, the 7 sou, to the 7 it should be, and converts honor tiles to 1.'''\n",
    "    try:\n",
    "        if cT < 50:\n",
    "            cT = int(str(cT)[1])\n",
    "        else:\n",
    "            cT = 1\n",
    "    except:\n",
    "        pass\n",
    "    return cT"
   ]
  },
  {
   "cell_type": "code",
   "execution_count": 49,
   "metadata": {},
   "outputs": [
    {
     "data": {
      "text/plain": [
       "7"
      ]
     },
     "execution_count": 49,
     "metadata": {},
     "output_type": "execute_result"
    }
   ],
   "source": [
    "ccT(47)"
   ]
  },
  {
   "cell_type": "code",
   "execution_count": 50,
   "metadata": {},
   "outputs": [
    {
     "data": {
      "text/plain": [
       "1"
      ]
     },
     "execution_count": 50,
     "metadata": {},
     "output_type": "execute_result"
    }
   ],
   "source": [
    "ccT(120)"
   ]
  },
  {
   "cell_type": "code",
   "execution_count": 51,
   "metadata": {
    "collapsed": true
   },
   "outputs": [],
   "source": [
    "def distFrom5(lol):\n",
    "    #idk why I'm making this, this sentence is longer than the function.\n",
    "    return abs(lol-5)"
   ]
  },
  {
   "cell_type": "code",
   "execution_count": 52,
   "metadata": {
    "collapsed": true
   },
   "outputs": [],
   "source": [
    "# for i in range(1,10):\n",
    "#     print distFrom5(i)"
   ]
  },
  {
   "cell_type": "code",
   "execution_count": 53,
   "metadata": {
    "collapsed": true
   },
   "outputs": [],
   "source": [
    "def playerPondDist5(df,col):\n",
    "    dx = df.copy() #you can never be too careful\n",
    "    vals = dx.copy()[col].values\n",
    "    nuValz = []\n",
    "    for i in range(len(vals)):\n",
    "        for j in range(len(vals[i])):\n",
    "            vals[i][j] = distFrom5(ccT(vals[i][j]))\n",
    "#     for i in range(len(vals)):\n",
    "#         nuValz.append(np.mean(vals[i]))\n",
    "#     return nuValz\n",
    "    return vals"
   ]
  },
  {
   "cell_type": "markdown",
   "metadata": {},
   "source": [
    "So let's take a look at 20 of those original column values, run the function, and compare and see if it makes sense."
   ]
  },
  {
   "cell_type": "code",
   "execution_count": 54,
   "metadata": {},
   "outputs": [
    {
     "data": {
      "text/plain": [
       "array([[120], [9], [1], [48], [120, 80], [9, 100], [1, 100], [48, 100],\n",
       "       [120, 80, 6], [9, 100, 110], [1, 100, 110], [48, 100, 110],\n",
       "       [120, 80, 6, 28], [9, 100, 110, 41], [1, 100, 110, 90],\n",
       "       [48, 100, 110, 90], [120, 80, 6, 28, 29], [9, 100, 110, 41, 26],\n",
       "       [1, 100, 110, 90, 90], [48, 100, 110, 90, 70]], dtype=object)"
      ]
     },
     "execution_count": 54,
     "metadata": {},
     "output_type": "execute_result"
    }
   ],
   "source": [
    "dfDiscards[\"actorConvertedPond\"].values[:20]"
   ]
  },
  {
   "cell_type": "code",
   "execution_count": 55,
   "metadata": {},
   "outputs": [
    {
     "name": "stderr",
     "output_type": "stream",
     "text": [
      "/home/tpeach/anaconda3/lib/python3.6/site-packages/ipykernel_launcher.py:1: SettingWithCopyWarning: \n",
      "A value is trying to be set on a copy of a slice from a DataFrame.\n",
      "Try using .loc[row_indexer,col_indexer] = value instead\n",
      "\n",
      "See the caveats in the documentation: http://pandas.pydata.org/pandas-docs/stable/indexing.html#indexing-view-versus-copy\n",
      "  \"\"\"Entry point for launching an IPython kernel.\n"
     ]
    }
   ],
   "source": [
    "dfDiscards[\"actorPondDist5\"] = playerPondDist5(dfDiscards,\"actorConvertedPond\")"
   ]
  },
  {
   "cell_type": "code",
   "execution_count": 56,
   "metadata": {},
   "outputs": [
    {
     "data": {
      "text/plain": [
       "array([[4], [4], [4], [3], [4, 4], [4, 4], [4, 4], [3, 4], [4, 4, 1],\n",
       "       [4, 4, 4], [4, 4, 4], [3, 4, 4], [4, 4, 1, 3], [4, 4, 4, 4],\n",
       "       [4, 4, 4, 4], [3, 4, 4, 4], [4, 4, 1, 3, 4], [4, 4, 4, 4, 1],\n",
       "       [4, 4, 4, 4, 4], [3, 4, 4, 4, 4]], dtype=object)"
      ]
     },
     "execution_count": 56,
     "metadata": {},
     "output_type": "execute_result"
    }
   ],
   "source": [
    "dfDiscards[\"actorPondDist5\"].values[:20]"
   ]
  },
  {
   "cell_type": "markdown",
   "metadata": {},
   "source": [
    "#### Looks completely correct."
   ]
  },
  {
   "cell_type": "markdown",
   "metadata": {},
   "source": [
    "So now we have the foundation column to make the other columns easily.  Average them all, average the last 3, average the last 4, etc."
   ]
  },
  {
   "cell_type": "code",
   "execution_count": 57,
   "metadata": {},
   "outputs": [
    {
     "name": "stdout",
     "output_type": "stream",
     "text": [
      "[4.0, 4.0, 4.0, 3.0, 4.0, 4.0, 4.0, 3.5, 3.0, 4.0, 4.0, 3.6666666666666665, 3.0, 4.0, 4.0, 3.75, 3.2000000000000002, 3.3999999999999999, 4.0, 3.7999999999999998]\n"
     ]
    }
   ],
   "source": [
    "def ppd5_All(df,col):\n",
    "    vals = df.copy()[col].values\n",
    "    nuValz = []\n",
    "    for i in range(len(vals)):\n",
    "        nuValz.append(np.mean(vals[i]))\n",
    "    return nuValz\n",
    "\n",
    "print(ppd5_All(dfDiscards,\"actorPondDist5\")[:20])"
   ]
  },
  {
   "cell_type": "markdown",
   "metadata": {},
   "source": [
    "#### So our target is shanten, or maybe it'll just end up being a \"0 shanten or NOT 0 shanten\" target column, not sure yet.\n",
    "\n",
    "#### Anyways, for now, the sensible thing is to plot this new column vs shanten."
   ]
  },
  {
   "cell_type": "code",
   "execution_count": 58,
   "metadata": {},
   "outputs": [
    {
     "name": "stderr",
     "output_type": "stream",
     "text": [
      "/home/tpeach/anaconda3/lib/python3.6/site-packages/ipykernel_launcher.py:1: SettingWithCopyWarning: \n",
      "A value is trying to be set on a copy of a slice from a DataFrame.\n",
      "Try using .loc[row_indexer,col_indexer] = value instead\n",
      "\n",
      "See the caveats in the documentation: http://pandas.pydata.org/pandas-docs/stable/indexing.html#indexing-view-versus-copy\n",
      "  \"\"\"Entry point for launching an IPython kernel.\n"
     ]
    }
   ],
   "source": [
    "dfDiscards[\"actor_pd5_All\"] = ppd5_All(dfDiscards,\"actorPondDist5\")"
   ]
  },
  {
   "cell_type": "code",
   "execution_count": 59,
   "metadata": {},
   "outputs": [
    {
     "data": {
      "text/plain": [
       "<matplotlib.axes._subplots.AxesSubplot at 0x7f9abc76b978>"
      ]
     },
     "execution_count": 59,
     "metadata": {},
     "output_type": "execute_result"
    },
    {
     "data": {
      "image/png": "[encoded data removed]",
      "text/plain": [
       "<matplotlib.figure.Figure at 0x7f9abc7702b0>"
      ]
     },
     "metadata": {},
     "output_type": "display_data"
    }
   ],
   "source": [
    "dfDiscards.plot(x=\"actor_pd5_All\",y=\"shanten\",kind=\"scatter\")"
   ]
  },
  {
   "cell_type": "markdown",
   "metadata": {},
   "source": [
    "#### Not a very helpful visualization...\n",
    "\n",
    "I wanna make the other columns and see if those are more helpful."
   ]
  },
  {
   "cell_type": "code",
   "execution_count": 60,
   "metadata": {
    "collapsed": true
   },
   "outputs": [],
   "source": [
    "# vals = [1,2,3,4,5,6,7,8,9]\n",
    "# N = 3\n",
    "# print(vals[-N:])"
   ]
  },
  {
   "cell_type": "code",
   "execution_count": 61,
   "metadata": {
    "collapsed": true
   },
   "outputs": [],
   "source": [
    "def ppd5_LastN(df,col,N):\n",
    "    vals = df.copy()[col].values\n",
    "    nuValz = []\n",
    "    for i in range(len(vals)):\n",
    "        nuValz.append(np.mean(vals[i][-N:]))\n",
    "    return nuValz"
   ]
  },
  {
   "cell_type": "markdown",
   "metadata": {},
   "source": [
    "#### So what values of N are going to be helpful here... not 1, because looking at someone's last tile they discarded isn't all that helpful. The last 2 aren't great either...\n",
    "\n",
    "#### Whoa... maybe I could use some kind of weighting system that favors more recent tiles and use /all/ the tiles...\n",
    "\n",
    "#### Well for now, I'm just going to make these 3,4,5,6, and 7 last tile columns and see what happens."
   ]
  },
  {
   "cell_type": "code",
   "execution_count": 62,
   "metadata": {
    "collapsed": true
   },
   "outputs": [],
   "source": [
    "enlist = [3,4,5,6,7]"
   ]
  },
  {
   "cell_type": "code",
   "execution_count": 63,
   "metadata": {},
   "outputs": [
    {
     "name": "stderr",
     "output_type": "stream",
     "text": [
      "/home/tpeach/anaconda3/lib/python3.6/site-packages/ipykernel_launcher.py:3: SettingWithCopyWarning: \n",
      "A value is trying to be set on a copy of a slice from a DataFrame.\n",
      "Try using .loc[row_indexer,col_indexer] = value instead\n",
      "\n",
      "See the caveats in the documentation: http://pandas.pydata.org/pandas-docs/stable/indexing.html#indexing-view-versus-copy\n",
      "  This is separate from the ipykernel package so we can avoid doing imports until\n"
     ]
    }
   ],
   "source": [
    "for i in range(len(enlist)):\n",
    "    someColName = \"actor_pd5_\" + str(enlist[i])\n",
    "    dfDiscards[someColName] = ppd5_LastN(dfDiscards,\"actorPondDist5\",enlist[i])"
   ]
  },
  {
   "cell_type": "code",
   "execution_count": 64,
   "metadata": {},
   "outputs": [
    {
     "data": {
      "text/html": [
       "<div>\n",
       "<style>\n",
       "    .dataframe thead tr:only-child th {\n",
       "        text-align: right;\n",
       "    }\n",
       "\n",
       "    .dataframe thead th {\n",
       "        text-align: left;\n",
       "    }\n",
       "\n",
       "    .dataframe tbody tr th {\n",
       "        vertical-align: top;\n",
       "    }\n",
       "</style>\n",
       "<table border=\"1\" class=\"dataframe\">\n",
       "  <thead>\n",
       "    <tr style=\"text-align: right;\">\n",
       "      <th></th>\n",
       "      <th>actor_pd5_All</th>\n",
       "    </tr>\n",
       "    <tr>\n",
       "      <th>shanten</th>\n",
       "      <th></th>\n",
       "    </tr>\n",
       "  </thead>\n",
       "  <tbody>\n",
       "    <tr>\n",
       "      <th>-1</th>\n",
       "      <td>3.275488</td>\n",
       "    </tr>\n",
       "    <tr>\n",
       "      <th>0</th>\n",
       "      <td>2.996880</td>\n",
       "    </tr>\n",
       "    <tr>\n",
       "      <th>1</th>\n",
       "      <td>3.217145</td>\n",
       "    </tr>\n",
       "    <tr>\n",
       "      <th>2</th>\n",
       "      <td>3.461330</td>\n",
       "    </tr>\n",
       "    <tr>\n",
       "      <th>3</th>\n",
       "      <td>3.627336</td>\n",
       "    </tr>\n",
       "    <tr>\n",
       "      <th>4</th>\n",
       "      <td>3.677744</td>\n",
       "    </tr>\n",
       "    <tr>\n",
       "      <th>5</th>\n",
       "      <td>3.580491</td>\n",
       "    </tr>\n",
       "    <tr>\n",
       "      <th>6</th>\n",
       "      <td>3.868056</td>\n",
       "    </tr>\n",
       "  </tbody>\n",
       "</table>\n",
       "</div>"
      ],
      "text/plain": [
       "         actor_pd5_All\n",
       "shanten               \n",
       "-1            3.275488\n",
       " 0            2.996880\n",
       " 1            3.217145\n",
       " 2            3.461330\n",
       " 3            3.627336\n",
       " 4            3.677744\n",
       " 5            3.580491\n",
       " 6            3.868056"
      ]
     },
     "execution_count": 64,
     "metadata": {},
     "output_type": "execute_result"
    }
   ],
   "source": [
    "dfDiscards[[\"shanten\",\"actor_pd5_All\"]].groupby(\"shanten\").mean()"
   ]
  },
  {
   "cell_type": "markdown",
   "metadata": {},
   "source": [
    "#### Much better, yeah this shows how as you approach 0 shanten (1 away from winning), you generally discard more middleton tiles."
   ]
  },
  {
   "cell_type": "code",
   "execution_count": 65,
   "metadata": {},
   "outputs": [
    {
     "data": {
      "text/html": [
       "<div>\n",
       "<style>\n",
       "    .dataframe thead tr:only-child th {\n",
       "        text-align: right;\n",
       "    }\n",
       "\n",
       "    .dataframe thead th {\n",
       "        text-align: left;\n",
       "    }\n",
       "\n",
       "    .dataframe tbody tr th {\n",
       "        vertical-align: top;\n",
       "    }\n",
       "</style>\n",
       "<table border=\"1\" class=\"dataframe\">\n",
       "  <thead>\n",
       "    <tr style=\"text-align: right;\">\n",
       "      <th></th>\n",
       "      <th>actor_pd5_3</th>\n",
       "    </tr>\n",
       "    <tr>\n",
       "      <th>shanten</th>\n",
       "      <th></th>\n",
       "    </tr>\n",
       "  </thead>\n",
       "  <tbody>\n",
       "    <tr>\n",
       "      <th>-1</th>\n",
       "      <td>3.055556</td>\n",
       "    </tr>\n",
       "    <tr>\n",
       "      <th>0</th>\n",
       "      <td>2.631091</td>\n",
       "    </tr>\n",
       "    <tr>\n",
       "      <th>1</th>\n",
       "      <td>2.925451</td>\n",
       "    </tr>\n",
       "    <tr>\n",
       "      <th>2</th>\n",
       "      <td>3.283046</td>\n",
       "    </tr>\n",
       "    <tr>\n",
       "      <th>3</th>\n",
       "      <td>3.548316</td>\n",
       "    </tr>\n",
       "    <tr>\n",
       "      <th>4</th>\n",
       "      <td>3.642619</td>\n",
       "    </tr>\n",
       "    <tr>\n",
       "      <th>5</th>\n",
       "      <td>3.487277</td>\n",
       "    </tr>\n",
       "    <tr>\n",
       "      <th>6</th>\n",
       "      <td>3.833333</td>\n",
       "    </tr>\n",
       "  </tbody>\n",
       "</table>\n",
       "</div>"
      ],
      "text/plain": [
       "         actor_pd5_3\n",
       "shanten             \n",
       "-1          3.055556\n",
       " 0          2.631091\n",
       " 1          2.925451\n",
       " 2          3.283046\n",
       " 3          3.548316\n",
       " 4          3.642619\n",
       " 5          3.487277\n",
       " 6          3.833333"
      ]
     },
     "execution_count": 65,
     "metadata": {},
     "output_type": "execute_result"
    }
   ],
   "source": [
    "dfDiscards[[\"shanten\",\"actor_pd5_3\"]].groupby(\"shanten\").mean()"
   ]
  },
  {
   "cell_type": "code",
   "execution_count": 66,
   "metadata": {},
   "outputs": [
    {
     "data": {
      "text/html": [
       "<div>\n",
       "<style>\n",
       "    .dataframe thead tr:only-child th {\n",
       "        text-align: right;\n",
       "    }\n",
       "\n",
       "    .dataframe thead th {\n",
       "        text-align: left;\n",
       "    }\n",
       "\n",
       "    .dataframe tbody tr th {\n",
       "        vertical-align: top;\n",
       "    }\n",
       "</style>\n",
       "<table border=\"1\" class=\"dataframe\">\n",
       "  <thead>\n",
       "    <tr style=\"text-align: right;\">\n",
       "      <th></th>\n",
       "      <th>actor_pd5_4</th>\n",
       "    </tr>\n",
       "    <tr>\n",
       "      <th>shanten</th>\n",
       "      <th></th>\n",
       "    </tr>\n",
       "  </thead>\n",
       "  <tbody>\n",
       "    <tr>\n",
       "      <th>-1</th>\n",
       "      <td>2.916667</td>\n",
       "    </tr>\n",
       "    <tr>\n",
       "      <th>0</th>\n",
       "      <td>2.666719</td>\n",
       "    </tr>\n",
       "    <tr>\n",
       "      <th>1</th>\n",
       "      <td>2.968085</td>\n",
       "    </tr>\n",
       "    <tr>\n",
       "      <th>2</th>\n",
       "      <td>3.328791</td>\n",
       "    </tr>\n",
       "    <tr>\n",
       "      <th>3</th>\n",
       "      <td>3.565602</td>\n",
       "    </tr>\n",
       "    <tr>\n",
       "      <th>4</th>\n",
       "      <td>3.656424</td>\n",
       "    </tr>\n",
       "    <tr>\n",
       "      <th>5</th>\n",
       "      <td>3.513359</td>\n",
       "    </tr>\n",
       "    <tr>\n",
       "      <th>6</th>\n",
       "      <td>3.833333</td>\n",
       "    </tr>\n",
       "  </tbody>\n",
       "</table>\n",
       "</div>"
      ],
      "text/plain": [
       "         actor_pd5_4\n",
       "shanten             \n",
       "-1          2.916667\n",
       " 0          2.666719\n",
       " 1          2.968085\n",
       " 2          3.328791\n",
       " 3          3.565602\n",
       " 4          3.656424\n",
       " 5          3.513359\n",
       " 6          3.833333"
      ]
     },
     "execution_count": 66,
     "metadata": {},
     "output_type": "execute_result"
    }
   ],
   "source": [
    "dfDiscards[[\"shanten\",\"actor_pd5_4\"]].groupby(\"shanten\").mean()"
   ]
  },
  {
   "cell_type": "code",
   "execution_count": 67,
   "metadata": {},
   "outputs": [
    {
     "data": {
      "text/html": [
       "<div>\n",
       "<style>\n",
       "    .dataframe thead tr:only-child th {\n",
       "        text-align: right;\n",
       "    }\n",
       "\n",
       "    .dataframe thead th {\n",
       "        text-align: left;\n",
       "    }\n",
       "\n",
       "    .dataframe tbody tr th {\n",
       "        vertical-align: top;\n",
       "    }\n",
       "</style>\n",
       "<table border=\"1\" class=\"dataframe\">\n",
       "  <thead>\n",
       "    <tr style=\"text-align: right;\">\n",
       "      <th></th>\n",
       "      <th>actor_pd5_5</th>\n",
       "    </tr>\n",
       "    <tr>\n",
       "      <th>shanten</th>\n",
       "      <th></th>\n",
       "    </tr>\n",
       "  </thead>\n",
       "  <tbody>\n",
       "    <tr>\n",
       "      <th>-1</th>\n",
       "      <td>2.966667</td>\n",
       "    </tr>\n",
       "    <tr>\n",
       "      <th>0</th>\n",
       "      <td>2.705198</td>\n",
       "    </tr>\n",
       "    <tr>\n",
       "      <th>1</th>\n",
       "      <td>3.013287</td>\n",
       "    </tr>\n",
       "    <tr>\n",
       "      <th>2</th>\n",
       "      <td>3.361964</td>\n",
       "    </tr>\n",
       "    <tr>\n",
       "      <th>3</th>\n",
       "      <td>3.582942</td>\n",
       "    </tr>\n",
       "    <tr>\n",
       "      <th>4</th>\n",
       "      <td>3.660632</td>\n",
       "    </tr>\n",
       "    <tr>\n",
       "      <th>5</th>\n",
       "      <td>3.525827</td>\n",
       "    </tr>\n",
       "    <tr>\n",
       "      <th>6</th>\n",
       "      <td>3.845833</td>\n",
       "    </tr>\n",
       "  </tbody>\n",
       "</table>\n",
       "</div>"
      ],
      "text/plain": [
       "         actor_pd5_5\n",
       "shanten             \n",
       "-1          2.966667\n",
       " 0          2.705198\n",
       " 1          3.013287\n",
       " 2          3.361964\n",
       " 3          3.582942\n",
       " 4          3.660632\n",
       " 5          3.525827\n",
       " 6          3.845833"
      ]
     },
     "execution_count": 67,
     "metadata": {},
     "output_type": "execute_result"
    }
   ],
   "source": [
    "dfDiscards[[\"shanten\",\"actor_pd5_5\"]].groupby(\"shanten\").mean()"
   ]
  },
  {
   "cell_type": "code",
   "execution_count": 68,
   "metadata": {},
   "outputs": [
    {
     "data": {
      "text/html": [
       "<div>\n",
       "<style>\n",
       "    .dataframe thead tr:only-child th {\n",
       "        text-align: right;\n",
       "    }\n",
       "\n",
       "    .dataframe thead th {\n",
       "        text-align: left;\n",
       "    }\n",
       "\n",
       "    .dataframe tbody tr th {\n",
       "        vertical-align: top;\n",
       "    }\n",
       "</style>\n",
       "<table border=\"1\" class=\"dataframe\">\n",
       "  <thead>\n",
       "    <tr style=\"text-align: right;\">\n",
       "      <th></th>\n",
       "      <th>actor_pd5_6</th>\n",
       "    </tr>\n",
       "    <tr>\n",
       "      <th>shanten</th>\n",
       "      <th></th>\n",
       "    </tr>\n",
       "  </thead>\n",
       "  <tbody>\n",
       "    <tr>\n",
       "      <th>-1</th>\n",
       "      <td>3.083333</td>\n",
       "    </tr>\n",
       "    <tr>\n",
       "      <th>0</th>\n",
       "      <td>2.742974</td>\n",
       "    </tr>\n",
       "    <tr>\n",
       "      <th>1</th>\n",
       "      <td>3.054090</td>\n",
       "    </tr>\n",
       "    <tr>\n",
       "      <th>2</th>\n",
       "      <td>3.388736</td>\n",
       "    </tr>\n",
       "    <tr>\n",
       "      <th>3</th>\n",
       "      <td>3.593968</td>\n",
       "    </tr>\n",
       "    <tr>\n",
       "      <th>4</th>\n",
       "      <td>3.666132</td>\n",
       "    </tr>\n",
       "    <tr>\n",
       "      <th>5</th>\n",
       "      <td>3.539483</td>\n",
       "    </tr>\n",
       "    <tr>\n",
       "      <th>6</th>\n",
       "      <td>3.854167</td>\n",
       "    </tr>\n",
       "  </tbody>\n",
       "</table>\n",
       "</div>"
      ],
      "text/plain": [
       "         actor_pd5_6\n",
       "shanten             \n",
       "-1          3.083333\n",
       " 0          2.742974\n",
       " 1          3.054090\n",
       " 2          3.388736\n",
       " 3          3.593968\n",
       " 4          3.666132\n",
       " 5          3.539483\n",
       " 6          3.854167"
      ]
     },
     "execution_count": 68,
     "metadata": {},
     "output_type": "execute_result"
    }
   ],
   "source": [
    "dfDiscards[[\"shanten\",\"actor_pd5_6\"]].groupby(\"shanten\").mean()"
   ]
  },
  {
   "cell_type": "code",
   "execution_count": 69,
   "metadata": {},
   "outputs": [
    {
     "data": {
      "text/html": [
       "<div>\n",
       "<style>\n",
       "    .dataframe thead tr:only-child th {\n",
       "        text-align: right;\n",
       "    }\n",
       "\n",
       "    .dataframe thead th {\n",
       "        text-align: left;\n",
       "    }\n",
       "\n",
       "    .dataframe tbody tr th {\n",
       "        vertical-align: top;\n",
       "    }\n",
       "</style>\n",
       "<table border=\"1\" class=\"dataframe\">\n",
       "  <thead>\n",
       "    <tr style=\"text-align: right;\">\n",
       "      <th></th>\n",
       "      <th>actor_pd5_7</th>\n",
       "    </tr>\n",
       "    <tr>\n",
       "      <th>shanten</th>\n",
       "      <th></th>\n",
       "    </tr>\n",
       "  </thead>\n",
       "  <tbody>\n",
       "    <tr>\n",
       "      <th>-1</th>\n",
       "      <td>2.976190</td>\n",
       "    </tr>\n",
       "    <tr>\n",
       "      <th>0</th>\n",
       "      <td>2.780833</td>\n",
       "    </tr>\n",
       "    <tr>\n",
       "      <th>1</th>\n",
       "      <td>3.090310</td>\n",
       "    </tr>\n",
       "    <tr>\n",
       "      <th>2</th>\n",
       "      <td>3.409070</td>\n",
       "    </tr>\n",
       "    <tr>\n",
       "      <th>3</th>\n",
       "      <td>3.601827</td>\n",
       "    </tr>\n",
       "    <tr>\n",
       "      <th>4</th>\n",
       "      <td>3.669393</td>\n",
       "    </tr>\n",
       "    <tr>\n",
       "      <th>5</th>\n",
       "      <td>3.552084</td>\n",
       "    </tr>\n",
       "    <tr>\n",
       "      <th>6</th>\n",
       "      <td>3.860119</td>\n",
       "    </tr>\n",
       "  </tbody>\n",
       "</table>\n",
       "</div>"
      ],
      "text/plain": [
       "         actor_pd5_7\n",
       "shanten             \n",
       "-1          2.976190\n",
       " 0          2.780833\n",
       " 1          3.090310\n",
       " 2          3.409070\n",
       " 3          3.601827\n",
       " 4          3.669393\n",
       " 5          3.552084\n",
       " 6          3.860119"
      ]
     },
     "execution_count": 69,
     "metadata": {},
     "output_type": "execute_result"
    }
   ],
   "source": [
    "dfDiscards[[\"shanten\",\"actor_pd5_7\"]].groupby(\"shanten\").mean()"
   ]
  },
  {
   "cell_type": "markdown",
   "metadata": {},
   "source": [
    "### Okay so a clear trend, regardless of the metric we use, although looking at somewhere from the last 3 to 7 rather than all seems to be better at differentiating.  Seems like the average tenpai hand has something like 2.6-2.7 average distance from the 5-tile."
   ]
  },
  {
   "cell_type": "markdown",
   "metadata": {},
   "source": [
    "### So now we have to look at the distribution of those averages at tenpai."
   ]
  },
  {
   "cell_type": "code",
   "execution_count": 70,
   "metadata": {},
   "outputs": [
    {
     "data": {
      "text/plain": [
       "(array([   1.,    0.,    0.,    0.,    0.,    7.,    0.,    0.,   13.,\n",
       "           0.,    0.,   28.,    0.,   39.,    0.,    3.,   77.,    1.,\n",
       "           3.,  130.,    0.,    0.,  225.,    0.,    0.,  278.,    3.,\n",
       "         324.,    0.,    2.,  423.,    2.,    6.,  384.,    0.,    0.,\n",
       "         359.,    0.,  314.,    7.,    5.,  236.,    0.,    9.,  153.,\n",
       "           4.,    2.,   94.,    0.,   49.]),\n",
       " array([ 0.4  ,  0.472,  0.544,  0.616,  0.688,  0.76 ,  0.832,  0.904,\n",
       "         0.976,  1.048,  1.12 ,  1.192,  1.264,  1.336,  1.408,  1.48 ,\n",
       "         1.552,  1.624,  1.696,  1.768,  1.84 ,  1.912,  1.984,  2.056,\n",
       "         2.128,  2.2  ,  2.272,  2.344,  2.416,  2.488,  2.56 ,  2.632,\n",
       "         2.704,  2.776,  2.848,  2.92 ,  2.992,  3.064,  3.136,  3.208,\n",
       "         3.28 ,  3.352,  3.424,  3.496,  3.568,  3.64 ,  3.712,  3.784,\n",
       "         3.856,  3.928,  4.   ]),\n",
       " <a list of 50 Patch objects>)"
      ]
     },
     "execution_count": 70,
     "metadata": {},
     "output_type": "execute_result"
    },
    {
     "data": {
      "image/png": "[encoded data removed]",
      "text/plain": [
       "<matplotlib.figure.Figure at 0x7f9abc6f4080>"
      ]
     },
     "metadata": {},
     "output_type": "display_data"
    }
   ],
   "source": [
    "plt.hist(dfDiscards[[\"shanten\",\"actor_pd5_5\"]][dfDiscards[\"shanten\"]==0][\"actor_pd5_5\"],bins=50)"
   ]
  },
  {
   "cell_type": "code",
   "execution_count": 71,
   "metadata": {},
   "outputs": [
    {
     "data": {
      "text/plain": [
       "(array([   1.,    0.,    1.,    2.,    0.,    0.,    4.,    0.,    0.,\n",
       "          17.,    0.,   24.,    1.,    1.,   31.,    6.,    0.,   70.,\n",
       "           5.,    1.,  150.,    0.,  206.,    0.,    0.,  279.,   10.,\n",
       "           6.,  387.,   24.,  457.,   11.,   26.,  583.,    0.,    0.,\n",
       "         708.,    0.,    0.,  707.,   38.,  604.,    0.,   75.,  485.,\n",
       "          37.,   63.,  387.,    0.,  408.]),\n",
       " array([ 0.33333333,  0.40666667,  0.48      ,  0.55333333,  0.62666667,\n",
       "         0.7       ,  0.77333333,  0.84666667,  0.92      ,  0.99333333,\n",
       "         1.06666667,  1.14      ,  1.21333333,  1.28666667,  1.36      ,\n",
       "         1.43333333,  1.50666667,  1.58      ,  1.65333333,  1.72666667,\n",
       "         1.8       ,  1.87333333,  1.94666667,  2.02      ,  2.09333333,\n",
       "         2.16666667,  2.24      ,  2.31333333,  2.38666667,  2.46      ,\n",
       "         2.53333333,  2.60666667,  2.68      ,  2.75333333,  2.82666667,\n",
       "         2.9       ,  2.97333333,  3.04666667,  3.12      ,  3.19333333,\n",
       "         3.26666667,  3.34      ,  3.41333333,  3.48666667,  3.56      ,\n",
       "         3.63333333,  3.70666667,  3.78      ,  3.85333333,  3.92666667,  4.        ]),\n",
       " <a list of 50 Patch objects>)"
      ]
     },
     "execution_count": 71,
     "metadata": {},
     "output_type": "execute_result"
    },
    {
     "data": {
      "image/png": "[encoded data removed]",
      "text/plain": [
       "<matplotlib.figure.Figure at 0x7f9ab2e44ef0>"
      ]
     },
     "metadata": {},
     "output_type": "display_data"
    }
   ],
   "source": [
    "plt.hist(dfDiscards[[\"shanten\",\"actor_pd5_5\"]][dfDiscards[\"shanten\"]==1][\"actor_pd5_5\"],bins=50)"
   ]
  },
  {
   "cell_type": "code",
   "execution_count": 72,
   "metadata": {},
   "outputs": [
    {
     "data": {
      "text/plain": [
       "(array([  1.00000000e+00,   0.00000000e+00,   1.00000000e+00,\n",
       "          0.00000000e+00,   1.00000000e+00,   3.00000000e+00,\n",
       "          0.00000000e+00,   0.00000000e+00,   2.40000000e+01,\n",
       "          0.00000000e+00,   0.00000000e+00,   9.00000000e+00,\n",
       "          1.00000000e+00,   2.20000000e+01,   0.00000000e+00,\n",
       "          5.00000000e+00,   5.00000000e+01,   6.00000000e+00,\n",
       "          5.00000000e+00,   7.30000000e+01,   0.00000000e+00,\n",
       "          0.00000000e+00,   1.32000000e+02,   0.00000000e+00,\n",
       "          0.00000000e+00,   1.36000000e+02,   1.80000000e+01,\n",
       "          2.10000000e+02,   0.00000000e+00,   4.80000000e+01,\n",
       "          2.57000000e+02,   3.40000000e+01,   4.30000000e+01,\n",
       "          3.81000000e+02,   0.00000000e+00,   0.00000000e+00,\n",
       "          5.44000000e+02,   0.00000000e+00,   4.65000000e+02,\n",
       "          7.20000000e+01,   6.20000000e+01,   5.41000000e+02,\n",
       "          0.00000000e+00,   1.76000000e+02,   5.16000000e+02,\n",
       "          1.31000000e+02,   1.65000000e+02,   5.29000000e+02,\n",
       "          0.00000000e+00,   1.88800000e+03]),\n",
       " array([ 0.4  ,  0.472,  0.544,  0.616,  0.688,  0.76 ,  0.832,  0.904,\n",
       "         0.976,  1.048,  1.12 ,  1.192,  1.264,  1.336,  1.408,  1.48 ,\n",
       "         1.552,  1.624,  1.696,  1.768,  1.84 ,  1.912,  1.984,  2.056,\n",
       "         2.128,  2.2  ,  2.272,  2.344,  2.416,  2.488,  2.56 ,  2.632,\n",
       "         2.704,  2.776,  2.848,  2.92 ,  2.992,  3.064,  3.136,  3.208,\n",
       "         3.28 ,  3.352,  3.424,  3.496,  3.568,  3.64 ,  3.712,  3.784,\n",
       "         3.856,  3.928,  4.   ]),\n",
       " <a list of 50 Patch objects>)"
      ]
     },
     "execution_count": 72,
     "metadata": {},
     "output_type": "execute_result"
    },
    {
     "data": {
      "image/png": "[encoded data removed]",
      "text/plain": [
       "<matplotlib.figure.Figure at 0x7f9ab2bcc860>"
      ]
     },
     "metadata": {},
     "output_type": "display_data"
    }
   ],
   "source": [
    "plt.hist(dfDiscards[[\"shanten\",\"actor_pd5_5\"]][dfDiscards[\"shanten\"]==2][\"actor_pd5_5\"],bins=50)"
   ]
  },
  {
   "cell_type": "code",
   "execution_count": 73,
   "metadata": {},
   "outputs": [
    {
     "data": {
      "text/plain": [
       "(array([  3.00000000e+00,   0.00000000e+00,   0.00000000e+00,\n",
       "          0.00000000e+00,   0.00000000e+00,   0.00000000e+00,\n",
       "          3.00000000e+00,   2.00000000e+00,   1.00000000e+00,\n",
       "          0.00000000e+00,   2.00000000e+00,   0.00000000e+00,\n",
       "          1.40000000e+01,   0.00000000e+00,   0.00000000e+00,\n",
       "          1.10000000e+01,   3.00000000e+00,   9.00000000e+00,\n",
       "          7.00000000e+00,   0.00000000e+00,   1.90000000e+01,\n",
       "          5.00000000e+00,   3.40000000e+01,   0.00000000e+00,\n",
       "          0.00000000e+00,   7.60000000e+01,   0.00000000e+00,\n",
       "          6.50000000e+01,   8.00000000e+00,   1.10000000e+01,\n",
       "          8.50000000e+01,   3.00000000e+01,   1.02000000e+02,\n",
       "          1.90000000e+01,   1.03000000e+02,   0.00000000e+00,\n",
       "          0.00000000e+00,   2.24000000e+02,   0.00000000e+00,\n",
       "          0.00000000e+00,   1.64000000e+02,   3.00000000e+01,\n",
       "          1.83000000e+02,   1.29000000e+02,   0.00000000e+00,\n",
       "          3.21000000e+02,   8.90000000e+01,   1.91000000e+02,\n",
       "          0.00000000e+00,   2.36200000e+03]),\n",
       " array([ 0.  ,  0.08,  0.16,  0.24,  0.32,  0.4 ,  0.48,  0.56,  0.64,\n",
       "         0.72,  0.8 ,  0.88,  0.96,  1.04,  1.12,  1.2 ,  1.28,  1.36,\n",
       "         1.44,  1.52,  1.6 ,  1.68,  1.76,  1.84,  1.92,  2.  ,  2.08,\n",
       "         2.16,  2.24,  2.32,  2.4 ,  2.48,  2.56,  2.64,  2.72,  2.8 ,\n",
       "         2.88,  2.96,  3.04,  3.12,  3.2 ,  3.28,  3.36,  3.44,  3.52,\n",
       "         3.6 ,  3.68,  3.76,  3.84,  3.92,  4.  ]),\n",
       " <a list of 50 Patch objects>)"
      ]
     },
     "execution_count": 73,
     "metadata": {},
     "output_type": "execute_result"
    },
    {
     "data": {
      "image/png": "[encoded data removed]",
      "text/plain": [
       "<matplotlib.figure.Figure at 0x7f9ab2e2ce10>"
      ]
     },
     "metadata": {},
     "output_type": "display_data"
    }
   ],
   "source": [
    "plt.hist(dfDiscards[[\"shanten\",\"actor_pd5_5\"]][dfDiscards[\"shanten\"]==3][\"actor_pd5_5\"],bins=50)"
   ]
  },
  {
   "cell_type": "code",
   "execution_count": 74,
   "metadata": {},
   "outputs": [
    {
     "data": {
      "text/plain": [
       "(array([  1.00000000e+00,   0.00000000e+00,   0.00000000e+00,\n",
       "          0.00000000e+00,   0.00000000e+00,   0.00000000e+00,\n",
       "          2.00000000e+00,   1.00000000e+00,   2.00000000e+00,\n",
       "          1.00000000e+00,   0.00000000e+00,   0.00000000e+00,\n",
       "          1.40000000e+01,   0.00000000e+00,   0.00000000e+00,\n",
       "          5.00000000e+00,   2.00000000e+00,   5.00000000e+00,\n",
       "          4.00000000e+00,   0.00000000e+00,   1.40000000e+01,\n",
       "          1.00000000e+00,   7.00000000e+00,   0.00000000e+00,\n",
       "          0.00000000e+00,   2.30000000e+01,   0.00000000e+00,\n",
       "          1.50000000e+01,   2.00000000e+00,   1.00000000e+00,\n",
       "          2.00000000e+01,   4.00000000e+00,   1.70000000e+01,\n",
       "          2.00000000e+00,   3.00000000e+01,   0.00000000e+00,\n",
       "          0.00000000e+00,   6.90000000e+01,   0.00000000e+00,\n",
       "          0.00000000e+00,   2.90000000e+01,   1.00000000e+01,\n",
       "          4.30000000e+01,   3.40000000e+01,   0.00000000e+00,\n",
       "          4.80000000e+01,   1.60000000e+01,   3.40000000e+01,\n",
       "          0.00000000e+00,   1.04100000e+03]),\n",
       " array([ 0.  ,  0.08,  0.16,  0.24,  0.32,  0.4 ,  0.48,  0.56,  0.64,\n",
       "         0.72,  0.8 ,  0.88,  0.96,  1.04,  1.12,  1.2 ,  1.28,  1.36,\n",
       "         1.44,  1.52,  1.6 ,  1.68,  1.76,  1.84,  1.92,  2.  ,  2.08,\n",
       "         2.16,  2.24,  2.32,  2.4 ,  2.48,  2.56,  2.64,  2.72,  2.8 ,\n",
       "         2.88,  2.96,  3.04,  3.12,  3.2 ,  3.28,  3.36,  3.44,  3.52,\n",
       "         3.6 ,  3.68,  3.76,  3.84,  3.92,  4.  ]),\n",
       " <a list of 50 Patch objects>)"
      ]
     },
     "execution_count": 74,
     "metadata": {},
     "output_type": "execute_result"
    },
    {
     "data": {
      "image/png": "[encoded data removed]",
      "text/plain": [
       "<matplotlib.figure.Figure at 0x7f9ab2ccefd0>"
      ]
     },
     "metadata": {},
     "output_type": "display_data"
    }
   ],
   "source": [
    "plt.hist(dfDiscards[[\"shanten\",\"actor_pd5_5\"]][dfDiscards[\"shanten\"]==4][\"actor_pd5_5\"],bins=50)"
   ]
  },
  {
   "cell_type": "markdown",
   "metadata": {},
   "source": [
    "#### Okay so around 0 shanten (tenpai) and 1 shanten, it's hard to tell, but this metric is /REALLY/ good at figuring out if it's further away.  Once it hits 2 shanten, the average is way higher.  Maybe we only care if they're pretty close? We'll see.\n",
    "\n",
    "\n",
    "#### So yeah I'm still not sure how exactly to structure the target, and this will be an ongoing play-it-by-ear type thing where I'm seeing how much information I can even get, how sure I can even be about whether someone is 0 shanten... but yeah regardless, this feature is good.\n",
    "\n",
    "#### Oh and I think the next thing I should do is make a feature that looks at open meld count, because that's a dead giveaway in certain circumstances.\n",
    "\n",
    "#### If someone has 4 open melds, they are /by definition/ in tenpai, if they have 3 open, very likely tenpai, 2, idk but maybe, 1, who knows... maybe if it's late in hand idk, 0, no idea.\n",
    "\n",
    "So yeah I'm going to create that column now (actorOpenMeldCount)"
   ]
  },
  {
   "cell_type": "code",
   "execution_count": 75,
   "metadata": {},
   "outputs": [
    {
     "name": "stdout",
     "output_type": "stream",
     "text": [
      "4\n"
     ]
    }
   ],
   "source": [
    "example = [22, 23, 23, 23, 23, 24, 46, 47, 48] #a tough example to break it (where the answer is 3 melds:)\n",
    "#[22,23,24],[23,23,23],[46,47,48]\n",
    "\n",
    "harderExample = [21, 21, 21, 22, 23, 24, 25, 25, 25, 25, 26, 27] \n",
    "\n",
    "def meldCounter(daList):\n",
    "    #print(\"daList\",daList)\n",
    "    lisk = daList[:]\n",
    "    meldCount = 0\n",
    "    setLisk = set(lisk)\n",
    "    kanCount = 0\n",
    "    for i in setLisk:\n",
    "        if lisk.count(i) == 4:\n",
    "            kanCount += 1\n",
    "    if kanCount == 0:\n",
    "        return (len(lisk)/3)\n",
    "    elif len(lisk) < 3:\n",
    "        return 0\n",
    "    elif len(lisk) < 6:\n",
    "        return 1\n",
    "    elif len(lisk) < 9:\n",
    "        return 2\n",
    "    elif len(lisk) < 12:\n",
    "        return 3\n",
    "    elif len(lisk) == 12 and kanCount == 3:\n",
    "        return 3\n",
    "    elif len(lisk) == 12 and kanCount != 3:\n",
    "        return 4\n",
    "    else:\n",
    "        '''Just leaving the old function here because I kinda like it.'''\n",
    "        try:\n",
    "            while len(lisk) != 0:\n",
    "                meldCountStart = meldCount\n",
    "                while len(lisk) != 0:\n",
    "                    #print(\"in first while\")\n",
    "                    if lisk[0] in lisk and (lisk[0]+1) in lisk and (lisk[0]+2) in lisk:\n",
    "                        #print(\"in first if\")\n",
    "                        meldCount += 1\n",
    "                        lisk.remove(lisk[0]+1)\n",
    "                        lisk.remove(lisk[0]+2)\n",
    "                        lisk.remove(lisk[0])\n",
    "                        #print(\"lisk\",lisk)\n",
    "                    else:\n",
    "                        break\n",
    "                while len(lisk) != 0: \n",
    "                    #print(\"in second while\")\n",
    "                    if lisk.count(lisk[0]) == 3 or lisk.count(lisk[0]) == 4:\n",
    "                        #print(\"in second if\")\n",
    "                        meldCount += 1\n",
    "                        lisk = [i for i in lisk if i != lisk[0]]\n",
    "                        #print(\"lisk\",lisk)\n",
    "                    else:\n",
    "                        break\n",
    "                if meldCountStart == meldCount:\n",
    "                    break\n",
    "            if len(lisk) != 0:\n",
    "                return \"ERROR WITH OPENS\"\n",
    "            else:\n",
    "                return meldCount\n",
    "        except:\n",
    "            return \"ERROR WITH OPENS\"\n",
    "        \n",
    "print(meldCounter(harderExample))"
   ]
  },
  {
   "cell_type": "code",
   "execution_count": 76,
   "metadata": {
    "collapsed": true
   },
   "outputs": [],
   "source": [
    "def oMFoT(df, col):\n",
    "    '''open melds from open tiles'''\n",
    "    vals = df[col].copy().values\n",
    "    for i in range(len(vals)):\n",
    "        vals[i] = meldCounter(vals[i])\n",
    "    return vals"
   ]
  },
  {
   "cell_type": "code",
   "execution_count": 77,
   "metadata": {},
   "outputs": [
    {
     "name": "stderr",
     "output_type": "stream",
     "text": [
      "/home/tpeach/anaconda3/lib/python3.6/site-packages/ipykernel_launcher.py:1: SettingWithCopyWarning: \n",
      "A value is trying to be set on a copy of a slice from a DataFrame.\n",
      "Try using .loc[row_indexer,col_indexer] = value instead\n",
      "\n",
      "See the caveats in the documentation: http://pandas.pydata.org/pandas-docs/stable/indexing.html#indexing-view-versus-copy\n",
      "  \"\"\"Entry point for launching an IPython kernel.\n"
     ]
    }
   ],
   "source": [
    "dfDiscards[\"actorOpenMeldCount\"] = oMFoT(dfDiscards,\"actorOpenTiles\")"
   ]
  },
  {
   "cell_type": "code",
   "execution_count": 78,
   "metadata": {},
   "outputs": [
    {
     "data": {
      "text/plain": [
       "0.0    17377\n",
       "1.0     2989\n",
       "2.0     1226\n",
       "3.0      166\n",
       "Name: actorOpenMeldCount, dtype: int64"
      ]
     },
     "execution_count": 78,
     "metadata": {},
     "output_type": "execute_result"
    }
   ],
   "source": [
    "dfDiscards[\"actorOpenMeldCount\"].value_counts()"
   ]
  },
  {
   "cell_type": "markdown",
   "metadata": {},
   "source": [
    "#### I'm actually kind of shocked that in 45 games there were literally no 4-opens.  Thinking about it though, this is probably because very good players /almost never/ 4-open, and they LOVE to not open at all."
   ]
  },
  {
   "cell_type": "code",
   "execution_count": 79,
   "metadata": {},
   "outputs": [
    {
     "data": {
      "text/html": [
       "<div>\n",
       "<style>\n",
       "    .dataframe thead tr:only-child th {\n",
       "        text-align: right;\n",
       "    }\n",
       "\n",
       "    .dataframe thead th {\n",
       "        text-align: left;\n",
       "    }\n",
       "\n",
       "    .dataframe tbody tr th {\n",
       "        vertical-align: top;\n",
       "    }\n",
       "</style>\n",
       "<table border=\"1\" class=\"dataframe\">\n",
       "  <thead>\n",
       "    <tr style=\"text-align: right;\">\n",
       "      <th></th>\n",
       "      <th>gameLogID</th>\n",
       "      <th>moveType</th>\n",
       "      <th>unconvertedTile</th>\n",
       "      <th>convertedTile</th>\n",
       "      <th>discDrawn</th>\n",
       "      <th>handNumber</th>\n",
       "      <th>moveNumber</th>\n",
       "      <th>roundWind</th>\n",
       "      <th>roundNumber</th>\n",
       "      <th>bonusSticks</th>\n",
       "      <th>...</th>\n",
       "      <th>shantenEngineeringColumn</th>\n",
       "      <th>shanten</th>\n",
       "      <th>actorPondDist5</th>\n",
       "      <th>actor_pd5_All</th>\n",
       "      <th>actor_pd5_3</th>\n",
       "      <th>actor_pd5_4</th>\n",
       "      <th>actor_pd5_5</th>\n",
       "      <th>actor_pd5_6</th>\n",
       "      <th>actor_pd5_7</th>\n",
       "      <th>actorOpenMeldCount</th>\n",
       "    </tr>\n",
       "    <tr>\n",
       "      <th>lobby</th>\n",
       "      <th></th>\n",
       "      <th></th>\n",
       "      <th></th>\n",
       "      <th></th>\n",
       "      <th></th>\n",
       "      <th></th>\n",
       "      <th></th>\n",
       "      <th></th>\n",
       "      <th></th>\n",
       "      <th></th>\n",
       "      <th></th>\n",
       "      <th></th>\n",
       "      <th></th>\n",
       "      <th></th>\n",
       "      <th></th>\n",
       "      <th></th>\n",
       "      <th></th>\n",
       "      <th></th>\n",
       "      <th></th>\n",
       "      <th></th>\n",
       "      <th></th>\n",
       "    </tr>\n",
       "  </thead>\n",
       "  <tbody>\n",
       "    <tr>\n",
       "      <th>houou</th>\n",
       "      <td>21758</td>\n",
       "      <td>21758</td>\n",
       "      <td>21758</td>\n",
       "      <td>21758</td>\n",
       "      <td>21758</td>\n",
       "      <td>21758</td>\n",
       "      <td>21758</td>\n",
       "      <td>21758</td>\n",
       "      <td>21758</td>\n",
       "      <td>21758</td>\n",
       "      <td>...</td>\n",
       "      <td>21758</td>\n",
       "      <td>21758</td>\n",
       "      <td>21758</td>\n",
       "      <td>21758</td>\n",
       "      <td>21758</td>\n",
       "      <td>21758</td>\n",
       "      <td>21758</td>\n",
       "      <td>21758</td>\n",
       "      <td>21758</td>\n",
       "      <td>21758</td>\n",
       "    </tr>\n",
       "  </tbody>\n",
       "</table>\n",
       "<p>1 rows × 69 columns</p>\n",
       "</div>"
      ],
      "text/plain": [
       "       gameLogID  moveType  unconvertedTile  convertedTile  discDrawn  \\\n",
       "lobby                                                                   \n",
       "houou      21758     21758            21758          21758      21758   \n",
       "\n",
       "       handNumber  moveNumber  roundWind  roundNumber  bonusSticks  \\\n",
       "lobby                                                                \n",
       "houou       21758       21758      21758        21758        21758   \n",
       "\n",
       "              ...          shantenEngineeringColumn  shanten  actorPondDist5  \\\n",
       "lobby         ...                                                              \n",
       "houou         ...                             21758    21758           21758   \n",
       "\n",
       "       actor_pd5_All  actor_pd5_3  actor_pd5_4  actor_pd5_5  actor_pd5_6  \\\n",
       "lobby                                                                      \n",
       "houou          21758        21758        21758        21758        21758   \n",
       "\n",
       "       actor_pd5_7  actorOpenMeldCount  \n",
       "lobby                                   \n",
       "houou        21758               21758  \n",
       "\n",
       "[1 rows x 69 columns]"
      ]
     },
     "execution_count": 79,
     "metadata": {},
     "output_type": "execute_result"
    }
   ],
   "source": [
    "dfDiscards.groupby(\"lobby\").count()"
   ]
  },
  {
   "cell_type": "markdown",
   "metadata": {},
   "source": [
    "#### Yeah the vast majority of these 45 games I'm using for some basic EDA are at least upperdan (where I would play) and mostly houou (where the top players play), and honestly main lobby players are probably the only people who semi-consistently 4-open, although I'll be sure to verify that later.\n",
    "\n",
    "#### Anyhow, yeah -- looks like people don't usually open:"
   ]
  },
  {
   "cell_type": "code",
   "execution_count": 80,
   "metadata": {},
   "outputs": [
    {
     "data": {
      "text/plain": [
       "[<matplotlib.lines.Line2D at 0x7f9ab2553ac8>]"
      ]
     },
     "execution_count": 80,
     "metadata": {},
     "output_type": "execute_result"
    },
    {
     "data": {
      "image/png": "[encoded data removed]",
      "text/plain": [
       "<matplotlib.figure.Figure at 0x7f9ab27872e8>"
      ]
     },
     "metadata": {},
     "output_type": "display_data"
    }
   ],
   "source": [
    "plt.plot(dfDiscards[\"actorOpenMeldCount\"].value_counts(),marker=\"X\")"
   ]
  },
  {
   "cell_type": "code",
   "execution_count": 81,
   "metadata": {},
   "outputs": [
    {
     "data": {
      "text/html": [
       "<div>\n",
       "<style>\n",
       "    .dataframe thead tr:only-child th {\n",
       "        text-align: right;\n",
       "    }\n",
       "\n",
       "    .dataframe thead th {\n",
       "        text-align: left;\n",
       "    }\n",
       "\n",
       "    .dataframe tbody tr th {\n",
       "        vertical-align: top;\n",
       "    }\n",
       "</style>\n",
       "<table border=\"1\" class=\"dataframe\">\n",
       "  <thead>\n",
       "    <tr style=\"text-align: right;\">\n",
       "      <th></th>\n",
       "      <th>shanten</th>\n",
       "    </tr>\n",
       "    <tr>\n",
       "      <th>actorOpenMeldCount</th>\n",
       "      <th></th>\n",
       "    </tr>\n",
       "  </thead>\n",
       "  <tbody>\n",
       "    <tr>\n",
       "      <th>0.0</th>\n",
       "      <td>2.018070</td>\n",
       "    </tr>\n",
       "    <tr>\n",
       "      <th>1.0</th>\n",
       "      <td>1.270994</td>\n",
       "    </tr>\n",
       "    <tr>\n",
       "      <th>2.0</th>\n",
       "      <td>0.761827</td>\n",
       "    </tr>\n",
       "    <tr>\n",
       "      <th>3.0</th>\n",
       "      <td>0.277108</td>\n",
       "    </tr>\n",
       "  </tbody>\n",
       "</table>\n",
       "</div>"
      ],
      "text/plain": [
       "                     shanten\n",
       "actorOpenMeldCount          \n",
       "0.0                 2.018070\n",
       "1.0                 1.270994\n",
       "2.0                 0.761827\n",
       "3.0                 0.277108"
      ]
     },
     "execution_count": 81,
     "metadata": {},
     "output_type": "execute_result"
    }
   ],
   "source": [
    "dfDiscards[[\"shanten\",\"actorOpenMeldCount\"]].groupby(\"actorOpenMeldCount\").mean()"
   ]
  },
  {
   "cell_type": "markdown",
   "metadata": {},
   "source": [
    "#### If that isn't a trend I don't know what is."
   ]
  },
  {
   "cell_type": "code",
   "execution_count": 82,
   "metadata": {},
   "outputs": [
    {
     "data": {
      "text/plain": [
       "[<matplotlib.lines.Line2D at 0x7f9ab24e9908>]"
      ]
     },
     "execution_count": 82,
     "metadata": {},
     "output_type": "execute_result"
    },
    {
     "data": {
      "image/png": "[encoded data removed]",
      "text/plain": [
       "<matplotlib.figure.Figure at 0x7f9ab28f3470>"
      ]
     },
     "metadata": {},
     "output_type": "display_data"
    }
   ],
   "source": [
    "plt.plot(dfDiscards[[\"shanten\",\"actorOpenMeldCount\"]].groupby(\"actorOpenMeldCount\").mean(),marker=\"X\")"
   ]
  },
  {
   "cell_type": "markdown",
   "metadata": {},
   "source": [
    "#### Similar in many ways to the former graph, although notably different at 1 open meld and what that means on average."
   ]
  },
  {
   "cell_type": "markdown",
   "metadata": {},
   "source": [
    "### So there's a lot of things I could look at that don't require engineering.  I just really wanted to finish those engineering ones up because they're harder.\n",
    "\n",
    "#### Let's take a look at how score affects average shanten."
   ]
  },
  {
   "cell_type": "code",
   "execution_count": 83,
   "metadata": {},
   "outputs": [
    {
     "data": {
      "text/plain": [
       "192"
      ]
     },
     "execution_count": 83,
     "metadata": {},
     "output_type": "execute_result"
    }
   ],
   "source": [
    "len(set(dfDiscards[\"actorScore\"].values))"
   ]
  },
  {
   "cell_type": "markdown",
   "metadata": {},
   "source": [
    "#### Eh, 193 hands... (I'm not using all the data right now idk I want these processes to be fast) this isn't a super large number... but the shanten will vary a lot so let's take a look anyways:"
   ]
  },
  {
   "cell_type": "code",
   "execution_count": 84,
   "metadata": {},
   "outputs": [
    {
     "data": {
      "text/plain": [
       "<matplotlib.axes._subplots.AxesSubplot at 0x7f9ab2488550>"
      ]
     },
     "execution_count": 84,
     "metadata": {},
     "output_type": "execute_result"
    },
    {
     "data": {
      "image/png": "[encoded data removed]",
      "text/plain": [
       "<matplotlib.figure.Figure at 0x7f9ab248e128>"
      ]
     },
     "metadata": {},
     "output_type": "display_data"
    }
   ],
   "source": [
    "dfDiscards.plot(x=\"actorScore\",y=\"shanten\",kind=\"scatter\")"
   ]
  },
  {
   "cell_type": "markdown",
   "metadata": {},
   "source": [
    "#### All this seems to inform me of is that the few (11) times people turned down a winning hand, it was because their score wasn't off the charts, and so maybe they wanted more.\n",
    "\n",
    "#### Other than that this graph is useless."
   ]
  },
  {
   "cell_type": "code",
   "execution_count": 85,
   "metadata": {},
   "outputs": [
    {
     "data": {
      "text/html": [
       "<div>\n",
       "<style>\n",
       "    .dataframe thead tr:only-child th {\n",
       "        text-align: right;\n",
       "    }\n",
       "\n",
       "    .dataframe thead th {\n",
       "        text-align: left;\n",
       "    }\n",
       "\n",
       "    .dataframe tbody tr th {\n",
       "        vertical-align: top;\n",
       "    }\n",
       "</style>\n",
       "<table border=\"1\" class=\"dataframe\">\n",
       "  <thead>\n",
       "    <tr style=\"text-align: right;\">\n",
       "      <th></th>\n",
       "      <th>shanten</th>\n",
       "      <th>actorScore</th>\n",
       "    </tr>\n",
       "  </thead>\n",
       "  <tbody>\n",
       "    <tr>\n",
       "      <th>143</th>\n",
       "      <td>-1</td>\n",
       "      <td>250</td>\n",
       "    </tr>\n",
       "    <tr>\n",
       "      <th>2205</th>\n",
       "      <td>-1</td>\n",
       "      <td>533</td>\n",
       "    </tr>\n",
       "    <tr>\n",
       "      <th>2241</th>\n",
       "      <td>-1</td>\n",
       "      <td>533</td>\n",
       "    </tr>\n",
       "    <tr>\n",
       "      <th>4262</th>\n",
       "      <td>-1</td>\n",
       "      <td>19</td>\n",
       "    </tr>\n",
       "    <tr>\n",
       "      <th>10234</th>\n",
       "      <td>-1</td>\n",
       "      <td>171</td>\n",
       "    </tr>\n",
       "    <tr>\n",
       "      <th>27611</th>\n",
       "      <td>-1</td>\n",
       "      <td>245</td>\n",
       "    </tr>\n",
       "  </tbody>\n",
       "</table>\n",
       "</div>"
      ],
      "text/plain": [
       "       shanten  actorScore\n",
       "143         -1         250\n",
       "2205        -1         533\n",
       "2241        -1         533\n",
       "4262        -1          19\n",
       "10234       -1         171\n",
       "27611       -1         245"
      ]
     },
     "execution_count": 85,
     "metadata": {},
     "output_type": "execute_result"
    }
   ],
   "source": [
    "dfDiscards[[\"shanten\",\"actorScore\"]][dfDiscards[\"shanten\"] == -1]"
   ]
  },
  {
   "cell_type": "code",
   "execution_count": 86,
   "metadata": {},
   "outputs": [
    {
     "data": {
      "text/plain": [
       "291.8333333333333"
      ]
     },
     "execution_count": 86,
     "metadata": {},
     "output_type": "execute_result"
    }
   ],
   "source": [
    "np.mean(dfDiscards[[\"shanten\",\"actorScore\"]][dfDiscards[\"shanten\"] == -1][\"actorScore\"])"
   ]
  },
  {
   "cell_type": "markdown",
   "metadata": {},
   "source": [
    "#### The starting score in Mahjong is 25000 pts, expressed here and in the original .mjlog files provided by tenhou.net as 250, because there is never a case where you interact with point sticks less than 100 in value, rendering the last two 0s in the conventional scoring redundant.\n",
    "\n",
    "#### Aren't pennies inefficient to mass produce or something?  Are we ever going to make a move on that?\n",
    "\n",
    "#### Anyways yeah these are lower scores, meaning they might have been seeking higher value for their hand, although I'm not entirely sure."
   ]
  },
  {
   "cell_type": "code",
   "execution_count": 87,
   "metadata": {},
   "outputs": [
    {
     "data": {
      "text/html": [
       "<div>\n",
       "<style>\n",
       "    .dataframe thead tr:only-child th {\n",
       "        text-align: right;\n",
       "    }\n",
       "\n",
       "    .dataframe thead th {\n",
       "        text-align: left;\n",
       "    }\n",
       "\n",
       "    .dataframe tbody tr th {\n",
       "        vertical-align: top;\n",
       "    }\n",
       "</style>\n",
       "<table border=\"1\" class=\"dataframe\">\n",
       "  <thead>\n",
       "    <tr style=\"text-align: right;\">\n",
       "      <th></th>\n",
       "      <th>actorScore</th>\n",
       "    </tr>\n",
       "    <tr>\n",
       "      <th>shanten</th>\n",
       "      <th></th>\n",
       "    </tr>\n",
       "  </thead>\n",
       "  <tbody>\n",
       "    <tr>\n",
       "      <th>-1</th>\n",
       "      <td>291.833333</td>\n",
       "    </tr>\n",
       "    <tr>\n",
       "      <th>0</th>\n",
       "      <td>258.612700</td>\n",
       "    </tr>\n",
       "    <tr>\n",
       "      <th>1</th>\n",
       "      <td>260.314015</td>\n",
       "    </tr>\n",
       "    <tr>\n",
       "      <th>2</th>\n",
       "      <td>262.011147</td>\n",
       "    </tr>\n",
       "    <tr>\n",
       "      <th>3</th>\n",
       "      <td>259.908014</td>\n",
       "    </tr>\n",
       "    <tr>\n",
       "      <th>4</th>\n",
       "      <td>267.379426</td>\n",
       "    </tr>\n",
       "    <tr>\n",
       "      <th>5</th>\n",
       "      <td>256.430025</td>\n",
       "    </tr>\n",
       "    <tr>\n",
       "      <th>6</th>\n",
       "      <td>262.250000</td>\n",
       "    </tr>\n",
       "  </tbody>\n",
       "</table>\n",
       "</div>"
      ],
      "text/plain": [
       "         actorScore\n",
       "shanten            \n",
       "-1       291.833333\n",
       " 0       258.612700\n",
       " 1       260.314015\n",
       " 2       262.011147\n",
       " 3       259.908014\n",
       " 4       267.379426\n",
       " 5       256.430025\n",
       " 6       262.250000"
      ]
     },
     "execution_count": 87,
     "metadata": {},
     "output_type": "execute_result"
    }
   ],
   "source": [
    "dfDiscards[[\"shanten\",\"actorScore\"]].groupby(\"shanten\").mean()"
   ]
  },
  {
   "cell_type": "markdown",
   "metadata": {},
   "source": [
    "## <font color=green>Alright so not the most complete EDA, but definitely some useful stuff here.  I need to do much more.  I'm tired and I'm gonna stop it here for now, and in the morning I'll get this together in the way necessary and send it over.</font>"
   ]
  },
  {
   "cell_type": "code",
   "execution_count": null,
   "metadata": {
    "collapsed": true
   },
   "outputs": [],
   "source": []
  },
  {
   "cell_type": "markdown",
   "metadata": {},
   "source": [
    "### So I have returned and now I want to take the bits that I have and see how well models are able to predict shanten.  Maybe we bucket the shanten into [0 and 1 shanten] vs [other shanten] and we just ignore the -1 outliers."
   ]
  },
  {
   "cell_type": "code",
   "execution_count": null,
   "metadata": {
    "collapsed": true
   },
   "outputs": [],
   "source": []
  },
  {
   "cell_type": "code",
   "execution_count": 88,
   "metadata": {},
   "outputs": [
    {
     "data": {
      "text/plain": [
       "array(['gameLogID', 'lobby', 'moveType', 'unconvertedTile',\n",
       "       'convertedTile', 'discDrawn', 'handNumber', 'moveNumber',\n",
       "       'roundWind', 'roundNumber', 'bonusSticks',\n",
       "       'unconvertedDoraIndicator', 'convertedDoraIndicator',\n",
       "       'convertedDora', 'actorWind', 'actorRating', 'rightRating',\n",
       "       'acrossRating', 'leftRating', 'actorRank', 'rightRank',\n",
       "       'acrossRank', 'leftRank', 'actorScore', 'rightScore', 'acrossScore',\n",
       "       'leftScore', 'actorHandConverted', 'actorHandUnconverted',\n",
       "       'rightHandConverted', 'rightHandUnconverted', 'acrossHandConverted',\n",
       "       'acrossHandUnconverted', 'leftHandConverted', 'leftHandUnconverted',\n",
       "       'actorUnconvertedPond', 'actorConvertedPond',\n",
       "       'rightUnconvertedPond', 'rightConvertedPond',\n",
       "       'acrossUnconvertedPond', 'acrossConvertedPond',\n",
       "       'leftUnconvertedPond', 'leftConvertedPond', 'actorReachStatus',\n",
       "       'rightReachStatus', 'acrossReachStatus', 'leftReachStatus',\n",
       "       'actorIsOpen', 'rightIsOpen', 'acrossIsOpen', 'leftIsOpen',\n",
       "       'actorOpenTiles', 'rightOpenTiles', 'acrossOpenTiles',\n",
       "       'leftOpenTiles', 'actorPondCount', 'rightPondCount',\n",
       "       'acrossPondCount', 'leftPondCount', 'whosTurn',\n",
       "       'shantenEngineeringColumn', 'shanten', 'actorPondDist5',\n",
       "       'actor_pd5_All', 'actor_pd5_3', 'actor_pd5_4', 'actor_pd5_5',\n",
       "       'actor_pd5_6', 'actor_pd5_7', 'actorOpenMeldCount'], dtype=object)"
      ]
     },
     "execution_count": 88,
     "metadata": {},
     "output_type": "execute_result"
    }
   ],
   "source": [
    "dfDiscards.columns.values"
   ]
  },
  {
   "cell_type": "code",
   "execution_count": 89,
   "metadata": {
    "collapsed": true
   },
   "outputs": [],
   "source": [
    "X = dfDiscards[['actor_pd5_5','actorOpenMeldCount','moveNumber','handNumber']]\n",
    "y = dfDiscards[\"shanten\"]"
   ]
  },
  {
   "cell_type": "code",
   "execution_count": 90,
   "metadata": {
    "collapsed": true
   },
   "outputs": [],
   "source": [
    "from sklearn.ensemble import RandomForestClassifier\n",
    "from sklearn.tree import DecisionTreeClassifier\n",
    "from sklearn.model_selection import cross_val_score, KFold\n",
    "from sklearn.model_selection import train_test_split"
   ]
  },
  {
   "cell_type": "code",
   "execution_count": 91,
   "metadata": {
    "collapsed": true
   },
   "outputs": [],
   "source": [
    "X_train, X_test, y_train, y_test = train_test_split(X, y, test_size=0.25, random_state=42)"
   ]
  },
  {
   "cell_type": "code",
   "execution_count": 92,
   "metadata": {
    "collapsed": true
   },
   "outputs": [],
   "source": [
    "dtc = DecisionTreeClassifier()"
   ]
  },
  {
   "cell_type": "code",
   "execution_count": 93,
   "metadata": {},
   "outputs": [
    {
     "name": "stdout",
     "output_type": "stream",
     "text": [
      "0.349797416668\n",
      "0.00467961000797\n",
      "[ 0.35355392  0.34987745  0.35171569  0.34079068  0.35304934]\n"
     ]
    }
   ],
   "source": [
    "kf = KFold(n_splits=5,shuffle=True,random_state=42)\n",
    "scores = cross_val_score(dtc,X_train,y_train,cv=kf)\n",
    "print(np.mean(scores))\n",
    "print(np.std(scores))\n",
    "print(scores)"
   ]
  },
  {
   "cell_type": "code",
   "execution_count": 94,
   "metadata": {},
   "outputs": [
    {
     "data": {
      "text/plain": [
       " 2    6549\n",
       " 1    5815\n",
       " 3    4305\n",
       " 0    3181\n",
       " 4    1497\n",
       " 5     393\n",
       " 6      12\n",
       "-1       6\n",
       "Name: shanten, dtype: int64"
      ]
     },
     "execution_count": 94,
     "metadata": {},
     "output_type": "execute_result"
    }
   ],
   "source": [
    "dfDiscards[\"shanten\"].value_counts()"
   ]
  },
  {
   "cell_type": "code",
   "execution_count": 95,
   "metadata": {},
   "outputs": [
    {
     "name": "stdout",
     "output_type": "stream",
     "text": [
      "baseline 0.30258875369285465\n",
      "basic dtc 0.349797416668\n"
     ]
    }
   ],
   "source": [
    "print(\"baseline\",6043./(6043+5519+3964+2848+1295+282+11+9))\n",
    "print(\"basic dtc\",np.mean(scores))"
   ]
  },
  {
   "cell_type": "code",
   "execution_count": 96,
   "metadata": {
    "collapsed": true
   },
   "outputs": [],
   "source": [
    "rfc = RandomForestClassifier()"
   ]
  },
  {
   "cell_type": "code",
   "execution_count": 97,
   "metadata": {},
   "outputs": [
    {
     "name": "stdout",
     "output_type": "stream",
     "text": [
      "0.36603696451\n",
      "0.00753242465287\n",
      "[ 0.37469363  0.35723039  0.375       0.35917867  0.36408213]\n"
     ]
    }
   ],
   "source": [
    "kf = KFold(n_splits=5,shuffle=True,random_state=42)\n",
    "scores = cross_val_score(rfc,X_train,y_train,cv=kf)\n",
    "print(np.mean(scores))\n",
    "print(np.std(scores))\n",
    "print(scores)"
   ]
  },
  {
   "cell_type": "code",
   "execution_count": 98,
   "metadata": {},
   "outputs": [
    {
     "name": "stderr",
     "output_type": "stream",
     "text": [
      "/home/tpeach/anaconda3/lib/python3.6/site-packages/sklearn/cross_validation.py:44: DeprecationWarning: This module was deprecated in version 0.18 in favor of the model_selection module into which all the refactored classes and functions are moved. Also note that the interface of the new CV iterators are different from that of this module. This module will be removed in 0.20.\n",
      "  \"This module will be removed in 0.20.\", DeprecationWarning)\n",
      "/home/tpeach/anaconda3/lib/python3.6/site-packages/sklearn/grid_search.py:43: DeprecationWarning: This module was deprecated in version 0.18 in favor of the model_selection module into which all the refactored classes and functions are moved. This module will be removed in 0.20.\n",
      "  DeprecationWarning)\n"
     ]
    }
   ],
   "source": [
    "from sklearn.grid_search import GridSearchCV"
   ]
  },
  {
   "cell_type": "code",
   "execution_count": 99,
   "metadata": {
    "collapsed": true
   },
   "outputs": [],
   "source": [
    "# paramz = {\n",
    "#     \"n_estimators\":[5,11,15,21,51,101],\n",
    "#     \"max_depth\":[3,5,7,9,None]\n",
    "# }\n",
    "\n",
    "# gscv = GridSearchCV(rfc,paramz)\n",
    "# bestForest = gscv.fit(X_train,y_train)\n",
    "# bestForest.best_params_"
   ]
  },
  {
   "cell_type": "code",
   "execution_count": 100,
   "metadata": {
    "collapsed": true
   },
   "outputs": [],
   "source": [
    "# kf = KFold(n_splits=5,shuffle=True,random_state=42)\n",
    "# scores = cross_val_score(bestForest.best_estimator_,X_train,y_train,cv=kf)\n",
    "# print(np.mean(scores))\n",
    "# print(np.std(scores))\n",
    "# print(scores)"
   ]
  },
  {
   "cell_type": "code",
   "execution_count": 101,
   "metadata": {
    "collapsed": true
   },
   "outputs": [],
   "source": [
    "#preds = bestForest.best_estimator_.predict(X_test)"
   ]
  },
  {
   "cell_type": "code",
   "execution_count": 102,
   "metadata": {},
   "outputs": [
    {
     "data": {
      "text/plain": [
       "numpy.ndarray"
      ]
     },
     "execution_count": 102,
     "metadata": {},
     "output_type": "execute_result"
    }
   ],
   "source": [
    "type(y_test.values)"
   ]
  },
  {
   "cell_type": "markdown",
   "metadata": {},
   "source": [
    "### Random forests are really good o_o."
   ]
  },
  {
   "cell_type": "code",
   "execution_count": 103,
   "metadata": {
    "collapsed": true
   },
   "outputs": [],
   "source": [
    "# def averageDifference(y_true,y_pred):\n",
    "#     movingSum = 0\n",
    "#     n = len(y_true)\n",
    "#     for i in range(len(y_true)):\n",
    "#         movingSum += abs(y_true[i] - y_pred[i])\n",
    "#     return float(movingSum)/n"
   ]
  },
  {
   "cell_type": "code",
   "execution_count": 104,
   "metadata": {
    "collapsed": true
   },
   "outputs": [],
   "source": [
    "# print(averageDifference(y_test.values,preds))"
   ]
  },
  {
   "cell_type": "markdown",
   "metadata": {},
   "source": [
    "### So on average it isn't off by much.  It's not guessing randomly."
   ]
  },
  {
   "cell_type": "code",
   "execution_count": 105,
   "metadata": {
    "collapsed": true
   },
   "outputs": [],
   "source": [
    "# nuDf = pd.DataFrame()"
   ]
  },
  {
   "cell_type": "code",
   "execution_count": 106,
   "metadata": {
    "collapsed": true
   },
   "outputs": [],
   "source": [
    "# nuDf[\"preds\"] = preds"
   ]
  },
  {
   "cell_type": "code",
   "execution_count": 107,
   "metadata": {
    "collapsed": true
   },
   "outputs": [],
   "source": [
    "# nuDf[\"preds\"].value_counts()"
   ]
  },
  {
   "cell_type": "code",
   "execution_count": 108,
   "metadata": {},
   "outputs": [
    {
     "data": {
      "text/plain": [
       " 2    1621\n",
       " 1    1449\n",
       " 3    1095\n",
       " 0     815\n",
       " 4     365\n",
       " 5      93\n",
       "-1       1\n",
       " 6       1\n",
       "Name: shanten, dtype: int64"
      ]
     },
     "execution_count": 108,
     "metadata": {},
     "output_type": "execute_result"
    }
   ],
   "source": [
    "y_test.value_counts()"
   ]
  },
  {
   "cell_type": "markdown",
   "metadata": {},
   "source": [
    "### I wanna convert the shanten column to \"tenpai\" and \"not tenpai\""
   ]
  },
  {
   "cell_type": "code",
   "execution_count": 109,
   "metadata": {},
   "outputs": [
    {
     "data": {
      "text/plain": [
       "1        2\n",
       "3        3\n",
       "5        3\n",
       "7        5\n",
       "9        2\n",
       "11       2\n",
       "13       3\n",
       "15       3\n",
       "17       2\n",
       "19       3\n",
       "21       2\n",
       "23       3\n",
       "25       2\n",
       "27       3\n",
       "29       2\n",
       "31       3\n",
       "33       2\n",
       "35       3\n",
       "37       2\n",
       "39       2\n",
       "41       1\n",
       "43       2\n",
       "45       2\n",
       "47       1\n",
       "49       1\n",
       "51       2\n",
       "53       2\n",
       "55       1\n",
       "57       2\n",
       "59       2\n",
       "        ..\n",
       "44007    0\n",
       "44009    2\n",
       "44011    1\n",
       "44013    2\n",
       "44015    0\n",
       "44017    2\n",
       "44019    1\n",
       "44021    2\n",
       "44023    0\n",
       "44025    1\n",
       "44027    1\n",
       "44029    2\n",
       "44031    0\n",
       "44033    1\n",
       "44035    2\n",
       "44037    1\n",
       "44039    0\n",
       "44041    0\n",
       "44043    2\n",
       "44045    2\n",
       "44047    0\n",
       "44049    0\n",
       "44051    2\n",
       "44053    2\n",
       "44055    0\n",
       "44057    1\n",
       "44059    2\n",
       "44061    2\n",
       "44063    0\n",
       "44066    0\n",
       "Name: shanten, Length: 21758, dtype: int64"
      ]
     },
     "execution_count": 109,
     "metadata": {},
     "output_type": "execute_result"
    }
   ],
   "source": [
    "dfDiscards[\"shanten\"]"
   ]
  },
  {
   "cell_type": "code",
   "execution_count": 110,
   "metadata": {},
   "outputs": [
    {
     "name": "stderr",
     "output_type": "stream",
     "text": [
      "/home/tpeach/anaconda3/lib/python3.6/site-packages/ipykernel_launcher.py:7: SettingWithCopyWarning: \n",
      "A value is trying to be set on a copy of a slice from a DataFrame.\n",
      "Try using .loc[row_indexer,col_indexer] = value instead\n",
      "\n",
      "See the caveats in the documentation: http://pandas.pydata.org/pandas-docs/stable/indexing.html#indexing-view-versus-copy\n",
      "  import sys\n"
     ]
    }
   ],
   "source": [
    "vvv = dfDiscards[\"shanten\"].copy().values\n",
    "for i in range(len(vvv)):\n",
    "    if vvv[i] == 0 or vvv[i] == -1:\n",
    "        vvv[i] = 1\n",
    "    else:\n",
    "        vvv[i] = 0\n",
    "dfDiscards[\"isTenpai\"] = vvv"
   ]
  },
  {
   "cell_type": "code",
   "execution_count": 111,
   "metadata": {},
   "outputs": [
    {
     "data": {
      "text/plain": [
       "0    18571\n",
       "1     3187\n",
       "Name: isTenpai, dtype: int64"
      ]
     },
     "execution_count": 111,
     "metadata": {},
     "output_type": "execute_result"
    }
   ],
   "source": [
    "dfDiscards[\"isTenpai\"].value_counts()"
   ]
  },
  {
   "cell_type": "code",
   "execution_count": 112,
   "metadata": {},
   "outputs": [
    {
     "name": "stdout",
     "output_type": "stream",
     "text": [
      "baseline 0.8568424215111913\n"
     ]
    }
   ],
   "source": [
    "print(\"baseline\",17112./(17112+2859))"
   ]
  },
  {
   "cell_type": "code",
   "execution_count": 113,
   "metadata": {
    "collapsed": true
   },
   "outputs": [],
   "source": [
    "rfc = RandomForestClassifier()"
   ]
  },
  {
   "cell_type": "code",
   "execution_count": 114,
   "metadata": {
    "collapsed": true
   },
   "outputs": [],
   "source": [
    "X = dfDiscards[['actor_pd5_5','actorOpenMeldCount','moveNumber','handNumber']]\n",
    "y = dfDiscards[\"isTenpai\"]\n",
    "X_train, X_test, y_train, y_test = train_test_split(X, y, test_size=0.25, random_state=42)"
   ]
  },
  {
   "cell_type": "code",
   "execution_count": 115,
   "metadata": {
    "collapsed": true
   },
   "outputs": [],
   "source": [
    "#X_train, X_test, y_train, y_test = train_test_split(X, y, test_size=0.25, random_state=42)"
   ]
  },
  {
   "cell_type": "code",
   "execution_count": 116,
   "metadata": {},
   "outputs": [
    {
     "name": "stdout",
     "output_type": "stream",
     "text": [
      "0.838153381947\n",
      "0.0061201454525\n",
      "[ 0.84007353  0.84742647  0.84007353  0.82960466  0.83358872]\n"
     ]
    }
   ],
   "source": [
    "kf = KFold(n_splits=5,shuffle=True,random_state=42)\n",
    "scores = cross_val_score(rfc,X_train,y_train,cv=kf)\n",
    "print(np.mean(scores))\n",
    "print(np.std(scores))\n",
    "print(scores)"
   ]
  },
  {
   "cell_type": "code",
   "execution_count": 117,
   "metadata": {
    "collapsed": true
   },
   "outputs": [],
   "source": [
    "# paramz = {\n",
    "#     \"n_estimators\":[5,11,15,21,51,101],\n",
    "#     \"max_depth\":[3,5,7,9,None]\n",
    "# }\n",
    "\n",
    "# gscv = GridSearchCV(rfc,paramz)\n",
    "# bestForest = gscv.fit(X_train,y_train)"
   ]
  },
  {
   "cell_type": "code",
   "execution_count": null,
   "metadata": {
    "collapsed": true
   },
   "outputs": [],
   "source": []
  },
  {
   "cell_type": "code",
   "execution_count": 118,
   "metadata": {
    "collapsed": true
   },
   "outputs": [],
   "source": [
    "# kf = KFold(n_splits=5,shuffle=True,random_state=42)\n",
    "# scores = cross_val_score(bestForest.best_estimator_,X_train,y_train,cv=kf)\n",
    "# print(np.mean(scores))\n",
    "# print(np.std(scores))\n",
    "# print(scores)"
   ]
  },
  {
   "cell_type": "code",
   "execution_count": 119,
   "metadata": {
    "collapsed": true
   },
   "outputs": [],
   "source": [
    "# bestForest.best_estimator_.feature_importances_"
   ]
  },
  {
   "cell_type": "code",
   "execution_count": 120,
   "metadata": {
    "collapsed": true
   },
   "outputs": [],
   "source": [
    "# bestForest.best_params_"
   ]
  },
  {
   "cell_type": "markdown",
   "metadata": {},
   "source": [
    "### So this is overwhelmingly saying \"how late it is in the hand is very important.\""
   ]
  },
  {
   "cell_type": "markdown",
   "metadata": {},
   "source": [
    "### This means I should probably just use how many discards a person has made, because that is what is actually contributing to this."
   ]
  },
  {
   "cell_type": "code",
   "execution_count": 121,
   "metadata": {
    "collapsed": true
   },
   "outputs": [],
   "source": [
    "#dfDiscards[\"actorPondCount\"].value_counts()"
   ]
  },
  {
   "cell_type": "code",
   "execution_count": 122,
   "metadata": {
    "collapsed": true
   },
   "outputs": [],
   "source": [
    "#dfDiscards.groupby(\"actorPondCount\")"
   ]
  },
  {
   "cell_type": "code",
   "execution_count": 123,
   "metadata": {},
   "outputs": [
    {
     "data": {
      "text/html": [
       "<div>\n",
       "<style>\n",
       "    .dataframe thead tr:only-child th {\n",
       "        text-align: right;\n",
       "    }\n",
       "\n",
       "    .dataframe thead th {\n",
       "        text-align: left;\n",
       "    }\n",
       "\n",
       "    .dataframe tbody tr th {\n",
       "        vertical-align: top;\n",
       "    }\n",
       "</style>\n",
       "<table border=\"1\" class=\"dataframe\">\n",
       "  <thead>\n",
       "    <tr style=\"text-align: right;\">\n",
       "      <th></th>\n",
       "      <th>gameLogID</th>\n",
       "      <th>lobby</th>\n",
       "      <th>moveType</th>\n",
       "      <th>unconvertedTile</th>\n",
       "      <th>convertedTile</th>\n",
       "      <th>discDrawn</th>\n",
       "      <th>handNumber</th>\n",
       "      <th>moveNumber</th>\n",
       "      <th>roundWind</th>\n",
       "      <th>roundNumber</th>\n",
       "      <th>...</th>\n",
       "      <th>shanten</th>\n",
       "      <th>actorPondDist5</th>\n",
       "      <th>actor_pd5_All</th>\n",
       "      <th>actor_pd5_3</th>\n",
       "      <th>actor_pd5_4</th>\n",
       "      <th>actor_pd5_5</th>\n",
       "      <th>actor_pd5_6</th>\n",
       "      <th>actor_pd5_7</th>\n",
       "      <th>actorOpenMeldCount</th>\n",
       "      <th>isTenpai</th>\n",
       "    </tr>\n",
       "  </thead>\n",
       "  <tbody>\n",
       "    <tr>\n",
       "      <th>1</th>\n",
       "      <td>2016082221gm-00a9-0000-ebc65731</td>\n",
       "      <td>houou</td>\n",
       "      <td>discard</td>\n",
       "      <td>134</td>\n",
       "      <td>120</td>\n",
       "      <td>[0]</td>\n",
       "      <td>1</td>\n",
       "      <td>2</td>\n",
       "      <td>east</td>\n",
       "      <td>1</td>\n",
       "      <td>...</td>\n",
       "      <td>2</td>\n",
       "      <td>[4]</td>\n",
       "      <td>4.000000</td>\n",
       "      <td>4.000000</td>\n",
       "      <td>4.000000</td>\n",
       "      <td>4.000000</td>\n",
       "      <td>4.000000</td>\n",
       "      <td>4.000000</td>\n",
       "      <td>0</td>\n",
       "      <td>0</td>\n",
       "    </tr>\n",
       "    <tr>\n",
       "      <th>3</th>\n",
       "      <td>2016082221gm-00a9-0000-ebc65731</td>\n",
       "      <td>houou</td>\n",
       "      <td>discard</td>\n",
       "      <td>33</td>\n",
       "      <td>9</td>\n",
       "      <td>[0]</td>\n",
       "      <td>1</td>\n",
       "      <td>4</td>\n",
       "      <td>east</td>\n",
       "      <td>1</td>\n",
       "      <td>...</td>\n",
       "      <td>3</td>\n",
       "      <td>[4]</td>\n",
       "      <td>4.000000</td>\n",
       "      <td>4.000000</td>\n",
       "      <td>4.000000</td>\n",
       "      <td>4.000000</td>\n",
       "      <td>4.000000</td>\n",
       "      <td>4.000000</td>\n",
       "      <td>0</td>\n",
       "      <td>0</td>\n",
       "    </tr>\n",
       "    <tr>\n",
       "      <th>5</th>\n",
       "      <td>2016082221gm-00a9-0000-ebc65731</td>\n",
       "      <td>houou</td>\n",
       "      <td>discard</td>\n",
       "      <td>1</td>\n",
       "      <td>1</td>\n",
       "      <td>[1]</td>\n",
       "      <td>1</td>\n",
       "      <td>6</td>\n",
       "      <td>east</td>\n",
       "      <td>1</td>\n",
       "      <td>...</td>\n",
       "      <td>3</td>\n",
       "      <td>[4]</td>\n",
       "      <td>4.000000</td>\n",
       "      <td>4.000000</td>\n",
       "      <td>4.000000</td>\n",
       "      <td>4.000000</td>\n",
       "      <td>4.000000</td>\n",
       "      <td>4.000000</td>\n",
       "      <td>0</td>\n",
       "      <td>0</td>\n",
       "    </tr>\n",
       "    <tr>\n",
       "      <th>7</th>\n",
       "      <td>2016082221gm-00a9-0000-ebc65731</td>\n",
       "      <td>houou</td>\n",
       "      <td>discard</td>\n",
       "      <td>101</td>\n",
       "      <td>48</td>\n",
       "      <td>[0]</td>\n",
       "      <td>1</td>\n",
       "      <td>8</td>\n",
       "      <td>east</td>\n",
       "      <td>1</td>\n",
       "      <td>...</td>\n",
       "      <td>5</td>\n",
       "      <td>[3]</td>\n",
       "      <td>3.000000</td>\n",
       "      <td>3.000000</td>\n",
       "      <td>3.000000</td>\n",
       "      <td>3.000000</td>\n",
       "      <td>3.000000</td>\n",
       "      <td>3.000000</td>\n",
       "      <td>0</td>\n",
       "      <td>0</td>\n",
       "    </tr>\n",
       "    <tr>\n",
       "      <th>9</th>\n",
       "      <td>2016082221gm-00a9-0000-ebc65731</td>\n",
       "      <td>houou</td>\n",
       "      <td>discard</td>\n",
       "      <td>118</td>\n",
       "      <td>80</td>\n",
       "      <td>[0, 1]</td>\n",
       "      <td>1</td>\n",
       "      <td>10</td>\n",
       "      <td>east</td>\n",
       "      <td>1</td>\n",
       "      <td>...</td>\n",
       "      <td>2</td>\n",
       "      <td>[4, 4]</td>\n",
       "      <td>4.000000</td>\n",
       "      <td>4.000000</td>\n",
       "      <td>4.000000</td>\n",
       "      <td>4.000000</td>\n",
       "      <td>4.000000</td>\n",
       "      <td>4.000000</td>\n",
       "      <td>0</td>\n",
       "      <td>0</td>\n",
       "    </tr>\n",
       "    <tr>\n",
       "      <th>11</th>\n",
       "      <td>2016082221gm-00a9-0000-ebc65731</td>\n",
       "      <td>houou</td>\n",
       "      <td>discard</td>\n",
       "      <td>125</td>\n",
       "      <td>100</td>\n",
       "      <td>[0, 0]</td>\n",
       "      <td>1</td>\n",
       "      <td>12</td>\n",
       "      <td>east</td>\n",
       "      <td>1</td>\n",
       "      <td>...</td>\n",
       "      <td>2</td>\n",
       "      <td>[4, 4]</td>\n",
       "      <td>4.000000</td>\n",
       "      <td>4.000000</td>\n",
       "      <td>4.000000</td>\n",
       "      <td>4.000000</td>\n",
       "      <td>4.000000</td>\n",
       "      <td>4.000000</td>\n",
       "      <td>0</td>\n",
       "      <td>0</td>\n",
       "    </tr>\n",
       "    <tr>\n",
       "      <th>13</th>\n",
       "      <td>2016082221gm-00a9-0000-ebc65731</td>\n",
       "      <td>houou</td>\n",
       "      <td>discard</td>\n",
       "      <td>127</td>\n",
       "      <td>100</td>\n",
       "      <td>[1, 0]</td>\n",
       "      <td>1</td>\n",
       "      <td>14</td>\n",
       "      <td>east</td>\n",
       "      <td>1</td>\n",
       "      <td>...</td>\n",
       "      <td>3</td>\n",
       "      <td>[4, 4]</td>\n",
       "      <td>4.000000</td>\n",
       "      <td>4.000000</td>\n",
       "      <td>4.000000</td>\n",
       "      <td>4.000000</td>\n",
       "      <td>4.000000</td>\n",
       "      <td>4.000000</td>\n",
       "      <td>0</td>\n",
       "      <td>0</td>\n",
       "    </tr>\n",
       "    <tr>\n",
       "      <th>15</th>\n",
       "      <td>2016082221gm-00a9-0000-ebc65731</td>\n",
       "      <td>houou</td>\n",
       "      <td>discard</td>\n",
       "      <td>124</td>\n",
       "      <td>100</td>\n",
       "      <td>[0, 0]</td>\n",
       "      <td>1</td>\n",
       "      <td>16</td>\n",
       "      <td>east</td>\n",
       "      <td>1</td>\n",
       "      <td>...</td>\n",
       "      <td>3</td>\n",
       "      <td>[3, 4]</td>\n",
       "      <td>3.500000</td>\n",
       "      <td>3.500000</td>\n",
       "      <td>3.500000</td>\n",
       "      <td>3.500000</td>\n",
       "      <td>3.500000</td>\n",
       "      <td>3.500000</td>\n",
       "      <td>0</td>\n",
       "      <td>0</td>\n",
       "    </tr>\n",
       "    <tr>\n",
       "      <th>17</th>\n",
       "      <td>2016082221gm-00a9-0000-ebc65731</td>\n",
       "      <td>houou</td>\n",
       "      <td>discard</td>\n",
       "      <td>22</td>\n",
       "      <td>6</td>\n",
       "      <td>[0, 1, 1]</td>\n",
       "      <td>1</td>\n",
       "      <td>18</td>\n",
       "      <td>east</td>\n",
       "      <td>1</td>\n",
       "      <td>...</td>\n",
       "      <td>2</td>\n",
       "      <td>[4, 4, 1]</td>\n",
       "      <td>3.000000</td>\n",
       "      <td>3.000000</td>\n",
       "      <td>3.000000</td>\n",
       "      <td>3.000000</td>\n",
       "      <td>3.000000</td>\n",
       "      <td>3.000000</td>\n",
       "      <td>0</td>\n",
       "      <td>0</td>\n",
       "    </tr>\n",
       "    <tr>\n",
       "      <th>19</th>\n",
       "      <td>2016082221gm-00a9-0000-ebc65731</td>\n",
       "      <td>houou</td>\n",
       "      <td>discard</td>\n",
       "      <td>130</td>\n",
       "      <td>110</td>\n",
       "      <td>[0, 0, 0]</td>\n",
       "      <td>1</td>\n",
       "      <td>20</td>\n",
       "      <td>east</td>\n",
       "      <td>1</td>\n",
       "      <td>...</td>\n",
       "      <td>3</td>\n",
       "      <td>[4, 4, 4]</td>\n",
       "      <td>4.000000</td>\n",
       "      <td>4.000000</td>\n",
       "      <td>4.000000</td>\n",
       "      <td>4.000000</td>\n",
       "      <td>4.000000</td>\n",
       "      <td>4.000000</td>\n",
       "      <td>0</td>\n",
       "      <td>0</td>\n",
       "    </tr>\n",
       "    <tr>\n",
       "      <th>21</th>\n",
       "      <td>2016082221gm-00a9-0000-ebc65731</td>\n",
       "      <td>houou</td>\n",
       "      <td>discard</td>\n",
       "      <td>131</td>\n",
       "      <td>110</td>\n",
       "      <td>[1, 0, 0]</td>\n",
       "      <td>1</td>\n",
       "      <td>22</td>\n",
       "      <td>east</td>\n",
       "      <td>1</td>\n",
       "      <td>...</td>\n",
       "      <td>2</td>\n",
       "      <td>[4, 4, 4]</td>\n",
       "      <td>4.000000</td>\n",
       "      <td>4.000000</td>\n",
       "      <td>4.000000</td>\n",
       "      <td>4.000000</td>\n",
       "      <td>4.000000</td>\n",
       "      <td>4.000000</td>\n",
       "      <td>0</td>\n",
       "      <td>0</td>\n",
       "    </tr>\n",
       "    <tr>\n",
       "      <th>23</th>\n",
       "      <td>2016082221gm-00a9-0000-ebc65731</td>\n",
       "      <td>houou</td>\n",
       "      <td>discard</td>\n",
       "      <td>129</td>\n",
       "      <td>110</td>\n",
       "      <td>[0, 0, 0]</td>\n",
       "      <td>1</td>\n",
       "      <td>24</td>\n",
       "      <td>east</td>\n",
       "      <td>1</td>\n",
       "      <td>...</td>\n",
       "      <td>3</td>\n",
       "      <td>[3, 4, 4]</td>\n",
       "      <td>3.666667</td>\n",
       "      <td>3.666667</td>\n",
       "      <td>3.666667</td>\n",
       "      <td>3.666667</td>\n",
       "      <td>3.666667</td>\n",
       "      <td>3.666667</td>\n",
       "      <td>0</td>\n",
       "      <td>0</td>\n",
       "    </tr>\n",
       "    <tr>\n",
       "      <th>25</th>\n",
       "      <td>2016082221gm-00a9-0000-ebc65731</td>\n",
       "      <td>houou</td>\n",
       "      <td>discard</td>\n",
       "      <td>65</td>\n",
       "      <td>28</td>\n",
       "      <td>[0, 1, 1, 0]</td>\n",
       "      <td>1</td>\n",
       "      <td>26</td>\n",
       "      <td>east</td>\n",
       "      <td>1</td>\n",
       "      <td>...</td>\n",
       "      <td>2</td>\n",
       "      <td>[4, 4, 1, 3]</td>\n",
       "      <td>3.000000</td>\n",
       "      <td>2.666667</td>\n",
       "      <td>3.000000</td>\n",
       "      <td>3.000000</td>\n",
       "      <td>3.000000</td>\n",
       "      <td>3.000000</td>\n",
       "      <td>0</td>\n",
       "      <td>0</td>\n",
       "    </tr>\n",
       "    <tr>\n",
       "      <th>27</th>\n",
       "      <td>2016082221gm-00a9-0000-ebc65731</td>\n",
       "      <td>houou</td>\n",
       "      <td>discard</td>\n",
       "      <td>72</td>\n",
       "      <td>41</td>\n",
       "      <td>[0, 0, 0, 1]</td>\n",
       "      <td>1</td>\n",
       "      <td>28</td>\n",
       "      <td>east</td>\n",
       "      <td>1</td>\n",
       "      <td>...</td>\n",
       "      <td>3</td>\n",
       "      <td>[4, 4, 4, 4]</td>\n",
       "      <td>4.000000</td>\n",
       "      <td>4.000000</td>\n",
       "      <td>4.000000</td>\n",
       "      <td>4.000000</td>\n",
       "      <td>4.000000</td>\n",
       "      <td>4.000000</td>\n",
       "      <td>0</td>\n",
       "      <td>0</td>\n",
       "    </tr>\n",
       "    <tr>\n",
       "      <th>29</th>\n",
       "      <td>2016082221gm-00a9-0000-ebc65731</td>\n",
       "      <td>houou</td>\n",
       "      <td>discard</td>\n",
       "      <td>120</td>\n",
       "      <td>90</td>\n",
       "      <td>[1, 0, 0, 1]</td>\n",
       "      <td>1</td>\n",
       "      <td>30</td>\n",
       "      <td>east</td>\n",
       "      <td>1</td>\n",
       "      <td>...</td>\n",
       "      <td>2</td>\n",
       "      <td>[4, 4, 4, 4]</td>\n",
       "      <td>4.000000</td>\n",
       "      <td>4.000000</td>\n",
       "      <td>4.000000</td>\n",
       "      <td>4.000000</td>\n",
       "      <td>4.000000</td>\n",
       "      <td>4.000000</td>\n",
       "      <td>0</td>\n",
       "      <td>0</td>\n",
       "    </tr>\n",
       "    <tr>\n",
       "      <th>31</th>\n",
       "      <td>2016082221gm-00a9-0000-ebc65731</td>\n",
       "      <td>houou</td>\n",
       "      <td>discard</td>\n",
       "      <td>122</td>\n",
       "      <td>90</td>\n",
       "      <td>[0, 0, 0, 0]</td>\n",
       "      <td>1</td>\n",
       "      <td>32</td>\n",
       "      <td>east</td>\n",
       "      <td>1</td>\n",
       "      <td>...</td>\n",
       "      <td>3</td>\n",
       "      <td>[3, 4, 4, 4]</td>\n",
       "      <td>3.750000</td>\n",
       "      <td>4.000000</td>\n",
       "      <td>3.750000</td>\n",
       "      <td>3.750000</td>\n",
       "      <td>3.750000</td>\n",
       "      <td>3.750000</td>\n",
       "      <td>0</td>\n",
       "      <td>0</td>\n",
       "    </tr>\n",
       "    <tr>\n",
       "      <th>33</th>\n",
       "      <td>2016082221gm-00a9-0000-ebc65731</td>\n",
       "      <td>houou</td>\n",
       "      <td>discard</td>\n",
       "      <td>68</td>\n",
       "      <td>29</td>\n",
       "      <td>[0, 1, 1, 0, 0]</td>\n",
       "      <td>1</td>\n",
       "      <td>34</td>\n",
       "      <td>east</td>\n",
       "      <td>1</td>\n",
       "      <td>...</td>\n",
       "      <td>2</td>\n",
       "      <td>[4, 4, 1, 3, 4]</td>\n",
       "      <td>3.200000</td>\n",
       "      <td>2.666667</td>\n",
       "      <td>3.000000</td>\n",
       "      <td>3.200000</td>\n",
       "      <td>3.200000</td>\n",
       "      <td>3.200000</td>\n",
       "      <td>0</td>\n",
       "      <td>0</td>\n",
       "    </tr>\n",
       "    <tr>\n",
       "      <th>35</th>\n",
       "      <td>2016082221gm-00a9-0000-ebc65731</td>\n",
       "      <td>houou</td>\n",
       "      <td>discard</td>\n",
       "      <td>56</td>\n",
       "      <td>26</td>\n",
       "      <td>[0, 0, 0, 1, 0]</td>\n",
       "      <td>1</td>\n",
       "      <td>36</td>\n",
       "      <td>east</td>\n",
       "      <td>1</td>\n",
       "      <td>...</td>\n",
       "      <td>3</td>\n",
       "      <td>[4, 4, 4, 4, 1]</td>\n",
       "      <td>3.400000</td>\n",
       "      <td>3.000000</td>\n",
       "      <td>3.250000</td>\n",
       "      <td>3.400000</td>\n",
       "      <td>3.400000</td>\n",
       "      <td>3.400000</td>\n",
       "      <td>0</td>\n",
       "      <td>0</td>\n",
       "    </tr>\n",
       "    <tr>\n",
       "      <th>37</th>\n",
       "      <td>2016082221gm-00a9-0000-ebc65731</td>\n",
       "      <td>houou</td>\n",
       "      <td>discard</td>\n",
       "      <td>121</td>\n",
       "      <td>90</td>\n",
       "      <td>[1, 0, 0, 1, 1]</td>\n",
       "      <td>1</td>\n",
       "      <td>38</td>\n",
       "      <td>east</td>\n",
       "      <td>1</td>\n",
       "      <td>...</td>\n",
       "      <td>2</td>\n",
       "      <td>[4, 4, 4, 4, 4]</td>\n",
       "      <td>4.000000</td>\n",
       "      <td>4.000000</td>\n",
       "      <td>4.000000</td>\n",
       "      <td>4.000000</td>\n",
       "      <td>4.000000</td>\n",
       "      <td>4.000000</td>\n",
       "      <td>0</td>\n",
       "      <td>0</td>\n",
       "    </tr>\n",
       "    <tr>\n",
       "      <th>39</th>\n",
       "      <td>2016082221gm-00a9-0000-ebc65731</td>\n",
       "      <td>houou</td>\n",
       "      <td>discard</td>\n",
       "      <td>112</td>\n",
       "      <td>70</td>\n",
       "      <td>[0, 0, 0, 0, 0]</td>\n",
       "      <td>1</td>\n",
       "      <td>40</td>\n",
       "      <td>east</td>\n",
       "      <td>1</td>\n",
       "      <td>...</td>\n",
       "      <td>2</td>\n",
       "      <td>[3, 4, 4, 4, 4]</td>\n",
       "      <td>3.800000</td>\n",
       "      <td>4.000000</td>\n",
       "      <td>4.000000</td>\n",
       "      <td>3.800000</td>\n",
       "      <td>3.800000</td>\n",
       "      <td>3.800000</td>\n",
       "      <td>0</td>\n",
       "      <td>0</td>\n",
       "    </tr>\n",
       "  </tbody>\n",
       "</table>\n",
       "<p>20 rows × 71 columns</p>\n",
       "</div>"
      ],
      "text/plain": [
       "                          gameLogID  lobby moveType  unconvertedTile  \\\n",
       "1   2016082221gm-00a9-0000-ebc65731  houou  discard              134   \n",
       "3   2016082221gm-00a9-0000-ebc65731  houou  discard               33   \n",
       "5   2016082221gm-00a9-0000-ebc65731  houou  discard                1   \n",
       "7   2016082221gm-00a9-0000-ebc65731  houou  discard              101   \n",
       "9   2016082221gm-00a9-0000-ebc65731  houou  discard              118   \n",
       "11  2016082221gm-00a9-0000-ebc65731  houou  discard              125   \n",
       "13  2016082221gm-00a9-0000-ebc65731  houou  discard              127   \n",
       "15  2016082221gm-00a9-0000-ebc65731  houou  discard              124   \n",
       "17  2016082221gm-00a9-0000-ebc65731  houou  discard               22   \n",
       "19  2016082221gm-00a9-0000-ebc65731  houou  discard              130   \n",
       "21  2016082221gm-00a9-0000-ebc65731  houou  discard              131   \n",
       "23  2016082221gm-00a9-0000-ebc65731  houou  discard              129   \n",
       "25  2016082221gm-00a9-0000-ebc65731  houou  discard               65   \n",
       "27  2016082221gm-00a9-0000-ebc65731  houou  discard               72   \n",
       "29  2016082221gm-00a9-0000-ebc65731  houou  discard              120   \n",
       "31  2016082221gm-00a9-0000-ebc65731  houou  discard              122   \n",
       "33  2016082221gm-00a9-0000-ebc65731  houou  discard               68   \n",
       "35  2016082221gm-00a9-0000-ebc65731  houou  discard               56   \n",
       "37  2016082221gm-00a9-0000-ebc65731  houou  discard              121   \n",
       "39  2016082221gm-00a9-0000-ebc65731  houou  discard              112   \n",
       "\n",
       "    convertedTile        discDrawn  handNumber  moveNumber roundWind  \\\n",
       "1             120              [0]           1           2      east   \n",
       "3               9              [0]           1           4      east   \n",
       "5               1              [1]           1           6      east   \n",
       "7              48              [0]           1           8      east   \n",
       "9              80           [0, 1]           1          10      east   \n",
       "11            100           [0, 0]           1          12      east   \n",
       "13            100           [1, 0]           1          14      east   \n",
       "15            100           [0, 0]           1          16      east   \n",
       "17              6        [0, 1, 1]           1          18      east   \n",
       "19            110        [0, 0, 0]           1          20      east   \n",
       "21            110        [1, 0, 0]           1          22      east   \n",
       "23            110        [0, 0, 0]           1          24      east   \n",
       "25             28     [0, 1, 1, 0]           1          26      east   \n",
       "27             41     [0, 0, 0, 1]           1          28      east   \n",
       "29             90     [1, 0, 0, 1]           1          30      east   \n",
       "31             90     [0, 0, 0, 0]           1          32      east   \n",
       "33             29  [0, 1, 1, 0, 0]           1          34      east   \n",
       "35             26  [0, 0, 0, 1, 0]           1          36      east   \n",
       "37             90  [1, 0, 0, 1, 1]           1          38      east   \n",
       "39             70  [0, 0, 0, 0, 0]           1          40      east   \n",
       "\n",
       "    roundNumber    ...     shanten   actorPondDist5 actor_pd5_All actor_pd5_3  \\\n",
       "1             1    ...           2              [4]      4.000000    4.000000   \n",
       "3             1    ...           3              [4]      4.000000    4.000000   \n",
       "5             1    ...           3              [4]      4.000000    4.000000   \n",
       "7             1    ...           5              [3]      3.000000    3.000000   \n",
       "9             1    ...           2           [4, 4]      4.000000    4.000000   \n",
       "11            1    ...           2           [4, 4]      4.000000    4.000000   \n",
       "13            1    ...           3           [4, 4]      4.000000    4.000000   \n",
       "15            1    ...           3           [3, 4]      3.500000    3.500000   \n",
       "17            1    ...           2        [4, 4, 1]      3.000000    3.000000   \n",
       "19            1    ...           3        [4, 4, 4]      4.000000    4.000000   \n",
       "21            1    ...           2        [4, 4, 4]      4.000000    4.000000   \n",
       "23            1    ...           3        [3, 4, 4]      3.666667    3.666667   \n",
       "25            1    ...           2     [4, 4, 1, 3]      3.000000    2.666667   \n",
       "27            1    ...           3     [4, 4, 4, 4]      4.000000    4.000000   \n",
       "29            1    ...           2     [4, 4, 4, 4]      4.000000    4.000000   \n",
       "31            1    ...           3     [3, 4, 4, 4]      3.750000    4.000000   \n",
       "33            1    ...           2  [4, 4, 1, 3, 4]      3.200000    2.666667   \n",
       "35            1    ...           3  [4, 4, 4, 4, 1]      3.400000    3.000000   \n",
       "37            1    ...           2  [4, 4, 4, 4, 4]      4.000000    4.000000   \n",
       "39            1    ...           2  [3, 4, 4, 4, 4]      3.800000    4.000000   \n",
       "\n",
       "    actor_pd5_4  actor_pd5_5  actor_pd5_6  actor_pd5_7  actorOpenMeldCount  \\\n",
       "1      4.000000     4.000000     4.000000     4.000000                   0   \n",
       "3      4.000000     4.000000     4.000000     4.000000                   0   \n",
       "5      4.000000     4.000000     4.000000     4.000000                   0   \n",
       "7      3.000000     3.000000     3.000000     3.000000                   0   \n",
       "9      4.000000     4.000000     4.000000     4.000000                   0   \n",
       "11     4.000000     4.000000     4.000000     4.000000                   0   \n",
       "13     4.000000     4.000000     4.000000     4.000000                   0   \n",
       "15     3.500000     3.500000     3.500000     3.500000                   0   \n",
       "17     3.000000     3.000000     3.000000     3.000000                   0   \n",
       "19     4.000000     4.000000     4.000000     4.000000                   0   \n",
       "21     4.000000     4.000000     4.000000     4.000000                   0   \n",
       "23     3.666667     3.666667     3.666667     3.666667                   0   \n",
       "25     3.000000     3.000000     3.000000     3.000000                   0   \n",
       "27     4.000000     4.000000     4.000000     4.000000                   0   \n",
       "29     4.000000     4.000000     4.000000     4.000000                   0   \n",
       "31     3.750000     3.750000     3.750000     3.750000                   0   \n",
       "33     3.000000     3.200000     3.200000     3.200000                   0   \n",
       "35     3.250000     3.400000     3.400000     3.400000                   0   \n",
       "37     4.000000     4.000000     4.000000     4.000000                   0   \n",
       "39     4.000000     3.800000     3.800000     3.800000                   0   \n",
       "\n",
       "    isTenpai  \n",
       "1          0  \n",
       "3          0  \n",
       "5          0  \n",
       "7          0  \n",
       "9          0  \n",
       "11         0  \n",
       "13         0  \n",
       "15         0  \n",
       "17         0  \n",
       "19         0  \n",
       "21         0  \n",
       "23         0  \n",
       "25         0  \n",
       "27         0  \n",
       "29         0  \n",
       "31         0  \n",
       "33         0  \n",
       "35         0  \n",
       "37         0  \n",
       "39         0  \n",
       "\n",
       "[20 rows x 71 columns]"
      ]
     },
     "execution_count": 123,
     "metadata": {},
     "output_type": "execute_result"
    }
   ],
   "source": [
    "dfDiscards.head(20)"
   ]
  },
  {
   "cell_type": "code",
   "execution_count": 124,
   "metadata": {},
   "outputs": [
    {
     "data": {
      "text/plain": [
       "shanten\n",
       "-1    14.166667\n",
       " 0    10.752279\n",
       " 1     8.696991\n",
       " 2     6.367537\n",
       " 3     4.495935\n",
       " 4     3.080160\n",
       " 5     4.002545\n",
       " 6     3.666667\n",
       "Name: actorPondCount, dtype: float64"
      ]
     },
     "execution_count": 124,
     "metadata": {},
     "output_type": "execute_result"
    }
   ],
   "source": [
    "dfDiscards.groupby(\"shanten\").mean()[\"actorPondCount\"]"
   ]
  },
  {
   "cell_type": "code",
   "execution_count": 125,
   "metadata": {},
   "outputs": [
    {
     "data": {
      "text/plain": [
       "[<matplotlib.lines.Line2D at 0x7f9aa284a128>]"
      ]
     },
     "execution_count": 125,
     "metadata": {},
     "output_type": "execute_result"
    },
    {
     "data": {
      "image/png": "[encoded data removed]",
      "text/plain": [
       "<matplotlib.figure.Figure at 0x7f9aa28c7780>"
      ]
     },
     "metadata": {},
     "output_type": "display_data"
    }
   ],
   "source": [
    "plt.plot(dfDiscards.groupby(\"shanten\").mean()[\"actorPondCount\"])"
   ]
  },
  {
   "cell_type": "code",
   "execution_count": 126,
   "metadata": {},
   "outputs": [
    {
     "name": "stdout",
     "output_type": "stream",
     "text": [
      "0.848387389357\n",
      "0.00691898277509\n",
      "[ 0.84865196  0.85631127  0.85477941  0.83726632  0.84492798]\n"
     ]
    }
   ],
   "source": [
    "X = dfDiscards[['actor_pd5_5','actorOpenMeldCount',\"actorPondCount\"]]\n",
    "y = dfDiscards[\"isTenpai\"]\n",
    "X_train, X_test, y_train, y_test = train_test_split(X, y, test_size=0.25, random_state=42)\n",
    "rfc = RandomForestClassifier()\n",
    "kf = KFold(n_splits=5,shuffle=True,random_state=42)\n",
    "scores = cross_val_score(rfc,X_train,y_train,cv=kf)\n",
    "print(np.mean(scores))\n",
    "print(np.std(scores))\n",
    "print(scores)"
   ]
  },
  {
   "cell_type": "code",
   "execution_count": 127,
   "metadata": {
    "collapsed": true
   },
   "outputs": [],
   "source": [
    "# paramz = {\n",
    "#     \"n_estimators\":[5,11,15,21,51,101],\n",
    "#     \"max_depth\":[3,5,7,9,None]\n",
    "# }\n",
    "\n",
    "# gscv = GridSearchCV(rfc,paramz)\n",
    "# bestForest = gscv.fit(X_train,y_train)"
   ]
  },
  {
   "cell_type": "code",
   "execution_count": 128,
   "metadata": {
    "collapsed": true
   },
   "outputs": [],
   "source": [
    "# kf = KFold(n_splits=5,shuffle=True,random_state=42)\n",
    "# scores = cross_val_score(gscv.best_estimator_,X_train,y_train,cv=kf)\n",
    "# print(np.mean(scores))\n",
    "# print(np.std(scores))\n",
    "# print(scores)"
   ]
  },
  {
   "cell_type": "code",
   "execution_count": 129,
   "metadata": {
    "collapsed": true
   },
   "outputs": [],
   "source": [
    "#gscv.best_params_"
   ]
  },
  {
   "cell_type": "code",
   "execution_count": 130,
   "metadata": {
    "collapsed": true
   },
   "outputs": [],
   "source": [
    "#gscv.best_estimator_.feature_importances_"
   ]
  },
  {
   "cell_type": "code",
   "execution_count": 131,
   "metadata": {
    "collapsed": true
   },
   "outputs": [],
   "source": [
    "#dfDiscards[['actor_pd5_5','actorOpenMeldCount',\"actorPondCount\",\"shanten\"]].corr()"
   ]
  },
  {
   "cell_type": "code",
   "execution_count": 132,
   "metadata": {
    "collapsed": true
   },
   "outputs": [],
   "source": [
    "#dfDiscards.info()"
   ]
  },
  {
   "cell_type": "markdown",
   "metadata": {},
   "source": [
    "actorOpenMeldCount was object somehow"
   ]
  },
  {
   "cell_type": "code",
   "execution_count": 133,
   "metadata": {},
   "outputs": [
    {
     "name": "stderr",
     "output_type": "stream",
     "text": [
      "/home/tpeach/anaconda3/lib/python3.6/site-packages/ipykernel_launcher.py:1: SettingWithCopyWarning: \n",
      "A value is trying to be set on a copy of a slice from a DataFrame.\n",
      "Try using .loc[row_indexer,col_indexer] = value instead\n",
      "\n",
      "See the caveats in the documentation: http://pandas.pydata.org/pandas-docs/stable/indexing.html#indexing-view-versus-copy\n",
      "  \"\"\"Entry point for launching an IPython kernel.\n"
     ]
    }
   ],
   "source": [
    "dfDiscards['actorOpenMeldCount'] = dfDiscards['actorOpenMeldCount'].astype(int)"
   ]
  },
  {
   "cell_type": "code",
   "execution_count": 134,
   "metadata": {
    "collapsed": true
   },
   "outputs": [],
   "source": [
    "#dfDiscards.info()"
   ]
  },
  {
   "cell_type": "code",
   "execution_count": 135,
   "metadata": {},
   "outputs": [
    {
     "data": {
      "text/html": [
       "<div>\n",
       "<style>\n",
       "    .dataframe thead tr:only-child th {\n",
       "        text-align: right;\n",
       "    }\n",
       "\n",
       "    .dataframe thead th {\n",
       "        text-align: left;\n",
       "    }\n",
       "\n",
       "    .dataframe tbody tr th {\n",
       "        vertical-align: top;\n",
       "    }\n",
       "</style>\n",
       "<table border=\"1\" class=\"dataframe\">\n",
       "  <thead>\n",
       "    <tr style=\"text-align: right;\">\n",
       "      <th></th>\n",
       "      <th>actor_pd5_5</th>\n",
       "      <th>actorOpenMeldCount</th>\n",
       "      <th>actorPondCount</th>\n",
       "    </tr>\n",
       "  </thead>\n",
       "  <tbody>\n",
       "    <tr>\n",
       "      <th>actor_pd5_5</th>\n",
       "      <td>1.000000</td>\n",
       "      <td>-0.241394</td>\n",
       "      <td>-0.452080</td>\n",
       "    </tr>\n",
       "    <tr>\n",
       "      <th>actorOpenMeldCount</th>\n",
       "      <td>-0.241394</td>\n",
       "      <td>1.000000</td>\n",
       "      <td>0.288839</td>\n",
       "    </tr>\n",
       "    <tr>\n",
       "      <th>actorPondCount</th>\n",
       "      <td>-0.452080</td>\n",
       "      <td>0.288839</td>\n",
       "      <td>1.000000</td>\n",
       "    </tr>\n",
       "  </tbody>\n",
       "</table>\n",
       "</div>"
      ],
      "text/plain": [
       "                    actor_pd5_5  actorOpenMeldCount  actorPondCount\n",
       "actor_pd5_5            1.000000           -0.241394       -0.452080\n",
       "actorOpenMeldCount    -0.241394            1.000000        0.288839\n",
       "actorPondCount        -0.452080            0.288839        1.000000"
      ]
     },
     "execution_count": 135,
     "metadata": {},
     "output_type": "execute_result"
    }
   ],
   "source": [
    "dfDiscards[['actor_pd5_5','actorOpenMeldCount',\"actorPondCount\"]].corr()"
   ]
  },
  {
   "cell_type": "code",
   "execution_count": 136,
   "metadata": {
    "collapsed": true
   },
   "outputs": [],
   "source": [
    "from sklearn.decomposition import PCA"
   ]
  },
  {
   "cell_type": "code",
   "execution_count": 137,
   "metadata": {
    "collapsed": true
   },
   "outputs": [],
   "source": [
    "pca = PCA(n_components=3)"
   ]
  },
  {
   "cell_type": "code",
   "execution_count": 138,
   "metadata": {
    "collapsed": true
   },
   "outputs": [],
   "source": [
    "X = dfDiscards[['actor_pd5_5','actorOpenMeldCount',\"actorPondCount\"]]\n",
    "y = dfDiscards[\"isTenpai\"]"
   ]
  },
  {
   "cell_type": "code",
   "execution_count": 139,
   "metadata": {
    "collapsed": true
   },
   "outputs": [],
   "source": [
    "X = pca.fit_transform(X)"
   ]
  },
  {
   "cell_type": "code",
   "execution_count": 140,
   "metadata": {
    "collapsed": true
   },
   "outputs": [],
   "source": [
    "#X_train, X_test, y_train, y_test = train_test_split(X, y, test_size=0.25, random_state=42)"
   ]
  },
  {
   "cell_type": "code",
   "execution_count": 141,
   "metadata": {
    "collapsed": true
   },
   "outputs": [],
   "source": [
    "# paramz = {\n",
    "#     \"n_estimators\":[5,11,15,21,51,101],\n",
    "#     \"max_depth\":[3,5,7,9,None]\n",
    "# }\n",
    "\n",
    "# gscv = GridSearchCV(rfc,paramz)\n",
    "# bestForest = gscv.fit(X_train,y_train)"
   ]
  },
  {
   "cell_type": "code",
   "execution_count": 142,
   "metadata": {
    "collapsed": true
   },
   "outputs": [],
   "source": [
    "# kf = KFold(n_splits=5,shuffle=True,random_state=42)\n",
    "# scores = cross_val_score(bestForest.best_estimator_,X_train,y_train,cv=kf)\n",
    "# print(np.mean(scores))\n",
    "# print(np.std(scores))\n",
    "# print(scores)"
   ]
  },
  {
   "cell_type": "markdown",
   "metadata": {},
   "source": [
    "### No difference as a result of pca (colinearity reduction.) because RandomForests don't care about that. Oops."
   ]
  },
  {
   "cell_type": "code",
   "execution_count": 143,
   "metadata": {},
   "outputs": [
    {
     "data": {
      "text/plain": [
       "actorPondCount\n",
       "0     3.250000\n",
       "1     3.182967\n",
       "2     2.831699\n",
       "3     2.503489\n",
       "4     2.209565\n",
       "5     1.961433\n",
       "6     1.756084\n",
       "7     1.585366\n",
       "8     1.427685\n",
       "9     1.301322\n",
       "10    1.197958\n",
       "11    1.089469\n",
       "12    1.062500\n",
       "13    1.025435\n",
       "14    1.006525\n",
       "15    0.998020\n",
       "16    1.057279\n",
       "17    1.063670\n",
       "18    0.986667\n",
       "19    0.647059\n",
       "20    0.250000\n",
       "Name: shanten, dtype: float64"
      ]
     },
     "execution_count": 143,
     "metadata": {},
     "output_type": "execute_result"
    }
   ],
   "source": [
    "dfDiscards.groupby(\"actorPondCount\").mean()[\"shanten\"]"
   ]
  },
  {
   "cell_type": "code",
   "execution_count": 144,
   "metadata": {},
   "outputs": [
    {
     "data": {
      "text/plain": [
       "[<matplotlib.lines.Line2D at 0x7f9aa0b3f400>]"
      ]
     },
     "execution_count": 144,
     "metadata": {},
     "output_type": "execute_result"
    },
    {
     "data": {
      "image/png": "[encoded data removed]",
      "text/plain": [
       "<matplotlib.figure.Figure at 0x7f9aa11dd470>"
      ]
     },
     "metadata": {},
     "output_type": "display_data"
    }
   ],
   "source": [
    "plt.plot(dfDiscards.groupby(\"actorPondCount\").mean()[\"shanten\"])"
   ]
  },
  {
   "cell_type": "code",
   "execution_count": 145,
   "metadata": {},
   "outputs": [
    {
     "data": {
      "text/plain": [
       "Index(['gameLogID', 'lobby', 'moveType', 'unconvertedTile', 'convertedTile',\n",
       "       'discDrawn', 'handNumber', 'moveNumber', 'roundWind', 'roundNumber',\n",
       "       'bonusSticks', 'unconvertedDoraIndicator', 'convertedDoraIndicator',\n",
       "       'convertedDora', 'actorWind', 'actorRating', 'rightRating',\n",
       "       'acrossRating', 'leftRating', 'actorRank', 'rightRank', 'acrossRank',\n",
       "       'leftRank', 'actorScore', 'rightScore', 'acrossScore', 'leftScore',\n",
       "       'actorHandConverted', 'actorHandUnconverted', 'rightHandConverted',\n",
       "       'rightHandUnconverted', 'acrossHandConverted', 'acrossHandUnconverted',\n",
       "       'leftHandConverted', 'leftHandUnconverted', 'actorUnconvertedPond',\n",
       "       'actorConvertedPond', 'rightUnconvertedPond', 'rightConvertedPond',\n",
       "       'acrossUnconvertedPond', 'acrossConvertedPond', 'leftUnconvertedPond',\n",
       "       'leftConvertedPond', 'actorReachStatus', 'rightReachStatus',\n",
       "       'acrossReachStatus', 'leftReachStatus', 'actorIsOpen', 'rightIsOpen',\n",
       "       'acrossIsOpen', 'leftIsOpen', 'actorOpenTiles', 'rightOpenTiles',\n",
       "       'acrossOpenTiles', 'leftOpenTiles', 'actorPondCount', 'rightPondCount',\n",
       "       'acrossPondCount', 'leftPondCount', 'whosTurn',\n",
       "       'shantenEngineeringColumn', 'shanten', 'actorPondDist5',\n",
       "       'actor_pd5_All', 'actor_pd5_3', 'actor_pd5_4', 'actor_pd5_5',\n",
       "       'actor_pd5_6', 'actor_pd5_7', 'actorOpenMeldCount', 'isTenpai'],\n",
       "      dtype='object')"
      ]
     },
     "execution_count": 145,
     "metadata": {},
     "output_type": "execute_result"
    }
   ],
   "source": [
    "dfDiscards.columns"
   ]
  },
  {
   "cell_type": "code",
   "execution_count": 146,
   "metadata": {},
   "outputs": [
    {
     "name": "stderr",
     "output_type": "stream",
     "text": [
      "/home/tpeach/anaconda3/lib/python3.6/site-packages/ipykernel_launcher.py:1: UserWarning: Boolean Series key will be reindexed to match DataFrame index.\n",
      "  \"\"\"Entry point for launching an IPython kernel.\n"
     ]
    }
   ],
   "source": [
    "noReachDf = dfDiscards[dfDiscards['actorReachStatus']==0][dfDiscards['leftReachStatus']==0][dfDiscards['rightReachStatus']==0][dfDiscards['acrossReachStatus']==0]"
   ]
  },
  {
   "cell_type": "code",
   "execution_count": 147,
   "metadata": {
    "collapsed": true
   },
   "outputs": [],
   "source": [
    "#len(dfDiscards)"
   ]
  },
  {
   "cell_type": "code",
   "execution_count": null,
   "metadata": {
    "collapsed": true
   },
   "outputs": [],
   "source": []
  },
  {
   "cell_type": "code",
   "execution_count": 148,
   "metadata": {},
   "outputs": [
    {
     "data": {
      "text/plain": [
       "actorPondCount\n",
       "0     3.250000\n",
       "1     3.189950\n",
       "2     2.844408\n",
       "3     2.525499\n",
       "4     2.246746\n",
       "5     2.012070\n",
       "6     1.812298\n",
       "7     1.658482\n",
       "8     1.496916\n",
       "9     1.414365\n",
       "10    1.273625\n",
       "11    1.167619\n",
       "12    1.113350\n",
       "13    0.987730\n",
       "14    0.892430\n",
       "15    0.893401\n",
       "16    0.960265\n",
       "17    0.850467\n",
       "18    0.800000\n",
       "19    0.521739\n",
       "20    0.250000\n",
       "Name: shanten, dtype: float64"
      ]
     },
     "execution_count": 148,
     "metadata": {},
     "output_type": "execute_result"
    }
   ],
   "source": [
    "noReachDf.groupby(\"actorPondCount\").mean()[\"shanten\"]"
   ]
  },
  {
   "cell_type": "code",
   "execution_count": 149,
   "metadata": {},
   "outputs": [
    {
     "data": {
      "text/plain": [
       "shanten\n",
       "-1    2.920000\n",
       " 0    2.726233\n",
       " 1    3.030613\n",
       " 2    3.423870\n",
       " 3    3.657203\n",
       " 4    3.700503\n",
       " 5    3.551757\n",
       " 6    3.886364\n",
       "Name: actor_pd5_5, dtype: float64"
      ]
     },
     "execution_count": 149,
     "metadata": {},
     "output_type": "execute_result"
    }
   ],
   "source": [
    "noReachDf.groupby(\"shanten\").mean()[\"actor_pd5_5\"]"
   ]
  },
  {
   "cell_type": "markdown",
   "metadata": {},
   "source": [
    "# 3 very important thoughts:\n",
    "\n",
    "### 1) From seeing the EDA, and then reflecting about my own experience and knowledge of mahjong, it seems that all you can know is that someone is /close/ (1 away or 2 away) You can't really know if they're 1 away.  At least with this data.\n",
    "\n",
    "### 2) Relating to resolving this, I want to collect the data about \"Are they throwing away what they just drew\" -- and I really particularly would like to study this for weaker players because I believe there would be a difference, where at the high levels I feel like they would hide this.  I mean I know enough to hide it by throwing a tile from inside my hand rather than the one I just drew if I have the option.\n",
    "\n",
    "### 3) We do not have the data on how quickly people are getting rid of a tile after they draw.  I feel like the quicker someone is discarding, especially when they are also getting rid of mostly things they draw, the closer they are."
   ]
  },
  {
   "cell_type": "markdown",
   "metadata": {
    "collapsed": true
   },
   "source": [
    "## okay so I just retrieved the \"did he just discard what he drew\" column"
   ]
  },
  {
   "cell_type": "code",
   "execution_count": 150,
   "metadata": {},
   "outputs": [
    {
     "data": {
      "text/plain": [
       "Index(['gameLogID', 'lobby', 'moveType', 'unconvertedTile', 'convertedTile',\n",
       "       'discDrawn', 'handNumber', 'moveNumber', 'roundWind', 'roundNumber',\n",
       "       'bonusSticks', 'unconvertedDoraIndicator', 'convertedDoraIndicator',\n",
       "       'convertedDora', 'actorWind', 'actorRating', 'rightRating',\n",
       "       'acrossRating', 'leftRating', 'actorRank', 'rightRank', 'acrossRank',\n",
       "       'leftRank', 'actorScore', 'rightScore', 'acrossScore', 'leftScore',\n",
       "       'actorHandConverted', 'actorHandUnconverted', 'rightHandConverted',\n",
       "       'rightHandUnconverted', 'acrossHandConverted', 'acrossHandUnconverted',\n",
       "       'leftHandConverted', 'leftHandUnconverted', 'actorUnconvertedPond',\n",
       "       'actorConvertedPond', 'rightUnconvertedPond', 'rightConvertedPond',\n",
       "       'acrossUnconvertedPond', 'acrossConvertedPond', 'leftUnconvertedPond',\n",
       "       'leftConvertedPond', 'actorReachStatus', 'rightReachStatus',\n",
       "       'acrossReachStatus', 'leftReachStatus', 'actorIsOpen', 'rightIsOpen',\n",
       "       'acrossIsOpen', 'leftIsOpen', 'actorOpenTiles', 'rightOpenTiles',\n",
       "       'acrossOpenTiles', 'leftOpenTiles', 'actorPondCount', 'rightPondCount',\n",
       "       'acrossPondCount', 'leftPondCount', 'whosTurn',\n",
       "       'shantenEngineeringColumn', 'shanten', 'actorPondDist5',\n",
       "       'actor_pd5_All', 'actor_pd5_3', 'actor_pd5_4', 'actor_pd5_5',\n",
       "       'actor_pd5_6', 'actor_pd5_7', 'actorOpenMeldCount', 'isTenpai'],\n",
       "      dtype='object')"
      ]
     },
     "execution_count": 150,
     "metadata": {},
     "output_type": "execute_result"
    }
   ],
   "source": [
    "dfDiscards.columns"
   ]
  },
  {
   "cell_type": "code",
   "execution_count": 151,
   "metadata": {
    "collapsed": true
   },
   "outputs": [],
   "source": [
    "#noReachDf.columns"
   ]
  },
  {
   "cell_type": "code",
   "execution_count": 152,
   "metadata": {
    "collapsed": true
   },
   "outputs": [],
   "source": [
    "#noReachDf.groupby(\"discardedTheDraw\").mean()[\"shanten\"]"
   ]
  },
  {
   "cell_type": "code",
   "execution_count": 153,
   "metadata": {},
   "outputs": [
    {
     "data": {
      "text/plain": [
       "whosTurn\n",
       "0    2.036921\n",
       "1    2.033301\n",
       "2    2.095481\n",
       "3    2.007759\n",
       "Name: shanten, dtype: float64"
      ]
     },
     "execution_count": 153,
     "metadata": {},
     "output_type": "execute_result"
    }
   ],
   "source": [
    "noReachDf.groupby(\"whosTurn\").mean()[\"shanten\"]"
   ]
  },
  {
   "cell_type": "code",
   "execution_count": 154,
   "metadata": {
    "collapsed": true
   },
   "outputs": [],
   "source": [
    "#noReachDf[[\"actorScore\",\"leftScore\",'acrossScore','rightScore']].tail(20)\n",
    "# Score column doesn't work right now apparently. Oh well."
   ]
  },
  {
   "cell_type": "code",
   "execution_count": 155,
   "metadata": {
    "collapsed": true
   },
   "outputs": [],
   "source": [
    "#noReachDf.groupby([\"handNumber\",\"whosTurn\"]).mean()[\"shanten\"]"
   ]
  },
  {
   "cell_type": "code",
   "execution_count": 156,
   "metadata": {
    "collapsed": true
   },
   "outputs": [],
   "source": [
    "#noReachDf[noReachDf[\"whosTurn\"]==0]"
   ]
  },
  {
   "cell_type": "code",
   "execution_count": 157,
   "metadata": {
    "collapsed": true
   },
   "outputs": [],
   "source": [
    "#noReachDf[['gameLogID','handNumber','whosTurn', 'discardedTheDraw']].head()"
   ]
  },
  {
   "cell_type": "code",
   "execution_count": 158,
   "metadata": {
    "collapsed": true
   },
   "outputs": [],
   "source": [
    "#noReachDf[noReachDf[\"whosTurn\"]==0].head() #so this is one person's progression through each entire game."
   ]
  },
  {
   "cell_type": "markdown",
   "metadata": {
    "collapsed": true
   },
   "source": [
    "### added list of 0s and 1s for discards, where 0 if player did not discard what was drawn, and 1 is did discard drawn"
   ]
  },
  {
   "cell_type": "code",
   "execution_count": 159,
   "metadata": {},
   "outputs": [
    {
     "data": {
      "text/plain": [
       "'[0]'"
      ]
     },
     "execution_count": 159,
     "metadata": {},
     "output_type": "execute_result"
    }
   ],
   "source": [
    "noReachDf[\"discDrawn\"].values[0]"
   ]
  },
  {
   "cell_type": "code",
   "execution_count": 160,
   "metadata": {
    "collapsed": true
   },
   "outputs": [],
   "source": [
    "valx = noReachDf[\"discDrawn\"].copy().values\n",
    "\n",
    "for i in range(len(valx)):\n",
    "    valx[i] = valx[i].split(\"[\")[1].split(\"]\")[0].split(\",\")\n",
    "    for j in range(len(valx[i])):\n",
    "        valx[i][j] = int(valx[i][j])\n",
    "\n",
    "noReachDf[\"discDrawn\"] = valx"
   ]
  },
  {
   "cell_type": "code",
   "execution_count": 161,
   "metadata": {},
   "outputs": [
    {
     "data": {
      "text/plain": [
       "int"
      ]
     },
     "execution_count": 161,
     "metadata": {},
     "output_type": "execute_result"
    }
   ],
   "source": [
    "type(noReachDf[\"discDrawn\"].values[0][0])"
   ]
  },
  {
   "cell_type": "code",
   "execution_count": 162,
   "metadata": {},
   "outputs": [
    {
     "data": {
      "text/html": [
       "<div>\n",
       "<style>\n",
       "    .dataframe thead tr:only-child th {\n",
       "        text-align: right;\n",
       "    }\n",
       "\n",
       "    .dataframe thead th {\n",
       "        text-align: left;\n",
       "    }\n",
       "\n",
       "    .dataframe tbody tr th {\n",
       "        vertical-align: top;\n",
       "    }\n",
       "</style>\n",
       "<table border=\"1\" class=\"dataframe\">\n",
       "  <thead>\n",
       "    <tr style=\"text-align: right;\">\n",
       "      <th></th>\n",
       "      <th>gameLogID</th>\n",
       "      <th>lobby</th>\n",
       "      <th>moveType</th>\n",
       "      <th>unconvertedTile</th>\n",
       "      <th>convertedTile</th>\n",
       "      <th>discDrawn</th>\n",
       "      <th>handNumber</th>\n",
       "      <th>moveNumber</th>\n",
       "      <th>roundWind</th>\n",
       "      <th>roundNumber</th>\n",
       "      <th>...</th>\n",
       "      <th>shanten</th>\n",
       "      <th>actorPondDist5</th>\n",
       "      <th>actor_pd5_All</th>\n",
       "      <th>actor_pd5_3</th>\n",
       "      <th>actor_pd5_4</th>\n",
       "      <th>actor_pd5_5</th>\n",
       "      <th>actor_pd5_6</th>\n",
       "      <th>actor_pd5_7</th>\n",
       "      <th>actorOpenMeldCount</th>\n",
       "      <th>isTenpai</th>\n",
       "    </tr>\n",
       "  </thead>\n",
       "  <tbody>\n",
       "    <tr>\n",
       "      <th>1</th>\n",
       "      <td>2016082221gm-00a9-0000-ebc65731</td>\n",
       "      <td>houou</td>\n",
       "      <td>discard</td>\n",
       "      <td>134</td>\n",
       "      <td>120</td>\n",
       "      <td>[0]</td>\n",
       "      <td>1</td>\n",
       "      <td>2</td>\n",
       "      <td>east</td>\n",
       "      <td>1</td>\n",
       "      <td>...</td>\n",
       "      <td>2</td>\n",
       "      <td>[4]</td>\n",
       "      <td>4.0</td>\n",
       "      <td>4.0</td>\n",
       "      <td>4.0</td>\n",
       "      <td>4.0</td>\n",
       "      <td>4.0</td>\n",
       "      <td>4.0</td>\n",
       "      <td>0</td>\n",
       "      <td>0</td>\n",
       "    </tr>\n",
       "    <tr>\n",
       "      <th>3</th>\n",
       "      <td>2016082221gm-00a9-0000-ebc65731</td>\n",
       "      <td>houou</td>\n",
       "      <td>discard</td>\n",
       "      <td>33</td>\n",
       "      <td>9</td>\n",
       "      <td>[0]</td>\n",
       "      <td>1</td>\n",
       "      <td>4</td>\n",
       "      <td>east</td>\n",
       "      <td>1</td>\n",
       "      <td>...</td>\n",
       "      <td>3</td>\n",
       "      <td>[4]</td>\n",
       "      <td>4.0</td>\n",
       "      <td>4.0</td>\n",
       "      <td>4.0</td>\n",
       "      <td>4.0</td>\n",
       "      <td>4.0</td>\n",
       "      <td>4.0</td>\n",
       "      <td>0</td>\n",
       "      <td>0</td>\n",
       "    </tr>\n",
       "    <tr>\n",
       "      <th>5</th>\n",
       "      <td>2016082221gm-00a9-0000-ebc65731</td>\n",
       "      <td>houou</td>\n",
       "      <td>discard</td>\n",
       "      <td>1</td>\n",
       "      <td>1</td>\n",
       "      <td>[1]</td>\n",
       "      <td>1</td>\n",
       "      <td>6</td>\n",
       "      <td>east</td>\n",
       "      <td>1</td>\n",
       "      <td>...</td>\n",
       "      <td>3</td>\n",
       "      <td>[4]</td>\n",
       "      <td>4.0</td>\n",
       "      <td>4.0</td>\n",
       "      <td>4.0</td>\n",
       "      <td>4.0</td>\n",
       "      <td>4.0</td>\n",
       "      <td>4.0</td>\n",
       "      <td>0</td>\n",
       "      <td>0</td>\n",
       "    </tr>\n",
       "    <tr>\n",
       "      <th>7</th>\n",
       "      <td>2016082221gm-00a9-0000-ebc65731</td>\n",
       "      <td>houou</td>\n",
       "      <td>discard</td>\n",
       "      <td>101</td>\n",
       "      <td>48</td>\n",
       "      <td>[0]</td>\n",
       "      <td>1</td>\n",
       "      <td>8</td>\n",
       "      <td>east</td>\n",
       "      <td>1</td>\n",
       "      <td>...</td>\n",
       "      <td>5</td>\n",
       "      <td>[3]</td>\n",
       "      <td>3.0</td>\n",
       "      <td>3.0</td>\n",
       "      <td>3.0</td>\n",
       "      <td>3.0</td>\n",
       "      <td>3.0</td>\n",
       "      <td>3.0</td>\n",
       "      <td>0</td>\n",
       "      <td>0</td>\n",
       "    </tr>\n",
       "    <tr>\n",
       "      <th>9</th>\n",
       "      <td>2016082221gm-00a9-0000-ebc65731</td>\n",
       "      <td>houou</td>\n",
       "      <td>discard</td>\n",
       "      <td>118</td>\n",
       "      <td>80</td>\n",
       "      <td>[0, 1]</td>\n",
       "      <td>1</td>\n",
       "      <td>10</td>\n",
       "      <td>east</td>\n",
       "      <td>1</td>\n",
       "      <td>...</td>\n",
       "      <td>2</td>\n",
       "      <td>[4, 4]</td>\n",
       "      <td>4.0</td>\n",
       "      <td>4.0</td>\n",
       "      <td>4.0</td>\n",
       "      <td>4.0</td>\n",
       "      <td>4.0</td>\n",
       "      <td>4.0</td>\n",
       "      <td>0</td>\n",
       "      <td>0</td>\n",
       "    </tr>\n",
       "  </tbody>\n",
       "</table>\n",
       "<p>5 rows × 71 columns</p>\n",
       "</div>"
      ],
      "text/plain": [
       "                         gameLogID  lobby moveType  unconvertedTile  \\\n",
       "1  2016082221gm-00a9-0000-ebc65731  houou  discard              134   \n",
       "3  2016082221gm-00a9-0000-ebc65731  houou  discard               33   \n",
       "5  2016082221gm-00a9-0000-ebc65731  houou  discard                1   \n",
       "7  2016082221gm-00a9-0000-ebc65731  houou  discard              101   \n",
       "9  2016082221gm-00a9-0000-ebc65731  houou  discard              118   \n",
       "\n",
       "   convertedTile discDrawn  handNumber  moveNumber roundWind  roundNumber  \\\n",
       "1            120       [0]           1           2      east            1   \n",
       "3              9       [0]           1           4      east            1   \n",
       "5              1       [1]           1           6      east            1   \n",
       "7             48       [0]           1           8      east            1   \n",
       "9             80    [0, 1]           1          10      east            1   \n",
       "\n",
       "     ...     shanten actorPondDist5 actor_pd5_All actor_pd5_3  actor_pd5_4  \\\n",
       "1    ...           2            [4]           4.0         4.0          4.0   \n",
       "3    ...           3            [4]           4.0         4.0          4.0   \n",
       "5    ...           3            [4]           4.0         4.0          4.0   \n",
       "7    ...           5            [3]           3.0         3.0          3.0   \n",
       "9    ...           2         [4, 4]           4.0         4.0          4.0   \n",
       "\n",
       "   actor_pd5_5  actor_pd5_6  actor_pd5_7  actorOpenMeldCount  isTenpai  \n",
       "1          4.0          4.0          4.0                   0         0  \n",
       "3          4.0          4.0          4.0                   0         0  \n",
       "5          4.0          4.0          4.0                   0         0  \n",
       "7          3.0          3.0          3.0                   0         0  \n",
       "9          4.0          4.0          4.0                   0         0  \n",
       "\n",
       "[5 rows x 71 columns]"
      ]
     },
     "execution_count": 162,
     "metadata": {},
     "output_type": "execute_result"
    }
   ],
   "source": [
    "noReachDf.head()"
   ]
  },
  {
   "cell_type": "code",
   "execution_count": 163,
   "metadata": {
    "collapsed": true
   },
   "outputs": [],
   "source": [
    "def averageDiscDrawCols(df,n):\n",
    "    '''makes columns for average of 0 or 1 where they represent whether or not someone discarded the tile they drew.'''\n",
    "    valx = 0\n",
    "    valx = noReachDf[\"discDrawn\"].copy().values\n",
    "    for i in range(len(valx)):\n",
    "        #print(valx[i])\n",
    "        valx[i] = sum(valx[i][-n::])/float(n)\n",
    "        #print(valx[i])\n",
    "    return valx\n",
    "        "
   ]
  },
  {
   "cell_type": "code",
   "execution_count": 164,
   "metadata": {
    "collapsed": true
   },
   "outputs": [],
   "source": [
    "\n",
    "for i in range(3,8):\n",
    "    colString = \"avgDDL\" + str(i)\n",
    "    noReachDf[colString] = averageDiscDrawCols(noReachDf,i)"
   ]
  },
  {
   "cell_type": "code",
   "execution_count": 165,
   "metadata": {
    "collapsed": true
   },
   "outputs": [],
   "source": [
    "for i in range(3,8):\n",
    "    colString = \"avgDDL\" + str(i)\n",
    "    noReachDf[colString] = noReachDf[colString].astype(float)"
   ]
  },
  {
   "cell_type": "code",
   "execution_count": 166,
   "metadata": {
    "collapsed": true
   },
   "outputs": [],
   "source": [
    "noReachDf[\"avgDDAll\"] = averageDiscDrawCols(noReachDf,40)\n",
    "noReachDf[\"avgDDAll\"] = noReachDf[\"avgDDAll\"].astype(float)"
   ]
  },
  {
   "cell_type": "code",
   "execution_count": 167,
   "metadata": {},
   "outputs": [
    {
     "name": "stdout",
     "output_type": "stream",
     "text": [
      "<class 'pandas.core.frame.DataFrame'>\n",
      "Int64Index: 16528 entries, 1 to 44004\n",
      "Data columns (total 77 columns):\n",
      "gameLogID                   16528 non-null object\n",
      "lobby                       16528 non-null object\n",
      "moveType                    16528 non-null object\n",
      "unconvertedTile             16528 non-null int64\n",
      "convertedTile               16528 non-null int64\n",
      "discDrawn                   16528 non-null object\n",
      "handNumber                  16528 non-null int64\n",
      "moveNumber                  16528 non-null int64\n",
      "roundWind                   16528 non-null object\n",
      "roundNumber                 16528 non-null int64\n",
      "bonusSticks                 16528 non-null int64\n",
      "unconvertedDoraIndicator    16528 non-null object\n",
      "convertedDoraIndicator      16528 non-null object\n",
      "convertedDora               16528 non-null object\n",
      "actorWind                   16528 non-null int64\n",
      "actorRating                 16528 non-null float64\n",
      "rightRating                 16528 non-null float64\n",
      "acrossRating                16528 non-null float64\n",
      "leftRating                  16528 non-null float64\n",
      "actorRank                   16528 non-null int64\n",
      "rightRank                   16528 non-null int64\n",
      "acrossRank                  16528 non-null int64\n",
      "leftRank                    16528 non-null int64\n",
      "actorScore                  16528 non-null int64\n",
      "rightScore                  16528 non-null int64\n",
      "acrossScore                 16528 non-null int64\n",
      "leftScore                   16528 non-null int64\n",
      "actorHandConverted          16528 non-null object\n",
      "actorHandUnconverted        16528 non-null object\n",
      "rightHandConverted          16528 non-null object\n",
      "rightHandUnconverted        16528 non-null object\n",
      "acrossHandConverted         16528 non-null object\n",
      "acrossHandUnconverted       16528 non-null object\n",
      "leftHandConverted           16528 non-null object\n",
      "leftHandUnconverted         16528 non-null object\n",
      "actorUnconvertedPond        16528 non-null object\n",
      "actorConvertedPond          16528 non-null object\n",
      "rightUnconvertedPond        16528 non-null object\n",
      "rightConvertedPond          16528 non-null object\n",
      "acrossUnconvertedPond       16528 non-null object\n",
      "acrossConvertedPond         16528 non-null object\n",
      "leftUnconvertedPond         16528 non-null object\n",
      "leftConvertedPond           16528 non-null object\n",
      "actorReachStatus            16528 non-null int64\n",
      "rightReachStatus            16528 non-null int64\n",
      "acrossReachStatus           16528 non-null int64\n",
      "leftReachStatus             16528 non-null int64\n",
      "actorIsOpen                 16528 non-null int64\n",
      "rightIsOpen                 16528 non-null int64\n",
      "acrossIsOpen                16528 non-null int64\n",
      "leftIsOpen                  16528 non-null int64\n",
      "actorOpenTiles              16528 non-null object\n",
      "rightOpenTiles              16528 non-null object\n",
      "acrossOpenTiles             16528 non-null object\n",
      "leftOpenTiles               16528 non-null object\n",
      "actorPondCount              16528 non-null int64\n",
      "rightPondCount              16528 non-null int64\n",
      "acrossPondCount             16528 non-null int64\n",
      "leftPondCount               16528 non-null int64\n",
      "whosTurn                    16528 non-null int64\n",
      "shantenEngineeringColumn    16528 non-null object\n",
      "shanten                     16528 non-null int64\n",
      "actorPondDist5              16528 non-null object\n",
      "actor_pd5_All               16528 non-null float64\n",
      "actor_pd5_3                 16528 non-null float64\n",
      "actor_pd5_4                 16528 non-null float64\n",
      "actor_pd5_5                 16528 non-null float64\n",
      "actor_pd5_6                 16528 non-null float64\n",
      "actor_pd5_7                 16528 non-null float64\n",
      "actorOpenMeldCount          16528 non-null int64\n",
      "isTenpai                    16528 non-null int64\n",
      "avgDDL3                     16528 non-null float64\n",
      "avgDDL4                     16528 non-null float64\n",
      "avgDDL5                     16528 non-null float64\n",
      "avgDDL6                     16528 non-null float64\n",
      "avgDDL7                     16528 non-null float64\n",
      "avgDDAll                    16528 non-null float64\n",
      "dtypes: float64(16), int64(31), object(30)\n",
      "memory usage: 9.8+ MB\n"
     ]
    }
   ],
   "source": [
    "noReachDf.info()"
   ]
  },
  {
   "cell_type": "code",
   "execution_count": 168,
   "metadata": {},
   "outputs": [
    {
     "data": {
      "text/html": [
       "<div>\n",
       "<style>\n",
       "    .dataframe thead tr:only-child th {\n",
       "        text-align: right;\n",
       "    }\n",
       "\n",
       "    .dataframe thead th {\n",
       "        text-align: left;\n",
       "    }\n",
       "\n",
       "    .dataframe tbody tr th {\n",
       "        vertical-align: top;\n",
       "    }\n",
       "</style>\n",
       "<table border=\"1\" class=\"dataframe\">\n",
       "  <thead>\n",
       "    <tr style=\"text-align: right;\">\n",
       "      <th></th>\n",
       "      <th>avgDDL3</th>\n",
       "      <th>avgDDL4</th>\n",
       "      <th>avgDDL5</th>\n",
       "      <th>avgDDL6</th>\n",
       "      <th>avgDDL7</th>\n",
       "      <th>avgDDAll</th>\n",
       "    </tr>\n",
       "    <tr>\n",
       "      <th>shanten</th>\n",
       "      <th></th>\n",
       "      <th></th>\n",
       "      <th></th>\n",
       "      <th></th>\n",
       "      <th></th>\n",
       "      <th></th>\n",
       "    </tr>\n",
       "  </thead>\n",
       "  <tbody>\n",
       "    <tr>\n",
       "      <th>-1</th>\n",
       "      <td>0.533333</td>\n",
       "      <td>0.550000</td>\n",
       "      <td>0.600000</td>\n",
       "      <td>0.633333</td>\n",
       "      <td>0.600000</td>\n",
       "      <td>0.165000</td>\n",
       "    </tr>\n",
       "    <tr>\n",
       "      <th>0</th>\n",
       "      <td>0.554351</td>\n",
       "      <td>0.535050</td>\n",
       "      <td>0.512781</td>\n",
       "      <td>0.490059</td>\n",
       "      <td>0.466748</td>\n",
       "      <td>0.112548</td>\n",
       "    </tr>\n",
       "    <tr>\n",
       "      <th>1</th>\n",
       "      <td>0.429161</td>\n",
       "      <td>0.401651</td>\n",
       "      <td>0.374874</td>\n",
       "      <td>0.348426</td>\n",
       "      <td>0.322689</td>\n",
       "      <td>0.067693</td>\n",
       "    </tr>\n",
       "    <tr>\n",
       "      <th>2</th>\n",
       "      <td>0.278286</td>\n",
       "      <td>0.252846</td>\n",
       "      <td>0.229408</td>\n",
       "      <td>0.207999</td>\n",
       "      <td>0.189001</td>\n",
       "      <td>0.036910</td>\n",
       "    </tr>\n",
       "    <tr>\n",
       "      <th>3</th>\n",
       "      <td>0.180084</td>\n",
       "      <td>0.157729</td>\n",
       "      <td>0.139503</td>\n",
       "      <td>0.123830</td>\n",
       "      <td>0.110610</td>\n",
       "      <td>0.021109</td>\n",
       "    </tr>\n",
       "    <tr>\n",
       "      <th>4</th>\n",
       "      <td>0.128445</td>\n",
       "      <td>0.109813</td>\n",
       "      <td>0.094896</td>\n",
       "      <td>0.083034</td>\n",
       "      <td>0.073842</td>\n",
       "      <td>0.014109</td>\n",
       "    </tr>\n",
       "    <tr>\n",
       "      <th>5</th>\n",
       "      <td>0.193694</td>\n",
       "      <td>0.170946</td>\n",
       "      <td>0.149730</td>\n",
       "      <td>0.133784</td>\n",
       "      <td>0.120077</td>\n",
       "      <td>0.023041</td>\n",
       "    </tr>\n",
       "    <tr>\n",
       "      <th>6</th>\n",
       "      <td>0.060606</td>\n",
       "      <td>0.068182</td>\n",
       "      <td>0.090909</td>\n",
       "      <td>0.075758</td>\n",
       "      <td>0.064935</td>\n",
       "      <td>0.011364</td>\n",
       "    </tr>\n",
       "  </tbody>\n",
       "</table>\n",
       "</div>"
      ],
      "text/plain": [
       "          avgDDL3   avgDDL4   avgDDL5   avgDDL6   avgDDL7  avgDDAll\n",
       "shanten                                                            \n",
       "-1       0.533333  0.550000  0.600000  0.633333  0.600000  0.165000\n",
       " 0       0.554351  0.535050  0.512781  0.490059  0.466748  0.112548\n",
       " 1       0.429161  0.401651  0.374874  0.348426  0.322689  0.067693\n",
       " 2       0.278286  0.252846  0.229408  0.207999  0.189001  0.036910\n",
       " 3       0.180084  0.157729  0.139503  0.123830  0.110610  0.021109\n",
       " 4       0.128445  0.109813  0.094896  0.083034  0.073842  0.014109\n",
       " 5       0.193694  0.170946  0.149730  0.133784  0.120077  0.023041\n",
       " 6       0.060606  0.068182  0.090909  0.075758  0.064935  0.011364"
      ]
     },
     "execution_count": 168,
     "metadata": {},
     "output_type": "execute_result"
    }
   ],
   "source": [
    "noReachDf.groupby(\"shanten\").mean()[[\"avgDDL3\",\"avgDDL4\",\"avgDDL5\",\"avgDDL6\",\"avgDDL7\",\"avgDDAll\"]]"
   ]
  },
  {
   "cell_type": "code",
   "execution_count": 169,
   "metadata": {},
   "outputs": [
    {
     "data": {
      "text/html": [
       "<div>\n",
       "<style>\n",
       "    .dataframe thead tr:only-child th {\n",
       "        text-align: right;\n",
       "    }\n",
       "\n",
       "    .dataframe thead th {\n",
       "        text-align: left;\n",
       "    }\n",
       "\n",
       "    .dataframe tbody tr th {\n",
       "        vertical-align: top;\n",
       "    }\n",
       "</style>\n",
       "<table border=\"1\" class=\"dataframe\">\n",
       "  <thead>\n",
       "    <tr style=\"text-align: right;\">\n",
       "      <th></th>\n",
       "      <th>avgDDL3</th>\n",
       "      <th>avgDDL4</th>\n",
       "      <th>avgDDL5</th>\n",
       "      <th>avgDDL6</th>\n",
       "      <th>avgDDL7</th>\n",
       "      <th>avgDDAll</th>\n",
       "    </tr>\n",
       "    <tr>\n",
       "      <th>isTenpai</th>\n",
       "      <th></th>\n",
       "      <th></th>\n",
       "      <th></th>\n",
       "      <th></th>\n",
       "      <th></th>\n",
       "      <th></th>\n",
       "    </tr>\n",
       "  </thead>\n",
       "  <tbody>\n",
       "    <tr>\n",
       "      <th>0</th>\n",
       "      <td>0.281491</td>\n",
       "      <td>0.256926</td>\n",
       "      <td>0.234677</td>\n",
       "      <td>0.214242</td>\n",
       "      <td>0.195763</td>\n",
       "      <td>0.039409</td>\n",
       "    </tr>\n",
       "    <tr>\n",
       "      <th>1</th>\n",
       "      <td>0.554270</td>\n",
       "      <td>0.535108</td>\n",
       "      <td>0.513117</td>\n",
       "      <td>0.490612</td>\n",
       "      <td>0.467262</td>\n",
       "      <td>0.112751</td>\n",
       "    </tr>\n",
       "  </tbody>\n",
       "</table>\n",
       "</div>"
      ],
      "text/plain": [
       "           avgDDL3   avgDDL4   avgDDL5   avgDDL6   avgDDL7  avgDDAll\n",
       "isTenpai                                                            \n",
       "0         0.281491  0.256926  0.234677  0.214242  0.195763  0.039409\n",
       "1         0.554270  0.535108  0.513117  0.490612  0.467262  0.112751"
      ]
     },
     "execution_count": 169,
     "metadata": {},
     "output_type": "execute_result"
    }
   ],
   "source": [
    "noReachDf.groupby(\"isTenpai\").mean()[[\"avgDDL3\",\"avgDDL4\",\"avgDDL5\",\"avgDDL6\",\"avgDDL7\",\"avgDDAll\"]]"
   ]
  },
  {
   "cell_type": "code",
   "execution_count": 170,
   "metadata": {},
   "outputs": [
    {
     "name": "stdout",
     "output_type": "stream",
     "text": [
      "0.913358989707\n",
      "0.00254881912192\n",
      "[ 0.91532258  0.91448165  0.9160952   0.9092376   0.91165793]\n"
     ]
    }
   ],
   "source": [
    "X = noReachDf[['actor_pd5_5','actorOpenMeldCount',\"actorPondCount\",\"avgDDL7\"]]\n",
    "y = noReachDf[\"isTenpai\"]\n",
    "X_train, X_test, y_train, y_test = train_test_split(X, y, test_size=0.25, random_state=42,stratify=y)\n",
    "rfc = RandomForestClassifier()\n",
    "kf = KFold(n_splits=5,shuffle=True,random_state=42)\n",
    "scores = cross_val_score(rfc,X_train,y_train,cv=kf)\n",
    "print(np.mean(scores))\n",
    "print(np.std(scores))\n",
    "print(scores)"
   ]
  },
  {
   "cell_type": "code",
   "execution_count": 171,
   "metadata": {},
   "outputs": [
    {
     "data": {
      "text/plain": [
       "0    15232\n",
       "1     1296\n",
       "Name: isTenpai, dtype: int64"
      ]
     },
     "execution_count": 171,
     "metadata": {},
     "output_type": "execute_result"
    }
   ],
   "source": [
    "noReachDf[\"isTenpai\"].value_counts()"
   ]
  },
  {
   "cell_type": "code",
   "execution_count": 172,
   "metadata": {},
   "outputs": [
    {
     "name": "stdout",
     "output_type": "stream",
     "text": [
      "0.9334174584323041\n"
     ]
    }
   ],
   "source": [
    "print(float(25150)/(25150+1794))"
   ]
  },
  {
   "cell_type": "code",
   "execution_count": 173,
   "metadata": {},
   "outputs": [
    {
     "name": "stdout",
     "output_type": "stream",
     "text": [
      "0.415294896485\n",
      "0.00286246951038\n",
      "[ 0.41975806  0.41145623  0.41710367  0.41427995  0.41387656]\n"
     ]
    }
   ],
   "source": [
    "X = noReachDf[['actor_pd5_5','actorOpenMeldCount',\"actorPondCount\",\"avgDDL7\"]]\n",
    "y = noReachDf[\"shanten\"]\n",
    "X_train, X_test, y_train, y_test = train_test_split(X, y, test_size=0.25, random_state=42)\n",
    "rfc = RandomForestClassifier()\n",
    "kf = KFold(n_splits=5,shuffle=True,random_state=42)\n",
    "scores = cross_val_score(rfc,X_train,y_train,cv=kf)\n",
    "print(np.mean(scores))\n",
    "print(np.std(scores))\n",
    "print(scores)"
   ]
  },
  {
   "cell_type": "code",
   "execution_count": 174,
   "metadata": {},
   "outputs": [
    {
     "name": "stdout",
     "output_type": "stream",
     "text": [
      "0.32423765730880927\n"
     ]
    }
   ],
   "source": [
    "baseGuess = float(noReachDf[\"shanten\"].value_counts()[2])\n",
    "total = len(noReachDf[\"shanten\"])\n",
    "\n",
    "baseline = (baseGuess/total)\n",
    "print(baseline)"
   ]
  },
  {
   "cell_type": "code",
   "execution_count": null,
   "metadata": {
    "collapsed": true
   },
   "outputs": [],
   "source": []
  },
  {
   "cell_type": "code",
   "execution_count": 175,
   "metadata": {
    "collapsed": true
   },
   "outputs": [],
   "source": [
    "X = noReachDf[['actor_pd5_5','actorOpenMeldCount',\"actorPondCount\",\"avgDDL7\"]]\n",
    "y = noReachDf[\"shanten\"]\n",
    "X_train, X_test, y_train, y_test = train_test_split(X, y, test_size=0.25, random_state=42)\n",
    "rfc = RandomForestClassifier()"
   ]
  },
  {
   "cell_type": "code",
   "execution_count": 176,
   "metadata": {},
   "outputs": [
    {
     "data": {
      "text/plain": [
       "{'max_depth': 7, 'n_estimators': 101}"
      ]
     },
     "execution_count": 176,
     "metadata": {},
     "output_type": "execute_result"
    }
   ],
   "source": [
    "paramz = {\n",
    "    \"n_estimators\":[5,11,15,21,51,101],\n",
    "    \"max_depth\":[3,5,7,9,None]\n",
    "}\n",
    "\n",
    "gscv = GridSearchCV(rfc,paramz)\n",
    "bestForest = gscv.fit(X_train,y_train)\n",
    "bestForest.best_params_"
   ]
  },
  {
   "cell_type": "code",
   "execution_count": 177,
   "metadata": {},
   "outputs": [
    {
     "name": "stdout",
     "output_type": "stream",
     "text": [
      "0.456436485836\n",
      "0.00739862542696\n",
      "[ 0.46975806  0.44897136  0.45744252  0.45018152  0.45582896]\n"
     ]
    }
   ],
   "source": [
    "kf = KFold(n_splits=5,shuffle=True,random_state=42)\n",
    "scores = cross_val_score(bestForest.best_estimator_,X_train,y_train,cv=kf)\n",
    "print(np.mean(scores))\n",
    "print(np.std(scores))\n",
    "print(scores)"
   ]
  },
  {
   "cell_type": "code",
   "execution_count": 178,
   "metadata": {
    "collapsed": true
   },
   "outputs": [],
   "source": [
    "# kf = KFold(n_splits=5,shuffle=True,random_state=42)\n",
    "# scores = cross_val_score(RandomForestClassifier(n_estimators=501),X_train,y_train,cv=kf)\n",
    "# print(np.mean(scores))\n",
    "# print(np.std(scores))\n",
    "# print(scores)"
   ]
  },
  {
   "cell_type": "code",
   "execution_count": 179,
   "metadata": {
    "collapsed": true
   },
   "outputs": [],
   "source": [
    "nineDf = noReachDf[noReachDf[\"actorPondCount\"]==9].copy()"
   ]
  },
  {
   "cell_type": "code",
   "execution_count": 180,
   "metadata": {},
   "outputs": [
    {
     "name": "stdout",
     "output_type": "stream",
     "text": [
      "0.441089324619\n",
      "0.0318874287571\n",
      "[ 0.45588235  0.41911765  0.38970588  0.47407407  0.46666667]\n"
     ]
    }
   ],
   "source": [
    "X = nineDf[['actor_pd5_5','actorOpenMeldCount',\"actorPondCount\",\"avgDDL7\"]]\n",
    "y = nineDf[\"shanten\"]\n",
    "X_train, X_test, y_train, y_test = train_test_split(X, y, test_size=0.25, random_state=42)\n",
    "rfc = RandomForestClassifier(max_depth=5,n_estimators=15)\n",
    "kf = KFold(n_splits=5,shuffle=True,random_state=42)\n",
    "scores = cross_val_score(rfc,X_train,y_train,cv=kf)\n",
    "print(np.mean(scores))\n",
    "print(np.std(scores))\n",
    "print(scores)"
   ]
  },
  {
   "cell_type": "code",
   "execution_count": 181,
   "metadata": {},
   "outputs": [
    {
     "data": {
      "text/plain": [
       "1    411\n",
       "2    259\n",
       "0    132\n",
       "3     73\n",
       "4     18\n",
       "5     12\n",
       "Name: shanten, dtype: int64"
      ]
     },
     "execution_count": 181,
     "metadata": {},
     "output_type": "execute_result"
    }
   ],
   "source": [
    "nineDf[\"shanten\"].value_counts()"
   ]
  },
  {
   "cell_type": "code",
   "execution_count": 182,
   "metadata": {},
   "outputs": [
    {
     "name": "stdout",
     "output_type": "stream",
     "text": [
      "0.45414364640883975\n"
     ]
    }
   ],
   "source": [
    "baseGuess = float(nineDf[\"shanten\"].value_counts()[1])\n",
    "total = len(nineDf[\"shanten\"])\n",
    "\n",
    "baseline = (baseGuess/total)\n",
    "print(baseline)"
   ]
  },
  {
   "cell_type": "markdown",
   "metadata": {},
   "source": [
    "below is back to modeling, but wanna try combinations of features"
   ]
  },
  {
   "cell_type": "code",
   "execution_count": 183,
   "metadata": {},
   "outputs": [
    {
     "name": "stdout",
     "output_type": "stream",
     "text": [
      "0.440383414228\n",
      "0.00490964801817\n",
      "[ 0.44758065  0.43485276  0.43485276  0.44251714  0.44211376]\n"
     ]
    }
   ],
   "source": [
    "X = noReachDf[['actor_pd5_5',\"actorPondCount\",\"avgDDL7\"]]\n",
    "y = noReachDf[\"shanten\"]\n",
    "X_train, X_test, y_train, y_test = train_test_split(X, y, test_size=0.25, random_state=42)\n",
    "rfc = RandomForestClassifier(max_depth=5,n_estimators=15)\n",
    "kf = KFold(n_splits=5,shuffle=True,random_state=42)\n",
    "scores = cross_val_score(rfc,X_train,y_train,cv=kf)\n",
    "print(np.mean(scores))\n",
    "print(np.std(scores))\n",
    "print(scores)"
   ]
  },
  {
   "cell_type": "code",
   "execution_count": 184,
   "metadata": {},
   "outputs": [
    {
     "name": "stdout",
     "output_type": "stream",
     "text": [
      "0.32423765730880927\n"
     ]
    }
   ],
   "source": [
    "baseGuess = float(noReachDf[\"shanten\"].value_counts()[2])\n",
    "total = len(noReachDf[\"shanten\"])\n",
    "\n",
    "baseline = (baseGuess/total)\n",
    "print(baseline)"
   ]
  },
  {
   "cell_type": "code",
   "execution_count": 185,
   "metadata": {},
   "outputs": [
    {
     "name": "stdout",
     "output_type": "stream",
     "text": [
      "0.457000741714\n",
      "0.00962646706179\n",
      "[ 0.47580645  0.44856797  0.45421541  0.45219847  0.45421541]\n"
     ]
    }
   ],
   "source": [
    "X = noReachDf[['actor_pd5_5',\"actorPondCount\",\"avgDDL7\",'actorOpenMeldCount']]\n",
    "y = noReachDf[\"shanten\"]\n",
    "X_train, X_test, y_train, y_test = train_test_split(X, y, test_size=0.25, random_state=42)\n",
    "rfc = RandomForestClassifier(max_depth=5,n_estimators=15)\n",
    "kf = KFold(n_splits=5,shuffle=True,random_state=42)\n",
    "scores = cross_val_score(rfc,X_train,y_train,cv=kf)\n",
    "print(np.mean(scores))\n",
    "print(np.std(scores))\n",
    "print(scores)"
   ]
  },
  {
   "cell_type": "code",
   "execution_count": 186,
   "metadata": {
    "collapsed": true
   },
   "outputs": [],
   "source": [
    "#noReachDf.columns"
   ]
  },
  {
   "cell_type": "code",
   "execution_count": null,
   "metadata": {
    "collapsed": true
   },
   "outputs": [],
   "source": []
  },
  {
   "cell_type": "code",
   "execution_count": 187,
   "metadata": {},
   "outputs": [
    {
     "name": "stdout",
     "output_type": "stream",
     "text": [
      "0.924975373785\n",
      "0.00527751016546\n",
      "[ 0.93024194  0.91690198  0.92819685  0.92053247  0.92900363]\n"
     ]
    }
   ],
   "source": [
    "X = noReachDf[['actor_pd5_5',\"actorPondCount\",\"avgDDL7\",'actorOpenMeldCount']]\n",
    "y = noReachDf[\"isTenpai\"]\n",
    "X_train, X_test, y_train, y_test = train_test_split(X, y, test_size=0.25, random_state=42)\n",
    "rfc = RandomForestClassifier(max_depth=5,n_estimators=15)\n",
    "kf = KFold(n_splits=5,shuffle=True,random_state=42)\n",
    "scores = cross_val_score(rfc,X_train,y_train,cv=kf)\n",
    "print(np.mean(scores))\n",
    "print(np.std(scores))\n",
    "print(scores)"
   ]
  },
  {
   "cell_type": "code",
   "execution_count": 188,
   "metadata": {},
   "outputs": [
    {
     "name": "stdout",
     "output_type": "stream",
     "text": [
      "0.9215876089060987\n"
     ]
    }
   ],
   "source": [
    "baseGuess = float(noReachDf[\"isTenpai\"].value_counts()[0])\n",
    "total = len(noReachDf[\"isTenpai\"])\n",
    "\n",
    "baseline = (baseGuess/total)\n",
    "print(baseline)"
   ]
  },
  {
   "cell_type": "code",
   "execution_count": 189,
   "metadata": {
    "collapsed": true
   },
   "outputs": [],
   "source": [
    "from sklearn.preprocessing import StandardScaler"
   ]
  },
  {
   "cell_type": "code",
   "execution_count": 190,
   "metadata": {
    "collapsed": true
   },
   "outputs": [],
   "source": [
    "ss = StandardScaler()"
   ]
  },
  {
   "cell_type": "code",
   "execution_count": 191,
   "metadata": {
    "collapsed": true
   },
   "outputs": [],
   "source": [
    "from sklearn.neighbors import KNeighborsClassifier"
   ]
  },
  {
   "cell_type": "code",
   "execution_count": 192,
   "metadata": {},
   "outputs": [
    {
     "name": "stdout",
     "output_type": "stream",
     "text": [
      "0.924087951697 3\n",
      "0.924410662468 4\n",
      "0.924894663561 5\n",
      "0.924168824578 6\n",
      "0.924168726984 7\n",
      "0.924249339614 8\n",
      "0.924894793686 9\n",
      "0.92562089292 10\n",
      "0.925862828404 11\n",
      "0.924733373238 12\n",
      "0.924814050931 13\n",
      "0.924330114901 14\n",
      "0.924491437755 15\n",
      "0.925136794233 16\n",
      "0.925943278377 17\n",
      "0.92586273081 18\n",
      "0.924491632943 19\n",
      "0.924894793686 20\n",
      "0.925055953884 21\n",
      "0.925056018946 22\n",
      "0.924088114354 23\n",
      "0.923926693906 24\n",
      "0.924491307629 25\n",
      "0.924410662468 26\n",
      "0.924168694453 27\n",
      "0.924087919166 28\n",
      "0.923603983136 29\n",
      "0.925782053117 30\n",
      "0.924733308176 31\n",
      "0.924410857656 32\n",
      "0.923361950058 33\n",
      "0.925298117087 34\n",
      "0.923281304897 35\n",
      "0.924491210035 36\n",
      "0.924007176411 37\n",
      "0.924491437755 38\n",
      "0.924733438301 39\n",
      "0.924975276191 40\n",
      "0.924652630483 41\n",
      "0.925056181603 42\n",
      "0.924652728077 43\n",
      "0.926104698825 44\n",
      "0.924330114901 45\n",
      "0.925298117087 46\n",
      "0.926104763888 47\n",
      "0.925298117087 48\n",
      "0.924330147432 49\n"
     ]
    }
   ],
   "source": [
    "X = noReachDf[['actor_pd5_5',\"actorPondCount\",\"avgDDL7\",'actorOpenMeldCount']].values\n",
    "y = noReachDf[\"isTenpai\"]\n",
    "X = ss.fit_transform(X)\n",
    "X_train, X_test, y_train, y_test = train_test_split(X, y, test_size=0.25, random_state=42)\n",
    "for i in range(3,50):\n",
    "    knn = KNeighborsClassifier(n_neighbors=i)\n",
    "    kf = KFold(n_splits=5,shuffle=True,random_state=42)\n",
    "    scores = cross_val_score(rfc,X_train,y_train,cv=kf)\n",
    "    print(np.mean(scores),i)\n",
    "    #print(np.std(scores))\n",
    "    #print(scores)"
   ]
  },
  {
   "cell_type": "code",
   "execution_count": 193,
   "metadata": {
    "collapsed": true
   },
   "outputs": [],
   "source": [
    "from sklearn.naive_bayes import BernoulliNB"
   ]
  },
  {
   "cell_type": "code",
   "execution_count": 194,
   "metadata": {},
   "outputs": [
    {
     "name": "stdout",
     "output_type": "stream",
     "text": [
      "0.925136631576\n",
      "0.00406339535693\n",
      "[ 0.93145161  0.92133925  0.9265833   0.92012908  0.92617991]\n"
     ]
    }
   ],
   "source": [
    "X = noReachDf[['actor_pd5_5',\"actorPondCount\",\"avgDDL7\",'actorOpenMeldCount']].values\n",
    "y = noReachDf[\"isTenpai\"]\n",
    "X = ss.fit_transform(X)\n",
    "X_train, X_test, y_train, y_test = train_test_split(X, y, test_size=0.25, random_state=42)\n",
    "nb = BernoulliNB()\n",
    "kf = KFold(n_splits=5,shuffle=True,random_state=42)\n",
    "scores = cross_val_score(rfc,X_train,y_train,cv=kf)\n",
    "print(np.mean(scores))\n",
    "print(np.std(scores))\n",
    "print(scores)"
   ]
  },
  {
   "cell_type": "markdown",
   "metadata": {},
   "source": [
    "### I'm currently thinking that these features are good for differentiating between 1 shanten or closer type hands and hands that are 2 shanten or further, but NOT good for differentiating between tenpai and not tenpai.  I want to formally test this by making a column that splits between 1 shanten or closer and not."
   ]
  },
  {
   "cell_type": "code",
   "execution_count": 195,
   "metadata": {
    "collapsed": true
   },
   "outputs": [],
   "source": [
    "shVals = noReachDf[\"shanten\"].copy().values\n",
    "for i in range(len(shVals)):\n",
    "    if shVals[i] < 2:\n",
    "        shVals[i] = 1\n",
    "    else:\n",
    "        shVals[i] = 0\n",
    "noReachDf[\"1sh\"] = shVals\n"
   ]
  },
  {
   "cell_type": "code",
   "execution_count": null,
   "metadata": {
    "collapsed": true
   },
   "outputs": [],
   "source": []
  },
  {
   "cell_type": "code",
   "execution_count": 196,
   "metadata": {},
   "outputs": [
    {
     "data": {
      "text/html": [
       "<div>\n",
       "<style>\n",
       "    .dataframe thead tr:only-child th {\n",
       "        text-align: right;\n",
       "    }\n",
       "\n",
       "    .dataframe thead th {\n",
       "        text-align: left;\n",
       "    }\n",
       "\n",
       "    .dataframe tbody tr th {\n",
       "        vertical-align: top;\n",
       "    }\n",
       "</style>\n",
       "<table border=\"1\" class=\"dataframe\">\n",
       "  <thead>\n",
       "    <tr style=\"text-align: right;\">\n",
       "      <th></th>\n",
       "      <th>1sh</th>\n",
       "      <th>shanten</th>\n",
       "    </tr>\n",
       "  </thead>\n",
       "  <tbody>\n",
       "    <tr>\n",
       "      <th>1</th>\n",
       "      <td>0</td>\n",
       "      <td>2</td>\n",
       "    </tr>\n",
       "    <tr>\n",
       "      <th>3</th>\n",
       "      <td>0</td>\n",
       "      <td>3</td>\n",
       "    </tr>\n",
       "    <tr>\n",
       "      <th>5</th>\n",
       "      <td>0</td>\n",
       "      <td>3</td>\n",
       "    </tr>\n",
       "    <tr>\n",
       "      <th>7</th>\n",
       "      <td>0</td>\n",
       "      <td>5</td>\n",
       "    </tr>\n",
       "    <tr>\n",
       "      <th>9</th>\n",
       "      <td>0</td>\n",
       "      <td>2</td>\n",
       "    </tr>\n",
       "    <tr>\n",
       "      <th>11</th>\n",
       "      <td>0</td>\n",
       "      <td>2</td>\n",
       "    </tr>\n",
       "    <tr>\n",
       "      <th>13</th>\n",
       "      <td>0</td>\n",
       "      <td>3</td>\n",
       "    </tr>\n",
       "    <tr>\n",
       "      <th>15</th>\n",
       "      <td>0</td>\n",
       "      <td>3</td>\n",
       "    </tr>\n",
       "    <tr>\n",
       "      <th>17</th>\n",
       "      <td>0</td>\n",
       "      <td>2</td>\n",
       "    </tr>\n",
       "    <tr>\n",
       "      <th>19</th>\n",
       "      <td>0</td>\n",
       "      <td>3</td>\n",
       "    </tr>\n",
       "    <tr>\n",
       "      <th>21</th>\n",
       "      <td>0</td>\n",
       "      <td>2</td>\n",
       "    </tr>\n",
       "    <tr>\n",
       "      <th>23</th>\n",
       "      <td>0</td>\n",
       "      <td>3</td>\n",
       "    </tr>\n",
       "    <tr>\n",
       "      <th>25</th>\n",
       "      <td>0</td>\n",
       "      <td>2</td>\n",
       "    </tr>\n",
       "    <tr>\n",
       "      <th>27</th>\n",
       "      <td>0</td>\n",
       "      <td>3</td>\n",
       "    </tr>\n",
       "    <tr>\n",
       "      <th>29</th>\n",
       "      <td>0</td>\n",
       "      <td>2</td>\n",
       "    </tr>\n",
       "    <tr>\n",
       "      <th>31</th>\n",
       "      <td>0</td>\n",
       "      <td>3</td>\n",
       "    </tr>\n",
       "    <tr>\n",
       "      <th>33</th>\n",
       "      <td>0</td>\n",
       "      <td>2</td>\n",
       "    </tr>\n",
       "    <tr>\n",
       "      <th>35</th>\n",
       "      <td>0</td>\n",
       "      <td>3</td>\n",
       "    </tr>\n",
       "    <tr>\n",
       "      <th>37</th>\n",
       "      <td>0</td>\n",
       "      <td>2</td>\n",
       "    </tr>\n",
       "    <tr>\n",
       "      <th>39</th>\n",
       "      <td>0</td>\n",
       "      <td>2</td>\n",
       "    </tr>\n",
       "  </tbody>\n",
       "</table>\n",
       "</div>"
      ],
      "text/plain": [
       "    1sh  shanten\n",
       "1     0        2\n",
       "3     0        3\n",
       "5     0        3\n",
       "7     0        5\n",
       "9     0        2\n",
       "11    0        2\n",
       "13    0        3\n",
       "15    0        3\n",
       "17    0        2\n",
       "19    0        3\n",
       "21    0        2\n",
       "23    0        3\n",
       "25    0        2\n",
       "27    0        3\n",
       "29    0        2\n",
       "31    0        3\n",
       "33    0        2\n",
       "35    0        3\n",
       "37    0        2\n",
       "39    0        2"
      ]
     },
     "execution_count": 196,
     "metadata": {},
     "output_type": "execute_result"
    }
   ],
   "source": [
    "noReachDf[[\"1sh\",\"shanten\"]].head(20)"
   ]
  },
  {
   "cell_type": "code",
   "execution_count": 266,
   "metadata": {},
   "outputs": [
    {
     "name": "stdout",
     "output_type": "stream",
     "text": [
      "0.773232995875\n",
      "0.00396448031046\n",
      "[ 0.77701613  0.76724486  0.77006858  0.77450585  0.77732957]\n"
     ]
    }
   ],
   "source": [
    "X = noReachDf[['actor_pd5_All',\"actorPondCount\"]]#,\"avgDDL7\",'actorOpenMeldCount']]\n",
    "y = noReachDf[\"1sh\"]\n",
    "X_train, X_test, y_train, y_test = train_test_split(X, y, test_size=0.25, random_state=42)\n",
    "rfc = RandomForestClassifier(max_depth=5,n_estimators=15)\n",
    "kf = KFold(n_splits=5,shuffle=True,random_state=42)\n",
    "scores = cross_val_score(rfc,X_train,y_train,cv=kf)\n",
    "print(np.mean(scores))\n",
    "print(np.std(scores))\n",
    "print(scores)"
   ]
  },
  {
   "cell_type": "code",
   "execution_count": 274,
   "metadata": {},
   "outputs": [
    {
     "name": "stdout",
     "output_type": "stream",
     "text": [
      "0.773878449947\n",
      "0.00436774390829\n",
      "[ 0.7766129   0.76805163  0.7692618   0.77652279  0.77894312]\n"
     ]
    }
   ],
   "source": [
    "X = noReachDf[['actor_pd5_All',\"actorPondCount\"]]#,\"avgDDL7\",'actorOpenMeldCount']]\n",
    "y = noReachDf[\"1sh\"]\n",
    "X = ss.fit_transform(X)\n",
    "X_train, X_test, y_train, y_test = train_test_split(X, y, test_size=0.25, random_state=42)\n",
    "nb = BernoulliNB()\n",
    "kf = KFold(n_splits=5,shuffle=True,random_state=42)\n",
    "scores = cross_val_score(rfc,X_train,y_train,cv=kf)\n",
    "print(np.mean(scores))\n",
    "print(np.std(scores))\n",
    "print(scores)"
   ]
  },
  {
   "cell_type": "code",
   "execution_count": 275,
   "metadata": {},
   "outputs": [
    {
     "data": {
      "text/plain": [
       "0    10870\n",
       "1     5658\n",
       "Name: 1sh, dtype: int64"
      ]
     },
     "execution_count": 275,
     "metadata": {},
     "output_type": "execute_result"
    }
   ],
   "source": [
    "noReachDf[\"1sh\"].value_counts()"
   ]
  },
  {
   "cell_type": "code",
   "execution_count": 276,
   "metadata": {},
   "outputs": [
    {
     "name": "stdout",
     "output_type": "stream",
     "text": [
      "0.6691656769596199\n"
     ]
    }
   ],
   "source": [
    "print(float(18030)/(18030+8914))"
   ]
  },
  {
   "cell_type": "code",
   "execution_count": 277,
   "metadata": {
    "collapsed": true
   },
   "outputs": [],
   "source": [
    "import pickle"
   ]
  },
  {
   "cell_type": "code",
   "execution_count": 278,
   "metadata": {},
   "outputs": [
    {
     "data": {
      "text/plain": [
       "BernoulliNB(alpha=1.0, binarize=0.0, class_prior=None, fit_prior=True)"
      ]
     },
     "execution_count": 278,
     "metadata": {},
     "output_type": "execute_result"
    }
   ],
   "source": [
    "X = noReachDf[['actor_pd5_All',\"actorPondCount\"]]#,\"avgDDL7\",'actorOpenMeldCount']]\n",
    "y = noReachDf[\"1sh\"]\n",
    "X = ss.fit_transform(X)\n",
    "nb.fit(X,y)"
   ]
  },
  {
   "cell_type": "code",
   "execution_count": 279,
   "metadata": {
    "collapsed": true
   },
   "outputs": [],
   "source": [
    "# noReachDf[\"1sh\"].head()"
   ]
  },
  {
   "cell_type": "code",
   "execution_count": 271,
   "metadata": {
    "collapsed": true
   },
   "outputs": [],
   "source": [
    "with open('rfc_77_1sh+.pkl', 'wb') as file:\n",
    "    pickle.dump(rfc, file) "
   ]
  },
  {
   "cell_type": "code",
   "execution_count": 280,
   "metadata": {
    "collapsed": true
   },
   "outputs": [],
   "source": [
    "with open('nb_77_1sh+.pkl', 'wb') as file:\n",
    "    pickle.dump(rfc, file) "
   ]
  },
  {
   "cell_type": "markdown",
   "metadata": {},
   "source": [
    "## As I thought.  We saw earlier in the EDA that there was a remarkable difference between hands that were 2 shanten or further from those that were 1 shanten or closer.\n",
    "\n",
    "## In Mahjong terms, at least using these features, we are saying something like \"We can tell if someone is very close to tenpai or is in tenpai, but we can't really be sure whether or not they are actually in tenpai.  As we currently understand it, it is inherently ambiguous whether you are in tenpai or you are two away from tenpai.\n",
    "\n",
    "### Honestly this makes a ton of sense.  Someone is sitting there throwing this tile and that tile, a lot of which are coming from inside their hand.  You can't see their face, we don't have the data on how long someone it taking to make their moves.  They may look close to tenpai, but we can't be sure."
   ]
  },
  {
   "cell_type": "markdown",
   "metadata": {},
   "source": [
    "### I'm going to break for now, but my next focus will be on extracting data regarding hand value (to use for a new y) and seeing if we can predict that based on similar features."
   ]
  },
  {
   "cell_type": "markdown",
   "metadata": {
    "collapsed": true
   },
   "source": [
    "====\n",
    "\n",
    "### Okay so actually a new problem has arisen that I believe is more important.. that our offense cannot search with depth 2 in a reasonable amount of time, and depth 1 is leading to some blatantly unfavorable decisions like discarding a lone 5 tile rather than a 2, for example.  In some cases this is fine, but in others it isn't.  Depth 2 as far as I have seen always accounts for this.\n",
    "\n",
    "### Because of this, I'm going to try and train a model using the choices good players make.  In Mahjong there are times when players are aggressive, and times when they are defensive.  I want to see what they discard when they are aggressive and only then so that we have a fast model that makes generally good moves. It is also possible and probably not that costly in terms of time to validate each move and see if it was a moved that made the player further away from completing their hand.  If so, we don't want that move in our training for the aggressive portion of the bot.\n",
    "\n",
    "### It actually might also just be cool to train the bot on a whole bunch of data regardless of whether the players are aggressive or defensive and just see what the bot does."
   ]
  },
  {
   "cell_type": "code",
   "execution_count": 200,
   "metadata": {},
   "outputs": [
    {
     "name": "stdout",
     "output_type": "stream",
     "text": [
      "<class 'pandas.core.frame.DataFrame'>\n",
      "Int64Index: 16528 entries, 1 to 44004\n",
      "Data columns (total 78 columns):\n",
      "gameLogID                   16528 non-null object\n",
      "lobby                       16528 non-null object\n",
      "moveType                    16528 non-null object\n",
      "unconvertedTile             16528 non-null int64\n",
      "convertedTile               16528 non-null int64\n",
      "discDrawn                   16528 non-null object\n",
      "handNumber                  16528 non-null int64\n",
      "moveNumber                  16528 non-null int64\n",
      "roundWind                   16528 non-null object\n",
      "roundNumber                 16528 non-null int64\n",
      "bonusSticks                 16528 non-null int64\n",
      "unconvertedDoraIndicator    16528 non-null object\n",
      "convertedDoraIndicator      16528 non-null object\n",
      "convertedDora               16528 non-null object\n",
      "actorWind                   16528 non-null int64\n",
      "actorRating                 16528 non-null float64\n",
      "rightRating                 16528 non-null float64\n",
      "acrossRating                16528 non-null float64\n",
      "leftRating                  16528 non-null float64\n",
      "actorRank                   16528 non-null int64\n",
      "rightRank                   16528 non-null int64\n",
      "acrossRank                  16528 non-null int64\n",
      "leftRank                    16528 non-null int64\n",
      "actorScore                  16528 non-null int64\n",
      "rightScore                  16528 non-null int64\n",
      "acrossScore                 16528 non-null int64\n",
      "leftScore                   16528 non-null int64\n",
      "actorHandConverted          16528 non-null object\n",
      "actorHandUnconverted        16528 non-null object\n",
      "rightHandConverted          16528 non-null object\n",
      "rightHandUnconverted        16528 non-null object\n",
      "acrossHandConverted         16528 non-null object\n",
      "acrossHandUnconverted       16528 non-null object\n",
      "leftHandConverted           16528 non-null object\n",
      "leftHandUnconverted         16528 non-null object\n",
      "actorUnconvertedPond        16528 non-null object\n",
      "actorConvertedPond          16528 non-null object\n",
      "rightUnconvertedPond        16528 non-null object\n",
      "rightConvertedPond          16528 non-null object\n",
      "acrossUnconvertedPond       16528 non-null object\n",
      "acrossConvertedPond         16528 non-null object\n",
      "leftUnconvertedPond         16528 non-null object\n",
      "leftConvertedPond           16528 non-null object\n",
      "actorReachStatus            16528 non-null int64\n",
      "rightReachStatus            16528 non-null int64\n",
      "acrossReachStatus           16528 non-null int64\n",
      "leftReachStatus             16528 non-null int64\n",
      "actorIsOpen                 16528 non-null int64\n",
      "rightIsOpen                 16528 non-null int64\n",
      "acrossIsOpen                16528 non-null int64\n",
      "leftIsOpen                  16528 non-null int64\n",
      "actorOpenTiles              16528 non-null object\n",
      "rightOpenTiles              16528 non-null object\n",
      "acrossOpenTiles             16528 non-null object\n",
      "leftOpenTiles               16528 non-null object\n",
      "actorPondCount              16528 non-null int64\n",
      "rightPondCount              16528 non-null int64\n",
      "acrossPondCount             16528 non-null int64\n",
      "leftPondCount               16528 non-null int64\n",
      "whosTurn                    16528 non-null int64\n",
      "shantenEngineeringColumn    16528 non-null object\n",
      "shanten                     16528 non-null int64\n",
      "actorPondDist5              16528 non-null object\n",
      "actor_pd5_All               16528 non-null float64\n",
      "actor_pd5_3                 16528 non-null float64\n",
      "actor_pd5_4                 16528 non-null float64\n",
      "actor_pd5_5                 16528 non-null float64\n",
      "actor_pd5_6                 16528 non-null float64\n",
      "actor_pd5_7                 16528 non-null float64\n",
      "actorOpenMeldCount          16528 non-null int64\n",
      "isTenpai                    16528 non-null int64\n",
      "avgDDL3                     16528 non-null float64\n",
      "avgDDL4                     16528 non-null float64\n",
      "avgDDL5                     16528 non-null float64\n",
      "avgDDL6                     16528 non-null float64\n",
      "avgDDL7                     16528 non-null float64\n",
      "avgDDAll                    16528 non-null float64\n",
      "1sh                         16528 non-null int64\n",
      "dtypes: float64(16), int64(32), object(30)\n",
      "memory usage: 10.6+ MB\n"
     ]
    }
   ],
   "source": [
    "noReachDf.info()"
   ]
  },
  {
   "cell_type": "markdown",
   "metadata": {},
   "source": [
    "### For now, using noReachDf, I'm just going to try making a 34-column version of actorHandConverted as X (a column for how many of each unique kind of tile is in the player's hand (ranges from 0 to 4), and for the target we'll have the discard the high-level player chose.\n",
    "\n",
    "### Ah, there are actually more columns because of how I handled labelling stolen melds. (200,210,220,230)\n",
    "\n",
    "#### As a sidenote, these stolen melds are each given their own separated 200-like numbers for the 3 tiles, and regardless of whether or not the meld is a run or 3 identical tiles, they are set as identical, because that denotes (for the current lookingForward()) that they cannot be interacted with in the hand any further.  It is an isolated meld.\n",
    "\n",
    "#### Whoa I actually may need to make it so that it can't discard those. (Unsure whether that is set.)  Hopefully we'll have something better than LookingForward()"
   ]
  },
  {
   "cell_type": "code",
   "execution_count": 201,
   "metadata": {
    "collapsed": true
   },
   "outputs": [],
   "source": [
    "def handTo34Cols(df,col):\n",
    "    names = [1,2,3,4,5,6,7,8,9,21,22,23,24,25,26,27,28,29,41,42,43,44,45,46,47,48,49,60,70,80,90,100,110,120,\n",
    "            200,210,220,230]\n",
    "    valx = df[col].copy().values\n",
    "    #print(valx[0])\n",
    "    #print(type(valx[0]))\n",
    "    defDict = {}\n",
    "    for i in names:\n",
    "        defDict[i] = 0\n",
    "    print(defDict)\n",
    "    rows = [defDict.copy()]\n",
    "    #print(rows[0])\n",
    "    for i in range(len(valx)):\n",
    "        for j in range(len(valx[i])):\n",
    "            rows[-1][valx[i][j]] += 1\n",
    "        rows.append(defDict.copy())\n",
    "    #print(rows)\n",
    "    print(rows[0])\n",
    "    #print(rows[0][1])\n",
    "    rows.remove(rows[-1])\n",
    "    tempVals = []\n",
    "    for i in range(0,(len(names))):\n",
    "        for j in range(len(rows)):\n",
    "            tempVals.append(rows[j][names[i]])\n",
    "        colName = \"tc_\"+str(names[i])\n",
    "        df[colName] = tempVals\n",
    "        tempVals = []"
   ]
  },
  {
   "cell_type": "code",
   "execution_count": 202,
   "metadata": {},
   "outputs": [
    {
     "name": "stdout",
     "output_type": "stream",
     "text": [
      "{1: 0, 2: 0, 3: 0, 4: 0, 5: 0, 6: 0, 7: 0, 8: 0, 9: 0, 21: 0, 22: 0, 23: 0, 24: 0, 25: 0, 26: 0, 27: 0, 28: 0, 29: 0, 41: 0, 42: 0, 43: 0, 44: 0, 45: 0, 46: 0, 47: 0, 48: 0, 49: 0, 60: 0, 70: 0, 80: 0, 90: 0, 100: 0, 110: 0, 120: 0, 200: 0, 210: 0, 220: 0, 230: 0}\n",
      "{1: 0, 2: 1, 3: 1, 4: 0, 5: 0, 6: 0, 7: 0, 8: 0, 9: 0, 21: 0, 22: 0, 23: 1, 24: 0, 25: 0, 26: 0, 27: 0, 28: 1, 29: 1, 41: 0, 42: 0, 43: 2, 44: 2, 45: 1, 46: 1, 47: 0, 48: 0, 49: 0, 60: 2, 70: 0, 80: 0, 90: 0, 100: 0, 110: 0, 120: 1, 200: 0, 210: 0, 220: 0, 230: 0}\n"
     ]
    }
   ],
   "source": [
    "handTo34Cols(noReachDf,\"actorHandConverted\")"
   ]
  },
  {
   "cell_type": "code",
   "execution_count": 203,
   "metadata": {},
   "outputs": [
    {
     "name": "stdout",
     "output_type": "stream",
     "text": [
      "<class 'pandas.core.frame.DataFrame'>\n",
      "Int64Index: 16528 entries, 1 to 44004\n",
      "Data columns (total 116 columns):\n",
      "gameLogID                   16528 non-null object\n",
      "lobby                       16528 non-null object\n",
      "moveType                    16528 non-null object\n",
      "unconvertedTile             16528 non-null int64\n",
      "convertedTile               16528 non-null int64\n",
      "discDrawn                   16528 non-null object\n",
      "handNumber                  16528 non-null int64\n",
      "moveNumber                  16528 non-null int64\n",
      "roundWind                   16528 non-null object\n",
      "roundNumber                 16528 non-null int64\n",
      "bonusSticks                 16528 non-null int64\n",
      "unconvertedDoraIndicator    16528 non-null object\n",
      "convertedDoraIndicator      16528 non-null object\n",
      "convertedDora               16528 non-null object\n",
      "actorWind                   16528 non-null int64\n",
      "actorRating                 16528 non-null float64\n",
      "rightRating                 16528 non-null float64\n",
      "acrossRating                16528 non-null float64\n",
      "leftRating                  16528 non-null float64\n",
      "actorRank                   16528 non-null int64\n",
      "rightRank                   16528 non-null int64\n",
      "acrossRank                  16528 non-null int64\n",
      "leftRank                    16528 non-null int64\n",
      "actorScore                  16528 non-null int64\n",
      "rightScore                  16528 non-null int64\n",
      "acrossScore                 16528 non-null int64\n",
      "leftScore                   16528 non-null int64\n",
      "actorHandConverted          16528 non-null object\n",
      "actorHandUnconverted        16528 non-null object\n",
      "rightHandConverted          16528 non-null object\n",
      "rightHandUnconverted        16528 non-null object\n",
      "acrossHandConverted         16528 non-null object\n",
      "acrossHandUnconverted       16528 non-null object\n",
      "leftHandConverted           16528 non-null object\n",
      "leftHandUnconverted         16528 non-null object\n",
      "actorUnconvertedPond        16528 non-null object\n",
      "actorConvertedPond          16528 non-null object\n",
      "rightUnconvertedPond        16528 non-null object\n",
      "rightConvertedPond          16528 non-null object\n",
      "acrossUnconvertedPond       16528 non-null object\n",
      "acrossConvertedPond         16528 non-null object\n",
      "leftUnconvertedPond         16528 non-null object\n",
      "leftConvertedPond           16528 non-null object\n",
      "actorReachStatus            16528 non-null int64\n",
      "rightReachStatus            16528 non-null int64\n",
      "acrossReachStatus           16528 non-null int64\n",
      "leftReachStatus             16528 non-null int64\n",
      "actorIsOpen                 16528 non-null int64\n",
      "rightIsOpen                 16528 non-null int64\n",
      "acrossIsOpen                16528 non-null int64\n",
      "leftIsOpen                  16528 non-null int64\n",
      "actorOpenTiles              16528 non-null object\n",
      "rightOpenTiles              16528 non-null object\n",
      "acrossOpenTiles             16528 non-null object\n",
      "leftOpenTiles               16528 non-null object\n",
      "actorPondCount              16528 non-null int64\n",
      "rightPondCount              16528 non-null int64\n",
      "acrossPondCount             16528 non-null int64\n",
      "leftPondCount               16528 non-null int64\n",
      "whosTurn                    16528 non-null int64\n",
      "shantenEngineeringColumn    16528 non-null object\n",
      "shanten                     16528 non-null int64\n",
      "actorPondDist5              16528 non-null object\n",
      "actor_pd5_All               16528 non-null float64\n",
      "actor_pd5_3                 16528 non-null float64\n",
      "actor_pd5_4                 16528 non-null float64\n",
      "actor_pd5_5                 16528 non-null float64\n",
      "actor_pd5_6                 16528 non-null float64\n",
      "actor_pd5_7                 16528 non-null float64\n",
      "actorOpenMeldCount          16528 non-null int64\n",
      "isTenpai                    16528 non-null int64\n",
      "avgDDL3                     16528 non-null float64\n",
      "avgDDL4                     16528 non-null float64\n",
      "avgDDL5                     16528 non-null float64\n",
      "avgDDL6                     16528 non-null float64\n",
      "avgDDL7                     16528 non-null float64\n",
      "avgDDAll                    16528 non-null float64\n",
      "1sh                         16528 non-null int64\n",
      "tc_1                        16528 non-null int64\n",
      "tc_2                        16528 non-null int64\n",
      "tc_3                        16528 non-null int64\n",
      "tc_4                        16528 non-null int64\n",
      "tc_5                        16528 non-null int64\n",
      "tc_6                        16528 non-null int64\n",
      "tc_7                        16528 non-null int64\n",
      "tc_8                        16528 non-null int64\n",
      "tc_9                        16528 non-null int64\n",
      "tc_21                       16528 non-null int64\n",
      "tc_22                       16528 non-null int64\n",
      "tc_23                       16528 non-null int64\n",
      "tc_24                       16528 non-null int64\n",
      "tc_25                       16528 non-null int64\n",
      "tc_26                       16528 non-null int64\n",
      "tc_27                       16528 non-null int64\n",
      "tc_28                       16528 non-null int64\n",
      "tc_29                       16528 non-null int64\n",
      "tc_41                       16528 non-null int64\n",
      "tc_42                       16528 non-null int64\n",
      "tc_43                       16528 non-null int64\n",
      "tc_44                       16528 non-null int64\n",
      "tc_45                       16528 non-null int64\n",
      "tc_46                       16528 non-null int64\n",
      "tc_47                       16528 non-null int64\n",
      "tc_48                       16528 non-null int64\n",
      "tc_49                       16528 non-null int64\n",
      "tc_60                       16528 non-null int64\n",
      "tc_70                       16528 non-null int64\n",
      "tc_80                       16528 non-null int64\n",
      "tc_90                       16528 non-null int64\n",
      "tc_100                      16528 non-null int64\n",
      "tc_110                      16528 non-null int64\n",
      "tc_120                      16528 non-null int64\n",
      "tc_200                      16528 non-null int64\n",
      "tc_210                      16528 non-null int64\n",
      "tc_220                      16528 non-null int64\n",
      "tc_230                      16528 non-null int64\n",
      "dtypes: float64(16), int64(70), object(30)\n",
      "memory usage: 15.4+ MB\n"
     ]
    }
   ],
   "source": [
    "noReachDf.info(max_cols=500)"
   ]
  },
  {
   "cell_type": "code",
   "execution_count": 204,
   "metadata": {
    "collapsed": true
   },
   "outputs": [],
   "source": [
    "tcList = []\n",
    "names = [1,2,3,4,5,6,7,8,9,21,22,23,24,25,26,27,28,29,41,42,43,44,45,46,47,48,49,60,70,80,90,100,110,120,200,210,220,230]\n",
    "collum = \"tc_\"\n",
    "for i in names:\n",
    "    tcList.append(collum+str(i))\n",
    "X = noReachDf[tcList]\n",
    "y = noReachDf[\"convertedTile\"]"
   ]
  },
  {
   "cell_type": "code",
   "execution_count": 205,
   "metadata": {},
   "outputs": [
    {
     "name": "stdout",
     "output_type": "stream",
     "text": [
      "0.301710855053\n",
      "0.00810246530345\n",
      "[ 0.29395161  0.29850746  0.314643    0.30738201  0.29407019]\n"
     ]
    }
   ],
   "source": [
    "X_train, X_test, y_train, y_test = train_test_split(X, y, test_size=0.25, random_state=42)\n",
    "rfc = RandomForestClassifier(max_depth=5,n_estimators=15)\n",
    "kf = KFold(n_splits=5,shuffle=True,random_state=42)\n",
    "scores = cross_val_score(rfc,X_train,y_train,cv=kf)\n",
    "print(np.mean(scores))\n",
    "print(np.std(scores))\n",
    "print(scores)"
   ]
  },
  {
   "cell_type": "markdown",
   "metadata": {},
   "source": [
    "### Holy! Wow I think that's actually insane and we haven't even really tuned anything. Let's actually find the baseline though just to see how much bettter it is.  Also we're going to have to see if copying these moves with 30% accuracy is even any good though."
   ]
  },
  {
   "cell_type": "code",
   "execution_count": 206,
   "metadata": {},
   "outputs": [
    {
     "data": {
      "text/plain": [
       "0.05179090029041626"
      ]
     },
     "execution_count": 206,
     "metadata": {},
     "output_type": "execute_result"
    }
   ],
   "source": [
    "float(max(noReachDf[\"convertedTile\"].value_counts()))/len(noReachDf)"
   ]
  },
  {
   "cell_type": "markdown",
   "metadata": {},
   "source": [
    "### Well 25% above baseline is something!  Something tells me this is still going to be awful though.  Let's throw it some specific hands and see how it does."
   ]
  },
  {
   "cell_type": "code",
   "execution_count": 207,
   "metadata": {},
   "outputs": [
    {
     "data": {
      "text/plain": [
       "RandomForestClassifier(bootstrap=True, class_weight=None, criterion='gini',\n",
       "            max_depth=5, max_features='auto', max_leaf_nodes=None,\n",
       "            min_impurity_split=1e-07, min_samples_leaf=1,\n",
       "            min_samples_split=2, min_weight_fraction_leaf=0.0,\n",
       "            n_estimators=15, n_jobs=1, oob_score=False, random_state=None,\n",
       "            verbose=0, warm_start=False)"
      ]
     },
     "execution_count": 207,
     "metadata": {},
     "output_type": "execute_result"
    }
   ],
   "source": [
    "rfc.fit(X,y)"
   ]
  },
  {
   "cell_type": "code",
   "execution_count": 208,
   "metadata": {
    "collapsed": true
   },
   "outputs": [],
   "source": [
    "#first we have to make something that converts hands to this nonsense...\n",
    "\n",
    "def hantConvert(hant):\n",
    "    newDf = pd.DataFrame()\n",
    "    #print(newDf)\n",
    "    '''it converts your hant, uhh, I mean hand, to a 38-column row for prediction by some model you made.'''\n",
    "    names = [1,2,3,4,5,6,7,8,9,21,22,23,24,25,26,27,28,29,41,42,43,44,45,46,47,48,49,60,70,80,90,100,110,120,\n",
    "             200,210,220,230]\n",
    "    #print(len(names))\n",
    "    defDict = {}\n",
    "    for i in names:\n",
    "        defDict[i] = 0\n",
    "    #print(defDict)\n",
    "    rows = [defDict.copy()]\n",
    "    #print(rows[0])\n",
    "    for j in range(len(hant)):\n",
    "        rows[-1][hant[j]] += 1\n",
    "    #print(rows)\n",
    "    #print(rows[0])\n",
    "    #print(len(rows[0]))\n",
    "    #print(rows[0][1])\n",
    "    tempVals = 0\n",
    "    for i in names:\n",
    "        tempVals = rows[0][i]\n",
    "        colName = \"tc_\"+str(i)\n",
    "        #print(\"tempVals\",tempVals)\n",
    "        newDf[colName] = [tempVals,0]\n",
    "        tempVals = 0\n",
    "    #print(newDf[\"tc_1\"])\n",
    "    return newDf"
   ]
  },
  {
   "cell_type": "code",
   "execution_count": 209,
   "metadata": {},
   "outputs": [
    {
     "data": {
      "text/plain": [
       "21"
      ]
     },
     "execution_count": 209,
     "metadata": {},
     "output_type": "execute_result"
    }
   ],
   "source": [
    "hant = [1,2,3,4,5,6,21,23,24,45,45,47,47,47] #an easy one\n",
    "newDf = hantConvert(hant)\n",
    "Xample = newDf\n",
    "#print(Xample.head())\n",
    "rfc.predict(Xample)[0]"
   ]
  },
  {
   "cell_type": "markdown",
   "metadata": {},
   "source": [
    "### Whoa, I actually didn't expect it to get that right, as obvious as the answer is to any Mahjong player who has played more than like 1 game.  Let's see if it just hates honors and terminals and only learned that we usually discard those."
   ]
  },
  {
   "cell_type": "code",
   "execution_count": 210,
   "metadata": {},
   "outputs": [
    {
     "data": {
      "text/plain": [
       "90"
      ]
     },
     "execution_count": 210,
     "metadata": {},
     "output_type": "execute_result"
    }
   ],
   "source": [
    "hant = [1,2,3,4,5,6,21,23,24,45,45,47,90,90] #\n",
    "newDf = hantConvert(hant)\n",
    "Xample = newDf\n",
    "#print(Xample.head())\n",
    "rfc.predict(Xample)[0]"
   ]
  },
  {
   "cell_type": "markdown",
   "metadata": {},
   "source": [
    "### Dangit, the correct move is probably also still 21 honestly.  I mean it's debatable... let's use a less vague example where clearly the honor shouldn't be discarded."
   ]
  },
  {
   "cell_type": "code",
   "execution_count": 211,
   "metadata": {},
   "outputs": [
    {
     "data": {
      "text/plain": [
       "90"
      ]
     },
     "execution_count": 211,
     "metadata": {},
     "output_type": "execute_result"
    }
   ],
   "source": [
    "hant = [1,2,3,4,5,6,21,23,24,45,45,90,90,90] #\n",
    "newDf = hantConvert(hant)\n",
    "Xample = newDf\n",
    "#print(Xample.head())\n",
    "rfc.predict(Xample)[0]"
   ]
  },
  {
   "cell_type": "markdown",
   "metadata": {},
   "source": [
    "### Oh wait I'm silly, random forests are awful for this because you need to look at all the features.  Anyhow..."
   ]
  },
  {
   "cell_type": "markdown",
   "metadata": {},
   "source": [
    "### Yeah... this is clearly a bad predictor of move.  It only learned that honors are the worst, terminals are the second worst, etc...  I mean that's interesting, but yeah not the best.  lookingForward() is much better.\n",
    "\n",
    "### Also, it's worth mentioning that adding more columns isn't going to fix anything.  The problem isn't anything like \"the bot doesn't know enough about the enemy discards.\" It's just learning that honors and terminals are usually discarded, and so it thinks you should always discard them, but that's not the idea at all.  They're the worst tiles, but if they're connected, they're better than any disconnected tiles.\n",
    "\n",
    "### it's almost like we need to train a model to learn what connectedness is...\n",
    "\n",
    "### One thing I could maybe do... Suppose you have a mahjong hand like this:\n",
    "\n",
    "#### [1,2,3,7,7,7,21,24,25,41,41,48,90,90]\n",
    "\n",
    "### Now imagine we make a sliding window that is 3-long, and we have it check to see if the tiles are a meld or not.  We'll get 12 columns for this.  The first would say \"meld\" because 1,2,3 are a meld. the next would say something like \"connection\" because 2 and 3 in 2,3,7 are connected, and the next would also say \"connection\" because in 3,7,7, 7 and 7 are connected. After that, we'd have 777 say \"meld\", and then as a final example, 7,21,24 would say \"No connections\" because none of the tiles are interacting with each other.\n",
    "\n",
    "### This already has some issues, because 7 will never interact with 21, because it's in a different suit, but whatever.  The idea with the 3-long sliding window is to capture if we have melds.\n",
    "\n",
    "### Actually you know what, the 3-long sliding window will say \"meld\" or \"no meld\"\n",
    "\n",
    "### Then, we'll have another set of columns that involves a 2-long sliding window.  This will say \"double\", \"single\", or \"no connection\".\n",
    "\n",
    "### Finally, we already have columns that denote what kind of value the tiles have, but we might have to declare columns that describe what the individual tiles are with a 1-long sliding window, saying something like \"center\"(5 and 25 and 45...), \"weak center\"(4,6,24... etc..), \"terminal center\"(3,7), \"terminal simple\"(2,8), \"terminal\"(1,9), and \"honor\"(other). Unsure whether I have to do that yet."
   ]
  },
  {
   "cell_type": "markdown",
   "metadata": {
    "collapsed": true
   },
   "source": [
    "# ===\n",
    "\n",
    "### Waiting on this above idea whatever it was.  Presentation at school on what data science stuff I have done so far.  Which is nothing basically.  Let's get that nothing together and quantify it and figure out how to talk about it / what I might be able to do or add today."
   ]
  },
  {
   "cell_type": "code",
   "execution_count": 212,
   "metadata": {},
   "outputs": [
    {
     "ename": "KeyError",
     "evalue": "\"['avgDDL7'] not in index\"",
     "output_type": "error",
     "traceback": [
      "\u001b[0;31m---------------------------------------------------------------------------\u001b[0m",
      "\u001b[0;31mKeyError\u001b[0m                                  Traceback (most recent call last)",
      "\u001b[0;32m<ipython-input-212-dadb10a6cd29>\u001b[0m in \u001b[0;36m<module>\u001b[0;34m()\u001b[0m\n\u001b[1;32m      1\u001b[0m \u001b[0;31m#these are the features I was using to predict shanten in various ways earlier.\u001b[0m\u001b[0;34m\u001b[0m\u001b[0;34m\u001b[0m\u001b[0m\n\u001b[1;32m      2\u001b[0m \u001b[0;34m\u001b[0m\u001b[0m\n\u001b[0;32m----> 3\u001b[0;31m \u001b[0mX\u001b[0m \u001b[0;34m=\u001b[0m \u001b[0mdfDiscards\u001b[0m\u001b[0;34m[\u001b[0m\u001b[0;34m[\u001b[0m\u001b[0;34m'actor_pd5_5'\u001b[0m\u001b[0;34m,\u001b[0m\u001b[0;34m\"actorPondCount\"\u001b[0m\u001b[0;34m,\u001b[0m\u001b[0;34m\"avgDDL7\"\u001b[0m\u001b[0;34m,\u001b[0m\u001b[0;34m'actorOpenMeldCount'\u001b[0m\u001b[0;34m]\u001b[0m\u001b[0;34m]\u001b[0m\u001b[0;34m\u001b[0m\u001b[0m\n\u001b[0m",
      "\u001b[0;32m/home/tpeach/anaconda3/lib/python3.6/site-packages/pandas/core/frame.py\u001b[0m in \u001b[0;36m__getitem__\u001b[0;34m(self, key)\u001b[0m\n\u001b[1;32m   2054\u001b[0m         \u001b[0;32mif\u001b[0m \u001b[0misinstance\u001b[0m\u001b[0;34m(\u001b[0m\u001b[0mkey\u001b[0m\u001b[0;34m,\u001b[0m \u001b[0;34m(\u001b[0m\u001b[0mSeries\u001b[0m\u001b[0;34m,\u001b[0m \u001b[0mnp\u001b[0m\u001b[0;34m.\u001b[0m\u001b[0mndarray\u001b[0m\u001b[0;34m,\u001b[0m \u001b[0mIndex\u001b[0m\u001b[0;34m,\u001b[0m \u001b[0mlist\u001b[0m\u001b[0;34m)\u001b[0m\u001b[0;34m)\u001b[0m\u001b[0;34m:\u001b[0m\u001b[0;34m\u001b[0m\u001b[0m\n\u001b[1;32m   2055\u001b[0m             \u001b[0;31m# either boolean or fancy integer index\u001b[0m\u001b[0;34m\u001b[0m\u001b[0;34m\u001b[0m\u001b[0m\n\u001b[0;32m-> 2056\u001b[0;31m             \u001b[0;32mreturn\u001b[0m \u001b[0mself\u001b[0m\u001b[0;34m.\u001b[0m\u001b[0m_getitem_array\u001b[0m\u001b[0;34m(\u001b[0m\u001b[0mkey\u001b[0m\u001b[0;34m)\u001b[0m\u001b[0;34m\u001b[0m\u001b[0m\n\u001b[0m\u001b[1;32m   2057\u001b[0m         \u001b[0;32melif\u001b[0m \u001b[0misinstance\u001b[0m\u001b[0;34m(\u001b[0m\u001b[0mkey\u001b[0m\u001b[0;34m,\u001b[0m \u001b[0mDataFrame\u001b[0m\u001b[0;34m)\u001b[0m\u001b[0;34m:\u001b[0m\u001b[0;34m\u001b[0m\u001b[0m\n\u001b[1;32m   2058\u001b[0m             \u001b[0;32mreturn\u001b[0m \u001b[0mself\u001b[0m\u001b[0;34m.\u001b[0m\u001b[0m_getitem_frame\u001b[0m\u001b[0;34m(\u001b[0m\u001b[0mkey\u001b[0m\u001b[0;34m)\u001b[0m\u001b[0;34m\u001b[0m\u001b[0m\n",
      "\u001b[0;32m/home/tpeach/anaconda3/lib/python3.6/site-packages/pandas/core/frame.py\u001b[0m in \u001b[0;36m_getitem_array\u001b[0;34m(self, key)\u001b[0m\n\u001b[1;32m   2098\u001b[0m             \u001b[0;32mreturn\u001b[0m \u001b[0mself\u001b[0m\u001b[0;34m.\u001b[0m\u001b[0mtake\u001b[0m\u001b[0;34m(\u001b[0m\u001b[0mindexer\u001b[0m\u001b[0;34m,\u001b[0m \u001b[0maxis\u001b[0m\u001b[0;34m=\u001b[0m\u001b[0;36m0\u001b[0m\u001b[0;34m,\u001b[0m \u001b[0mconvert\u001b[0m\u001b[0;34m=\u001b[0m\u001b[0;32mFalse\u001b[0m\u001b[0;34m)\u001b[0m\u001b[0;34m\u001b[0m\u001b[0m\n\u001b[1;32m   2099\u001b[0m         \u001b[0;32melse\u001b[0m\u001b[0;34m:\u001b[0m\u001b[0;34m\u001b[0m\u001b[0m\n\u001b[0;32m-> 2100\u001b[0;31m             \u001b[0mindexer\u001b[0m \u001b[0;34m=\u001b[0m \u001b[0mself\u001b[0m\u001b[0;34m.\u001b[0m\u001b[0mloc\u001b[0m\u001b[0;34m.\u001b[0m\u001b[0m_convert_to_indexer\u001b[0m\u001b[0;34m(\u001b[0m\u001b[0mkey\u001b[0m\u001b[0;34m,\u001b[0m \u001b[0maxis\u001b[0m\u001b[0;34m=\u001b[0m\u001b[0;36m1\u001b[0m\u001b[0;34m)\u001b[0m\u001b[0;34m\u001b[0m\u001b[0m\n\u001b[0m\u001b[1;32m   2101\u001b[0m             \u001b[0;32mreturn\u001b[0m \u001b[0mself\u001b[0m\u001b[0;34m.\u001b[0m\u001b[0mtake\u001b[0m\u001b[0;34m(\u001b[0m\u001b[0mindexer\u001b[0m\u001b[0;34m,\u001b[0m \u001b[0maxis\u001b[0m\u001b[0;34m=\u001b[0m\u001b[0;36m1\u001b[0m\u001b[0;34m,\u001b[0m \u001b[0mconvert\u001b[0m\u001b[0;34m=\u001b[0m\u001b[0;32mTrue\u001b[0m\u001b[0;34m)\u001b[0m\u001b[0;34m\u001b[0m\u001b[0m\n\u001b[1;32m   2102\u001b[0m \u001b[0;34m\u001b[0m\u001b[0m\n",
      "\u001b[0;32m/home/tpeach/anaconda3/lib/python3.6/site-packages/pandas/core/indexing.py\u001b[0m in \u001b[0;36m_convert_to_indexer\u001b[0;34m(self, obj, axis, is_setter)\u001b[0m\n\u001b[1;32m   1229\u001b[0m                 \u001b[0mmask\u001b[0m \u001b[0;34m=\u001b[0m \u001b[0mcheck\u001b[0m \u001b[0;34m==\u001b[0m \u001b[0;34m-\u001b[0m\u001b[0;36m1\u001b[0m\u001b[0;34m\u001b[0m\u001b[0m\n\u001b[1;32m   1230\u001b[0m                 \u001b[0;32mif\u001b[0m \u001b[0mmask\u001b[0m\u001b[0;34m.\u001b[0m\u001b[0many\u001b[0m\u001b[0;34m(\u001b[0m\u001b[0;34m)\u001b[0m\u001b[0;34m:\u001b[0m\u001b[0;34m\u001b[0m\u001b[0m\n\u001b[0;32m-> 1231\u001b[0;31m                     \u001b[0;32mraise\u001b[0m \u001b[0mKeyError\u001b[0m\u001b[0;34m(\u001b[0m\u001b[0;34m'%s not in index'\u001b[0m \u001b[0;34m%\u001b[0m \u001b[0mobjarr\u001b[0m\u001b[0;34m[\u001b[0m\u001b[0mmask\u001b[0m\u001b[0;34m]\u001b[0m\u001b[0;34m)\u001b[0m\u001b[0;34m\u001b[0m\u001b[0m\n\u001b[0m\u001b[1;32m   1232\u001b[0m \u001b[0;34m\u001b[0m\u001b[0m\n\u001b[1;32m   1233\u001b[0m                 \u001b[0;32mreturn\u001b[0m \u001b[0m_values_from_object\u001b[0m\u001b[0;34m(\u001b[0m\u001b[0mindexer\u001b[0m\u001b[0;34m)\u001b[0m\u001b[0;34m\u001b[0m\u001b[0m\n",
      "\u001b[0;31mKeyError\u001b[0m: \"['avgDDL7'] not in index\""
     ]
    }
   ],
   "source": [
    "#these are the features I was using to predict shanten in various ways earlier.\n",
    "\n",
    "X = dfDiscards[['actor_pd5_5',\"actorPondCount\",\"avgDDL7\",'actorOpenMeldCount']]"
   ]
  },
  {
   "cell_type": "code",
   "execution_count": null,
   "metadata": {
    "collapsed": true
   },
   "outputs": [],
   "source": [
    "plt.plot(dfDiscards.groupby('shanten').mean()[\"actor_pd5_5\"][1:])\n",
    "plt.xlabel(\"shanten\")\n",
    "plt.ylabel(\"actor_pd5_5 (avg)\")"
   ]
  },
  {
   "cell_type": "markdown",
   "metadata": {},
   "source": [
    "### The x-axis is shanten, which is how many tiles someone needs to draw to be in tenpai.\n",
    "### The y-axis is, over someone's most recent 5 discards, how far away from a 5-value tile these discards are on average.\n",
    "### A clear trend on /average/... However..."
   ]
  },
  {
   "cell_type": "code",
   "execution_count": null,
   "metadata": {
    "collapsed": true
   },
   "outputs": [],
   "source": [
    "plt.hist(dfDiscards[[\"shanten\",\"actor_pd5_5\"]][dfDiscards[\"shanten\"]==0][\"actor_pd5_5\"],bins=50);"
   ]
  },
  {
   "cell_type": "code",
   "execution_count": null,
   "metadata": {
    "collapsed": true
   },
   "outputs": [],
   "source": [
    "plt.hist(dfDiscards[[\"shanten\",\"actor_pd5_5\"]][dfDiscards[\"shanten\"]==1][\"actor_pd5_5\"],bins=50);"
   ]
  },
  {
   "cell_type": "code",
   "execution_count": null,
   "metadata": {
    "collapsed": true
   },
   "outputs": [],
   "source": [
    "plt.hist(dfDiscards[[\"shanten\",\"actor_pd5_5\"]][dfDiscards[\"shanten\"]==2][\"actor_pd5_5\"],bins=50);"
   ]
  },
  {
   "cell_type": "code",
   "execution_count": null,
   "metadata": {
    "collapsed": true
   },
   "outputs": [],
   "source": [
    "plt.plot(dfDiscards.groupby('shanten').mean()[\"actorPondCount\"][1:])"
   ]
  },
  {
   "cell_type": "markdown",
   "metadata": {},
   "source": [
    "### This is the clearest, most intuitive trend.  As the game gets later, people are more likely to have a hand closer to completion, but again our specific original goal was to differentiate 0 shanten hands from 1 shanten hands."
   ]
  },
  {
   "cell_type": "code",
   "execution_count": null,
   "metadata": {
    "collapsed": true
   },
   "outputs": [],
   "source": [
    "plt.hist(dfDiscards[[\"shanten\",\"actorPondCount\"]][dfDiscards[\"shanten\"]==0][\"actorPondCount\"],bins=50);"
   ]
  },
  {
   "cell_type": "code",
   "execution_count": null,
   "metadata": {
    "collapsed": true
   },
   "outputs": [],
   "source": [
    "plt.hist(dfDiscards[[\"shanten\",\"actorPondCount\"]][dfDiscards[\"shanten\"]==1][\"actorPondCount\"],bins=50);"
   ]
  },
  {
   "cell_type": "code",
   "execution_count": null,
   "metadata": {
    "collapsed": true
   },
   "outputs": [],
   "source": [
    "plt.hist(dfDiscards[[\"shanten\",\"actorPondCount\"]][dfDiscards[\"shanten\"]==2][\"actorPondCount\"],bins=50);"
   ]
  },
  {
   "cell_type": "markdown",
   "metadata": {},
   "source": [
    "### As you can see here, people have less discards the further away from completion their hand is.  At tenpai, the pondCount is basically normally distributed around 10 discards, but unfortunately these subsequent shantens' distributions aren't all that different.  It's information but it isn't as clean of a cut as the one we got between 1 shanten and 2 shanten with actor_pd5_5.\n",
    "\n",
    "### Next up is avgDDL7, which is the average number of draws that someone discarded over the last 7 draws.  Basically, if someone is throwing away the exact tile they are drawing, their hand is probably pretty good because nothing helps them!  They are looking for something very specific!"
   ]
  },
  {
   "cell_type": "code",
   "execution_count": null,
   "metadata": {
    "collapsed": true
   },
   "outputs": [],
   "source": [
    "plt.plot(noReachDf.groupby('shanten').mean()[\"avgDDL7\"][1:])"
   ]
  },
  {
   "cell_type": "code",
   "execution_count": null,
   "metadata": {
    "collapsed": true
   },
   "outputs": [],
   "source": [
    "plt.hist(noReachDf[[\"shanten\",\"avgDDL7\"]][noReachDf[\"shanten\"]==0][\"avgDDL7\"],bins=50);"
   ]
  },
  {
   "cell_type": "code",
   "execution_count": null,
   "metadata": {
    "collapsed": true
   },
   "outputs": [],
   "source": [
    "plt.hist(noReachDf[[\"shanten\",\"avgDDL7\"]][noReachDf[\"shanten\"]==1][\"avgDDL7\"],bins=50);"
   ]
  },
  {
   "cell_type": "code",
   "execution_count": null,
   "metadata": {
    "collapsed": true
   },
   "outputs": [],
   "source": [
    "plt.hist(noReachDf[[\"shanten\",\"avgDDL7\"]][noReachDf[\"shanten\"]==2][\"avgDDL7\"],bins=50);"
   ]
  },
  {
   "cell_type": "markdown",
   "metadata": {},
   "source": [
    "### So again, yes, there is a trend that as people tend to discard what they draw more often, they are generally closer to a complete hand, but nothing super clear cut like a rule you can use.  It's useful, but not amazing."
   ]
  },
  {
   "cell_type": "code",
   "execution_count": null,
   "metadata": {
    "collapsed": true
   },
   "outputs": [],
   "source": [
    "plt.plot(noReachDf.groupby('shanten').mean()[\"actorOpenMeldCount\"][1:])"
   ]
  },
  {
   "cell_type": "code",
   "execution_count": null,
   "metadata": {
    "collapsed": true
   },
   "outputs": [],
   "source": [
    "plt.hist(noReachDf[[\"shanten\",\"actorOpenMeldCount\"]][noReachDf[\"shanten\"]==0][\"actorOpenMeldCount\"],bins=50);"
   ]
  },
  {
   "cell_type": "code",
   "execution_count": null,
   "metadata": {
    "collapsed": true
   },
   "outputs": [],
   "source": [
    "plt.hist(noReachDf[[\"shanten\",\"actorOpenMeldCount\"]][noReachDf[\"shanten\"]==1][\"actorOpenMeldCount\"],bins=50);"
   ]
  },
  {
   "cell_type": "markdown",
   "metadata": {},
   "source": [
    "### So what we gain from this is that OVERWHELMINGLY, when someone has 3 open melds, they are in tenpai, but that's about it.  This addresses a small amount of cases unfortunately.  Alone it isn't much."
   ]
  },
  {
   "cell_type": "markdown",
   "metadata": {},
   "source": [
    "### I want to think about other ways I tend to know if someone is one away from a complete hand."
   ]
  },
  {
   "cell_type": "markdown",
   "metadata": {},
   "source": [
    "### Well I can't think of anything so it's time to go back to feature engineering.  It might be nice to make a whole bunch of rows that are the counts of specific tiles within someone's pond at a given time.  There will be 34 columns."
   ]
  },
  {
   "cell_type": "code",
   "execution_count": null,
   "metadata": {
    "collapsed": true
   },
   "outputs": [],
   "source": [
    "def AHCto38Col(df,col):\n",
    "    vals = df.copy()[col].values\n",
    "    names = [1,2,3,4,5,6,7,8,9,21,22,23,24,25,26,27,28,29,41,42,43,44,45,46,47,48,49,60,70,80,90,100,110,120,\n",
    "             200,210,220,230]\n",
    "    rows = {}\n",
    "    for i in names:\n",
    "        rows[i] = [0]\n",
    "    for i in range(len(vals)):\n",
    "        for x in range(len(vals[i])):\n",
    "            rows[vals[i][x]][-1] += 1\n",
    "        for i in names:\n",
    "            rows[i].append(0)\n",
    "    for i in names:\n",
    "        rows[i].remove(rows[i][-1])\n",
    "    for i in names:\n",
    "        colStr = \"numEachTile_\"+str(i)\n",
    "        df[colStr] = rows[i]\n",
    "\n",
    "#AHCto38Col(noReachDf,\"actorHandConverted\")"
   ]
  },
  {
   "cell_type": "code",
   "execution_count": null,
   "metadata": {
    "collapsed": true
   },
   "outputs": [],
   "source": []
  },
  {
   "cell_type": "code",
   "execution_count": null,
   "metadata": {
    "collapsed": true
   },
   "outputs": [],
   "source": [
    "#noReachDf.info(max_cols=500)"
   ]
  },
  {
   "cell_type": "code",
   "execution_count": null,
   "metadata": {
    "collapsed": true
   },
   "outputs": [],
   "source": [
    "# masq = []\n",
    "# for i in noReachDf.columns:\n",
    "#     if \"numEachTile\" in i:\n",
    "#         masq.append(i)\n",
    "# noReachDf = noReachDf.drop(masq,axis=1)"
   ]
  },
  {
   "cell_type": "code",
   "execution_count": null,
   "metadata": {
    "collapsed": true
   },
   "outputs": [],
   "source": [
    "#noReachDf.info(max_cols=500)"
   ]
  },
  {
   "cell_type": "code",
   "execution_count": null,
   "metadata": {
    "collapsed": true
   },
   "outputs": [],
   "source": [
    "def ACPto34Col(df,col):\n",
    "    vals = df.copy()[col].values\n",
    "    names = [1,2,3,4,5,6,7,8,9,21,22,23,24,25,26,27,28,29,41,42,43,44,45,46,47,48,49,60,70,80,90,100,110,120]\n",
    "    rows = {}\n",
    "    for i in names:\n",
    "        rows[i] = [0]\n",
    "    for i in range(len(vals)):\n",
    "        for x in range(len(vals[i])):\n",
    "            rows[vals[i][x]][-1] += 1\n",
    "        for i in names:\n",
    "            rows[i].append(0)\n",
    "    for i in names:\n",
    "        rows[i].remove(rows[i][-1])\n",
    "    for i in names:\n",
    "        colStr = \"numEachDisc_\"+str(i)\n",
    "        df[colStr] = rows[i]\n",
    "        \n",
    "ACPto34Col(noReachDf,\"actorConvertedPond\")"
   ]
  },
  {
   "cell_type": "code",
   "execution_count": null,
   "metadata": {
    "collapsed": true
   },
   "outputs": [],
   "source": [
    "noReachDf.info(max_cols=500)"
   ]
  },
  {
   "cell_type": "code",
   "execution_count": null,
   "metadata": {
    "collapsed": true
   },
   "outputs": [],
   "source": [
    "noReachDf[\"actorConvertedPond\"].values[:50]"
   ]
  },
  {
   "cell_type": "markdown",
   "metadata": {},
   "source": [
    "### Idk where these are getting messed up, very weird."
   ]
  },
  {
   "cell_type": "markdown",
   "metadata": {
    "collapsed": true
   },
   "source": [
    "# =============="
   ]
  },
  {
   "cell_type": "markdown",
   "metadata": {},
   "source": [
    "### All of this is a bit disorderly, but we're back finally after a week or so to the machine learning part.  What we want to do now is pickle the model that makes a good distinction between 1 shanten hands or closer and other types of hands.   This model will be imported into mainAutomation.ipynb and I'll write a function that creates an array identical to the input the model is used to."
   ]
  },
  {
   "cell_type": "markdown",
   "metadata": {},
   "source": [
    "### So with averaging some decision trees we're 11% above baseline with just 2 features.  Basically how long the hand has gone on and the average distance from the center tile in a given suit for all the discards that player has made so far.  This model will be great for those hands I have trouble identifying myself.  I think for specific hands like hon itsu (all one suit and honors), I will make a separate model to detect them.  I'd actually also like to study hon itsu for our own aggression purposes, looking at how many tiles in the same suit someone has to start with, how close they are to completing the hand, etc.  Basically I want to know when it's a good idea to go for that bonus hand where you have all one suit and honors.  I have some intuition myself, and I tend to kind of hedge when I go for it, but formalizing all of this would be a good idea.\n",
    "\n",
    "### Anyhow, for now I'm gonna integrate the predictive model for regular hands into the bot, and how we'll use it right now is, if we're very far from a hand, we'll treat the opponent as though he has reached.  Later on we will need to take into consideration hand value, especially for our own hand.  If we have nothing, well what's the point in risking it.. but if we can make a huge hand, and we kind of think someone might have a hand, who cares?  Our game score should be factored in here as well.  In the future when we account for that, we should literally never be defensive in certain situations with our score (like in the last hand of the game when we are in last place -- gotta go for it.)"
   ]
  },
  {
   "cell_type": "markdown",
   "metadata": {},
   "source": [
    "### Ah nvm I wanted to use a predictor that has predict proba in it so I did that."
   ]
  },
  {
   "cell_type": "markdown",
   "metadata": {
    "collapsed": true
   },
   "source": [
    "# Alright you know what? -- enough of this nonsense.  The elephant in the room, the coolest thing I could try to do, the thing that all the top players seem to be able to do and fast, /reading waits/.  Let's face it, reach happens more often than other things, and reach hands are generally more valuable as well so you should be /very/ scared of reach in general unless you're close to a monster yourself or you have no choice."
   ]
  },
  {
   "cell_type": "markdown",
   "metadata": {},
   "source": [
    "### I'm going to begin as I always do, by seeing if I can figure it out myself.  I mean why use machine learning to predict something when it's obvious?  But it will probably come down to it.  It will probably require ML later.  Let's try it our way first, get a solid understanding of the problem."
   ]
  },
  {
   "cell_type": "markdown",
   "metadata": {},
   "source": [
    "### I think the first thing to do is look at a random hand from a game my bot just played and see if I can figure out what he was waiting on myself:\n",
    "\n",
    "### Okay so I did that and what I have learned is that there is a naive probabilistic answer that is pretty useful.  Like sometimes you can just rule out double waits like -2-3- if all four 2's are already gone.  But even if only three of those 2's are gone, it is now extremely unlikely that they have the last 2 AND a 3.\n",
    "\n",
    "### This all said, people go for these waits intentionally in higher level play.  I go for sneaky nonsense all the time.  For now that need not concern us."
   ]
  },
  {
   "cell_type": "code",
   "execution_count": null,
   "metadata": {
    "collapsed": true
   },
   "outputs": [],
   "source": []
  }
 ],
 "metadata": {
  "kernelspec": {
   "display_name": "Python 3",
   "language": "python",
   "name": "python3"
  },
  "language_info": {
   "codemirror_mode": {
    "name": "ipython",
    "version": 3
   },
   "file_extension": ".py",
   "mimetype": "text/x-python",
   "name": "python",
   "nbconvert_exporter": "python",
   "pygments_lexer": "ipython3",
   "version": "3.6.1"
  }
 },
 "nbformat": 4,
 "nbformat_minor": 2
}
